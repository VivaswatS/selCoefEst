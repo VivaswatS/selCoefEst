{
 "cells": [
  {
   "cell_type": "markdown",
   "metadata": {},
   "source": [
    "## Analysis of TE data (SLiM) from Horvath _et al_ 2022 "
   ]
  },
  {
   "cell_type": "code",
   "execution_count": 15,
   "metadata": {},
   "outputs": [
    {
     "name": "stdout",
     "output_type": "stream",
     "text": [
      "The autoreload extension is already loaded. To reload it, use:\n",
      "  %reload_ext autoreload\n"
     ]
    }
   ],
   "source": [
    "%load_ext autoreload\n",
    "%autoreload 2\n",
    "\n",
    "# numerics + rv stuff\n",
    "import numpy as np\n",
    "import scipy as sp\n",
    "from numpy.random import default_rng\n",
    "import moments\n",
    "import itertools as it\n",
    "import dadi \n",
    "import dadi.DFE as DFE\n",
    "\n",
    "# plotting + misc tools\n",
    "import matplotlib.pyplot as plt\n",
    "# import matplotlib.patches as mpatches\n",
    "import itertools as it\n",
    "import matplotlib.colors as colors\n",
    "# import matplotlib.cm as cm\n",
    "import pandas as pd\n",
    "# method of moments framework + helper functions\n",
    "from mom_functions import *\n",
    "import os\n",
    "\n",
    "# rng setup\n",
    "rng = default_rng(100496)\n",
    "\n",
    "# change matplotlib fonts\n",
    "plt.rcParams[\"font.family\"] = \"Arial\"\n",
    "plt.rcParams[\"font.sans-serif\"] = \"Arial\"\n",
    "plt.rcParams[\"figure.figsize\"] = [5, 3.5]\n",
    "plt.rcParams[\"figure.dpi\"] = 110\n",
    "plt.rcParams[\"axes.axisbelow\"] = True\n",
    "plt.rcParams.update({\"figure.facecolor\": \"white\"})\n",
    "\n",
    "# set numpy print option to a more readable format for floats\n",
    "np.set_printoptions(formatter={'float': lambda x: \"{0:0.3f}\".format(x)})"
   ]
  },
  {
   "cell_type": "code",
   "execution_count": 7,
   "metadata": {},
   "outputs": [],
   "source": [
    "## reading in the data\n",
    "os.chdir(\"/Users/vivaswatshastry/selCoefEst/PReFerSims\")\n",
    "snpdat = np.genfromtxt(\"outfiles/SNP_generation_5000_neg_sel_s_0.005_bottleneck_run_number_1.out.txt\",delimiter=',',skip_header=1,skip_footer=1)"
   ]
  },
  {
   "cell_type": "code",
   "execution_count": 43,
   "metadata": {},
   "outputs": [
    {
     "name": "stdout",
     "output_type": "stream",
     "text": [
      "0.0\n",
      "196212.17180928774\n",
      "0.1111111111111111\n",
      "186947.30188706637\n",
      "0.2222222222222222\n",
      "176825.65000394933\n",
      "0.3333333333333333\n",
      "166940.344050356\n",
      "0.4444444444444444\n",
      "158423.7113226553\n",
      "0.5555555555555556\n",
      "151982.89089319282\n",
      "0.6666666666666666\n",
      "148845.9631440983\n",
      "0.7777777777777777\n",
      "149849.25071683823\n",
      "0.8888888888888888\n",
      "155867.3572027326\n",
      "1.0\n",
      "168047.58711365255\n"
     ]
    }
   ],
   "source": [
    "# plt.scatter(snpdat[:,1]+1,snpdat[:,2]*1000,alpha=0.5); plt.loglog();\n",
    "# plt.hist(snpdat[:,2]*1000,25)\n",
    "# fs = moments.Spectrum(np.histogram(snpdat[:,2]*1000,bins=range(0,1002))[0])\n",
    "for g in np.linspace(0,1,10):\n",
    "    print(g)\n",
    "    print(get_ll_freqconstantTE(g,{'sfs':fs,'theta':5e4,'p_misid':0},1000))"
   ]
  }
 ],
 "metadata": {
  "interpreter": {
   "hash": "37dbdfb015eb2911072604397bc3ab5127f1ef4d866242904832becb363c8f9b"
  },
  "kernelspec": {
   "display_name": "Python 3.10.2 ('cvae')",
   "language": "python",
   "name": "python3"
  },
  "language_info": {
   "codemirror_mode": {
    "name": "ipython",
    "version": 3
   },
   "file_extension": ".py",
   "mimetype": "text/x-python",
   "name": "python",
   "nbconvert_exporter": "python",
   "pygments_lexer": "ipython3",
   "version": "3.10.2"
  },
  "orig_nbformat": 4
 },
 "nbformat": 4,
 "nbformat_minor": 2
}
