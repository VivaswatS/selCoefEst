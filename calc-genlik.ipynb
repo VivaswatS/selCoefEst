{
 "cells": [
  {
   "cell_type": "markdown",
   "metadata": {},
   "source": [
    "### Code to compute the likelihood of a genealogy under a specific selection coefficient\n",
    "#### (building on principles from moments, Stephens & Donnelly 2003 and importance sampling _a la_ CLUES, with the key equations coming from the transition probabilities in each generation)\n",
    "\n",
    "Here, $T$ is the age of the allele in generations, $s$ is the selection coefficient and $n_0$ is the sample size in the present day. \n",
    "\n",
    "\\begin{align*}\n",
    "P\\left(\\mathcal{G} \\mid n_0, s, T \\right) &= P\\left(i_T, i_{T-1}, \\ldots, i_1, i_0, n_T, n_{T-1}, \\ldots, n_1 \\mid n_0, s, T \\right) \\\\\n",
    "&= P\\left(n_T \\mid n_{T-1}, \\ldots \\right) \\times P\\left(i_T \\mid n_T, \\ldots \\right) \\times P\\left(i_{T-1} \\mid i_T,\\ldots \\right) \\times \\ldots \\times P\\left(i_0 \\mid n_0, s, T\\right) \\times P\\left(T\\mid n_0, s\\right) \\\\\n",
    "&= P\\left(n_T \\mid n_{T-1}, \\ldots \\right) \\times P\\left(i_T \\mid n_T, \\ldots \\right) \\times P\\left(i_T \\mid i_{T-1}, \\ldots\\right) \\frac{P\\left(i_{T-1}\\mid n_{T-1}, \\ldots\\right)}{P\\left(i_T \\mid n_T,\\ldots\\right)} \\times \\ldots \\times P\\left(i_0 \\mid n_0, s, T\\right) \\times P\\left(T\\mid n_0, s\\right) \\\\\n",
    "&= P\\left(n_T \\mid n_{T-1}, \\ldots \\right) \\times P\\left(i_T \\mid i_{T-1}, \\ldots\\right) \\times \\ldots \\times P\\left(i_0 \\mid n_0, s, T\\right)^2 \\times P\\left(T\\mid n_0, s\\right) \n",
    "\\end{align*}"
   ]
  },
  {
   "cell_type": "code",
   "execution_count": 1,
   "metadata": {},
   "outputs": [],
   "source": [
    "%load_ext autoreload\n",
    "%autoreload 2\n",
    "\n",
    "# numerics + rv stuff\n",
    "import numpy as np\n",
    "import scipy as sp\n",
    "from numpy.random import default_rng\n",
    "import moments\n",
    "from joblib import Parallel, delayed\n",
    "\n",
    "# plotting + misc tools\n",
    "import matplotlib.pyplot as plt\n",
    "# import matplotlib.patches as mpatches\n",
    "import itertools as it\n",
    "import matplotlib.colors as colors\n",
    "# import matplotlib.cm as cm\n",
    "import pandas as pd\n",
    "import os\n",
    "# method of moments framework + helper functions\n",
    "from mom_functions import *\n",
    "import newick\n",
    "from newick import load\n",
    "import readline\n",
    "import tskit\n",
    "\n",
    "# rng setup\n",
    "rng = default_rng(100496)\n",
    "\n",
    "# change matplotlib fonts\n",
    "plt.rcParams[\"font.family\"] = \"Arial\"\n",
    "plt.rcParams[\"font.sans-serif\"] = \"Arial\"\n",
    "plt.rcParams[\"figure.figsize\"] = [5, 3.5]\n",
    "plt.rcParams[\"figure.dpi\"] = 110\n",
    "plt.rcParams[\"axes.axisbelow\"] = True\n",
    "plt.rcParams.update({\"figure.facecolor\": \"white\"})\n",
    "\n",
    "# set numpy print option to a more readable format for floats\n",
    "np.set_printoptions(formatter={'float': lambda x: \"{0:0.3f}\".format(x)})"
   ]
  },
  {
   "cell_type": "code",
   "execution_count": null,
   "metadata": {},
   "outputs": [],
   "source": [
    "## defunct now (not using the generation by generation formulation)\n",
    "def calc_loglik_gen_xx(s, T, gendata, N):\n",
    "    \"\"\"\n",
    "    Function to compute the likelihood of a genealogy under a specific selection coefficient and age of derived allele. \n",
    "    s : float, additive selection coefficient with h = 1/2\n",
    "    T : int, age of derived allele in generations\n",
    "    gendata : list of tuples, with # of elements indicating the height of the genealogy (in generations) & each tuple containing the # of derived lineages and total # of lineages in a specific generation (i, n), where i <= n (first element contains values from the present day)\n",
    "    N : int, assuming constant population size (# of diploid inds)\n",
    "    \"\"\"\n",
    "\n",
    "    pn, pi = 0, 0\n",
    "    probarray = np.zeros(len(gendata))\n",
    "\n",
    "    # going from the top to the bottom \n",
    "    for gen in range(1,len(gendata))[::-1]:\n",
    "        # na = nb + 1\n",
    "        if gendata[gen-1][1] > gendata[gen][1]:\n",
    "            pn = 0.25*gendata[gen-1][1]*(gendata[gen-1][1]-1)/N\n",
    "            # ia = ib + 1\n",
    "            if gendata[gen-1][0] > gendata[gen][0]:\n",
    "                pi = gendata[gen][0]/gendata[gen][1]\n",
    "            # ia = ib\n",
    "            else:\n",
    "                pi = 1 - gendata[gen][0]/gendata[gen][1]\n",
    "        # na = nb\n",
    "        else: \n",
    "            pn = 1 - 0.25*gendata[gen-1][1]*(gendata[gen-1][1]-1)/N\n",
    "            # ia = ib + 1\n",
    "            if gendata[gen-1][0] > gendata[gen][0]:\n",
    "                pi = s*gendata[gen][0]/gendata[gen][1]\n",
    "            # ia = ib\n",
    "            else:\n",
    "                pi = 1 - s*gendata[gen][0]/gendata[gen][1]\n",
    "        probarray[gen] = pn*pi\n",
    "    \n",
    "    fs = moments.Spectrum(np.array([0]+[1]+[0]*(gendata[0][1]-1)))\n",
    "    # VS: check this scaled rate \n",
    "    fs.integrate([1], 0.5*T/N, gamma=2*N*s, theta=100)\n",
    "\n",
    "    # VS: check the indexing on the returned SFAS object (reverse or correct)\n",
    "    fsa = run_mom_iterate_constant(100, gendata[0][1], s, N, 100, {})\n",
    "\n",
    "    probarray[0] = (fs[gendata[0][0]]/fs.sum())**2 * fsa[T,gendata[0][0]]/fsa[:,gendata[0][0]].sum()\n",
    "\n",
    "    return sp.special.logsumexp(probarray) #-> returns the log-likelihood"
   ]
  },
  {
   "cell_type": "code",
   "execution_count": null,
   "metadata": {},
   "outputs": [],
   "source": [
    "# simulating a random genealogy under a specific selection coefficient\n",
    "# gendata = [(2,5)] + [(1,4)] + [(1,4)] + [(1,3)] + [(1,2)] "
   ]
  },
  {
   "cell_type": "code",
   "execution_count": null,
   "metadata": {},
   "outputs": [],
   "source": [
    "# _projection_cache = {}\n",
    "# def _cached_projection(proj_to, proj_from, hits, _projection_cache):\n",
    "#     key = (proj_to, proj_from, hits)\n",
    "#     # checking if this value has already been computed\n",
    "#     try:\n",
    "#         return _projection_cache[key]\n",
    "#     except KeyError:\n",
    "#         pass\n",
    "\n",
    "#     proj_hits = np.arange(proj_to + 1) #proj_from - proj_to, hits - proj_hits\n",
    "#     lncontrib =  sp.special.gammaln(proj_to + 1) - sp.special.gammaln(proj_hits + 1) - sp.special.gammaln(proj_to - proj_hits + 1) + sp.special.gammaln(proj_from - proj_to + 1) - sp.special.gammaln(hits - proj_hits) - sp.special.gammaln(proj_from - proj_to - hits + proj_hits + 1) - sp.special.gammaln(proj_from + 1) - sp.special.gammaln(hits + 1) + sp.special.gammaln(proj_from - hits + 1)\n",
    "\n",
    "#     contrib = np.exp(lncontrib)\n",
    "\n",
    "#     _projection_cache[key] = contrib\n",
    "#     return contrib\n",
    "\n",
    "# def _project_one_axis(fs, proj_to):\n",
    "#     newfs = np.zeros(proj_to + 1)\n",
    "#     proj_from = fs.sample_sizes[0]\n",
    "#     for hits in range(1, proj_from):\n",
    "#         least, most = max(proj_to - (proj_from - hits), 0), min(hits, proj_to)\n",
    "#         proj = _cached_projection(proj_to, proj_from, hits, _projection_cache)\n",
    "#         newfs[least:(most + 1)] +=  (fs[hits:(hits + 1)] * proj[least:(most + 1)])\n",
    "\n",
    "#     return newfs\n",
    "\n",
    "# %time _project_one_axis(fs, 302) ## --> wrong, but also slower\n",
    "# %time fs.project([4])"
   ]
  },
  {
   "cell_type": "markdown",
   "metadata": {},
   "source": [
    "#### How to extract true trees from mssel and convert to format readable by my code?\n",
    "\n",
    "- Use the `-T` flag to output trees in Newick format in mssel\n",
    "    - which tree to read in though? (units are in $4N_0$ gens)\n",
    "- How to say which lineages are derived vs ancestral? "
   ]
  },
  {
   "cell_type": "code",
   "execution_count": 2,
   "metadata": {},
   "outputs": [],
   "source": [
    "## code from tsconvert (https://github.com/tskit-dev/tsconvert/blob/main/tsconvert/newick.py) to get tree-sequence from newick\n",
    "def from_newick(\n",
    "    string, *, min_edge_length=0, span=1, time_units=None, node_name_key=None\n",
    ") -> tskit.TreeSequence:\n",
    "    \"\"\"\n",
    "    Create a tree sequence representation of the specified newick string.\n",
    "\n",
    "    The tree sequence will contain a single tree, as specified by the newick. All\n",
    "    leaf nodes will be marked as samples (``tskit.NODE_IS_SAMPLE``). Newick names and\n",
    "    comments will be written to the node metadata. This can be accessed using e.g.\n",
    "    ``ts.node(0).metadata[\"name\"]``.\n",
    "\n",
    "    :param string string: Newick string\n",
    "    :param float min_edge_length: Replace any edge length shorter than this value by this\n",
    "        value. Unlike newick, tskit doesn't support zero or negative edge lengths, so\n",
    "        setting this argument to a small value is necessary when importing trees with\n",
    "        zero or negative lengths.\n",
    "    :param float span: The span of the tree, and therefore the\n",
    "        :attr:`~TreeSequence.sequence_length` of the returned tree sequence.\n",
    "    :param str time_units: The value assigned to the :attr:`~TreeSequence.time_units`\n",
    "        property of the resulting tree sequence. Default: ``None`` resulting in the\n",
    "        time units taking the default of :attr:`tskit.TIME_UNITS_UNKNOWN`.\n",
    "    :param str node_name_key: The metadata key used for the node names. If ``None``\n",
    "        use the string ``\"name\"``, as in the example of accessing node metadata above.\n",
    "        Default ``None``.\n",
    "    :return: A tree sequence consisting of a single tree.\n",
    "    \"\"\"\n",
    "    trees = newick.loads(string)\n",
    "    if len(trees) > 1:\n",
    "        raise ValueError(\"Only one tree can be imported from a newick string\")\n",
    "    if len(trees) == 0:\n",
    "        raise ValueError(\"Newick string was empty\")\n",
    "    tree = trees[0]\n",
    "    tables = tskit.TableCollection(span)\n",
    "    if time_units is not None:\n",
    "        tables.time_units = time_units\n",
    "    if node_name_key is None:\n",
    "        node_name_key = \"name\"\n",
    "    nodes = tables.nodes\n",
    "    nodes.metadata_schema = tskit.MetadataSchema(\n",
    "        {\n",
    "            \"codec\": \"json\",\n",
    "            \"type\": \"object\",\n",
    "            \"properties\": {\n",
    "                node_name_key: {\n",
    "                    \"type\": [\"string\"],\n",
    "                    \"description\": \"Name from newick file\",\n",
    "                },\n",
    "                \"comment\": {\n",
    "                    \"type\": [\"string\"],\n",
    "                    \"description\": \"Comment from newick file\",\n",
    "                },\n",
    "            },\n",
    "        }\n",
    "    )\n",
    "\n",
    "    id_map = {}\n",
    "\n",
    "    def get_or_add_node(newick_node, time):\n",
    "        if newick_node not in id_map:\n",
    "            flags = tskit.NODE_IS_SAMPLE if len(newick_node.descendants) == 0 else 0\n",
    "            metadata = {}\n",
    "            if newick_node.name:\n",
    "                metadata[node_name_key] = newick_node.name\n",
    "            if newick_node.comment:\n",
    "                metadata[\"comment\"] = newick_node.comment\n",
    "            id_map[newick_node] = tables.nodes.add_row(\n",
    "                flags=flags, time=time, metadata=metadata\n",
    "            )\n",
    "        return id_map[newick_node]\n",
    "\n",
    "    root = next(tree.walk())\n",
    "    get_or_add_node(root, 0)\n",
    "    for newick_node in tree.walk():\n",
    "        node_id = id_map[newick_node]\n",
    "        for child in newick_node.descendants:\n",
    "            length = max(child.length, min_edge_length)\n",
    "            if length <= 0:\n",
    "                raise ValueError(\n",
    "                    \"tskit tree sequences cannot contain edges with lengths\"\n",
    "                    \" <= 0. Set min_edge_length to force lengths to a\"\n",
    "                    \" minimum size\"\n",
    "                )\n",
    "            child_node_id = get_or_add_node(child, nodes[node_id].time - length)\n",
    "            tables.edges.add_row(0, span, node_id, child_node_id)\n",
    "    # Rewrite node times to fit the tskit convention of zero at the youngest leaf\n",
    "    nodes = tables.nodes.copy()\n",
    "    youngest = min(tables.nodes.time)\n",
    "    tables.nodes.clear()\n",
    "    for node in nodes:\n",
    "        tables.nodes.append(node.replace(time=node.time - youngest + root.length))\n",
    "    tables.sort()\n",
    "    return tables.tree_sequence()"
   ]
  },
  {
   "cell_type": "code",
   "execution_count": 3,
   "metadata": {},
   "outputs": [],
   "source": [
    "# tree = newick.read('/Users/vivaswatshastry/selCoefEst/PReFerSims/msselfiles/haps5.0_r0.newick')\n",
    "def read_mssel(msfile, nind):\n",
    "    with open(msfile) as file:\n",
    "        lines = [line.rstrip() for line in file]\n",
    "    for i in range(len(lines)):\n",
    "        if lines[i].split(':')[0]=='positions':\n",
    "            pos = i\n",
    "            break\n",
    "        elif lines[i].split(' ')[0]=='segsites:':\n",
    "            totsites = int(lines[i].split(' ')[1])\n",
    "        elif lines[i].split(' ')[0]=='selsite:':\n",
    "            selsite = int(lines[i].split(' ')[1])\n",
    "    hapmat = np.zeros((nind,totsites),dtype='int')\n",
    "    for i in range(hapmat.shape[0]):\n",
    "        hapmat[i,:] = list(map(int, str(lines[i+pos+1])))\n",
    "\n",
    "    tsktree = from_newick(lines[5], min_edge_length=0.5e-4)\n",
    "    intnodes = np.where(1-tsktree.nodes_flags)[0] # -> these are the internal nodes \n",
    "    dersamp = np.where(hapmat[:,selsite])[0]+1; #ancsamp = np.array(list(set(range(1,hapmat.shape[0]+1))-set(np.where(hapmat[:,selsite])[0]+1)))\n",
    "    samp = {} # -> only need to have one cos the other is the 1-this\n",
    "    for i in list(set(range(tsktree.num_nodes))-set(intnodes)):\n",
    "        samp[tsktree.node(i).metadata['name']] = i \n",
    "    # getting internal node ids from derived samples\n",
    "    derint = []\n",
    "    for d in dersamp:\n",
    "        u = samp[str(d)]\n",
    "        path = []\n",
    "        v = u\n",
    "        while v != tskit.NULL:\n",
    "            path.append(v)\n",
    "            v = tsktree.first().parent(v)\n",
    "        derint.extend(path[1:])\n",
    "    derint = np.unique(derint)\n",
    "    # creating an array of a list of events\n",
    "    coaltimes = np.zeros((len(intnodes)+1,2),dtype='int32')\n",
    "    coaltimes[0,0] = int(float(lines[6].split(' ')[5])*40000)+1\n",
    "    coaltimes[0,1] = -1\n",
    "    for ii, itn in enumerate(intnodes):\n",
    "        if itn in derint:\n",
    "            coaltimes[ii+1,0] = int(tsktree.nodes_time[itn]*40000)\n",
    "            coaltimes[ii+1,1] = 1\n",
    "        else:\n",
    "            coaltimes[ii+1,0] = int(tsktree.nodes_time[itn]*40000)\n",
    "            coaltimes[ii+1,1] = 0\n",
    "    haps = np.zeros((coaltimes[0,0],2),dtype='int16') # -> probably don't need to make this that long, stop at allele age\n",
    "    haps[0,:] = [len(dersamp),tsktree.num_samples]\n",
    "    for t in range(1,haps.shape[0]):\n",
    "        if t in coaltimes[:,0]:\n",
    "            if coaltimes[t==coaltimes[:,0],1]==0:\n",
    "                haps[t,:] = [haps[t-1,0],haps[t-1,1]-1]\n",
    "            else:\n",
    "                haps[t,:] = [haps[t-1,0]-1,haps[t-1,1]-1]\n",
    "            if haps[t,0]<1:\n",
    "                break\n",
    "        else:\n",
    "            haps[t,:] = haps[t-1,:]\n",
    "    haps = haps[0:t,:]\n",
    "\n",
    "    return haps"
   ]
  },
  {
   "cell_type": "code",
   "execution_count": 4,
   "metadata": {},
   "outputs": [],
   "source": [
    "with open('/Users/vivaswatshastry/selCoefEst/PReFerSims/msselfiles/haps-100.0_10.ms') as file:\n",
    "    lines = [line.rstrip() for line in file]\n",
    "for i in range(len(lines)):\n",
    "    if lines[i].split(':')[0]=='positions':\n",
    "        pos = i\n",
    "        break\n",
    "    elif lines[i].split(' ')[0]=='segsites:':\n",
    "        totsites = int(lines[i].split(' ')[1])\n",
    "    elif lines[i].split(' ')[0]=='selsite:':\n",
    "        selsite = int(lines[i].split(' ')[1])\n",
    "        tree = load(lines[i-1])[0]\n",
    "hapmat = np.zeros((40,totsites),dtype='int')\n",
    "for i in range(hapmat.shape[0]):\n",
    "    hapmat[i,:] = list(map(int, str(lines[i+pos+1])))"
   ]
  },
  {
   "cell_type": "code",
   "execution_count": null,
   "metadata": {},
   "outputs": [],
   "source": [
    "## need to constract an array of the coalescence events basically...\n",
    "## can be done by investigating who the sample nodes are I guess...\n",
    "tsktree = from_newick(lines[5], min_edge_length=0.5e-4)\n",
    "intnodes = np.where(1-tsktree.nodes_flags)[0] # -> these are the internal nodes \n",
    "dersamp = np.where(hapmat[:,selsite])[0]+1; ancsamp = np.array(list(set(range(1,hapmat.shape[0]+1))-set(np.where(hapmat[:,selsite])[0]+1)))\n",
    "samp = {} # -> only need to have one cos the other is the 1-this\n",
    "for i in list(set(range(tsktree.num_nodes))-set(intnodes)):\n",
    "    samp[tsktree.node(i).metadata['name']] = i \n",
    "# getting internal node ids from derived samples\n",
    "derint = []\n",
    "for d in dersamp:\n",
    "    u = samp[str(d)]\n",
    "    path = []\n",
    "    v = u\n",
    "    while v != tskit.NULL:\n",
    "        path.append(v)\n",
    "        v = tsktree.first().parent(v)\n",
    "    derint.extend(path[1:])\n",
    "derint = np.unique(derint)\n",
    "# creating an array of a list of events\n",
    "coaltimes = np.zeros((len(intnodes)+1,2),dtype='int32')\n",
    "coaltimes[0,0] = int(float(lines[6].split(' ')[5])*40000)+1\n",
    "coaltimes[0,1] = -1\n",
    "for ii, itn in enumerate(intnodes):\n",
    "    if itn in derint:\n",
    "        coaltimes[ii+1,0] = int(tsktree.nodes_time[itn]*40000)\n",
    "        coaltimes[ii+1,1] = 1\n",
    "    else:\n",
    "        coaltimes[ii+1,0] = int(tsktree.nodes_time[itn]*40000)\n",
    "        coaltimes[ii+1,1] = 0\n",
    "haps = np.zeros((coaltimes[0,0],2),dtype='int16') # -> probably don't need to make this that long, stop at allele age\n",
    "haps[0,:] = [len(dersamp),tsktree.num_samples]\n",
    "for t in range(1,haps.shape[0]):\n",
    "    if t in coaltimes[:,0]:\n",
    "        if coaltimes[t==coaltimes[:,0],1]==0:\n",
    "            haps[t,:] = [haps[t-1,0],haps[t-1,1]-1]\n",
    "        else:\n",
    "            haps[t,:] = [haps[t-1,0]-1,haps[t-1,1]-1]\n",
    "        if haps[t,0]<1:\n",
    "            break\n",
    "    else:\n",
    "        haps[t,:] = haps[t-1,:]\n",
    "haps = haps[0:t,:]\n",
    "\n",
    "plt.plot(haps[:,0],label='derived'); plt.plot(haps[:,1], label='total'); plt.ylabel('# of lineages'); plt.xlabel('gens'); plt.grid(); plt.box(False); plt.legend(); plt.title(r'$\\gamma=50$')"
   ]
  },
  {
   "cell_type": "markdown",
   "metadata": {},
   "source": [
    "### Code to empirically calculate the coalescent probabilities from simulations"
   ]
  },
  {
   "cell_type": "code",
   "execution_count": 335,
   "metadata": {},
   "outputs": [],
   "source": [
    "# age = 600\n",
    "# freqs = np.loadtxt('/Users/vivaswatshastry/selCoefEst/PReFerSims/msselfiles/hapfiles/Freq-220.0.txt')\n",
    "# avgfreq = np.loadtxt('/Users/vivaswatshastry/selCoefEst/PReFerSims/msselfiles/hapfiles/allFreq-220.0.txt',delimiter=',').mean(axis=0)\n",
    "# allfreq220 = np.loadtxt('/Users/vivaswatshastry/selCoefEst/PReFerSims/msselfiles/hapfiles/allFreq-220.0.txt',delimiter=',')\n",
    "# coals = np.zeros((1000,10))\n",
    "# for i in range(1,coals.shape[0]+1):\n",
    "#     for c in range(1,coals.shape[1]+1):\n",
    "#         try:\n",
    "#             hap = read_mssel('/Users/vivaswatshastry/selCoefEst/PReFerSims/msselfiles/hapfiles/haps-220.0_{:d}_c{:d}_t{:d}.ms'.format(int(i),int(c),int(age)),3)\n",
    "#             coals[i-1,c-1] = np.max(np.where(hap[:,0]==2)[0])+2 # 1 for 0-indexing & 1 for going one gen back from the last gen that 2 derived alleles were observed\n",
    "#         except: \n",
    "#             coals[i-1,c-1] = np.nan\n",
    "\n",
    "# np.nanmean(sp.stats.binom.pmf(2,3,freqs)*np.nanmean(coals22,axis=1)) # -> mean coalescent time plateaus at 100 traj & 10 trees/traj"
   ]
  },
  {
   "cell_type": "code",
   "execution_count": 604,
   "metadata": {},
   "outputs": [
    {
     "data": {
      "text/plain": [
       "198"
      ]
     },
     "execution_count": 604,
     "metadata": {},
     "output_type": "execute_result"
    }
   ],
   "source": [
    "# sp.stats.binom.pmf(2,3,avgfreq[-1])/np.sum(sp.stats.binom.pmf(range(1,3),3,avgfreq[-1]))\n",
    "# fsa220proj3[-1,2]/np.sum(fsa220proj3[-1,1:-1])"
   ]
  },
  {
   "cell_type": "code",
   "execution_count": 855,
   "metadata": {},
   "outputs": [
    {
     "data": {
      "text/plain": [
       "(1000, 10)"
      ]
     },
     "execution_count": 855,
     "metadata": {},
     "output_type": "execute_result"
    }
   ],
   "source": [
    "# plt.hist(np.nanmean(coals,axis=1),bins=20,alpha=0.8,label='200'); plt.xlabel(r'observed coal. time'); plt.title(r'$a = 1850, n = 3$') \n",
    "# plt.hist(np.nanmean(coals22,axis=1),bins=10,alpha=0.6,label='20'); plt.legend(title=r'$\\gamma$')\n",
    "# plt.hist(np.nanmean(coals0,axis=1),bins=10,alpha=0.4,label='0'); \n",
    "# plt.hist(np.log10(np.loadtxt('/Users/vivaswatshastry/selCoefEst/PReFerSims/msselfiles/hapfiles/Freq-220.0.txt')),bins=10,label='200')\n",
    "# plt.hist(np.log10(freqs),bins=20,label='20',alpha=0.6); plt.legend(title=r'$\\gamma$'); plt.xlabel(r'$\\log_{10}(freq)$')\n",
    "\n",
    "# from statsmodels.distributions.empirical_distribution import ECDF \n",
    "# mask = np.where(~np.isnan(coals))\n",
    "# coal_ecdf = ECDF(np.ravel(coals[mask]*sp.stats.binom.pmf(2,3,freqs[mask[0]]).reshape(-1,1)))\n",
    "# plt.plot(range(1,1851),coal_ecdf(np.arange(1,1851)),color='#e76f51',linewidth=2,label='ECDF');\n",
    "\n",
    "# fsa220 = run_mom_iterate_constant(age, 750, 220/10000, 10000, 200)[::-1]\n",
    "# fsa220[fsa220<0] = 0\n",
    "# fsa220proj3 = np.zeros((fsa220.shape[0],4)); #fsa220proj2 = np.zeros((fsa220.shape[0],3))\n",
    "# for i in range(1,age):\n",
    "#     fsa220proj3[i,:] = moments.Spectrum(fsa220[i,:]).project([3])\n",
    "#     fsa220proj3[i,1:-1] = fsa220proj3[i,1:-1]/np.sum(fsa220proj3[i,1:-1])\n",
    "# #     # fsa220proj2[i,:] = moments.Spectrum(fsa220[i,:]).project([2])\n",
    "# #     # fsa220proj2[i,1:-1] = fsa220proj2[i,1:-1]/np.sum(fsa220proj2[i,1:-1])\n",
    "\n",
    "# plt.figure(dpi=150)\n",
    "# plt.plot(range(1,age),fsa220proj3[1:,1][::-1],color='deepskyblue',label='1/3'); plt.plot(range(1,age),fsa220proj3[1:,2][::-1],color='dodgerblue',label='2/3'); plt.xlabel(r'gens'); plt.ylabel(r'prob. value'); plt.grid(); plt.box(False); plt.xlabel('gens ago'); plt.plot(range(1,age+1),expXl[::-1],color='k',ls='--',alpha=0.8,linewidth=2,label=r'$\\mathbb{E}[X(s)\\mid i_t=2,n_t=3]$'); \n",
    "# plt.plot(range(1,age+1),allfreq.mean(axis=0)[::-1],color='r',ls='--',label='avg. freq. traj.'); plt.legend(); \n",
    "# plt.matshow(fsa220proj[:,1:2][::-1],aspect='auto',cmap='Blues',vmin=0.001); plt.colorbar(); plt.xlabel(r'sample allele freq $i/2$'); plt.ylabel('allele age (gens)'); plt.xticks([0],['1']); \n",
    "# plt.figure(dpi=150)\n",
    "# plt.hist(bins[:-1],bins,weights=0.002*counts,alpha=0.7,color='grey')\n",
    "# plt.plot(range(1,1850),fsa220proj2[1:,1],'#344e41',label=r'1/2'); plt.grid(); plt.box(False); plt.ylim((-0.01,1.01))\n",
    "# plt.plot(range(1,1850),fsa220proj3[1:,1],color='deepskyblue',label='1/3'); plt.plot(range(1,1850),fsa220proj3[1:,2],color='dodgerblue',label='2/3'); plt.xlabel(r'gens'); plt.ylabel(r'prob. value'); plt.legend(loc='upper right'); \n",
    "# plt.plot(range(1,1851),coal_ecdf(np.arange(1,1851)),color='#e76f51',linewidth=2,label='ECDF'); \n",
    "# plt.plot(range(1,1850),1-fsa220proj2[1:1850,1]/fsa220proj3[1:1850,2]/20000,'--',color='#c1121f',label='expected',linewidth=2); \n",
    "# plt.plot(range(1,1851),prob,'--',color='#c1121f',label='expected',linewidth=2); "
   ]
  },
  {
   "cell_type": "code",
   "execution_count": 928,
   "metadata": {},
   "outputs": [
    {
     "data": {
      "text/plain": [
       "(0.40784313725490196, 0.40784313725490196, 0.40784313725490196, 1.0)"
      ]
     },
     "execution_count": 928,
     "metadata": {},
     "output_type": "execute_result"
    }
   ],
   "source": [
    "# expXl = np.zeros(allfreq.shape[1]); kj = np.zeros(allfreq.shape[0])\n",
    "# for t in range(allfreq.shape[1]):\n",
    "#     for i in range(allfreq.shape[0]):\n",
    "#         kj[i] = sp.stats.binom.pmf(range(1,3),3,allfreq[i,t]).sum()/sp.stats.binom.pmf(range(4),3,allfreq[i,t]).sum()\n",
    "#     expXl[t] = np.sum(kj*allfreq[:,t]/np.sum(kj))\n",
    "# plt.plot(expXl[::-1]); plt.plot(allfreq.mean(axis=0)[::-1])]"
   ]
  },
  {
   "cell_type": "code",
   "execution_count": 934,
   "metadata": {},
   "outputs": [
    {
     "data": {
      "image/png": "[encoded data removed]",
      "text/plain": [
       "<Figure size 750x525 with 1 Axes>"
      ]
     },
     "metadata": {},
     "output_type": "display_data"
    }
   ],
   "source": [
    "# show the change in histogram with 100, 200, 500 and 1000 samples...\n",
    "plt.figure(dpi=150)\n",
    "plt.hist(np.ravel(coals[:100,][mask[0][:100]]),cumulative=True,density=True,weights=np.repeat(sp.stats.binom.pmf(2,3,freqs[np.unique(mask[0])][:100]),10),bins=range(0,age+1,1),alpha=0.3,color=plt.get_cmap('Greys',4)(1),label='100'); plt.grid(); plt.box(False); \n",
    "plt.hist(np.ravel(coals[:500,][mask[0][:500]]),cumulative=True,density=True,weights=np.repeat(sp.stats.binom.pmf(2,3,freqs[np.unique(mask[0])][:500]),10),bins=range(0,age+1,1),alpha=0.3,color=plt.get_cmap('Greys',4)(2),label='500');\n",
    "plt.hist(np.ravel(coals[mask]),cumulative=True,density=True,weights=np.repeat(sp.stats.binom.pmf(2,3,freqs[np.unique(mask[0])]),10),bins=range(0,age+1,1),alpha=0.3,color=plt.get_cmap('Greys',4)(3),label='1000');\n",
    "plt.plot(range(1,age+1),prob,color='#800f2f',linewidth=2,ls='--',label=r'expected rate $\\gamma=200$',alpha=0.8); plt.legend(title='# of samples',loc='upper left'); "
   ]
  },
  {
   "cell_type": "code",
   "execution_count": 902,
   "metadata": {},
   "outputs": [
    {
     "data": {
      "image/png": "[encoded data removed]",
      "text/plain": [
       "<Figure size 750x525 with 1 Axes>"
      ]
     },
     "metadata": {},
     "output_type": "display_data"
    }
   ],
   "source": [
    "prob = calc_genexp_constant(age, np.log10(220/10000), 400, 10000)\n",
    "# prob22 = calc_genexp_constant(1850, np.log10(22/20000), 250, 10000)\n",
    "# probn22 = calc_genexp_constant(1850, np.log10(22/20000), 250, 10000)\n",
    "# prob0 = calc_genexp_constant(1850, -6, 250, 10000)\n",
    "# (counts, bins) = np.histogram(np.ravel(coals[mask]),weights=sp.stats.binom.pmf(2,3,freqs[mask[0]]),density=True,bins=range(0,,30))\n",
    "# plt.hist(bins[:-1],bins,weights=counts,alpha=0.7,color='grey')\n",
    "plt.figure(dpi=150)\n",
    "plt.hist(np.ravel(coals[mask]),cumulative=True,density=True,weights=np.repeat(sp.stats.binom.pmf(2,3,freqs[np.unique(mask[0])]),10),bins=range(0,age+1,1),alpha=0.4,color='grey',label='cumulative hist.'); plt.grid(); plt.box(False); plt.xlabel('gens ago'); \n",
    "# plt.hist(np.ravel(coals[mask]),cumulative=True,density=True,bins=range(0,age+1,2),alpha=0.4,color='grey',label='cumulative hist.'); plt.grid(); plt.box(False); plt.xlabel('gens ago'); \n",
    "# plt.plot(range(1,1851),allfreq.mean(axis=0),color='#DE7C5A',linewidth=2,ls='--',label=r'$P(i=2\\mid n=3, seg., X(t))$');  plt.legend()\n",
    "plt.plot(range(1,age+1),prob,color='#800f2f',linewidth=2,ls='--',label=r'expected rate $\\gamma=200$',alpha=0.8); plt.legend(loc='upper left'); #plt.plot(range(1,1851),fsa220proj3[:,2],color='#B10F2E',linewidth=2,ls='--')\n",
    "# plt.plot(range(1,1851),prob22,color='#ff4d6d',linewidth=2,ls='--',label=r'expected, $\\gamma=20$'); plt.plot(range(1,1851),probn22,color='#ff4d6d',linewidth=2,ls=':',label=r'expected, $\\gamma=-20$'); plt.plot(range(1,1851),prob0,color='#ffb3c1',alpha=0.5,linewidth=2,ls='--',label=r'expected, $\\gamma=0$'); "
   ]
  },
  {
   "cell_type": "code",
   "execution_count": 901,
   "metadata": {},
   "outputs": [],
   "source": [
    "def calc_genexp_constant(a, s, n, N):\n",
    "    s = 10**s\n",
    "    fsa = run_mom_iterate_constant(a+1, n, s, N, 400)\n",
    "    fsa[fsa<0] = 0\n",
    "    \n",
    "    prob = np.zeros(a)\n",
    "    rCA = np.zeros(a)\n",
    "\n",
    "    # for t = 0: (present generation)\n",
    "    fsprojn = moments.Spectrum(fsa[0,:]).project([3])\n",
    "    fsprojn[1:-1] = fsprojn[1:-1]/fsprojn[1:-1].sum()\n",
    "    rCA[0] = 1/fsprojn[2]/N\n",
    "    prob[0] = rCA[0]\n",
    "\n",
    "    for t in range(1,a):\n",
    "        ## compute coalescent rates \n",
    "        # fsprojn = moments.Spectrum(fsa[t-1,:]).project([3])\n",
    "        fsprojn = moments.Spectrum(fsa[t,:]).project([3])\n",
    "        fsprojn[1:-1] = fsprojn[1:-1]/fsprojn[1:-1].sum()\n",
    "\n",
    "        ## basically want fsprojn[2] = avgfreq[-t]\n",
    "        rCA[t] = 1/fsprojn[2]/N \n",
    "        # prob[t] = rCA[t]*np.prod(1-rCA[1:t])\n",
    "        prob[t] = 1 - np.prod(1-rCA[:t])\n",
    "\n",
    "    return prob\n",
    "    # return -np.sum(np.log(prob))"
   ]
  },
  {
   "cell_type": "code",
   "execution_count": 935,
   "metadata": {},
   "outputs": [
    {
     "ename": "NameError",
     "evalue": "name 'fsa' is not defined",
     "output_type": "error",
     "traceback": [
      "\u001b[0;31m---------------------------------------------------------------------------\u001b[0m",
      "\u001b[0;31mNameError\u001b[0m                                 Traceback (most recent call last)",
      "\u001b[1;32m/Users/vivaswatshastry/selCoefEst/calc-genlik.ipynb Cell 20\u001b[0m line \u001b[0;36m<module>\u001b[0;34m\u001b[0m\n\u001b[0;32m----> <a href='vscode-notebook-cell:/Users/vivaswatshastry/selCoefEst/calc-genlik.ipynb#Y102sZmlsZQ%3D%3D?line=0'>1</a>\u001b[0m fsa\u001b[39m.\u001b[39mshape\n",
      "\u001b[0;31mNameError\u001b[0m: name 'fsa' is not defined"
     ]
    }
   ],
   "source": []
  },
  {
   "cell_type": "code",
   "execution_count": 248,
   "metadata": {},
   "outputs": [],
   "source": [
    "def calc_genlik_constant(s, n, N, haps):\n",
    "    s = 10**s\n",
    "    # print(s)\n",
    "    fsa = run_mom_iterate_constant(5*len(haps)+1, n, s, N, 400)\n",
    "    fsa[fsa<0] = 0\n",
    "\n",
    "    logprob = np.zeros(len(haps))\n",
    "    rCa = np.zeros(len(haps)); rCA = np.zeros(len(haps))\n",
    "\n",
    "    fsT = np.zeros(fsa.shape[0])\n",
    "\n",
    "    for t in range(0,len(haps)-1):\n",
    "        fsT[t] = moments.Spectrum(fsa[t,:]).project([haps[0][1]])[haps[0][0]]\n",
    "        ## compute coalescent rates \n",
    "        fsprojn = moments.Spectrum(fsa[t,:]).project([haps[t][1]]) # P_{t}(n_{t})\n",
    "        fsprojn[1:-1] = fsprojn[1:-1]/fsprojn[1:-1].sum()\n",
    "\n",
    "        fsprojntp1 = moments.Spectrum(fsa[t+1,:]).project([haps[t][1]-1]) # P_{t+1}(n_{t}-1)\n",
    "        fsprojntp1[1:-1] = fsprojntp1[1:-1]/fsprojntp1[1:-1].sum()\n",
    "        \n",
    "        if haps[t][0] > 1:\n",
    "            rCA[t] = haps[t][0]*(haps[t][0]-1)/2 * fsprojntp1[haps[t][0]-1]/fsprojn[haps[t][0]] * 1/N \n",
    "            # rCA[t] = fsprojntp1[haps[t][0]-1]/fsprojn[haps[t][0]]\n",
    "        rCa[t] = (haps[t][1]-haps[t][0])*(haps[t][1]-haps[t][0]-1)/2 * fsprojntp1[haps[t][1]-haps[t][0]-1]/fsprojn[haps[t][1]-haps[t][0]] * 1/N\n",
    "        # rCa[t] = fsprojntp1[haps[t][1]-haps[t][0]-1]/fsprojn[haps[t][1]-haps[t][0]] \n",
    "\n",
    "        if (haps[t,:] == haps[t+1,:]).all():\n",
    "            logprob[t] = np.log(1 - rCA[t] - rCa[t])\n",
    "        elif haps[t,0] == (haps[t+1,0] + 1):\n",
    "            logprob[t] = np.log(rCA[t]) #sp.stats.expon.logpdf(1,loc=0,scale=1/rCA[t]) -> both quantities are the same since rCa/A<<1\n",
    "        else:\n",
    "            logprob[t] = np.log(rCa[t]) #sp.stats.expon.logpdf(1,loc=0,scale=1/rCa[t])\n",
    "\n",
    "    for t in range(len(haps),5*len(haps)):\n",
    "        fsT[t] = moments.Spectrum(fsa[t,:]).project([haps[0][1]])[haps[0][0]]\n",
    "\n",
    "    logprob[len(haps)-1] = np.log(fsT[-len(haps)]/fsT.sum())\n",
    "\n",
    "    return [rCa[:-1], rCA[:-1], logprob]\n",
    "    # return -np.nansum(logprob[:-1])"
   ]
  },
  {
   "cell_type": "code",
   "execution_count": 121,
   "metadata": {},
   "outputs": [
    {
     "data": {
      "text/plain": [
       "(0.9686274509803922, 0.9882352941176471, 0.9607843137254902, 1.0)"
      ]
     },
     "execution_count": 121,
     "metadata": {},
     "output_type": "execute_result"
    }
   ],
   "source": []
  },
  {
   "cell_type": "code",
   "execution_count": 137,
   "metadata": {},
   "outputs": [
    {
     "name": "stdout",
     "output_type": "stream",
     "text": [
      "0.00011215109072648824\n"
     ]
    }
   ],
   "source": [
    "# plt.figure(dpi=130)\n",
    "# fsa = run_mom_iterate_constant(6000, 400, 0/10000, 10000, 400)\n",
    "# fsT = np.zeros(fsa.shape[0])\n",
    "# for t in range(fsa.shape[0]):\n",
    "#     fsT[t] = moments.Spectrum(fsa[t,:]).project([40])[4]\n",
    "# plt.plot(fsT/fsT.sum(),'-.',color=plt.get_cmap('Greens',4)(2),label=r'0'); plt.box(False); plt.grid(); plt.title(r'$10\\%$ sample freq.')\n",
    "# print(fsT[600]/fsT.sum()) # 0.00039445825739283213 0.00011215109072648824 2.8627074166871408e-05\n",
    "# fsa = run_mom_iterate_constant(3000, 400, 1/10000, 10000, 400)\n",
    "# for t in range(fsa.shape[0]):\n",
    "#     fsT[t] = moments.Spectrum(fsa[t,:]).project([40])[4]\n",
    "# plt.plot(fsT/fsT.sum(),'-.',color=plt.get_cmap('Greens',4)(2),label=r'1'); \n",
    "# fsa = run_mom_iterate_constant(3000, 400, 10/10000, 10000, 400)\n",
    "# for t in range(fsa.shape[0]):\n",
    "#     fsT[t] = moments.Spectrum(fsa[t,:]).project([40])[4]\n",
    "# plt.plot(fsT/fsT.sum(),'-.',color=plt.get_cmap('Greens',4)(3),label=r'10');\n",
    "# fsa = run_mom_iterate_constant(3000, 400, 100/10000, 10000, 400)\n",
    "# for t in range(fsa.shape[0]):\n",
    "#     fsT[t] = moments.Spectrum(fsa[t,:]).project([40])[4]\n",
    "# plt.plot(fsT/fsT.sum(),'-.',color=plt.get_cmap('Greens',4)(4),label=r'100'); plt.xlabel(r'gens ago'); plt.ylabel(r'$P(T \\mid \\gamma)$'); plt.legend(title=r'$\\gamma$')\n",
    "# # plt.imshow(np.log10(fsa[::-1]), vmin=-10, aspect='auto'); plt.colorbar()"
   ]
  },
  {
   "cell_type": "code",
   "execution_count": 1112,
   "metadata": {},
   "outputs": [
    {
     "data": {
      "text/plain": [
       "<matplotlib.legend.Legend at 0x2a9661750>"
      ]
     },
     "execution_count": 1112,
     "metadata": {},
     "output_type": "execute_result"
    },
    {
     "data": {
      "image/png": "[encoded data removed]",
      "text/plain": [
       "<Figure size 750x525 with 1 Axes>"
      ]
     },
     "metadata": {},
     "output_type": "display_data"
    }
   ],
   "source": [
    "rCa, rCA, lp = calc_genlik_constant(np.log10(0.05),600,10000,haps)\n",
    "plt.figure(dpi=150)\n",
    "plt.plot(rCa,color='coral',label=r'$r(C_a)$',ls='--'); plt.plot(rCA,color='olive',ls='-.',label=r'$r(C_A)$'); plt.box(False); [plt.axvline(t,color='k',alpha=0.6,linewidth=0.8) for t in np.unique(np.where([haps[t]!=haps[t-1] for t in range(1,len(haps))])[0])]; plt.xlabel('gens ago'); plt.plot(np.exp(lp),color='goldenrod',label=r'$\\ell$'); plt.legend()"
   ]
  },
  {
   "cell_type": "code",
   "execution_count": 340,
   "metadata": {},
   "outputs": [
    {
     "data": {
      "text/plain": [
       "<matplotlib.legend.Legend at 0x175959420>"
      ]
     },
     "execution_count": 340,
     "metadata": {},
     "output_type": "execute_result"
    },
    {
     "data": {
      "image/png": "[encoded data removed]",
      "text/plain": [
       "<Figure size 750x525 with 1 Axes>"
      ]
     },
     "metadata": {},
     "output_type": "display_data"
    }
   ],
   "source": [
    "# foo = lambda s: calc_genlik_constant(s, 100, 10000, haps) \n",
    "# -np.sum(foo(-3.5)[2])\n",
    "# plt.imshow(np.log10(run_mom_iterate_constant(601, 600, 10**-1.3, 10000, 400)),vmin=-10,aspect='auto',cmap='Blues'); plt.colorbar()\n",
    "# %time finalll = Parallel(n_jobs=16)(delayed(foo)(x) for x in np.linspace(-3.2,-2.1,16))\n",
    "# plt.plot(10**np.linspace(-3,-2,16),[-np.nansum(finalll[i][2]) for i in range(16)],'ko'); plt.grid(); plt.axvline(22/10000,color='r'); plt.ylabel(r'$-\\ell$'); plt.xlabel(r'$\\hat s$'); plt.semilogx()#plt.axvline(10**np.linspace(-2,-1.3,12)[2],color='grey')\n",
    "# foo2 = lambda s: -np.nansum(calc_genlik_constant(s, 120, 10000, haps)[2])\n",
    "# sp.optimize.minimize(foo2, x0=-2, method='b', bounds=[(-3.7,-1.7)])\n",
    "# sp.optimize.minimize_scalar(foo2, method='bounded', bounds=(-3.7,-1.7))\n",
    "## est = []\n",
    "# est22 = []\n",
    "# for i in range(1,101):\n",
    "#     try:\n",
    "#         haps = read_mssel('/Users/vivaswatshastry/selCoefEst/PReFerSims/msselfiles/hapfiles/haps-22.0_{:d}_t3000.ms'.format(i),40) \n",
    "#         est22.append(10**sp.optimize.minimize_scalar(foo2, method='bounded', bounds=(-3.2,-2), tol=1e-3).x)\n",
    "#     except:\n",
    "#         est22.append(np.nan)\n",
    "#     print(est22[-1])\n",
    "# for i in np.array([2, 4, 7, 11, 13, 14, 15, 25, 27, 31, 33, 36, 45, 48, 53, 55, 57, 58, 59, 60, 61, 67, 71, 72, 78, 82, 83, 84, 85, 87, 88, 90, 92, 96, 97, 98]):\n",
    "#     haps = read_mssel('/Users/vivaswatshastry/selCoefEst/PReFerSims/msselfiles/hapfiles/haps-220.0_{:d}_t600.ms'.format(i),40) \n",
    "#     est[i-1] = 10**sp.optimize.minimize_scalar(foo2, method='bounded', bounds=(-2.1,-1.5), tol=1e-2).x\n",
    "#     print(est[i-1])\n",
    "\n",
    "# plt.figure(dpi=150); plt.box(False)\n",
    "# plt.violinplot([np.array(est22)[np.where(~np.isnan(est22))[0]],np.array(est)[np.where(~np.isnan(est))[0]]],widths=0.01,showmedians=True,positions=[0,.03]); plt.axhline(0.022,color='red'); plt.axhline(0.0022,color='red'); plt.ylim((0,0.03)); plt.ylabel(r'estimated $\\hat s$'); plt.axhline(0.022,color='red'); plt.ylim((0,0.03)); plt.xticks([0,.03],labels=[r'0.0022',r'0.022']); plt.xlabel(r'simulated $s$'); \n",
    "\n",
    "plt.figure(dpi=150)\n",
    "plt.plot(allfreq[np.where(~np.isnan(est22))[0]][:,-1],np.array(est22)[np.where(~np.isnan(est22))[0]],'o',color='dodgerblue',alpha=0.8,label=r'$0.0022$'); plt.plot(allfreq220[np.where(~np.isnan(est))[0]][:,-1],np.array(est)[np.where(~np.isnan(est))[0]],'*',alpha=0.5,color='dodgerblue',label=r'$0.022$'); plt.grid(); plt.xlabel('present-day freq.'); plt.ylabel(r'$\\hat s$'); plt.axhline(0.0022,color='red'); plt.axhline(0.022,color='red'); plt.legend(title=r'$s$')"
   ]
  },
  {
   "cell_type": "code",
   "execution_count": 342,
   "metadata": {},
   "outputs": [
    {
     "data": {
      "text/plain": [
       "68"
      ]
     },
     "execution_count": 342,
     "metadata": {},
     "output_type": "execute_result"
    }
   ],
   "source": [
    "# haps = read_mssel('/Users/vivaswatshastry/selCoefEst/PReFerSims/msselfiles/hapfiles/haps-22.0_{:d}_t3000.ms'.format(72),40) \n",
    "# foo2 = lambda s: -np.nansum(calc_genlik_constant(s[0], 400, 10000, haps)[2])\n",
    "# 10**sp.optimize.minimize(foo2, x0=-2, method='L-BFGS-B', bounds=[(-2.2,-1.5)]).x"
   ]
  },
  {
   "cell_type": "code",
   "execution_count": 384,
   "metadata": {},
   "outputs": [
    {
     "data": {
      "text/plain": [
       "Text(0.5, 1.0, '$\\\\gamma=100$')"
      ]
     },
     "execution_count": 384,
     "metadata": {},
     "output_type": "execute_result"
    },
    {
     "data": {
      "image/png": "[encoded data removed]",
      "text/plain": [
       "<Figure size 550x385 with 1 Axes>"
      ]
     },
     "metadata": {},
     "output_type": "display_data"
    }
   ],
   "source": [
    "## standard: haps-100.0_15.ms\n",
    "# finalll = Parallel(n_jobs=16)(delayed(foo)(x) for x in np.linspace(-3.5,-1.6,32))\n",
    "# plt.plot(10**np.linspace(-3.5,-1.6,32),finalll,'ko'); plt.grid(); plt.axvline(100/40000,color='r'); plt.ylabel(r'$-\\ell$'); plt.xlabel(r'$\\hat s$'); plt.axvline(10**np.linspace(-3.5,-1.6,32)[np.nanargmin(finalll)],color='grey'); plt.semilogx(); plt.title(r'$\\gamma=100$')"
   ]
  },
  {
   "cell_type": "code",
   "execution_count": null,
   "metadata": {},
   "outputs": [],
   "source": [
    "def calc_neutral_constant(N, haps):\n",
    "    ## if we used the time between coalescences and computed the log-lik\n",
    "    coaltimes = np.append(1,[i for i in [t if ~(haps[t,:] == haps[t-1,:]).all() else None for t in range(1,len(haps))] if i is not None])\n",
    "\n",
    "    logprob = np.zeros(len(coaltimes))\n",
    "\n",
    "    for it in range(1,len(coaltimes)):\n",
    "        logprob[it-1] = np.log(np.exp(-(coaltimes[it]-coaltimes[it-1])*0.25*haps[coaltimes[it-1]-1,1]*(haps[coaltimes[it-1]-1,1]-1)/N)) + np.log(0.25*haps[coaltimes[it-1]-1,1]*(haps[coaltimes[it-1]-1,1]-1)/N)\n",
    "\n",
    "    ## going generation by generation\n",
    "    logprob2 = np.zeros(len(haps))\n",
    "\n",
    "    for t in range(1,len(haps)):\n",
    "        if (haps[t,:] == haps[t-1,:]).all():\n",
    "            logprob2[t] = np.log(np.exp(-0.25*haps[t-1,1]*(haps[t-1,1]-1)/N)) # ≈ np.exp(-0.5*haps[t-1,0]*(haps[t-1,0]-1)/N)\n",
    "        else:\n",
    "            logprob2[t] = np.log(1-np.exp(-haps[t-1,1]*(haps[t-1,1]-1)*0.25/N)) # np.log(0.25*haps[t-1,1]*(haps[t-1,1]-1)/N) \n",
    "\n",
    "    return logprob, logprob2[1:]"
   ]
  },
  {
   "cell_type": "code",
   "execution_count": 110,
   "metadata": {},
   "outputs": [
    {
     "data": {
      "text/plain": [
       "array([84.138, 84.124, 84.072, 83.923, 83.380, 88.728])"
      ]
     },
     "execution_count": 110,
     "metadata": {},
     "output_type": "execute_result"
    }
   ],
   "source": [
    "# logprob0, logprob02 = calc_neutral_constant(10000, haps)\n",
    "# np.sum(logprob0), np.sum(logprob02), np.sum(logprob)\n",
    "# np.sum(logprob02[[i for i in [t if ~(haps[t,:] == haps[t-1,:]).all() else None for t in range(1,len(haps))] if i is not None]]) \n",
    "# len(logprob02[np.where(np.exp(logprob02)<0.9)])\n",
    "# plt.plot(np.exp(logprob02),'ko')"
   ]
  },
  {
   "cell_type": "markdown",
   "metadata": {},
   "source": [
    "## Compute a neutral likelihood cos we know the coalescent rates!"
   ]
  },
  {
   "cell_type": "code",
   "execution_count": 231,
   "metadata": {},
   "outputs": [
    {
     "data": {
      "text/plain": [
       "array([ 2,  4,  7, 11, 13, 14, 15, 25, 27, 31, 33, 36, 45, 48, 53, 55, 57,\n",
       "       58, 59, 60, 61, 67, 71, 72, 78, 82, 83, 84, 85, 87, 88, 90, 92, 96,\n",
       "       97, 98])"
      ]
     },
     "execution_count": 231,
     "metadata": {},
     "output_type": "execute_result"
    }
   ],
   "source": [
    "# nind=40\n",
    "# with open(\"msselfiles/haps-100.0_1_x30.ms\") as file:\n",
    "#     lines = [line.rstrip() for line in file]\n",
    "# for i in range(len(lines)):\n",
    "#     if lines[i].split(':')[0]=='positions':\n",
    "#         pos = i\n",
    "#         break\n",
    "#     elif lines[i].split(' ')[0]=='segsites:':\n",
    "#         totsites = int(lines[i].split(' ')[1])\n",
    "#     elif lines[i].split(' ')[0]=='selsite:':\n",
    "#         selsite = int(lines[i].split(' ')[1])\n",
    "#         tree = load(lines[i-1])[0]\n",
    "# hapmat = np.zeros((nind,totsites),dtype='int')\n",
    "# for i in range(hapmat.shape[0]):\n",
    "#     hapmat[i,:] = list(map(int, str(lines[i+pos+1])))\n",
    "\n",
    "# tsktree = from_newick(lines[5], min_edge_length=0.5e-4)\n",
    "# intnodes = np.where(1-tsktree.nodes_flags)[0] # -> these are the internal nodes \n",
    "# dersamp = np.where(hapmat[:,selsite])[0]+1; #ancsamp = np.array(list(set(range(1,hapmat.shape[0]+1))-set(np.where(hapmat[:,selsite])[0]+1)))\n",
    "# samp = {} # -> only need to have one cos the other is the 1-this\n",
    "# for i in list(set(range(tsktree.num_nodes))-set(intnodes)):\n",
    "#     samp[tsktree.node(i).metadata['name']] = i \n",
    "# # getting internal node ids from derived samples\n",
    "# derint = []\n",
    "# for d in dersamp:\n",
    "#     u = samp[str(d)]\n",
    "#     path = []\n",
    "#     v = u\n",
    "#     while v != tskit.NULL:\n",
    "#         path.append(v)\n",
    "#         v = tsktree.first().parent(v)\n",
    "#     derint.extend(path[1:])\n",
    "# derint = np.unique(derint)\n",
    "# # creating an array of a list of events\n",
    "# coaltimes = np.zeros((len(intnodes)+1,2),dtype='int32')\n",
    "# coaltimes[0,0] = int(float(lines[6].split(' ')[5])*40000)+1\n",
    "# coaltimes[0,1] = -1\n",
    "# for ii, itn in enumerate(intnodes):\n",
    "#     if itn in derint:\n",
    "#         coaltimes[ii+1,0] = int(tsktree.nodes_time[itn]*40000)\n",
    "#         coaltimes[ii+1,1] = 1\n",
    "#     else:\n",
    "#         coaltimes[ii+1,0] = int(tsktree.nodes_time[itn]*40000)\n",
    "#         coaltimes[ii+1,1] = 0\n",
    "\n",
    "# haps = np.zeros((coaltimes[0,0],2),dtype='int16') # -> probably don't need to make this that long, stop at allele age\n",
    "# haps[0,:] = [len(dersamp),tsktree.num_samples]\n",
    "# for t in range(1,haps.shape[0]):\n",
    "#     if t in coaltimes[:,0]:\n",
    "#         if coaltimes[t==coaltimes[:,0],1]==0:\n",
    "#             haps[t,:] = [haps[t-1,0],haps[t-1,1]-1]\n",
    "#         else:\n",
    "#             haps[t,:] = [haps[t-1,0]-1,haps[t-1,1]-1]\n",
    "#         if haps[t,0]<1:\n",
    "#             break\n",
    "#     else:\n",
    "#         haps[t,:] = haps[t-1,:]\n",
    "# haps = haps[0:t,:]\n",
    "# int(float(lines[6].split(' ')[5])*40000)+1\n",
    "np.where(np.array(est)<0.005)[0]+1"
   ]
  },
  {
   "cell_type": "code",
   "execution_count": 294,
   "metadata": {},
   "outputs": [
    {
     "data": {
      "text/plain": [
       "<matplotlib.legend.Legend at 0x17b0df100>"
      ]
     },
     "execution_count": 294,
     "metadata": {},
     "output_type": "execute_result"
    },
    {
     "data": {
      "image/png": "[encoded data removed]",
      "text/plain": [
       "<Figure size 550x385 with 1 Axes>"
      ]
     },
     "metadata": {},
     "output_type": "display_data"
    }
   ],
   "source": [
    "# import os\n",
    "# os.chdir('/Users/vivaswatshastry/selCoefEst/PReFerSims')\n",
    "\n",
    "\n",
    "# haps = read_mssel('/Users/vivaswatshastry/selCoefEst/PReFerSims/msselfiles/hapfiles/haps-220.0_14_t600.ms',40) \n",
    "# plt.plot(haps[:,0],label='derived'); plt.plot(haps[:,1], label='total', color='red'); plt.ylabel('# of lineages'); plt.xlabel('gens'); plt.grid(); plt.box(False); plt.legend()"
   ]
  },
  {
   "cell_type": "code",
   "execution_count": 26,
   "metadata": {},
   "outputs": [
    {
     "name": "stdout",
     "output_type": "stream",
     "text": [
      "0.0001\n"
     ]
    },
    {
     "data": {
      "text/plain": [
       "204.41370017102744"
      ]
     },
     "execution_count": 26,
     "metadata": {},
     "output_type": "execute_result"
    }
   ],
   "source": [
    "# foo = lambda s: calc_genlik_constant(s, 500, 10000, haps)\n",
    "# logprob = foo(-2.5)\n",
    "\n",
    "# plt.plot(np.exp(logprob),'k+',alpha=0.7); plt.ylabel('probability'); plt.xlabel('gens'); plt.grid(); plt.box(False); #plt.semilogy(); \n",
    "# plt.plot(np.exp(logprob),'b*',alpha=0.5)\n",
    "# plt.plot(np.exp(logprob02),np.exp(logprob),'ko'); plt.axline((0,0),slope=1,color='grey'); plt.loglog(); plt.box(False); plt.xlabel('neutral coal. prob'); plt.ylabel('gen. prob.');\n",
    "# plt.plot(np.exp(logprob02[np.where(logprob02>-1)]), np.exp(logprob[np.where(logprob>-1)]), 'ko'); plt.axline((1,1),slope=1,color='grey'); plt.xlabel('neutral coal. prob'); plt.ylabel('gen. prob.'); plt.box(False)"
   ]
  },
  {
   "cell_type": "code",
   "execution_count": 303,
   "metadata": {},
   "outputs": [],
   "source": [
    "# fsprojnm1[haps[t-1,0]-1]/fsprojn[haps[t-1,0]], fsprojnm1[haps[t-1,0]+1]/fsprojn[haps[t-1,0]]\n",
    "# np.log(rCa*0.5/10000), np.log(rCA*0.5/10000)"
   ]
  },
  {
   "cell_type": "code",
   "execution_count": 79,
   "metadata": {},
   "outputs": [
    {
     "name": "stdout",
     "output_type": "stream",
     "text": [
      "0.0010747519218222697\n",
      "0.004663282972106679\n",
      "0.011550916934606623\n",
      "0.020233700109201815\n",
      "0.025598980204449832\n",
      "0.020716063821922672\n",
      "0.021264417306468837\n",
      "0.021475415238287426\n",
      "0.02145521915401539\n",
      "0.02143875676112488\n",
      "0.0010747519218222697\n",
      "0.004663282972106679\n",
      "0.011550916934606623\n",
      "0.020233700109201815\n",
      "0.036341852021369414\n",
      "0.01986310031830066\n",
      "0.022576273339585517\n",
      "0.027078559739667638\n",
      "0.021527264239440187\n",
      "0.021510746568085933\n",
      "0.021543841520605744\n",
      "0.021932501833424423\n",
      "0.021560384604664872\n",
      "0.0010747519218222697\n",
      "0.004663282972106679\n",
      "0.011550916934606623\n",
      "0.020233700109201815\n",
      "0.012984407271266995\n",
      "0.014192998322882702\n",
      "0.014318163776206108\n",
      "0.014245280204827845\n",
      "0.014256218957422595\n",
      "0.014234349845504037\n",
      "0.0010747519218222697\n",
      "0.004663282972106679\n",
      "0.011550916934606623\n",
      "0.020233700109201815\n",
      "0.012588106188963357\n",
      "0.014203285618072001\n",
      "0.014808884468772225\n",
      "0.01450620006965239\n",
      "0.014495069511227766\n",
      "0.014517339175075063\n",
      "0.0010747519218222697\n",
      "0.004663282972106679\n",
      "0.011550916934606623\n",
      "0.020233700109201815\n",
      "0.023596763859847367\n",
      "0.01905213954403721\n",
      "0.02000087149480408\n",
      "0.02009031766309674\n",
      "0.020105744636152473\n",
      "0.020074902527030987\n",
      "0.0010747519218222697\n",
      "0.004663282972106679\n",
      "0.011550916934606623\n",
      "0.021921174645632202\n",
      "0.03006364506578575\n",
      "0.025116102724411875\n",
      "0.025257349152196115\n",
      "0.025682346451732164\n",
      "0.025615123386223668\n",
      "0.025595469204244655\n",
      "0.025634792660204558\n",
      "0.0010747519218222697\n",
      "0.004663282972106679\n",
      "0.011550916934606623\n",
      "0.020233700109201815\n",
      "0.028611534583736983\n",
      "0.025308395409210913\n",
      "0.024788177906780166\n",
      "0.02521690065388333\n",
      "0.025251815723258995\n",
      "0.025271206026855873\n",
      "0.0010747519218222697\n",
      "0.004663282972106679\n",
      "0.011550916934606623\n",
      "0.020233700109201815\n",
      "0.020496063436980266\n",
      "0.021813483568368455\n",
      "0.02997228043642924\n",
      "0.022908262124417208\n",
      "0.02285970151764679\n",
      "0.022833572834600874\n",
      "0.022816052864643353\n",
      "0.0010747519218222697\n",
      "0.004663282972106679\n",
      "0.011550916934606623\n",
      "0.020233700109201815\n",
      "0.028611534583736983\n",
      "0.01790101177017154\n",
      "0.01887727311070689\n",
      "0.01892562544233307\n",
      "0.018956665544228583\n",
      "0.018971222023714467\n",
      "0.01894212023382262\n",
      "0.0010747519218222697\n",
      "0.004663282972106679\n",
      "0.011550916934606623\n",
      "0.020233700109201815\n",
      "0.013404661668114706\n",
      "0.014664657987983986\n",
      "0.015002800112051672\n",
      "0.014815033564970348\n",
      "0.014826409814623959\n",
      "0.014803666044271205\n",
      "0.0010747519218222697\n",
      "0.004663282972106679\n",
      "0.011550916934606623\n",
      "0.021246774719171253\n",
      "0.029488617636677858\n",
      "0.023811691413792097\n",
      "0.02436859868145733\n",
      "0.02465085411805119\n",
      "0.024593489180356233\n",
      "0.02457461887141501\n",
      "0.024612373979392352\n",
      "0.0010747519218222697\n",
      "0.004663282972106679\n",
      "0.011550916934606623\n",
      "0.020233700109201815\n",
      "0.02811636368668764\n",
      "0.018128740720380777\n",
      "0.01946005935109081\n",
      "0.019604495618314934\n",
      "0.019620367356602615\n",
      "0.01963543347064443\n",
      "0.0010747519218222697\n",
      "0.004663282972106679\n",
      "0.011550916934606623\n",
      "0.020233700109201815\n",
      "0.020895428456209734\n",
      "0.016733716563604794\n",
      "0.014524629662311437\n",
      "0.018005997226882838\n",
      "0.01786631786350375\n",
      "0.018021801811297113\n",
      "0.017992181343572153\n",
      "0.0010747519218222697\n",
      "0.004663282972106679\n",
      "0.011550916934606623\n",
      "0.020233700109201815\n",
      "0.02309403034976447\n",
      "0.023442223794235075\n",
      "0.022757370914394302\n",
      "0.022792314202888977\n",
      "0.022809815945036352\n",
      "0.0010747519218222697\n",
      "0.004663282972106679\n",
      "0.011550916934606623\n",
      "0.020233700109201815\n",
      "0.018778179706539704\n",
      "0.017275646805730106\n",
      "0.017927234500079773\n",
      "0.01790902962678379\n",
      "0.017941000513004828\n",
      "0.0010747519218222697\n",
      "0.004663282972106679\n",
      "0.011550916934606623\n",
      "0.020233700109201815\n",
      "0.030675194114288564\n",
      "0.017763409267774033\n",
      "0.021183446121421378\n",
      "0.02033056427458327\n",
      "0.02038639700949361\n",
      "0.020402051331824385\n",
      "0.02037075469859265\n",
      "0.0010747519218222697\n",
      "0.004663282972106679\n",
      "0.011550916934606623\n",
      "0.020233700109201815\n",
      "0.035107756933825104\n",
      "0.01900938339417298\n",
      "0.022670028422160884\n",
      "0.02209459726226951\n",
      "0.022013838200567543\n",
      "0.022047783326116153\n",
      "0.02206471336941904\n",
      "0.02203086627307339\n",
      "0.0010747519218222697\n",
      "0.004663282972106679\n",
      "0.011550916934606623\n",
      "0.020233700109201815\n",
      "0.019739628506514572\n",
      "0.020709083590592068\n",
      "0.020342856726321214\n",
      "0.020358477615551217\n",
      "0.02037411049953028\n",
      "0.0010747519218222697\n",
      "0.004663282972106679\n",
      "0.011550916934606623\n",
      "0.020233700109201815\n",
      "0.04015943157676115\n",
      "0.020541655699631012\n",
      "0.02565457488746631\n",
      "0.022361780836948186\n",
      "0.022902931902312518\n",
      "0.023118487426034187\n",
      "0.02306072436530703\n",
      "0.02304303010765613\n",
      "0.023078432210005825\n",
      "0.0010747519218222697\n",
      "0.004663282972106679\n",
      "0.011550916934606623\n",
      "0.020233700109201815\n",
      "0.02006495936701958\n",
      "0.01932004580545991\n",
      "0.015873771286549078\n",
      "0.019595140484464472\n",
      "0.01958010528654116\n",
      "0.019610187227636054\n",
      "0.0010747519218222697\n",
      "0.004663282972106679\n",
      "0.011550916934606623\n",
      "0.020233700109201815\n",
      "0.02001911436639015\n",
      "0.02355724156969838\n",
      "0.031431257532233726\n",
      "0.022953328893321214\n",
      "0.022867218780256108\n",
      "0.02289181736063071\n",
      "0.022909395507694958\n"
     ]
    }
   ],
   "source": [
    "res500 = []\n",
    "for rep in range(1,26):\n",
    "    try:\n",
    "        haps = read_mssel('msselfiles/haps-500.0_{}_x30.ms'.format(rep),40)\n",
    "        foo = lambda s: calc_genlik_constant(s, 500, 10000, haps)\n",
    "        # res500.append(10**sp.optimize.minimize_scalar(foo, method='bounded', bounds=(-4,-1.3), options={'xatol':1e-3}).x)\n",
    "        res500.append(sp.optimize.minimize_scalar(foo, method='bounded', bounds=(-4,-1.3), options={'xatol':1e-3}).x)\n",
    "        # finalll = Parallel(n_jobs=8)(delayed(foo)(x) for x in np.linspace(-4,-1.5,16))\n",
    "        # res25[rep-1] = 10**np.linspace(-4,-1.5,16)[np.nanargmin(finalll)]\n",
    "        # print(res100[rep-1])\n",
    "    except:\n",
    "        res500.append(np.nan)"
   ]
  },
  {
   "cell_type": "code",
   "execution_count": 1,
   "metadata": {},
   "outputs": [
    {
     "ename": "NameError",
     "evalue": "name 'plt' is not defined",
     "output_type": "error",
     "traceback": [
      "\u001b[0;31m---------------------------------------------------------------------------\u001b[0m",
      "\u001b[0;31mNameError\u001b[0m                                 Traceback (most recent call last)",
      "\u001b[1;32m/Users/vivaswatshastry/selCoefEst/calc-genlik.ipynb Cell 23\u001b[0m line \u001b[0;36m<module>\u001b[0;34m\u001b[0m\n\u001b[0;32m----> <a href='vscode-notebook-cell:/Users/vivaswatshastry/selCoefEst/calc-genlik.ipynb#X31sZmlsZQ%3D%3D?line=0'>1</a>\u001b[0m plt\u001b[39m.\u001b[39mboxplot(np\u001b[39m.\u001b[39marray(res500)); plt\u001b[39m.\u001b[39mylabel(\u001b[39mr\u001b[39m\u001b[39m'\u001b[39m\u001b[39m$\u001b[39m\u001b[39m\\\u001b[39m\u001b[39mhat s$\u001b[39m\u001b[39m'\u001b[39m); plt\u001b[39m.\u001b[39mgrid(); plt\u001b[39m.\u001b[39mbox(\u001b[39mFalse\u001b[39;00m); plt\u001b[39m.\u001b[39maxhline(\u001b[39m500\u001b[39m\u001b[39m/\u001b[39m\u001b[39m20000\u001b[39m,color\u001b[39m=\u001b[39m\u001b[39m'\u001b[39m\u001b[39mgrey\u001b[39m\u001b[39m'\u001b[39m)\n",
      "\u001b[0;31mNameError\u001b[0m: name 'plt' is not defined"
     ]
    }
   ],
   "source": [
    "# plt.boxplot(np.array(res500)); plt.ylabel(r'$\\hat s$'); plt.grid(); plt.box(False); plt.axhline(500/20000,color='grey');"
   ]
  },
  {
   "cell_type": "code",
   "execution_count": 299,
   "metadata": {},
   "outputs": [
    {
     "data": {
      "text/plain": [
       "<matplotlib.colorbar.Colorbar at 0x17b25be50>"
      ]
     },
     "execution_count": 299,
     "metadata": {},
     "output_type": "execute_result"
    },
    {
     "data": {
      "image/png": "[encoded data removed]",
      "text/plain": [
       "<Figure size 550x385 with 2 Axes>"
      ]
     },
     "metadata": {},
     "output_type": "display_data"
    }
   ],
   "source": [
    "# fsa = run_mom_iterate_constant(10000, 120, 0.01, 10000, 400)\n",
    "# fsa[fsa<0] = 0\n",
    "# plt.imshow(np.log10(fsa),vmin=-10,aspect='auto',cmap='OrRd'); plt.colorbar()\n",
    "# plt.plot(moments.Spectrum(fsa[10,]).project([40]),'o'); plt.plot(moments.Spectrum(fsa[100,]).project([40]),'o'); plt.plot(moments.Spectrum(fsa[400,]).project([40]),'o'); plt.semilogy(); \n",
    "# fsprojn = moments.Spectrum(fsa[200,:]).project([10])\n",
    "# fsprojn[1:-1] = fsprojn[1:-1]/fsprojn[1:-1].sum()\n",
    "# plt.plot(np.log10(fsa.sum(axis=0)),'-o')\n",
    "# np.where(np.array(res100)>0.01)[0], np.where(np.isnan(res100))"
   ]
  },
  {
   "cell_type": "code",
   "execution_count": 952,
   "metadata": {},
   "outputs": [
    {
     "data": {
      "text/plain": [
       "0.006957716326835276"
      ]
     },
     "execution_count": 952,
     "metadata": {},
     "output_type": "execute_result"
    }
   ],
   "source": [
    "fsprojn[3]"
   ]
  },
  {
   "cell_type": "code",
   "execution_count": null,
   "metadata": {},
   "outputs": [],
   "source": [
    "# fsa = run_mom_iterate_constant(T, 3, s, N, 100, {})\n",
    "# fs = moments.Spectrum(moments.LinearSystem_1D.steady_state_1D(400,gamma=-25))*400\n",
    "# fs = fs/fs.sum()\n",
    "# plt.plot(fs.project([2]))\n",
    "# fs.project([3])/fs.project([3]).sum() #[-- 0.9726728471678365 0.026575356182170495 0.0007517966499929211 --]\n",
    "# fsap = (fsa.T/fsa.sum(axis=1)).T"
   ]
  },
  {
   "cell_type": "markdown",
   "metadata": {},
   "source": [
    "### Computing the MLE $\\hat s$ values for each simulated trajectory in PReFerSim -> bioinfo -> mssel -> ipynb"
   ]
  },
  {
   "cell_type": "code",
   "execution_count": null,
   "metadata": {},
   "outputs": [],
   "source": [
    "# dft = pd.read_csv('outfiles/ConstantSize-50.0.1.full_out.txt',sep='\\t',header=None,names=['','Xl','s','al','id'])\n",
    "# dft['sXl'] = (dft['Xl']*200).astype('int')\n",
    "# dft['al'] = 80000+1 - dft['al']\n",
    "# dft['al'] = dft['al'].astype('int')\n",
    "# dft = dft.drop(np.where(dft['sXl']==200)[0])\n",
    "# dft['res'] = np.zeros(dft.shape[0])\n",
    "# plt.boxplot(dft['res']); plt.semilogy(); plt.axhline(0.025,color='red'); plt.xlabel(r'$\\hat s$'); \n",
    "# plt.plot(dft['al'],dft['res'],'ko'); plt.semilogy(); plt.grid(); plt.box(False); plt.xlabel('allele age'); plt.ylabel(r'$\\hat s$')\n",
    "# plt.plot(dft['sXl']*0.2,dft['res'],'ko'); plt.semilogy(); plt.grid(); plt.box(False); plt.xlabel('sample freq.'); plt.ylabel(r'$\\hat s$')\n",
    "# plt.plot(dft['sXl']/dft['al'],dft['res'],'ko'); plt.semilogy(); plt.grid(); plt.box(False); plt.ylabel(r'$\\hat s$'); plt.axhline(0.025,color='red'); plt.xlabel(r'$i/a$')\n",
    "# plt.boxplot(dft['res'].loc[((dft['res']>2e-6) & (dft['res']<0.8e-1))]); plt.axhline(0.025, color='red'); plt.xlabel(r'$\\hat s$'); plt.semilogy(); plt.ylim((1e-3,1e-1))\n",
    "# plt.scatter(dft['al'].loc[((dft['res']>2e-6) & (dft['res']<0.8e-1))],dft['sXl'].loc[((dft['res']>2e-6) & (dft['res']<0.8e-1))]*0.2); plt.xlabel('allele age'); plt.ylabel('sample freq.'); plt.grid()"
   ]
  },
  {
   "cell_type": "code",
   "execution_count": null,
   "metadata": {},
   "outputs": [],
   "source": [
    "# os.system(\"sed -n '/^{}/p' MiniTest/Traj-500.0.txt > MiniTest/TrajMini-500.0.txt\".format(dft['al'].iloc[i]))\n",
    "# np.where(((dft['sXl']>3) & (dft['sXl']<150)))[0]\n",
    "# i = 40\n",
    "# os.system(\"sed -n '/^{}/p' MiniTest/Traj-50.0.txt > MiniTest/TrajMini-50.0.txt\".format(dft['id'].iloc[i]))\n",
    "# os.system(\"perl TrajToMsselFormat.pl MiniTest/TrajMini-50.0 20000 msselfiles/trajfiles/TrajMsselLike-50.0.txt 1 0 1\")\n",
    "# os.system(\"cat msselfiles/trajfiles/TrajMsselLike-50.0.txt | ~/mssel/stepftn > msselfiles/trajfiles/CurrTraj-50.0.txt\")\n",
    "# os.system(\"~/mssel/mssel3 50 1 {} {} msselfiles/trajfiles/CurrTraj-50.0.txt 500 -r 0 1000 -t 20 -T > msselfiles/haps-50.0.ms\".format(int(np.floor((200-dft['sXl'].iloc[i]) * 0.25)),int(np.ceil(dft['sXl'].iloc[i] * 0.25))))\n",
    "# print(dft['sXl'].iloc[i], dft['al'].iloc[i])\n",
    "\n",
    "# res = [0.00016259837958348586]\n",
    "res25 = []\n",
    "\n",
    "for rep in range(1,26):\n",
    "    try:\n",
    "        haps = read_mssel('msselfiles/haps-25.0_{}.ms'.format(rep),40)\n",
    "        foo = lambda s: calc_genlik(s, 500, 10000, haps)\n",
    "        res25.append(10**sp.optimize.minimize_scalar(foo, method='bounded', bounds=(-5,-2), options={'xatol':1e-3}).x)\n",
    "        print(res25[rep-1])\n",
    "    except:\n",
    "        res25.append(np.nan)\n",
    "# plt.plot(haps[:,0],label='derived'); plt.plot(haps[:,1], label='total'); plt.ylabel('# of lineages'); plt.xlabel('gens'); plt.grid(); plt.box(False); plt.legend(); plt.title(r'$\\gamma=100$')"
   ]
  },
  {
   "cell_type": "code",
   "execution_count": null,
   "metadata": {},
   "outputs": [],
   "source": [
    "# int(np.floor((200-dft['sXl'].iloc[i]) * 0.5)),int(np.ceil(dft['sXl'].iloc[i] * 0.5))\n",
    "# plt.hist(res[1:])\n",
    "# plt.boxplot(np.array(res)[~np.isnan(res).astype(int)]); plt.axhline(0.01,color='red'); plt.ylim((0.0001,0.1)); plt.semilogy()"
   ]
  },
  {
   "cell_type": "code",
   "execution_count": null,
   "metadata": {},
   "outputs": [],
   "source": [
    "## bioinformatics to run mssel\n",
    "# for i in range(56,len(dft)):\n",
    "#     os.system(\"sed -n '/^{}/p' MiniTest/Traj-50.0.txt > MiniTest/TrajMini-50.0.txt\".format(dft['id'].iloc[i]))\n",
    "#     os.system(\"perl TrajToMsselFormat.pl MiniTest/TrajMini-50.0 20000 msselfiles/trajfiles/TrajMsselLike-50.0.txt 1 0 1\")\n",
    "#     os.system(\"cat msselfiles/trajfiles/TrajMsselLike-50.0.txt | ~/mssel/stepftn > msselfiles/trajfiles/CurrTraj-50.0.txt\")\n",
    "#     os.system(\"~/mssel/mssel3 40 1 {} {} msselfiles/trajfiles/CurrTraj-50.0.txt 500 -r 0 1000 -t 20 -T > msselfiles/haps-50.0.ms\".format(int(np.floor((200-dft['sXl'].iloc[i]) * 0.2)),int(np.ceil(dft['sXl'].iloc[i] * 0.2))))\n",
    "\n",
    "#     try: \n",
    "#         haps = read_mssel('msselfiles/haps-50.0.ms',40)\n",
    "#     except:\n",
    "#         dft['res'].iloc[i] = np.nan\n",
    "#         continue\n",
    "#     # plt.plot(haps[:,0],label='derived'); plt.plot(haps[:,1], label='total'); plt.ylabel('# of lineages'); plt.xlabel('gens'); plt.grid(); plt.box(False); plt.legend(); plt.title(r'$\\gamma=50$')\n",
    "\n",
    "#     foo = lambda s: calc_genlik(s, 500, 10000, haps)\n",
    "#     dft['res'].iloc[i] = 10**sp.optimize.minimize_scalar(foo, method='bounded', bounds=(-5,-2), options={'xatol':1e-3}).x\n",
    "#     print(i, dft['sXl'].iloc[i], dft['al'].iloc[i], dft['res'].iloc[i])\n",
    "#     # print(10**res.x)"
   ]
  },
  {
   "cell_type": "code",
   "execution_count": null,
   "metadata": {},
   "outputs": [],
   "source": [
    "res"
   ]
  }
 ],
 "metadata": {
  "kernelspec": {
   "display_name": "cvae",
   "language": "python",
   "name": "python3"
  },
  "language_info": {
   "codemirror_mode": {
    "name": "ipython",
    "version": 3
   },
   "file_extension": ".py",
   "mimetype": "text/x-python",
   "name": "python",
   "nbconvert_exporter": "python",
   "pygments_lexer": "ipython3",
   "version": "3.10.2"
  }
 },
 "nbformat": 4,
 "nbformat_minor": 2
}
