{
 "cells": [
  {
   "cell_type": "markdown",
   "metadata": {},
   "source": [
    "### Code to compute the likelihood of a genealogy under a specific selection coefficient\n",
    "#### (building on principles from moments, Stephens & Donnelly 2003 and importance sampling _a la_ CLUES, with the key equations coming from the transition probabilities in each generation)\n",
    "\n",
    "Here, $T$ is the age of the allele in generations, $s$ is the selection coefficient and $n_0$ is the sample size in the present day. \n",
    "\n",
    "\\begin{align*}\n",
    "P\\left(\\mathcal{G} \\mid n_0, s, T \\right) &= P\\left(i_T, i_{T-1}, \\ldots, i_1, i_0, n_T, n_{T-1}, \\ldots, n_1 \\mid n_0, s, T \\right) \\\\\n",
    "&= P\\left(n_T \\mid n_{T-1}, \\ldots \\right) \\times P\\left(i_T \\mid n_T, \\ldots \\right) \\times P\\left(i_{T-1} \\mid i_T,\\ldots \\right) \\times \\ldots \\times P\\left(i_0 \\mid n_0, s, T\\right) \\times P\\left(T\\mid n_0, s\\right) \\\\\n",
    "&= P\\left(n_T \\mid n_{T-1}, \\ldots \\right) \\times P\\left(i_T \\mid n_T, \\ldots \\right) \\times P\\left(i_T \\mid i_{T-1}, \\ldots\\right) \\frac{P\\left(i_{T-1}\\mid n_{T-1}, \\ldots\\right)}{P\\left(i_T \\mid n_T,\\ldots\\right)} \\times \\ldots \\times P\\left(i_0 \\mid n_0, s, T\\right) \\times P\\left(T\\mid n_0, s\\right) \\\\\n",
    "&= P\\left(n_T \\mid n_{T-1}, \\ldots \\right) \\times P\\left(i_T \\mid i_{T-1}, \\ldots\\right) \\times \\ldots \\times P\\left(i_0 \\mid n_0, s, T\\right)^2 \\times P\\left(T\\mid n_0, s\\right) \n",
    "\\end{align*}"
   ]
  },
  {
   "cell_type": "code",
   "execution_count": 1,
   "metadata": {},
   "outputs": [],
   "source": [
    "%load_ext autoreload\n",
    "%autoreload 2\n",
    "\n",
    "# numerics + rv stuff\n",
    "import numpy as np\n",
    "import scipy as sp\n",
    "from numpy.random import default_rng\n",
    "import moments\n",
    "from joblib import Parallel, delayed\n",
    "\n",
    "# plotting + misc tools\n",
    "import matplotlib.pyplot as plt\n",
    "# import matplotlib.patches as mpatches\n",
    "import itertools as it\n",
    "import matplotlib.colors as colors\n",
    "# import matplotlib.cm as cm\n",
    "import pandas as pd\n",
    "import os\n",
    "# method of moments framework + helper functions\n",
    "from mom_functions import *\n",
    "import newick\n",
    "from newick import load\n",
    "import readline\n",
    "import tskit\n",
    "\n",
    "# rng setup\n",
    "rng = default_rng(100496)\n",
    "\n",
    "# change matplotlib fonts\n",
    "plt.rcParams[\"font.family\"] = \"Arial\"\n",
    "plt.rcParams[\"font.sans-serif\"] = \"Arial\"\n",
    "plt.rcParams[\"figure.figsize\"] = [5, 3.5]\n",
    "plt.rcParams[\"figure.dpi\"] = 110\n",
    "plt.rcParams[\"axes.axisbelow\"] = True\n",
    "plt.rcParams.update({\"figure.facecolor\": \"white\"})\n",
    "\n",
    "# set numpy print option to a more readable format for floats\n",
    "np.set_printoptions(formatter={'float': lambda x: \"{0:0.3f}\".format(x)})"
   ]
  },
  {
   "cell_type": "code",
   "execution_count": null,
   "metadata": {},
   "outputs": [],
   "source": [
    "## defunct now (not using the generation by generation formulation)\n",
    "def calc_loglik_gen_xx(s, T, gendata, N):\n",
    "    \"\"\"\n",
    "    Function to compute the likelihood of a genealogy under a specific selection coefficient and age of derived allele. \n",
    "    s : float, additive selection coefficient with h = 1/2\n",
    "    T : int, age of derived allele in generations\n",
    "    gendata : list of tuples, with # of elements indicating the height of the genealogy (in generations) & each tuple containing the # of derived lineages and total # of lineages in a specific generation (i, n), where i <= n (first element contains values from the present day)\n",
    "    N : int, assuming constant population size (# of diploid inds)\n",
    "    \"\"\"\n",
    "\n",
    "    pn, pi = 0, 0\n",
    "    probarray = np.zeros(len(gendata))\n",
    "\n",
    "    # going from the top to the bottom \n",
    "    for gen in range(1,len(gendata))[::-1]:\n",
    "        # na = nb + 1\n",
    "        if gendata[gen-1][1] > gendata[gen][1]:\n",
    "            pn = 0.25*gendata[gen-1][1]*(gendata[gen-1][1]-1)/N\n",
    "            # ia = ib + 1\n",
    "            if gendata[gen-1][0] > gendata[gen][0]:\n",
    "                pi = gendata[gen][0]/gendata[gen][1]\n",
    "            # ia = ib\n",
    "            else:\n",
    "                pi = 1 - gendata[gen][0]/gendata[gen][1]\n",
    "        # na = nb\n",
    "        else: \n",
    "            pn = 1 - 0.25*gendata[gen-1][1]*(gendata[gen-1][1]-1)/N\n",
    "            # ia = ib + 1\n",
    "            if gendata[gen-1][0] > gendata[gen][0]:\n",
    "                pi = s*gendata[gen][0]/gendata[gen][1]\n",
    "            # ia = ib\n",
    "            else:\n",
    "                pi = 1 - s*gendata[gen][0]/gendata[gen][1]\n",
    "        probarray[gen] = pn*pi\n",
    "    \n",
    "    fs = moments.Spectrum(np.array([0]+[1]+[0]*(gendata[0][1]-1)))\n",
    "    # VS: check this scaled rate \n",
    "    fs.integrate([1], 0.5*T/N, gamma=2*N*s, theta=100)\n",
    "\n",
    "    # VS: check the indexing on the returned SFAS object (reverse or correct)\n",
    "    fsa = run_mom_iterate_constant(100, gendata[0][1], s, N, 100, {})\n",
    "\n",
    "    probarray[0] = (fs[gendata[0][0]]/fs.sum())**2 * fsa[T,gendata[0][0]]/fsa[:,gendata[0][0]].sum()\n",
    "\n",
    "    return sp.special.logsumexp(probarray) #-> returns the log-likelihood"
   ]
  },
  {
   "cell_type": "code",
   "execution_count": 3,
   "metadata": {},
   "outputs": [],
   "source": [
    "# _projection_cache = {}\n",
    "# def _cached_projection(proj_to, proj_from, hits, _projection_cache):\n",
    "#     key = (proj_to, proj_from, hits)\n",
    "#     # checking if this value has already been computed\n",
    "#     try:\n",
    "#         return _projection_cache[key]\n",
    "#     except KeyError:\n",
    "#         pass\n",
    "\n",
    "#     proj_hits = np.arange(proj_to + 1) #proj_from - proj_to, hits - proj_hits\n",
    "#     lncontrib =  sp.special.gammaln(proj_to + 1) - sp.special.gammaln(proj_hits + 1) - sp.special.gammaln(proj_to - proj_hits + 1) + sp.special.gammaln(proj_from - proj_to + 1) - sp.special.gammaln(hits - proj_hits) - sp.special.gammaln(proj_from - proj_to - hits + proj_hits + 1) - sp.special.gammaln(proj_from + 1) - sp.special.gammaln(hits + 1) + sp.special.gammaln(proj_from - hits + 1)\n",
    "\n",
    "#     contrib = np.exp(lncontrib)\n",
    "\n",
    "#     _projection_cache[key] = contrib\n",
    "#     return contrib\n",
    "\n",
    "# def _project_one_axis(fs, proj_to):\n",
    "#     newfs = np.zeros(proj_to + 1)\n",
    "#     proj_from = fs.sample_sizes[0]\n",
    "#     for hits in range(1, proj_from):\n",
    "#         least, most = max(proj_to - (proj_from - hits), 0), min(hits, proj_to)\n",
    "#         proj = _cached_projection(proj_to, proj_from, hits, _projection_cache)\n",
    "#         newfs[least:(most + 1)] +=  (fs[hits:(hits + 1)] * proj[least:(most + 1)])\n",
    "\n",
    "#     return newfs\n",
    "\n",
    "# %time _project_one_axis(fs, 302) ## --> wrong, but also slower\n",
    "# %time fs.project([4])"
   ]
  },
  {
   "cell_type": "markdown",
   "metadata": {},
   "source": [
    "#### How to extract true trees from mssel and convert to format readable by my code?\n",
    "\n",
    "- Use the `-T` flag to output trees in Newick format in mssel\n",
    "    - which tree to read in though? (units are in $4N_0$ gens)\n",
    "- How to say which lineages are derived vs ancestral? "
   ]
  },
  {
   "cell_type": "code",
   "execution_count": 4,
   "metadata": {},
   "outputs": [],
   "source": [
    "## code from tsconvert (https://github.com/tskit-dev/tsconvert/blob/main/tsconvert/newick.py) to get tree-sequence from newick\n",
    "def from_newick(\n",
    "    string, *, min_edge_length=0, span=1, time_units=None, node_name_key=None\n",
    ") -> tskit.TreeSequence:\n",
    "    \"\"\"\n",
    "    Create a tree sequence representation of the specified newick string.\n",
    "\n",
    "    The tree sequence will contain a single tree, as specified by the newick. All\n",
    "    leaf nodes will be marked as samples (``tskit.NODE_IS_SAMPLE``). Newick names and\n",
    "    comments will be written to the node metadata. This can be accessed using e.g.\n",
    "    ``ts.node(0).metadata[\"name\"]``.\n",
    "\n",
    "    :param string string: Newick string\n",
    "    :param float min_edge_length: Replace any edge length shorter than this value by this\n",
    "        value. Unlike newick, tskit doesn't support zero or negative edge lengths, so\n",
    "        setting this argument to a small value is necessary when importing trees with\n",
    "        zero or negative lengths.\n",
    "    :param float span: The span of the tree, and therefore the\n",
    "        :attr:`~TreeSequence.sequence_length` of the returned tree sequence.\n",
    "    :param str time_units: The value assigned to the :attr:`~TreeSequence.time_units`\n",
    "        property of the resulting tree sequence. Default: ``None`` resulting in the\n",
    "        time units taking the default of :attr:`tskit.TIME_UNITS_UNKNOWN`.\n",
    "    :param str node_name_key: The metadata key used for the node names. If ``None``\n",
    "        use the string ``\"name\"``, as in the example of accessing node metadata above.\n",
    "        Default ``None``.\n",
    "    :return: A tree sequence consisting of a single tree.\n",
    "    \"\"\"\n",
    "    trees = newick.loads(string)\n",
    "    if len(trees) > 1:\n",
    "        raise ValueError(\"Only one tree can be imported from a newick string\")\n",
    "    if len(trees) == 0:\n",
    "        raise ValueError(\"Newick string was empty\")\n",
    "    tree = trees[0]\n",
    "    tables = tskit.TableCollection(span)\n",
    "    if time_units is not None:\n",
    "        tables.time_units = time_units\n",
    "    if node_name_key is None:\n",
    "        node_name_key = \"name\"\n",
    "    nodes = tables.nodes\n",
    "    nodes.metadata_schema = tskit.MetadataSchema(\n",
    "        {\n",
    "            \"codec\": \"json\",\n",
    "            \"type\": \"object\",\n",
    "            \"properties\": {\n",
    "                node_name_key: {\n",
    "                    \"type\": [\"string\"],\n",
    "                    \"description\": \"Name from newick file\",\n",
    "                },\n",
    "                \"comment\": {\n",
    "                    \"type\": [\"string\"],\n",
    "                    \"description\": \"Comment from newick file\",\n",
    "                },\n",
    "            },\n",
    "        }\n",
    "    )\n",
    "\n",
    "    id_map = {}\n",
    "\n",
    "    def get_or_add_node(newick_node, time):\n",
    "        if newick_node not in id_map:\n",
    "            flags = tskit.NODE_IS_SAMPLE if len(newick_node.descendants) == 0 else 0\n",
    "            metadata = {}\n",
    "            if newick_node.name:\n",
    "                metadata[node_name_key] = newick_node.name\n",
    "            if newick_node.comment:\n",
    "                metadata[\"comment\"] = newick_node.comment\n",
    "            id_map[newick_node] = tables.nodes.add_row(\n",
    "                flags=flags, time=time, metadata=metadata\n",
    "            )\n",
    "        return id_map[newick_node]\n",
    "\n",
    "    root = next(tree.walk())\n",
    "    get_or_add_node(root, 0)\n",
    "    for newick_node in tree.walk():\n",
    "        node_id = id_map[newick_node]\n",
    "        for child in newick_node.descendants:\n",
    "            length = max(child.length, min_edge_length)\n",
    "            if length <= 0:\n",
    "                raise ValueError(\n",
    "                    \"tskit tree sequences cannot contain edges with lengths\"\n",
    "                    \" <= 0. Set min_edge_length to force lengths to a\"\n",
    "                    \" minimum size\"\n",
    "                )\n",
    "            child_node_id = get_or_add_node(child, nodes[node_id].time - length)\n",
    "            tables.edges.add_row(0, span, node_id, child_node_id)\n",
    "    # Rewrite node times to fit the tskit convention of zero at the youngest leaf\n",
    "    nodes = tables.nodes.copy()\n",
    "    youngest = min(tables.nodes.time)\n",
    "    tables.nodes.clear()\n",
    "    for node in nodes:\n",
    "        tables.nodes.append(node.replace(time=node.time - youngest + root.length))\n",
    "    tables.sort()\n",
    "    return tables.tree_sequence()"
   ]
  },
  {
   "cell_type": "code",
   "execution_count": 5,
   "metadata": {},
   "outputs": [],
   "source": [
    "# tree = newick.read('/Users/vivaswatshastry/selCoefEst/PReFerSims/msselfiles/haps5.0_r0.newick')\n",
    "def read_mssel(msfile, nind):\n",
    "    with open(msfile) as file:\n",
    "        lines = [line.rstrip() for line in file]\n",
    "    for i in range(len(lines)):\n",
    "        if lines[i].split(':')[0]=='positions':\n",
    "            pos = i\n",
    "            break\n",
    "        elif lines[i].split(' ')[0]=='segsites:':\n",
    "            totsites = int(lines[i].split(' ')[1])\n",
    "        elif lines[i].split(' ')[0]=='selsite:':\n",
    "            selsite = int(lines[i].split(' ')[1])\n",
    "    hapmat = np.zeros((nind,totsites),dtype='int')\n",
    "    for i in range(hapmat.shape[0]):\n",
    "        hapmat[i,:] = list(map(int, str(lines[i+pos+1])))\n",
    "\n",
    "    tsktree = from_newick(lines[5], min_edge_length=0.5e-4)\n",
    "    intnodes = np.where(1-tsktree.nodes_flags)[0] # -> these are the internal nodes \n",
    "    dersamp = np.where(hapmat[:,selsite])[0]+1; #ancsamp = np.array(list(set(range(1,hapmat.shape[0]+1))-set(np.where(hapmat[:,selsite])[0]+1)))\n",
    "    samp = {} # -> only need to have one cos the other is the 1-this\n",
    "    for i in list(set(range(tsktree.num_nodes))-set(intnodes)):\n",
    "        samp[tsktree.node(i).metadata['name']] = i \n",
    "    # getting internal node ids from derived samples\n",
    "    derint = []\n",
    "    for d in dersamp:\n",
    "        u = samp[str(d)]\n",
    "        path = []\n",
    "        v = u\n",
    "        while v != tskit.NULL:\n",
    "            path.append(v)\n",
    "            v = tsktree.first().parent(v)\n",
    "        derint.extend(path[1:])\n",
    "    derint = np.unique(derint)\n",
    "    # creating an array of a list of events\n",
    "    coaltimes = np.zeros((len(intnodes)+1,2),dtype='int32')\n",
    "    coaltimes[0,0] = int(float(lines[6].split(' ')[5])*40000)+1\n",
    "    coaltimes[0,1] = -1\n",
    "    for ii, itn in enumerate(intnodes):\n",
    "        if itn in derint:\n",
    "            coaltimes[ii+1,0] = int(tsktree.nodes_time[itn]*40000)\n",
    "            coaltimes[ii+1,1] = 1\n",
    "        else:\n",
    "            coaltimes[ii+1,0] = int(tsktree.nodes_time[itn]*40000)\n",
    "            coaltimes[ii+1,1] = 0\n",
    "    haps = np.zeros((coaltimes[0,0],2),dtype='int16') # -> probably don't need to make this that long, stop at allele age\n",
    "    haps[0,:] = [len(dersamp),tsktree.num_samples]\n",
    "    for t in range(1,haps.shape[0]):\n",
    "        if t in coaltimes[:,0]:\n",
    "            if coaltimes[t==coaltimes[:,0],1]==0:\n",
    "                haps[t,:] = [haps[t-1,0],haps[t-1,1]-1]\n",
    "            else:\n",
    "                haps[t,:] = [haps[t-1,0]-1,haps[t-1,1]-1]\n",
    "            if haps[t,0]<1:\n",
    "                break\n",
    "        else:\n",
    "            haps[t,:] = haps[t-1,:]\n",
    "    haps = haps[0:t,:]\n",
    "\n",
    "    return haps, coaltimes"
   ]
  },
  {
   "cell_type": "code",
   "execution_count": 4,
   "metadata": {},
   "outputs": [],
   "source": [
    "with open('/Users/vivaswatshastry/selCoefEst/PReFerSims/msselfiles/haps-100.0_10.ms') as file:\n",
    "    lines = [line.rstrip() for line in file]\n",
    "for i in range(len(lines)):\n",
    "    if lines[i].split(':')[0]=='positions':\n",
    "        pos = i\n",
    "        break\n",
    "    elif lines[i].split(' ')[0]=='segsites:':\n",
    "        totsites = int(lines[i].split(' ')[1])\n",
    "    elif lines[i].split(' ')[0]=='selsite:':\n",
    "        selsite = int(lines[i].split(' ')[1])\n",
    "        tree = load(lines[i-1])[0]\n",
    "hapmat = np.zeros((40,totsites),dtype='int')\n",
    "for i in range(hapmat.shape[0]):\n",
    "    hapmat[i,:] = list(map(int, str(lines[i+pos+1])))"
   ]
  },
  {
   "cell_type": "code",
   "execution_count": 3,
   "metadata": {},
   "outputs": [
    {
     "ename": "NameError",
     "evalue": "name 'from_newick' is not defined",
     "output_type": "error",
     "traceback": [
      "\u001b[0;31m---------------------------------------------------------------------------\u001b[0m",
      "\u001b[0;31mNameError\u001b[0m                                 Traceback (most recent call last)",
      "\u001b[1;32m/Users/vivaswatshastry/selCoefEst/calc-genlik.ipynb Cell 10\u001b[0m line \u001b[0;36m<module>\u001b[0;34m\u001b[0m\n\u001b[1;32m      <a href='vscode-notebook-cell:/Users/vivaswatshastry/selCoefEst/calc-genlik.ipynb#X13sZmlsZQ%3D%3D?line=0'>1</a>\u001b[0m \u001b[39m## need to constract an array of the coalescence events basically...\u001b[39;00m\n\u001b[1;32m      <a href='vscode-notebook-cell:/Users/vivaswatshastry/selCoefEst/calc-genlik.ipynb#X13sZmlsZQ%3D%3D?line=1'>2</a>\u001b[0m \u001b[39m## can be done by investigating who the sample nodes are I guess...\u001b[39;00m\n\u001b[0;32m----> <a href='vscode-notebook-cell:/Users/vivaswatshastry/selCoefEst/calc-genlik.ipynb#X13sZmlsZQ%3D%3D?line=2'>3</a>\u001b[0m tsktree \u001b[39m=\u001b[39m from_newick(lines[\u001b[39m5\u001b[39m], min_edge_length\u001b[39m=\u001b[39m\u001b[39m0.5e-4\u001b[39m)\n\u001b[1;32m      <a href='vscode-notebook-cell:/Users/vivaswatshastry/selCoefEst/calc-genlik.ipynb#X13sZmlsZQ%3D%3D?line=3'>4</a>\u001b[0m intnodes \u001b[39m=\u001b[39m np\u001b[39m.\u001b[39mwhere(\u001b[39m1\u001b[39m\u001b[39m-\u001b[39mtsktree\u001b[39m.\u001b[39mnodes_flags)[\u001b[39m0\u001b[39m] \u001b[39m# -> these are the internal nodes \u001b[39;00m\n\u001b[1;32m      <a href='vscode-notebook-cell:/Users/vivaswatshastry/selCoefEst/calc-genlik.ipynb#X13sZmlsZQ%3D%3D?line=4'>5</a>\u001b[0m dersamp \u001b[39m=\u001b[39m np\u001b[39m.\u001b[39mwhere(hapmat[:,selsite])[\u001b[39m0\u001b[39m]\u001b[39m+\u001b[39m\u001b[39m1\u001b[39m; ancsamp \u001b[39m=\u001b[39m np\u001b[39m.\u001b[39marray(\u001b[39mlist\u001b[39m(\u001b[39mset\u001b[39m(\u001b[39mrange\u001b[39m(\u001b[39m1\u001b[39m,hapmat\u001b[39m.\u001b[39mshape[\u001b[39m0\u001b[39m]\u001b[39m+\u001b[39m\u001b[39m1\u001b[39m))\u001b[39m-\u001b[39m\u001b[39mset\u001b[39m(np\u001b[39m.\u001b[39mwhere(hapmat[:,selsite])[\u001b[39m0\u001b[39m]\u001b[39m+\u001b[39m\u001b[39m1\u001b[39m)))\n",
      "\u001b[0;31mNameError\u001b[0m: name 'from_newick' is not defined"
     ]
    }
   ],
   "source": [
    "## need to constract an array of the coalescence events basically...\n",
    "## can be done by investigating who the sample nodes are I guess...\n",
    "tsktree = from_newick(lines[5], min_edge_length=0.5e-4)\n",
    "intnodes = np.where(1-tsktree.nodes_flags)[0] # -> these are the internal nodes \n",
    "dersamp = np.where(hapmat[:,selsite])[0]+1; ancsamp = np.array(list(set(range(1,hapmat.shape[0]+1))-set(np.where(hapmat[:,selsite])[0]+1)))\n",
    "samp = {} # -> only need to have one cos the other is 1-this\n",
    "for i in list(set(range(tsktree.num_nodes))-set(intnodes)):\n",
    "    samp[tsktree.node(i).metadata['name']] = i \n",
    "# getting internal node ids from derived samples\n",
    "derint = []\n",
    "for d in dersamp:\n",
    "    u = samp[str(d)]\n",
    "    path = []\n",
    "    v = u\n",
    "    while v != tskit.NULL:\n",
    "        path.append(v)\n",
    "        v = tsktree.first().parent(v)\n",
    "    derint.extend(path[1:])\n",
    "derint = np.unique(derint)\n",
    "# creating an array of a list of events\n",
    "coaltimes = np.zeros((len(intnodes)+1,2),dtype='int32')\n",
    "coaltimes[0,0] = int(float(lines[6].split(' ')[5])*40000)+1\n",
    "coaltimes[0,1] = -1\n",
    "for ii, itn in enumerate(intnodes):\n",
    "    if itn in derint:\n",
    "        coaltimes[ii+1,0] = int(tsktree.nodes_time[itn]*40000)\n",
    "        coaltimes[ii+1,1] = 1\n",
    "    else:\n",
    "        coaltimes[ii+1,0] = int(tsktree.nodes_time[itn]*40000)\n",
    "        coaltimes[ii+1,1] = 0\n",
    "haps = np.zeros((coaltimes[0,0],2),dtype='int16') # -> probably don't need to make this that long, stop at allele age\n",
    "haps[0,:] = [len(dersamp),tsktree.num_samples]\n",
    "for t in range(1,haps.shape[0]):\n",
    "    if t in coaltimes[:,0]:\n",
    "        if coaltimes[t==coaltimes[:,0],1]==0:\n",
    "            haps[t,:] = [haps[t-1,0],haps[t-1,1]-1]\n",
    "        else:\n",
    "            haps[t,:] = [haps[t-1,0]-1,haps[t-1,1]-1]\n",
    "        if haps[t,0]<1:\n",
    "            break\n",
    "    else:\n",
    "        haps[t,:] = haps[t-1,:]\n",
    "haps = haps[0:t,:]\n",
    "\n",
    "plt.plot(haps[:,0],label='derived'); plt.plot(haps[:,1], label='total'); plt.ylabel('# of lineages'); plt.xlabel('gens'); plt.grid(); plt.box(False); plt.legend(); plt.title(r'$\\gamma=50$')"
   ]
  },
  {
   "cell_type": "markdown",
   "metadata": {},
   "source": [
    "### Code to empirically calculate the coalescent probabilities from simulations"
   ]
  },
  {
   "cell_type": "code",
   "execution_count": 2,
   "metadata": {},
   "outputs": [],
   "source": [
    "# age = 600\n",
    "# freqs = np.loadtxt('/Users/vivaswatshastry/selCoefEst/PReFerSims/msselfiles/hapfiles/Freq-220.0.txt')\n",
    "# avgfreq = np.loadtxt('/Users/vivaswatshastry/selCoefEst/PReFerSims/msselfiles/hapfiles/allFreq-220.0.txt',delimiter=',').mean(axis=0)\n",
    "allfreq220 = np.loadtxt('/Users/vivaswatshastry/selCoefEst/PReFerSims/msselfiles/hapfiles/allFreq-220.0.txt',delimiter=',')\n",
    "# coals = np.zeros((1000,10))\n",
    "# for i in range(1,coals.shape[0]+1):\n",
    "#     for c in range(1,coals.shape[1]+1):\n",
    "#         try:\n",
    "#             hap = read_mssel('/Users/vivaswatshastry/selCoefEst/PReFerSims/msselfiles/hapfiles/haps-220.0_{:d}_c{:d}_t{:d}.ms'.format(int(i),int(c),int(age)),3)\n",
    "#             coals[i-1,c-1] = np.max(np.where(hap[:,0]==2)[0])+2 # 1 for 0-indexing & 1 for going one gen back from the last gen that 2 derived alleles were observed\n",
    "#         except: \n",
    "#             coals[i-1,c-1] = np.nan\n",
    "\n",
    "# np.nanmean(sp.stats.binom.pmf(2,3,freqs)*np.nanmean(coals22,axis=1)) # -> mean coalescent time plateaus at 100 traj & 10 trees/traj"
   ]
  },
  {
   "cell_type": "code",
   "execution_count": 604,
   "metadata": {},
   "outputs": [
    {
     "data": {
      "text/plain": [
       "198"
      ]
     },
     "execution_count": 604,
     "metadata": {},
     "output_type": "execute_result"
    }
   ],
   "source": [
    "# sp.stats.binom.pmf(2,3,avgfreq[-1])/np.sum(sp.stats.binom.pmf(range(1,3),3,avgfreq[-1]))\n",
    "# fsa220proj3[-1,2]/np.sum(fsa220proj3[-1,1:-1])"
   ]
  },
  {
   "cell_type": "code",
   "execution_count": 855,
   "metadata": {},
   "outputs": [
    {
     "data": {
      "text/plain": [
       "(1000, 10)"
      ]
     },
     "execution_count": 855,
     "metadata": {},
     "output_type": "execute_result"
    }
   ],
   "source": [
    "# plt.hist(np.nanmean(coals,axis=1),bins=20,alpha=0.8,label='200'); plt.xlabel(r'observed coal. time'); plt.title(r'$a = 1850, n = 3$') \n",
    "# plt.hist(np.nanmean(coals22,axis=1),bins=10,alpha=0.6,label='20'); plt.legend(title=r'$\\gamma$')\n",
    "# plt.hist(np.nanmean(coals0,axis=1),bins=10,alpha=0.4,label='0'); \n",
    "# plt.hist(np.log10(np.loadtxt('/Users/vivaswatshastry/selCoefEst/PReFerSims/msselfiles/hapfiles/Freq-220.0.txt')),bins=10,label='200')\n",
    "# plt.hist(np.log10(freqs),bins=20,label='20',alpha=0.6); plt.legend(title=r'$\\gamma$'); plt.xlabel(r'$\\log_{10}(freq)$')\n",
    "\n",
    "# from statsmodels.distributions.empirical_distribution import ECDF \n",
    "# mask = np.where(~np.isnan(coals))\n",
    "# coal_ecdf = ECDF(np.ravel(coals[mask]*sp.stats.binom.pmf(2,3,freqs[mask[0]]).reshape(-1,1)))\n",
    "# plt.plot(range(1,1851),coal_ecdf(np.arange(1,1851)),color='#e76f51',linewidth=2,label='ECDF');\n",
    "\n",
    "# fsa220 = run_mom_iterate_constant(age, 750, 220/10000, 10000, 200)[::-1]\n",
    "# fsa220[fsa220<0] = 0\n",
    "# fsa220proj3 = np.zeros((fsa220.shape[0],4)); #fsa220proj2 = np.zeros((fsa220.shape[0],3))\n",
    "# for i in range(1,age):\n",
    "#     fsa220proj3[i,:] = moments.Spectrum(fsa220[i,:]).project([3])\n",
    "#     fsa220proj3[i,1:-1] = fsa220proj3[i,1:-1]/np.sum(fsa220proj3[i,1:-1])\n",
    "# #     # fsa220proj2[i,:] = moments.Spectrum(fsa220[i,:]).project([2])\n",
    "# #     # fsa220proj2[i,1:-1] = fsa220proj2[i,1:-1]/np.sum(fsa220proj2[i,1:-1])\n",
    "\n",
    "# plt.figure(dpi=150)\n",
    "# plt.plot(range(1,age),fsa220proj3[1:,1][::-1],color='deepskyblue',label='1/3'); plt.plot(range(1,age),fsa220proj3[1:,2][::-1],color='dodgerblue',label='2/3'); plt.xlabel(r'gens'); plt.ylabel(r'prob. value'); plt.grid(); plt.box(False); plt.xlabel('gens ago'); plt.plot(range(1,age+1),expXl[::-1],color='k',ls='--',alpha=0.8,linewidth=2,label=r'$\\mathbb{E}[X(s)\\mid i_t=2,n_t=3]$'); \n",
    "# plt.plot(range(1,age+1),allfreq.mean(axis=0)[::-1],color='r',ls='--',label='avg. freq. traj.'); plt.legend(); \n",
    "# plt.matshow(fsa220proj[:,1:2][::-1],aspect='auto',cmap='Blues',vmin=0.001); plt.colorbar(); plt.xlabel(r'sample allele freq $i/2$'); plt.ylabel('allele age (gens)'); plt.xticks([0],['1']); \n",
    "# plt.figure(dpi=150)\n",
    "# plt.hist(bins[:-1],bins,weights=0.002*counts,alpha=0.7,color='grey')\n",
    "# plt.plot(range(1,1850),fsa220proj2[1:,1],'#344e41',label=r'1/2'); plt.grid(); plt.box(False); plt.ylim((-0.01,1.01))\n",
    "# plt.plot(range(1,1850),fsa220proj3[1:,1],color='deepskyblue',label='1/3'); plt.plot(range(1,1850),fsa220proj3[1:,2],color='dodgerblue',label='2/3'); plt.xlabel(r'gens'); plt.ylabel(r'prob. value'); plt.legend(loc='upper right'); \n",
    "# plt.plot(range(1,1851),coal_ecdf(np.arange(1,1851)),color='#e76f51',linewidth=2,label='ECDF'); \n",
    "# plt.plot(range(1,1850),1-fsa220proj2[1:1850,1]/fsa220proj3[1:1850,2]/20000,'--',color='#c1121f',label='expected',linewidth=2); \n",
    "# plt.plot(range(1,1851),prob,'--',color='#c1121f',label='expected',linewidth=2); "
   ]
  },
  {
   "cell_type": "code",
   "execution_count": 928,
   "metadata": {},
   "outputs": [
    {
     "data": {
      "text/plain": [
       "(0.40784313725490196, 0.40784313725490196, 0.40784313725490196, 1.0)"
      ]
     },
     "execution_count": 928,
     "metadata": {},
     "output_type": "execute_result"
    }
   ],
   "source": [
    "# expXl = np.zeros(allfreq.shape[1]); kj = np.zeros(allfreq.shape[0])\n",
    "# for t in range(allfreq.shape[1]):\n",
    "#     for i in range(allfreq.shape[0]):\n",
    "#         kj[i] = sp.stats.binom.pmf(range(1,3),3,allfreq[i,t]).sum()/sp.stats.binom.pmf(range(4),3,allfreq[i,t]).sum()\n",
    "#     expXl[t] = np.sum(kj*allfreq[:,t]/np.sum(kj))\n",
    "# plt.plot(expXl[::-1]); plt.plot(allfreq.mean(axis=0)[::-1])]"
   ]
  },
  {
   "cell_type": "code",
   "execution_count": 934,
   "metadata": {},
   "outputs": [
    {
     "data": {
      "image/png": "[encoded data removed]",
      "text/plain": [
       "<Figure size 750x525 with 1 Axes>"
      ]
     },
     "metadata": {},
     "output_type": "display_data"
    }
   ],
   "source": [
    "# show the change in histogram with 100, 200, 500 and 1000 samples...\n",
    "plt.figure(dpi=150)\n",
    "plt.hist(np.ravel(coals[:100,][mask[0][:100]]),cumulative=True,density=True,weights=np.repeat(sp.stats.binom.pmf(2,3,freqs[np.unique(mask[0])][:100]),10),bins=range(0,age+1,1),alpha=0.3,color=plt.get_cmap('Greys',4)(1),label='100'); plt.grid(); plt.box(False); \n",
    "plt.hist(np.ravel(coals[:500,][mask[0][:500]]),cumulative=True,density=True,weights=np.repeat(sp.stats.binom.pmf(2,3,freqs[np.unique(mask[0])][:500]),10),bins=range(0,age+1,1),alpha=0.3,color=plt.get_cmap('Greys',4)(2),label='500');\n",
    "plt.hist(np.ravel(coals[mask]),cumulative=True,density=True,weights=np.repeat(sp.stats.binom.pmf(2,3,freqs[np.unique(mask[0])]),10),bins=range(0,age+1,1),alpha=0.3,color=plt.get_cmap('Greys',4)(3),label='1000');\n",
    "plt.plot(range(1,age+1),prob,color='#800f2f',linewidth=2,ls='--',label=r'expected rate $\\gamma=200$',alpha=0.8); plt.legend(title='# of samples',loc='upper left'); "
   ]
  },
  {
   "cell_type": "code",
   "execution_count": 902,
   "metadata": {},
   "outputs": [
    {
     "data": {
      "image/png": "[encoded data removed]",
      "text/plain": [
       "<Figure size 750x525 with 1 Axes>"
      ]
     },
     "metadata": {},
     "output_type": "display_data"
    }
   ],
   "source": [
    "prob = calc_genexp_constant(age, np.log10(220/10000), 400, 10000)\n",
    "# prob22 = calc_genexp_constant(1850, np.log10(22/20000), 250, 10000)\n",
    "# probn22 = calc_genexp_constant(1850, np.log10(22/20000), 250, 10000)\n",
    "# prob0 = calc_genexp_constant(1850, -6, 250, 10000)\n",
    "# (counts, bins) = np.histogram(np.ravel(coals[mask]),weights=sp.stats.binom.pmf(2,3,freqs[mask[0]]),density=True,bins=range(0,,30))\n",
    "# plt.hist(bins[:-1],bins,weights=counts,alpha=0.7,color='grey')\n",
    "plt.figure(dpi=150)\n",
    "plt.hist(np.ravel(coals[mask]),cumulative=True,density=True,weights=np.repeat(sp.stats.binom.pmf(2,3,freqs[np.unique(mask[0])]),10),bins=range(0,age+1,1),alpha=0.4,color='grey',label='cumulative hist.'); plt.grid(); plt.box(False); plt.xlabel('gens ago'); \n",
    "# plt.hist(np.ravel(coals[mask]),cumulative=True,density=True,bins=range(0,age+1,2),alpha=0.4,color='grey',label='cumulative hist.'); plt.grid(); plt.box(False); plt.xlabel('gens ago'); \n",
    "# plt.plot(range(1,1851),allfreq.mean(axis=0),color='#DE7C5A',linewidth=2,ls='--',label=r'$P(i=2\\mid n=3, seg., X(t))$');  plt.legend()\n",
    "plt.plot(range(1,age+1),prob,color='#800f2f',linewidth=2,ls='--',label=r'expected rate $\\gamma=200$',alpha=0.8); plt.legend(loc='upper left'); #plt.plot(range(1,1851),fsa220proj3[:,2],color='#B10F2E',linewidth=2,ls='--')\n",
    "# plt.plot(range(1,1851),prob22,color='#ff4d6d',linewidth=2,ls='--',label=r'expected, $\\gamma=20$'); plt.plot(range(1,1851),probn22,color='#ff4d6d',linewidth=2,ls=':',label=r'expected, $\\gamma=-20$'); plt.plot(range(1,1851),prob0,color='#ffb3c1',alpha=0.5,linewidth=2,ls='--',label=r'expected, $\\gamma=0$'); "
   ]
  },
  {
   "cell_type": "code",
   "execution_count": 901,
   "metadata": {},
   "outputs": [],
   "source": [
    "def calc_genexp_constant(a, s, n, N):\n",
    "    s = 10**s\n",
    "    fsa = run_mom_iterate_constant(a+1, n, s, N, 400)\n",
    "    fsa[fsa<0] = 0\n",
    "    \n",
    "    prob = np.zeros(a)\n",
    "    rCA = np.zeros(a)\n",
    "\n",
    "    # for t = 0: (present generation)\n",
    "    fsprojn = moments.Spectrum(fsa[0,:]).project([3])\n",
    "    fsprojn[1:-1] = fsprojn[1:-1]/fsprojn[1:-1].sum()\n",
    "    rCA[0] = 1/fsprojn[2]/N\n",
    "    prob[0] = rCA[0]\n",
    "\n",
    "    for t in range(1,a):\n",
    "        ## compute coalescent rates \n",
    "        # fsprojn = moments.Spectrum(fsa[t-1,:]).project([3])\n",
    "        fsprojn = moments.Spectrum(fsa[t,:]).project([3])\n",
    "        fsprojn[1:-1] = fsprojn[1:-1]/fsprojn[1:-1].sum()\n",
    "\n",
    "        ## basically want fsprojn[2] = avgfreq[-t]\n",
    "        rCA[t] = 1/fsprojn[2]/N \n",
    "        # prob[t] = rCA[t]*np.prod(1-rCA[1:t])\n",
    "        prob[t] = 1 - np.prod(1-rCA[:t])\n",
    "\n",
    "    return prob\n",
    "    # return -np.sum(np.log(prob))"
   ]
  },
  {
   "cell_type": "code",
   "execution_count": 92,
   "metadata": {},
   "outputs": [],
   "source": [
    "def calc_genlik_constant(s, n, N, haps):\n",
    "    s = 10**s\n",
    "    # print(s)\n",
    "    fsa = run_mom_iterate_constant(10*len(haps)+1, n, s, N, 400)\n",
    "    fsa[fsa<0] = 0\n",
    "\n",
    "    logprob = np.zeros(len(haps))\n",
    "    rCa = np.zeros(len(haps)); rCA = np.zeros(len(haps))\n",
    "\n",
    "    fsT = np.zeros(fsa.shape[0])\n",
    "\n",
    "    for t in range(0,len(haps)-1):\n",
    "        fsT[t] = moments.Spectrum(fsa[t,:]).project([haps[0][1]])[haps[0][0]]\n",
    "        # fsT[t] = project(fsa[t,:], n, haps[0][1])[haps[0][0]]\n",
    "\n",
    "        ## compute coalescent rates \n",
    "        fsprojn = moments.Spectrum(fsa[t,:]).project([haps[t][1]]) # P_{t}(n_{t})\n",
    "        # fsprojn = project(fsa[t,:], n, haps[t][1]) \n",
    "        fsprojn[1:-1] = fsprojn[1:-1]/fsprojn[1:-1].sum()\n",
    "\n",
    "        fsprojntp1 = moments.Spectrum(fsa[t+1,:]).project([haps[t][1]-1]) # P_{t+1}(n_{t}-1)\n",
    "        # fsprojntp1 = project(fsa[t+1,:], n, haps[t][1]-1)\n",
    "        fsprojntp1[1:-1] = fsprojntp1[1:-1]/fsprojntp1[1:-1].sum()\n",
    "        \n",
    "        if haps[t][0] > 1:\n",
    "            rCA[t] = haps[t][0]*(haps[t][0]-1)/2 * fsprojntp1[haps[t][0]-1]/fsprojn[haps[t][0]] * 1/N \n",
    "            # rCA[t] = fsprojntp1[haps[t][0]-1]/fsprojn[haps[t][0]]\n",
    "        rCa[t] = (haps[t][1]-haps[t][0])*(haps[t][1]-haps[t][0]-1)/2 * fsprojntp1[haps[t][1]-haps[t][0]-1]/fsprojn[haps[t][1]-haps[t][0]] * 1/N\n",
    "        # rCa[t] = fsprojntp1[haps[t][1]-haps[t][0]-1]/fsprojn[haps[t][1]-haps[t][0]] \n",
    "\n",
    "        if (haps[t,:] == haps[t+1,:]).all():\n",
    "            logprob[t] = np.log(1 - rCA[t] - rCa[t]) ## -> this is close to 1, so can ignore this calculation and only do the step when it changes\n",
    "        elif haps[t,0] == (haps[t+1,0] + 1):\n",
    "            logprob[t] = np.log(rCA[t]) #sp.stats.expon.logpdf(1,loc=0,scale=1/rCA[t]) -> both quantities are the same since rCa/A<<1\n",
    "        else:\n",
    "            logprob[t] = np.log(rCa[t]) #sp.stats.expon.logpdf(1,loc=0,scale=1/rCa[t])\n",
    "\n",
    "    for t in range(len(haps),10*len(haps)):\n",
    "        # print(t,end=',')\n",
    "        fsT[t] = moments.Spectrum(fsa[t,:]).project([haps[0][1]])[haps[0][0]]\n",
    "        # fsT[t] = project(fsa[t,:], n, haps[0][1])[haps[0][0]]\n",
    "\n",
    "    logprob[len(haps)-1] = np.log(fsT[-len(haps)]/fsT.sum())\n",
    "\n",
    "    return [rCa[:-1], rCA[:-1], logprob]\n",
    "    # return -np.nansum(logprob[:-1])"
   ]
  },
  {
   "cell_type": "code",
   "execution_count": 527,
   "metadata": {},
   "outputs": [],
   "source": [
    "def calc_genlik_constant_brlen(s, n, N, haps, brlen):\n",
    "    s = 10**s\n",
    "    # print(s)\n",
    "    if brlen[1] < brlen[0]:\n",
    "        brlen = brlen[::-1]\n",
    "        \n",
    "    fsabig = run_mom_iterate_constant(20*len(haps)+1, n, s, N, 400) \n",
    "    fsabig[fsabig<0] = 0\n",
    "\n",
    "    logprobt = np.zeros(int(brlen[1]-brlen[0]+2))\n",
    "\n",
    "    ## takes about 12s for 20 gens with 2n=100\n",
    "    for T in range(brlen[0],brlen[1]+1):\n",
    "        print(T,end=', ')\n",
    "        fsa = run_mom_iterate_constant(T+1, n, s, N, 400) \n",
    "        fsa[fsa<0] = 0\n",
    "\n",
    "        logprob = np.zeros(T)\n",
    "        rCa = np.zeros(T); rCA = np.zeros(T)\n",
    "\n",
    "        fsT = np.zeros(fsa.shape[0])\n",
    "\n",
    "        for t in range(0,T-1):\n",
    "            fsT[t] = moments.Spectrum(fsa[t,:]).project([haps[0][1]])[haps[0][0]]\n",
    "            ## compute coalescent rates \n",
    "            fsprojn = moments.Spectrum(fsa[t,:]).project([haps[t][1]]) # P_{t}(n_{t})\n",
    "            fsprojn[1:-1] = fsprojn[1:-1]/fsprojn[1:-1].sum()\n",
    "\n",
    "            fsprojntp1 = moments.Spectrum(fsa[t+1,:]).project([haps[t][1]-1]) # P_{t+1}(n_{t}-1)\n",
    "            fsprojntp1[1:-1] = fsprojntp1[1:-1]/fsprojntp1[1:-1].sum()\n",
    "            \n",
    "            if haps[t][0] > 1:\n",
    "                rCA[t] = haps[t][0]*(haps[t][0]-1)/2 * fsprojntp1[haps[t][0]-1]/fsprojn[haps[t][0]] * 1/N \n",
    "                # rCA[t] = fsprojntp1[haps[t][0]-1]/fsprojn[haps[t][0]]\n",
    "            rCa[t] = (haps[t][1]-haps[t][0])*(haps[t][1]-haps[t][0]-1)/2 * fsprojntp1[haps[t][1]-haps[t][0]-1]/fsprojn[haps[t][1]-haps[t][0]] * 1/N\n",
    "            # rCa[t] = fsprojntp1[haps[t][1]-haps[t][0]-1]/fsprojn[haps[t][1]-haps[t][0]] \n",
    "\n",
    "            if (haps[t,:] == haps[t+1,:]).all():\n",
    "                logprob[t] = np.log(1 - rCA[t] - rCa[t])\n",
    "            elif haps[t,0] == (haps[t+1,0] + 1):\n",
    "                logprob[t] = np.log(rCA[t]) #sp.stats.expon.logpdf(1,loc=0,scale=1/rCA[t]) -> both quantities are the same since rCa/A<<1\n",
    "            else:\n",
    "                logprob[t] = np.log(rCa[t]) #sp.stats.expon.logpdf(1,loc=0,scale=1/rCa[t])\n",
    "\n",
    "        logprobt[T-brlen[0]] = np.sum(logprob)\n",
    "\n",
    "    plt.plot(range(brlen[0],brlen[1]+1), -logprobt[:-1], '-bo'); plt.xlabel('age of mutation'); #plt.ylabel(r'$\\ell$')   \n",
    "     \n",
    "    fsT = np.zeros(fsabig.shape[0])\n",
    "    for t in range(1,fsabig.shape[0]):\n",
    "        fsT[t] = moments.Spectrum(fsabig[t,:]).project([haps[0][1]])[haps[0][0]]\n",
    "\n",
    "    ## P(T | {T_l, T_u}) x P({T_l, T_u} | s)\n",
    "    ## takes about 10s for 20 generations with 2n=100 \n",
    "    print(np.log(fsT[-brlen[1]:-brlen[0]].sum()/fsT.sum()))\n",
    "    logprobt[-1] += np.log(1/(brlen[1]-brlen[0])) + np.log(fsT[-brlen[1]:-brlen[0]].sum()/fsT.sum())\n",
    "\n",
    "    return logprobt\n",
    "    # return -np.nansum(logprob[:-1])"
   ]
  },
  {
   "cell_type": "code",
   "execution_count": 223,
   "metadata": {},
   "outputs": [],
   "source": [
    "def calc_genlik_changing(s, n, N, haps):\n",
    "    s = 10**s\n",
    "    # print(s)\n",
    "    t0 = time.time()\n",
    "    fsa = run_mom_iterate_changing5(n, s, N, 400)\n",
    "    fsa[fsa<0] = 0\n",
    "    t1 = time.time()\n",
    "    print(t1-t0)\n",
    "\n",
    "    t0 = time.time()\n",
    "    logprob = np.zeros(len(haps))\n",
    "    rCa = np.zeros(len(haps)); rCA = np.zeros(len(haps))\n",
    "\n",
    "    fsT = np.zeros(fsa.shape[0])\n",
    "\n",
    "    for t in range(0,len(haps)-1):\n",
    "        # print(t)\n",
    "        fsT[t] = moments.Spectrum(fsa[t,:]).project([haps[0][1]])[haps[0][0]]\n",
    "        ## compute coalescent rates \n",
    "        fsprojn = moments.Spectrum(fsa[t,:]).project([haps[t][1]]) # P_{t}(n_{t})\n",
    "        fsprojn[1:-1] = fsprojn[1:-1]/fsprojn[1:-1].sum()\n",
    "\n",
    "        fsprojntp1 = moments.Spectrum(fsa[t+1,:]).project([haps[t][1]-1]) # P_{t+1}(n_{t}-1)\n",
    "        fsprojntp1[1:-1] = fsprojntp1[1:-1]/fsprojntp1[1:-1].sum()\n",
    "        \n",
    "        if haps[t][0] > 1:\n",
    "            rCA[t] = haps[t][0]*(haps[t][0]-1)/2 * fsprojntp1[haps[t][0]-1]/fsprojn[haps[t][0]] * 1/N[t] \n",
    "            # rCA[t] = fsprojntp1[haps[t][0]-1]/fsprojn[haps[t][0]]\n",
    "        rCa[t] = (haps[t][1]-haps[t][0])*(haps[t][1]-haps[t][0]-1)/2 * fsprojntp1[haps[t][1]-haps[t][0]-1]/fsprojn[haps[t][1]-haps[t][0]] * 1/N[t]\n",
    "        # rCa[t] = fsprojntp1[haps[t][1]-haps[t][0]-1]/fsprojn[haps[t][1]-haps[t][0]] \n",
    "\n",
    "        if (haps[t,:] == haps[t+1,:]).all():\n",
    "            logprob[t] = np.log(1 - rCA[t] - rCa[t])\n",
    "        elif haps[t,0] == (haps[t+1,0] + 1):\n",
    "            logprob[t] = np.log(rCA[t]) #sp.stats.expon.logpdf(1,loc=0,scale=1/rCA[t]) -> both quantities are the same since rCa/A<<1\n",
    "        else:\n",
    "            logprob[t] = np.log(rCa[t]) #sp.stats.expon.logpdf(1,loc=0,scale=1/rCa[t])\n",
    "    t1 = time.time()\n",
    "    print(t1-t0)\n",
    "\n",
    "    t0 = time.time()\n",
    "    for t in range(len(haps),len(N)-1):\n",
    "        fsT[t] = moments.Spectrum(fsa[t,:]).project([haps[0][1]])[haps[0][0]]\n",
    "\n",
    "    logprob[len(haps)-1] = np.log(fsT[-len(haps)]/fsT.sum())\n",
    "    t1 = time.time()\n",
    "    print(t1-t0)\n",
    "\n",
    "    return [rCa[:-1], rCA[:-1], logprob]"
   ]
  },
  {
   "cell_type": "code",
   "execution_count": 239,
   "metadata": {},
   "outputs": [],
   "source": [
    "def calc_genlik_changing_coal(s, n, coalfile, haps):\n",
    "    s = 10**s\n",
    "    # print(s)\n",
    "\n",
    "    # creating an N vector using the coalescent rates from Relate\n",
    "    coal = pd.read_csv(coalfile)\n",
    "    epochs = np.array(coal.iloc[0,0].split(' ')[:-1],dtype='float')\n",
    "    Neff = 0.5/np.array(coal.iloc[1,0].split(' ')[2:-1],dtype='float') # -> from Relate documentation\n",
    "\n",
    "    ## check this code by plotting it again\n",
    "    N = np.zeros(len(haps))\n",
    "    N[:int(epochs[1])] = Neff[0]\n",
    "    for ep in range(1,np.max(np.where(epochs<3000))):\n",
    "        N[int(epochs[ep]):int(epochs[ep+1])] = Neff[ep-1]\n",
    "    # N[int(epochs[np.max(np.where(epochs<len(haps)))]):len(haps)] = Neff[ep]\n",
    "    N = N[::-1]\n",
    "\n",
    "    fsa = run_mom_iterate_changing5(n, s, N, 400)\n",
    "    fsa[fsa<0] = 0\n",
    "\n",
    "    logprob = np.zeros(len(haps))\n",
    "    rCa = np.zeros(len(haps)); rCA = np.zeros(len(haps))\n",
    "\n",
    "    fsT = np.zeros(fsa.shape[0])\n",
    "\n",
    "    for t in range(0,len(haps)-1):\n",
    "        # print(t)\n",
    "        fsT[t] = moments.Spectrum(fsa[t,:]).project([haps[0][1]])[haps[0][0]]\n",
    "        ## compute coalescent rates \n",
    "        fsprojn = moments.Spectrum(fsa[t,:]).project([haps[t][1]]) # P_{t}(n_{t})\n",
    "        fsprojn[1:-1] = fsprojn[1:-1]/fsprojn[1:-1].sum()\n",
    "\n",
    "        fsprojntp1 = moments.Spectrum(fsa[t+1,:]).project([haps[t][1]-1]) # P_{t+1}(n_{t}-1)\n",
    "        fsprojntp1[1:-1] = fsprojntp1[1:-1]/fsprojntp1[1:-1].sum()\n",
    "        \n",
    "        if haps[t][0] > 1:\n",
    "            rCA[t] = haps[t][0]*(haps[t][0]-1)/2 * fsprojntp1[haps[t][0]-1]/fsprojn[haps[t][0]] * 1/N[t] \n",
    "            # rCA[t] = fsprojntp1[haps[t][0]-1]/fsprojn[haps[t][0]]\n",
    "        rCa[t] = (haps[t][1]-haps[t][0])*(haps[t][1]-haps[t][0]-1)/2 * fsprojntp1[haps[t][1]-haps[t][0]-1]/fsprojn[haps[t][1]-haps[t][0]] * 1/N[t]\n",
    "        # rCa[t] = fsprojntp1[haps[t][1]-haps[t][0]-1]/fsprojn[haps[t][1]-haps[t][0]] \n",
    "\n",
    "        if (haps[t,:] == haps[t+1,:]).all():\n",
    "            logprob[t] = np.log(1 - rCA[t] - rCa[t])\n",
    "        elif haps[t,0] == (haps[t+1,0] + 1):\n",
    "            logprob[t] = np.log(rCA[t]) #sp.stats.expon.logpdf(1,loc=0,scale=1/rCA[t]) -> both quantities are the same since rCa/A<<1\n",
    "        else:\n",
    "            logprob[t] = np.log(rCa[t]) #sp.stats.expon.logpdf(1,loc=0,scale=1/rCa[t])\n",
    "\n",
    "    for t in range(len(haps),len(N)-1):\n",
    "        fsT[t] = moments.Spectrum(fsa[t,:]).project([haps[0][1]])[haps[0][0]]\n",
    "\n",
    "    logprob[len(haps)-1] = np.log(fsT[-len(haps)]/fsT.sum())\n",
    "\n",
    "    return [rCa[:-1], rCA[:-1], logprob]"
   ]
  },
  {
   "cell_type": "code",
   "execution_count": 11,
   "metadata": {},
   "outputs": [],
   "source": [
    "## speeding up the project code using simple funcs\n",
    "from scipy.special import gammaln ## gammaln(N + 1) - gammaln(k + 1) - gammaln(N - k + 1)\n",
    "lncomb = lambda N, k: gammaln(N + 1) - gammaln(k + 1) - gammaln(N - k + 1)\n",
    "projection_cache = {}\n",
    "def project(data, proj_from, proj_to):\n",
    "    out = np.zeros(proj_to+1)\n",
    "    # saves very little time ignoring the small entries using np.where(data>1e-8)[0]\n",
    "    for hits in range(proj_from + 1): \n",
    "        from_slice = slice(hits,hits+1)\n",
    "        least, most = max(proj_to - (proj_from - hits), 0), min(hits, proj_to)\n",
    "        # print(least, most)\n",
    "        to_slice = slice(least, most + 1)\n",
    "        proj_hits = np.arange(proj_to + 1)\n",
    "        try: \n",
    "            proj = projection_cache[(proj_to, proj_from, hits)]\n",
    "        except KeyError:\n",
    "            lncontrib = lncomb(proj_to, proj_hits)\n",
    "            lncontrib += lncomb(proj_from - proj_to, hits - proj_hits)\n",
    "            lncontrib -= lncomb(proj_from, hits)\n",
    "            proj = np.exp(lncontrib)\n",
    "            projection_cache[(proj_to, proj_from, hits)] = np.exp(lncontrib)        \n",
    "        proj_slice = slice(least, most + 1)\n",
    "        out[to_slice] += data[from_slice] * proj[proj_slice]\n",
    "    return out"
   ]
  },
  {
   "cell_type": "code",
   "execution_count": 426,
   "metadata": {},
   "outputs": [
    {
     "name": "stdout",
     "output_type": "stream",
     "text": [
      "CPU times: user 406 ms, sys: 5.5 ms, total: 411 ms\n",
      "Wall time: 411 ms\n",
      "CPU times: user 231 ms, sys: 5.71 ms, total: 237 ms\n",
      "Wall time: 236 ms\n"
     ]
    },
    {
     "data": {
      "text/plain": [
       "[<matplotlib.lines.Line2D at 0x29c61aa70>]"
      ]
     },
     "execution_count": 426,
     "metadata": {},
     "output_type": "execute_result"
    },
    {
     "data": {
      "image/png": "[encoded data removed]",
      "text/plain": [
       "<Figure size 550x385 with 1 Axes>"
      ]
     },
     "metadata": {},
     "output_type": "display_data"
    }
   ],
   "source": [
    "# %time fsf = moments.LinearSystem_1D.steady_state_1D(600, gamma=50, theta=400)\n",
    "# fsf = moments.Spectrum(fsf)\n",
    "# fsf.integrate([1], 0.1, gamma=50, dt_fac=0.0005, theta=400)\n",
    "# %time moments.Integration_nomig.integrate_nomig(fsf.data, [1], 0.1, gamma=50, theta=400, dt_fac=1e-4)\n",
    "# fsf = fsf.project([100])\n",
    "# moments.Plotting.plot_1d_fs(fsf)\n",
    "# %time sfas = moments.Integration_nomig.integrate_nomig_viv(fsf.data, [1], 1, gamma=50, theta=400, dt_fac=1.001e-4)\n",
    "# plt.plot(sfas[0][1:-1], sfas[100][1:-1], 'ko');  plt.axline((10,10),slope=1); plt.loglog();\n",
    "\n",
    "# fsf = moments.LinearSystem_1D.steady_state_1D(500, gamma=25, theta=400)\n",
    "# sfas = moments.Integration_nomig.integrate_nomig_viv(fsf.data, [1], 1, gamma=25, theta=400, dt_fac=1.001e-4)\n",
    "# %time age, _ = moments.Integration_nomig.calculate_page_condi(sfas, 50, [1], 1, gamma=25, theta=400, dt_fac=1.001e-4)\n",
    "\n",
    "# %time fsa = run_mom_iterate_constant(10000,500,50/10000,5000,400)[::-1]\n",
    "\n",
    "# plt.plot(np.array(age)/np.array(age).sum()); plt.plot(fsa[:,50]/fsa[:,50].sum(),ls='--')"
   ]
  },
  {
   "cell_type": "code",
   "execution_count": 357,
   "metadata": {},
   "outputs": [
    {
     "data": {
      "text/plain": [
       "(2501,)"
      ]
     },
     "execution_count": 357,
     "metadata": {},
     "output_type": "execute_result"
    }
   ],
   "source": [
    "# sfas = np.append(sfas,moments.Integration_nomig.integrate_nomig_viv(fsf.data, [1.], .25, gamma=5, dt_fac=1.001e-3, theta=400), axis=0)\n",
    "# age.shape, sfas.shape\n",
    "# age2.shape, sfas2.shape, age.shape, sfas.shape\n",
    "# plt.plot(np.append(age,age2)/np.sum(np.append(age,age2)))\n",
    "age.shape"
   ]
  },
  {
   "cell_type": "code",
   "execution_count": 442,
   "metadata": {},
   "outputs": [
    {
     "data": {
      "text/plain": [
       "[]"
      ]
     },
     "execution_count": 442,
     "metadata": {},
     "output_type": "execute_result"
    },
    {
     "data": {
      "image/png": "[encoded data removed]",
      "text/plain": [
       "<Figure size 550x385 with 1 Axes>"
      ]
     },
     "metadata": {},
     "output_type": "display_data"
    }
   ],
   "source": [
    "# Nc = np.concatenate((np.repeat(2000,500),np.repeat(1000,2000)))\n",
    "fsf = moments.Spectrum(moments.LinearSystem_1D.steady_state_1D(500, gamma=5))*400\n",
    "sfas = moments.Integration_nomig.integrate_nomig_viv(fsf.data, [2.], 2, gamma=5, dt_fac=.5001e-3, theta=400)\n",
    "age, X1 = moments.Integration_nomig.calculate_page_condi(sfas, 50, [2.], 2, gamma=5, dt_fac=.5001e-3, theta=400)\n",
    "# ### # sfas = np.append(sfas,moments.Integration_nomig.integrate_nomig_viv(sfas[-1], [2.], .25, gamma=5, dt_fac=1.001e-3, theta=400), axis=0)\n",
    "sfas2 = moments.Integration_nomig.integrate_nomig_viv(sfas[-1], [4.], .5, gamma=5, dt_fac=2.001e-3, theta=200)\n",
    "age, _ = moments.Integration_nomig.calculate_page_condi(sfas2, age, [4.], .5, gamma=5, dt_fac=2.001e-3, theta=400, X1=X1)\n",
    "\n",
    "# %time fsa2 = run_mom_iterate_changing5(500, 10/1000, Nc[::-1], 400)\n",
    "# plt.imshow(np.log10(fsa2), cmap='OrRd', aspect='auto', vmin=-6); plt.colorbar()\n",
    "\n",
    "plt.plot(np.array(age)[::-1]/np.sum(np.array(age))); plt.plot(fsa2[::-1][:,50]/fsa2[:,50].sum(),ls='--'); plt.grid(); plt.semilogy()"
   ]
  },
  {
   "cell_type": "code",
   "execution_count": 338,
   "metadata": {},
   "outputs": [],
   "source": [
    "def calc_age_SFAS(n, s, Nc, theta):\n",
    "    fsf = moments.LinearSystem_1D.steady_state_1D(2000, gamma=s*Nc[0], theta=theta)\n",
    "    fsf = moments.Spectrum(fsf)\n",
    "    fsf = fsf.project([n])\n",
    "    # fsf.integrate([1], 1, gamma=s*Nc, dt_fac=0.0005, theta=theta)\n",
    "    sfas = moments.Integration_nomig.integrate_nomig_viv(fsf.data, [1], 1, gamma=5, theta=400, dt_fac=1.001e-2)\n",
    "    # P0 = fsf.project([n])\n",
    "\n",
    "    # fst = run_mom_iterate_constant(10000, 100, 5/10000, 10000, 400)\n",
    "    # X1 = Q(R.dot(P0 - m0))\n",
    "\n",
    "    # m1 = deepcopy(m0)\n",
    "    # m1[1] = n*0.25*theta * X1[1]/P1[1]\n",
    "    # X2 = Q(R.dot(X1 - m1))\n",
    "\n",
    "    Tmax = len(Nc)+1\n",
    "\n",
    "    B = np.array([0] + [n*theta*0.25/Nc[0]] + [0]*(n-1))\n",
    "    J = calcJK13(n)\n",
    "    S = 0.5 * s * calcS(n+1, J)\n",
    "    D = 0.25/Nc[0] * calcD(n+1)\n",
    "    Q = sp.sparse.identity(n+1, dtype=\"float\", format=\"csc\") - 0.5 * (D + S)\n",
    "    R = linalg.factorized(sp.sparse.identity(n+1, dtype=\"float\", format=\"csc\") + 0.5 * (D + S))\n",
    "\n",
    "    sfas = np.zeros((Tmax,n+1))\n",
    "    sfas[-Tmax] = fsf\n",
    "    # print(sfas[-Tmax])\n",
    "\n",
    "    for t in np.arange(Tmax)[::-1]:\n",
    "        sfas[-t] = R(Q.dot(sfas[-t-1]) + B)\n",
    "\n",
    "    return sfas"
   ]
  },
  {
   "cell_type": "code",
   "execution_count": 136,
   "metadata": {},
   "outputs": [
    {
     "data": {
      "text/plain": [
       "[<matplotlib.lines.Line2D at 0x168348910>]"
      ]
     },
     "execution_count": 136,
     "metadata": {},
     "output_type": "execute_result"
    },
    {
     "data": {
      "image/png": "[encoded data removed]",
      "text/plain": [
       "<Figure size 550x385 with 1 Axes>"
      ]
     },
     "metadata": {},
     "output_type": "display_data"
    }
   ],
   "source": [
    "# sfas = calc_age_SFAS(1000, 1e-9, np.ones(1000)*10000, 400)\n",
    "# %time fsa = run_mom_iterate_constant(10000, 2000, 1e-4, 10000, 400)\n",
    "# plt.imshow(np.log10(sfas), cmap='OrRd', aspect='auto'); plt.colorbar()"
   ]
  },
  {
   "cell_type": "code",
   "execution_count": 250,
   "metadata": {},
   "outputs": [],
   "source": [
    "# J = calcJK13(100)\n",
    "# S = 0.5 * 0.001 * calcS(100+1, J)\n",
    "# D = 0.25/Nc[0] * calcD(100+1)\n",
    "# slv = linalg.factorized(sp.sparse.identity(S.shape[0], dtype=\"float\", format=\"csc\") - 0.5 * (D + S))\n",
    "# Q = sp.sparse.identity(S.shape[0], dtype=\"float\", format=\"csc\") + 0.5 * (D + S)\n",
    "# slv(Q.dot(fsa4[3,])) @ np.array([0]+[100*0.25*400]+[0]*(100-1)), fsa4[4,]\n",
    "# fsa5[1,]@slv(Q.toarray()), fsa4[2,]\n",
    "# plt.plot(Q.dot(np.array([0]+[100*0.25*400]+[0]*(100-1))))\n",
    "# from numba import typeof\n",
    "# initvec = np.zeros(100+1); initvec[1] = 100*0.25*200\n",
    "# changepoints = np.concatenate((np.array([0]),np.where(Nc[:-1] != Nc[1:])[0]+1),axis=0) \n",
    "# plt.imshow(slv(Q.toarray())); plt.colorbar()\n",
    "\n",
    "# coal = pd.read_csv('/Users/vivaswatshastry/selCoefEst/PReFerSims/msselfiles/example_Neff.coal')\n",
    "# epochs = np.array(coal.iloc[0,0].split(' ')[:-1],dtype='float')\n",
    "# Neff = 0.5/np.array(coal.iloc[1,0].split(' ')[2:-1],dtype='float')\n",
    "# N = np.zeros(len(haps))\n",
    "# N[:int(epochs[1])] = Neff[0]\n",
    "# for ep in range(1,np.max(np.where(epochs<len(haps)))):\n",
    "#     N[int(epochs[ep]):int(epochs[ep+1])] = Neff[ep-1]\n",
    "# N[int(epochs[np.max(np.where(epochs<len(haps)))]):len(haps)] = Neff[ep]\n",
    "# plt.plot(N[::-1])\n",
    "# plt.imshow(np.log10(run_mom_iterate_changing5(200, 1e-6, Nc[:2500], 400)[::-1]),aspect='auto',cmap='OrRd',vmin=-6)\n",
    "# rCa, rCA, lp = calc_genlik_changing_coal(-4,300,'/Users/vivaswatshastry/selCoefEst/PReFerSims/msselfiles/example_Neff.coal',haps)\n",
    "# import time \n",
    "# for n in [100,200,400]:\n",
    "#     for lenNc in [600,1200,3000]:\n",
    "#         for lenhaps in [300,600]:\n",
    "#             print(n,lenNc,lenhaps)\n",
    "#             calc_genlik_changing(-5, n, Nc[:haps], haps[:lenhaps])"
   ]
  },
  {
   "cell_type": "code",
   "execution_count": 131,
   "metadata": {},
   "outputs": [
    {
     "data": {
      "text/plain": [
       "<matplotlib.legend.Legend at 0x14d44d090>"
      ]
     },
     "execution_count": 131,
     "metadata": {},
     "output_type": "execute_result"
    },
    {
     "data": {
      "image/png": "[encoded data removed]",
      "text/plain": [
       "<Figure size 1000x700 with 1 Axes>"
      ]
     },
     "metadata": {},
     "output_type": "display_data"
    }
   ],
   "source": [
    "# %timeit proj = project(fsa[1,], 100, 80) \n",
    "# %timeit proj = moments.Spectrum(fsa[1,]).project([80])\n",
    "# proj, fsa[1,], \n",
    "# %time calc_genlik_constant(-2.5, 200, 10000, haps)\n",
    "# %timeit \n",
    "# fsa = run_mom_iterate_constant(20000,100,0.0005,10000,400)\n",
    "# plt.figure(dpi=200); plt.box(False)\n",
    "# plt.imshow(np.log10(fsa),aspect='auto',cmap='OrRd',vmin=-7); plt.xticks([1,10,99],labels=['1','10','100']); \n",
    "# plt.yticks([0,5000,10000,20000],labels=['0','N/2','N','2N'])\n",
    "# plt.figure(dpi=200); plt.box(False);\n",
    "# plt.bar(x=range(1,100),height=fsa[-100,1:-1]/fsa[-100,1:-1].sum(),color='grey',alpha=0.8); plt.xticks([1,10,99],labels=['1','10','100']); plt.yticks(ticks=[0,0.5,1],labels=['0','0.5','1'])\n",
    "# plt.figure(dpi=200); plt.box(False)\n",
    "# plt.plot(fsa[:,5]/fsa[:,5].sum(),color=plt.get_cmap('OrRd',3)(2),linewidth=3,alpha=0.8,label='5%'); plt.plot(fsa[:,20]/fsa[:,20].sum(),linewidth=3,color=plt.get_cmap('OrRd',3)(1),alpha=0.8,label='20%'); plt.plot(fsa[:,50]/fsa[:,50].sum(),color='yellow',linewidth=3,alpha=0.8,label='50%'); plt.legend(title='sample freq.')\n",
    "# np.where(fsa[300,:]>1e-8)\n",
    "# from mom_functions import run_mom_iterate_changing6\n",
    "# %time fsa4 = run_mom_iterate_changing4(1000, 0.001, Nc[:1500]/2, 400)\n",
    "# fsa[fsa<0] = 0\n",
    "# %time fsa5 = run_mom_iterate_changing5(1000, 0.001, Nc[:1500]/2, 400) #6.42s\n",
    "# plt.imshow(fsa4[::-1],cmap='OrRd',aspect='auto',norm=colors.LogNorm(vmin=1e-10)); plt.colorbar(); plt.show()\n",
    "# plt.imshow(fsa5,cmap='OrRd',aspect='auto',norm=colors.LogNorm(vmin=1e-10)); plt.colorbar(); plt.show()\n",
    "# plt.imshow(fsa4[::-1]-fsa5,cmap='RdBu',aspect='auto',); plt.colorbar()\n",
    "# np.max(np.where(changepoints-Nc[0]<=0)[0]) \n",
    "# np.where(fsa[170,:]<0)"
   ]
  },
  {
   "cell_type": "code",
   "execution_count": 91,
   "metadata": {},
   "outputs": [
    {
     "data": {
      "image/png": "[encoded data removed]",
      "text/plain": [
       "<Figure size 550x385 with 1 Axes>"
      ]
     },
     "metadata": {},
     "output_type": "display_data"
    }
   ],
   "source": [
    "# rCa, rCA, lp = calc_genlik_constant(np.log10(0.05),600,10000,haps)\n",
    "# plt.figure(dpi=150)\n",
    "# plt.plot(rCa,color='coral',label=r'$r(C_a)$',ls='--'); plt.plot(rCA,color='olive',ls='-.',label=r'$r(C_A)$'); plt.box(False); [plt.axvline(t,color='k',alpha=0.6,linewidth=0.8) for t in np.unique(np.where([haps[t]!=haps[t-1] for t in range(1,len(haps))])[0])]; plt.xlabel('gens ago'); plt.plot(np.exp(lp),color='goldenrod',label=r'$\\ell$'); plt.legend()\n",
    "\n",
    "# rCa, rCA, lp = calc_genlik_changing(np.log10(0.0001),1000,Nc[:750],haps)\n",
    "# A = np.array([[ 3. ,  2. , -1. ],\n",
    "#                [ 2. , -2. ,  4. ],\n",
    "#                [-1. ,  0.5, -1. ]])\n",
    "# solve = linalg.factorized(A)\n",
    "# plt.figure(dpi=150)\n",
    "# plt.plot(rCa,color='coral',label=r'$r(C_a)$',ls='--'); plt.plot(rCA,color='olive',ls='-.',label=r'$r(C_A)$'); plt.box(False); [plt.axvline(t,color='k',alpha=0.6,linewidth=0.8) for t in np.unique(np.where([haps[t]!=haps[t-1] for t in range(1,len(haps))])[0])]; plt.xlabel('gens ago'); plt.plot(np.exp(lp),color='goldenrod',label=r'$\\ell$'); plt.legend()\n",
    "# plt.boxplot([np.abs(est22clues)[np.where(~np.isnan(est22clues))[0]],np.array(est22)[np.where(~np.isnan(est22))[0]]],widths=0.2); plt.axhline(0.0022,color='red'); \n",
    "# plt.boxplot([np.abs(est220clues)[np.where(~np.isnan(est220clues))[0]],np.abs(est220old)[np.where(~np.isnan(est220clues))[0]],np.abs(est)[np.where(~np.isnan(est220clues))[0]],np.abs(est22clues)[np.where(~np.isnan(est22clues))[0]],np.array(est22)[np.where(~np.isnan(est22))[0]]],widths=0.2); plt.axhline(0.022,color='red'); plt.ylim((0,0.03)); plt.grid(); plt.axhline(0.0022,color='red'); #plt.semilogy()\n",
    "# np.nanmean(np.abs(est)-0.022)\n",
    "# np.savetxt(\"/Users/vivaswatshastry/selCoefEst/PReFerSims/resfiles/res22.txt\",np.array(est22))\n",
    "# np.savetxt(\"/Users/vivaswatshastry/selCoefEst/PReFerSims/resfiles/res220clues.txt\",np.array(est220clues))\n",
    "# est220old = np.loadtxt('/Users/vivaswatshastry/selCoefEst/PReFerSims/resfiles/res220clues.txt')\n",
    "# est = np.loadtxt('/Users/vivaswatshastry/selCoefEst/PReFerSims/resfiles/res220.txt')"
   ]
  },
  {
   "cell_type": "code",
   "execution_count": 222,
   "metadata": {},
   "outputs": [
    {
     "ename": "AttributeError",
     "evalue": "module 'tskit' has no attribute 'draw_svg'",
     "output_type": "error",
     "traceback": [
      "\u001b[0;31m---------------------------------------------------------------------------\u001b[0m",
      "\u001b[0;31mAttributeError\u001b[0m                            Traceback (most recent call last)",
      "\u001b[1;32m/Users/vivaswatshastry/selCoefEst/calc-genlik.ipynb Cell 26\u001b[0m line \u001b[0;36m<module>\u001b[0;34m\u001b[0m\n\u001b[1;32m      <a href='vscode-notebook-cell:/Users/vivaswatshastry/selCoefEst/calc-genlik.ipynb#Y211sZmlsZQ%3D%3D?line=0'>1</a>\u001b[0m \u001b[39m# haps, _ = read_mssel('/Users/vivaswatshastry/selCoefEst/PReFerSims/msselfiles/hapfiles/haps-0.005_Neff_10_t1250.ms',40) \u001b[39;00m\n\u001b[1;32m      <a href='vscode-notebook-cell:/Users/vivaswatshastry/selCoefEst/calc-genlik.ipynb#Y211sZmlsZQ%3D%3D?line=1'>2</a>\u001b[0m \u001b[39m# 10**sp.optimize.minimize_scalar(foo2, method='bounded', bounds=(-2,-1.5), tol=1e-3).x\u001b[39;00m\n\u001b[1;32m      <a href='vscode-notebook-cell:/Users/vivaswatshastry/selCoefEst/calc-genlik.ipynb#Y211sZmlsZQ%3D%3D?line=2'>3</a>\u001b[0m \u001b[39m# foo = lambda s: calc_genlik_changing(s, 1000, Nc[:750], haps) \u001b[39;00m\n\u001b[0;32m   (...)\u001b[0m\n\u001b[1;32m      <a href='vscode-notebook-cell:/Users/vivaswatshastry/selCoefEst/calc-genlik.ipynb#Y211sZmlsZQ%3D%3D?line=8'>9</a>\u001b[0m \u001b[39m# 10**sp.optimize.minimize_scalar(foo2, method='bounded', bounds=(-2.5,-1.5), tol=1e-3)\u001b[39;00m\n\u001b[1;32m     <a href='vscode-notebook-cell:/Users/vivaswatshastry/selCoefEst/calc-genlik.ipynb#Y211sZmlsZQ%3D%3D?line=9'>10</a>\u001b[0m \u001b[39m# len(np.where(np.isnan(est22))[0]+1)\u001b[39;00m\n\u001b[0;32m---> <a href='vscode-notebook-cell:/Users/vivaswatshastry/selCoefEst/calc-genlik.ipynb#Y211sZmlsZQ%3D%3D?line=10'>11</a>\u001b[0m tskit\u001b[39m.\u001b[39;49mdraw_svg(haps)\n",
      "\u001b[0;31mAttributeError\u001b[0m: module 'tskit' has no attribute 'draw_svg'"
     ]
    }
   ],
   "source": [
    "# haps, _ = read_mssel('/Users/vivaswatshastry/selCoefEst/PReFerSims/msselfiles/hapfiles/haps-0.005_Neff_10_t1250.ms',40) \n",
    "# 10**sp.optimize.minimize_scalar(foo2, method='bounded', bounds=(-2,-1.5), tol=1e-3).x\n",
    "# foo = lambda s: calc_genlik_changing(s, 1000, Nc[:750], haps) \n",
    "# foo2 = lambda s: -np.nansum(calc_genlik_changing_coal(s, 500, '/Users/vivaswatshastry/selCoefEst/PReFerSims/msselfiles/example_Neff.coal', haps)[2])\n",
    "# foo2(-1.5)\n",
    "# finalll = Parallel(n_jobs=16)(delayed(foo2)(x) for x in np.linspace(-3,-2,16))\n",
    "# plt.plot(10**np.linspace(-3,-2,16),[finalll[i] for i in range(16)],'ko'); plt.grid(); plt.axvline(50/10000,color='r'); plt.ylabel(r'$\\ell$'); plt.xlabel(r'$\\hat s$'); plt.title(r'$T_{max}=12000, 2n=400$'); #plt.axvline(10**np.linspace(-2,-1.5,16)[2],color='grey')\n",
    "# haps, _ = read_mssel('/Users/vivaswatshastry/selCoefEst/PReFerSims/msselfiles/hapfiles/haps-0.011_Neff_{:d}_t750.ms'.format(5),40) \n",
    "# 10**sp.optimize.minimize_scalar(foo2, method='bounded', bounds=(-2.5,-1.5), tol=1e-3)\n",
    "# len(np.where(np.isnan(est22))[0]+1)\n"
   ]
  },
  {
   "cell_type": "code",
   "execution_count": 221,
   "metadata": {},
   "outputs": [
    {
     "name": "stdout",
     "output_type": "stream",
     "text": [
      "nan\n"
     ]
    },
    {
     "name": "stderr",
     "output_type": "stream",
     "text": [
      "/Users/vivaswatshastry/mambaforge/envs/cvae/lib/python3.10/site-packages/scipy/optimize/_minimize.py:870: RuntimeWarning: Method 'bounded' does not support relative tolerance in x; defaulting to absolute tolerance.\n",
      "  warn(\"Method 'bounded' does not support relative tolerance in x; \"\n"
     ]
    },
    {
     "name": "stdout",
     "output_type": "stream",
     "text": [
      "0.005199084145900518\n",
      "nan\n",
      "0.00581650975683141\n",
      "0.0039924953330252025\n",
      "nan\n",
      "nan\n",
      "0.006553198679034425\n",
      "0.00696817449961167\n",
      "0.007954926365789913\n",
      "0.007328596299244397\n",
      "0.005378260516586159\n",
      "0.003259504533199202\n",
      "nan\n",
      "0.007760624612081823\n",
      "nan\n",
      "nan\n",
      "nan\n",
      "nan\n",
      "nan\n",
      "nan\n",
      "0.01012361541941203\n",
      "0.0026835950857801907\n",
      "nan\n",
      "nan\n",
      "0.008715678677406944\n",
      "0.005993457757020411\n",
      "0.006358786595014697\n",
      "0.004986169719625667\n",
      "nan\n",
      "nan\n",
      "nan\n",
      "0.008320741975424359\n",
      "0.003704624117740758\n",
      "nan\n",
      "0.0051041632202104125\n",
      "0.006461254567030834\n",
      "nan\n",
      "0.011218894169805305\n",
      "nan\n",
      "0.012674089455131774\n",
      "nan\n",
      "nan\n",
      "nan\n",
      "0.007234373031381539\n",
      "nan\n",
      "nan\n",
      "0.008314934392817027\n",
      "nan\n",
      "0.003132265614765565\n",
      "nan\n",
      "0.0030241588078962433\n",
      "0.0034641622899798637\n",
      "0.004901995677966166\n",
      "nan\n",
      "0.007926792990913123\n",
      "0.004063782644997363\n",
      "nan\n",
      "nan\n",
      "0.006070030007488164\n",
      "0.007512672933000932\n",
      "0.0003162540315644525\n",
      "nan\n",
      "nan\n",
      "nan\n",
      "nan\n",
      "0.0044259993594281495\n",
      "nan\n",
      "0.007525623777023707\n",
      "nan\n",
      "nan\n",
      "0.0030516085413543406\n",
      "0.0033769795463824896\n",
      "nan\n",
      "nan\n",
      "0.003616353316916616\n",
      "nan\n",
      "0.004961028120385238\n",
      "0.006587563489215093\n",
      "nan\n",
      "nan\n",
      "nan\n",
      "nan\n",
      "0.003057477742933569\n",
      "nan\n",
      "0.006327543363197357\n",
      "0.011232339168515893\n",
      "0.006851342432228876\n",
      "nan\n",
      "nan\n",
      "0.0040865234219204976\n",
      "nan\n",
      "0.0031773710513719783\n",
      "nan\n",
      "0.003600509422016668\n",
      "0.0046880462045251255\n",
      "0.013905505562017792\n",
      "0.004769547144780963\n",
      "nan\n",
      "0.003416164335380409\n"
     ]
    }
   ],
   "source": [
    "# foo = lambda s: calc_genlik_constant(s, 100, 10000, haps) \n",
    "# -np.sum(foo(-3.5)[2])\n",
    "# plt.imshow(np.log10(run_mom_iterate_constant(601, 600, 10**-1.3, 10000, 400)),vmin=-10,aspect='auto',cmap='Blues'); plt.colorbar()\n",
    "# %time finalll = Parallel(n_jobs=16)(delayed(foo)(x) for x in np.linspace(-2.5,-1.5,16))\n",
    "# plt.plot(10**np.linspace(-2.5,-1.5,16),[-np.nansum(finalll[i][2]) for i in range(16)],'ko'); plt.grid(); plt.axvline(110/10000,color='r'); plt.ylabel(r'$-\\ell$'); plt.xlabel(r'$\\hat s$'); plt.semilogx()#plt.axvline(10**np.linspace(-2,-1.3,12)[2],color='grey')\n",
    "# sp.optimize.minimize(foo2, x0=-2, method='b', bounds=[(-3.7,-1.7)])\n",
    "# sp.optimize.minimize_scalar(foo2, method='bounded', bounds=(-3.7,-1.7))\n",
    "## est = []\n",
    "# est220 = []\n",
    "est005 = []\n",
    "for i in range(1,101):\n",
    "    try:\n",
    "        haps, _ = read_mssel('/Users/vivaswatshastry/selCoefEst/PReFerSims/msselfiles/hapfiles/haps-0.005_Neff_{:d}_t1250.ms'.format(i),40) \n",
    "        foo2 = lambda s: -np.nansum(calc_genlik_constant(s, 300, 10000, haps)[2])\n",
    "        est005.append(10**sp.optimize.minimize_scalar(foo2, method='bounded', bounds=(-3.5,-1.8), tol=1e-4).x)\n",
    "    except:\n",
    "        est005.append(np.nan)\n",
    "    print(est005[-1])\n",
    "# for i in np.array([2, 4, 7, 11, 13, 14, 15, 25, 27, 31, 33, 36, 45, 48, 53, 55, 57, 58, 59, 60, 61, 67, 71, 72, 78, 82, 83, 84, 85, 87, 88, 90, 92, 96, 97, 98]):\n",
    "#     haps = read_mssel('/Users/vivaswatshastry/selCoefEst/PReFerSims/msselfiles/hapfiles/haps-220.0_{:d}_t600.ms'.format(i),40) \n",
    "#     est[i-1] = 10**sp.optimize.minimize_scalar(foo2, method='bounded', bounds=(-2.1,-1.5), tol=1e-2).x\n",
    "#     print(est[i-1])\n",
    "\n",
    "# plt.figure(dpi=150); plt.box(False)\n",
    "# plt.violinplot([np.array(est22)[np.where(~np.isnan(est22))[0]],np.array(est)[np.where(~np.isnan(est))[0]]],widths=0.01,showmedians=True,positions=[0,.03]); plt.axhline(0.022,color='red'); plt.axhline(0.0022,color='red'); plt.ylim((0,0.03)); plt.ylabel(r'estimated $\\hat s$'); plt.axhline(0.022,color='red'); plt.ylim((0,0.03)); plt.xticks([0,.03],labels=[r'0.0022',r'0.022']); plt.xlabel(r'simulated $s$'); \n",
    "\n",
    "# plt.figure(dpi=150)\n",
    "# plt.plot(allfreq[np.where(~np.isnan(est22))[0]][:,-1],np.array(est22)[np.where(~np.isnan(est22))[0]],'o',color='dodgerblue',alpha=0.8,label=r'$0.0022$'); plt.plot(allfreq220[np.where(~np.isnan(est))[0]][:,-1],np.array(est)[np.where(~np.isnan(est))[0]],'*',alpha=0.5,color='dodgerblue',label=r'$0.022$'); plt.grid(); plt.xlabel('present-day freq.'); plt.ylabel(r'$\\hat s$'); plt.axhline(0.0022,color='red'); plt.axhline(0.022,color='red'); plt.legend(title=r'$s$');\n",
    "# plt.figure(dpi=150)\n",
    "# plt.plot(range(1,100),fsa[:,1:-1].sum(axis=0)/400,'-o',color='orange'); "
   ]
  },
  {
   "cell_type": "code",
   "execution_count": 49,
   "metadata": {},
   "outputs": [
    {
     "name": "stdout",
     "output_type": "stream",
     "text": [
      "nan\n",
      "nan\n",
      "0.00864\n",
      "0.01087\n",
      "0.02019\n",
      "nan\n",
      "nan\n",
      "nan\n",
      "nan\n",
      "0.00936\n",
      "0.01353\n",
      "0.00701\n",
      "nan\n",
      "0.01376\n",
      "nan\n",
      "0.09761\n",
      "nan\n",
      "nan\n",
      "0.01843\n",
      "nan\n",
      "nan\n",
      "0.04742\n",
      "nan\n",
      "0.09981\n",
      "0.01375\n",
      "0.01676\n",
      "0.01318\n",
      "nan\n",
      "0.01447\n",
      "nan\n",
      "nan\n",
      "0.01978\n",
      "0.01225\n",
      "0.01657\n",
      "0.01528\n",
      "nan\n",
      "0.00786\n",
      "nan\n",
      "0.01231\n",
      "nan\n",
      "nan\n",
      "0.00575\n",
      "0.02162\n",
      "nan\n",
      "0.02484\n",
      "nan\n",
      "0.01011\n",
      "nan\n",
      "0.00877\n",
      "0.0142\n"
     ]
    }
   ],
   "source": [
    "# haps = read_mssel('/Users/vivaswatshastry/selCoefEst/PReFerSims/msselfiles/hapfiles/haps-22.0_{:d}_t3000.ms'.format(72),40) \n",
    "# foo2 = lambda s: -np.nansum(calc_genlik_constant(s[0], 400, 10000, haps)[2])\n",
    "# 10**sp.optimize.minimize(foo2, x0=-2, method='L-BFGS-B', bounds=[(-2.5,-1.5)]).x\n",
    "# plt.boxplot(np.array(est011)[~np.isnan(est011)]); plt.axhline(0.011,color='red'); plt.ylim((0,0.05)); \n",
    "est220clues = []\n",
    "for i in range(1,51):\n",
    "    try:\n",
    "        haps, coaltimes = read_mssel('/Users/vivaswatshastry/selCoefEst/PReFerSims/msselfiles/hapfiles/haps-220.0_{:d}_t600.ms'.format(i),40)\n",
    "        idx = np.max(np.where(np.sort(coaltimes[coaltimes[:,1]==1,0])<600))\n",
    "        der = np.sort(coaltimes[coaltimes[:,1]==1,0])[:(idx+2)]\n",
    "        anc = np.sort(np.append(coaltimes[coaltimes[:,1]==0,0],np.sort(coaltimes[coaltimes[:,1]==1,0])[(idx+2):]))\n",
    "        f = open(\"/Users/vivaswatshastry/CLUES2/Times2.txt\", \"w\")\n",
    "        f.writelines(np.array2string(der,separator=',').replace(\" \", \"\")[1:-1].replace(\"\\n\", \"\") + \"\\n\" + np.array2string(anc,separator=',').replace(\" \", \"\")[1:-1].replace(\"\\n\", \"\") + \"\\n\")\n",
    "        f.close()\n",
    "\n",
    "        os.system(\"python /Users/vivaswatshastry/CLUES2/inference.py --times /Users/vivaswatshastry/CLUES2/Times2.txt --N 40000 --out out --tCutoff 600 --popFreq {:.2f} --noAlleleTraj\".format(haps[0,0]/haps[0,1]))\n",
    "\n",
    "        est220clues.append(np.loadtxt(\"out_inference.txt\", skiprows=1)[-1])\n",
    "    except:\n",
    "        est220clues.append(np.nan)\n",
    "    print(est220clues[-1])"
   ]
  },
  {
   "cell_type": "code",
   "execution_count": 96,
   "metadata": {},
   "outputs": [
    {
     "data": {
      "image/png": "[encoded data removed]",
      "text/plain": [
       "<Figure size 550x385 with 1 Axes>"
      ]
     },
     "metadata": {},
     "output_type": "display_data"
    }
   ],
   "source": [
    "# plt.plot(allfreq220[np.where(~np.isnan(est))[0]][:,-1],np.array(est)[np.where(~np.isnan(est))[0]],'*',alpha=0.5,color='dodgerblue',label=r'$0.022$');"
   ]
  },
  {
   "cell_type": "code",
   "execution_count": null,
   "metadata": {},
   "outputs": [
    {
     "data": {
      "text/plain": [
       "Text(0.5, 1.0, '$\\\\gamma=100$')"
      ]
     },
     "execution_count": 384,
     "metadata": {},
     "output_type": "execute_result"
    },
    {
     "data": {
      "image/png": "[encoded data removed]",
      "text/plain": [
       "<Figure size 550x385 with 1 Axes>"
      ]
     },
     "metadata": {},
     "output_type": "display_data"
    }
   ],
   "source": [
    "## standard: haps-100.0_15.ms\n",
    "# finalll = Parallel(n_jobs=16)(delayed(foo)(x) for x in np.linspace(-3.5,-1.6,32))\n",
    "# plt.plot(10**np.linspace(-3.5,-1.6,32),finalll,'ko'); plt.grid(); plt.axvline(100/40000,color='r'); plt.ylabel(r'$-\\ell$'); plt.xlabel(r'$\\hat s$'); plt.axvline(10**np.linspace(-3.5,-1.6,32)[np.nanargmin(finalll)],color='grey'); plt.semilogx(); plt.title(r'$\\gamma=100$')"
   ]
  },
  {
   "cell_type": "code",
   "execution_count": null,
   "metadata": {},
   "outputs": [],
   "source": [
    "def calc_neutral_constant(N, haps):\n",
    "    ## if we used the time between coalescences and computed the log-lik\n",
    "    coaltimes = np.append(1,[i for i in [t if ~(haps[t,:] == haps[t-1,:]).all() else None for t in range(1,len(haps))] if i is not None])\n",
    "\n",
    "    logprob = np.zeros(len(coaltimes))\n",
    "\n",
    "    for it in range(1,len(coaltimes)):\n",
    "        logprob[it-1] = np.log(np.exp(-(coaltimes[it]-coaltimes[it-1])*0.25*haps[coaltimes[it-1]-1,1]*(haps[coaltimes[it-1]-1,1]-1)/N)) + np.log(0.25*haps[coaltimes[it-1]-1,1]*(haps[coaltimes[it-1]-1,1]-1)/N)\n",
    "\n",
    "    ## going generation by generation\n",
    "    logprob2 = np.zeros(len(haps))\n",
    "\n",
    "    for t in range(1,len(haps)):\n",
    "        if (haps[t,:] == haps[t-1,:]).all():\n",
    "            logprob2[t] = np.log(np.exp(-0.25*haps[t-1,1]*(haps[t-1,1]-1)/N)) # ≈ np.exp(-0.5*haps[t-1,0]*(haps[t-1,0]-1)/N)\n",
    "        else:\n",
    "            logprob2[t] = np.log(1-np.exp(-haps[t-1,1]*(haps[t-1,1]-1)*0.25/N)) # np.log(0.25*haps[t-1,1]*(haps[t-1,1]-1)/N) \n",
    "\n",
    "    return logprob, logprob2[1:]"
   ]
  },
  {
   "cell_type": "code",
   "execution_count": 1185,
   "metadata": {},
   "outputs": [
    {
     "name": "stdout",
     "output_type": "stream",
     "text": [
      "\u001b[0;31mSignature:\u001b[0m \u001b[0mread_mssel\u001b[0m\u001b[0;34m(\u001b[0m\u001b[0mmsfile\u001b[0m\u001b[0;34m,\u001b[0m \u001b[0mnind\u001b[0m\u001b[0;34m)\u001b[0m\u001b[0;34m\u001b[0m\u001b[0;34m\u001b[0m\u001b[0m\n",
      "\u001b[0;31mDocstring:\u001b[0m <no docstring>\n",
      "\u001b[0;31mFile:\u001b[0m      /var/folders/vc/r8504j4j0ds4cvn52fqczvzh0000gr/T/ipykernel_55344/3596824535.py\n",
      "\u001b[0;31mType:\u001b[0m      function\n"
     ]
    }
   ],
   "source": [
    "# logprob0, logprob02 = calc_neutral_constant(10000, haps)\n",
    "# np.sum(logprob0), np.sum(logprob02), np.sum(logprob)\n",
    "# np.sum(logprob02[[i for i in [t if ~(haps[t,:] == haps[t-1,:]).all() else None for t in range(1,len(haps))] if i is not None]]) \n",
    "# len(logprob02[np.where(np.exp(logprob02)<0.9)])\n",
    "# plt.plot(np.exp(logprob02),'ko')\n"
   ]
  },
  {
   "cell_type": "code",
   "execution_count": 231,
   "metadata": {},
   "outputs": [],
   "source": [
    "# import os\n",
    "# os.chdir('/Users/vivaswatshastry/selCoefEst/PReFerSims')\n",
    "\n",
    "\n",
    "# demo = np.loadtxt(\"/Users/vivaswatshastry/selCoefEst/PReFerSims/simfiles/CEUlike_demo.txt\", delimiter=\" \", dtype='int')\n",
    "# Nc = []\n",
    "# [Nc.append([demo[n,0]]*demo[n,1]) for n in np.arange(len(demo))]\n",
    "Nc = np.array(list(it.chain(*Nc))); Nc = Nc[::-1]\n",
    "\n",
    "# from numpy import sort\n",
    "# haps, coaltimes = read_mssel('/Users/vivaswatshastry/selCoefEst/PReFerSims/msselfiles/hapfiles/haps-0.011_Neff_10_t750.ms',40) \n",
    "# plt.plot(haps[:,0],label='derived'); plt.plot(haps[:,1], label='total', color='red'); plt.ylabel('# of lineages'); plt.xlabel('gens'); plt.grid(); plt.box(False); plt.legend()\n",
    "# T = 750\n",
    "# np.sort(coaltimes[coaltimes[:,1]==0,0]), np.sort(coaltimes[coaltimes[:,1]==1,0])\n",
    "# idx = np.max(np.where(np.sort(coaltimes[coaltimes[:,1]==1,0])<750))\n",
    "# np.sort(coaltimes[coaltimes[:,1]==1,0])[:(idx+2)], np.sort(np.append(coaltimes[coaltimes[:,1]==0,0],np.sort(coaltimes[coaltimes[:,1]==1,0])[(idx+2):]))"
   ]
  },
  {
   "cell_type": "code",
   "execution_count": 1184,
   "metadata": {},
   "outputs": [
    {
     "data": {
      "text/plain": [
       "(array([2.000, 47.000, 51.000, 80.000, 101.000, 110.000, 114.000, 216.000,\n",
       "        250.000]),\n",
       " array([1.000, 5.000, 21.000, 22.000, 38.000, 50.000, 64.000, 144.000,\n",
       "        179.000, 227.000, 301.000, 454.000, 630.000]))"
      ]
     },
     "execution_count": 1184,
     "metadata": {},
     "output_type": "execute_result"
    }
   ],
   "source": [
    "# der = np.append(np.nan,[i for i in [t if ~(haps[t,0] == haps[t-1,0]).all() else None for t in range(1,len(haps))] if i is not None])[1:]\n",
    "# tot = np.append(np.nan,[i for i in [t if ~(haps[t,1] == haps[t-1,1]).all() else None for t in range(1,len(haps))] if i is not None])[1:]\n",
    "# der,np.sort(list(set(tot) - set(der)))"
   ]
  },
  {
   "cell_type": "code",
   "execution_count": 535,
   "metadata": {},
   "outputs": [
    {
     "data": {
      "text/plain": [
       "(-12.28603624992352, 0.00018186657721102513)"
      ]
     },
     "execution_count": 535,
     "metadata": {},
     "output_type": "execute_result"
    }
   ],
   "source": [
    "# foo = lambda s: calc_genlik_constant(s, 100, 10000, haps[:320])\n",
    "# -3: (280, -118.98, -19.05); (320, -122.96, -17.97)\n",
    "# -np.sum(foo(-3)[2])\n",
    "# fsa = run_mom_iterate_constant(12000, 100, 0.001, 10000, 400)\n",
    "# fsa[fsa<0] = 0\n",
    "# fsT = np.zeros(12000)\n",
    "# for t in range(1,12000):\n",
    "#     fsT[t] = moments.Spectrum(fsa[t,:]).project([40])[11]\n",
    "# plt.plot(fsT[::-1]/fsT.sum())\n",
    "np.log(fsT[-500:-250].sum()/fsT.sum()), fsT[-800:-280].sum()/fsT.sum()"
   ]
  },
  {
   "cell_type": "code",
   "execution_count": 441,
   "metadata": {},
   "outputs": [
    {
     "data": {
      "text/plain": [
       "<matplotlib.colorbar.Colorbar at 0x17a6770d0>"
      ]
     },
     "execution_count": 441,
     "metadata": {},
     "output_type": "execute_result"
    },
    {
     "data": {
      "image/png": "[encoded data removed]",
      "text/plain": [
       "<Figure size 550x385 with 2 Axes>"
      ]
     },
     "metadata": {},
     "output_type": "display_data"
    }
   ],
   "source": [
    "# fsa = run_mom_iterate_constant(10000, 120, 0.01, 10000, 400)\n",
    "# fsa = run_mom_iterate_changing4(4000, 0.01, Nc[:1500], 400)\n",
    "# fsa[fsa<0] = 0\n",
    "# plt.imshow(np.log10(fsa),vmin=-10,aspect='auto',cmap='OrRd'); plt.colorbar()\n",
    "# plt.plot(moments.Spectrum(fsa[10,]).project([40]),'o'); plt.plot(moments.Spectrum(fsa[100,]).project([40]),'o'); plt.plot(moments.Spectrum(fsa[400,]).project([40]),'o'); plt.semilogy(); \n",
    "# fsprojn = moments.Spectrum(fsa[200,:]).project([10])\n",
    "# fsprojn[1:-1] = fsprojn[1:-1]/fsprojn[1:-1].sum()\n",
    "# plt.plot(np.log10(fsa.sum(axis=0)),'-o')\n",
    "# np.where(np.array(res100)>0.01)[0], np.where(np.isnan(res100))"
   ]
  },
  {
   "cell_type": "code",
   "execution_count": 952,
   "metadata": {},
   "outputs": [
    {
     "data": {
      "text/plain": [
       "0.006957716326835276"
      ]
     },
     "execution_count": 952,
     "metadata": {},
     "output_type": "execute_result"
    }
   ],
   "source": [
    "fsprojn[3]"
   ]
  },
  {
   "cell_type": "code",
   "execution_count": null,
   "metadata": {},
   "outputs": [],
   "source": [
    "# fsa = run_mom_iterate_constant(T, 3, s, N, 100, {})\n",
    "# fs = moments.Spectrum(moments.LinearSystem_1D.steady_state_1D(400,gamma=-25))*400\n",
    "# fs = fs/fs.sum()\n",
    "# plt.plot(fs.project([2]))\n",
    "# fs.project([3])/fs.project([3]).sum() #[-- 0.9726728471678365 0.026575356182170495 0.0007517966499929211 --]\n",
    "# fsap = (fsa.T/fsa.sum(axis=1)).T"
   ]
  },
  {
   "cell_type": "markdown",
   "metadata": {},
   "source": [
    "### Computing the MLE $\\hat s$ values for each simulated trajectory in PReFerSim -> bioinfo -> mssel -> ipynb"
   ]
  },
  {
   "cell_type": "code",
   "execution_count": null,
   "metadata": {},
   "outputs": [],
   "source": [
    "# dft = pd.read_csv('outfiles/ConstantSize-50.0.1.full_out.txt',sep='\\t',header=None,names=['','Xl','s','al','id'])\n",
    "# dft['sXl'] = (dft['Xl']*200).astype('int')\n",
    "# dft['al'] = 80000+1 - dft['al']\n",
    "# dft['al'] = dft['al'].astype('int')\n",
    "# dft = dft.drop(np.where(dft['sXl']==200)[0])\n",
    "# dft['res'] = np.zeros(dft.shape[0])\n",
    "# plt.boxplot(dft['res']); plt.semilogy(); plt.axhline(0.025,color='red'); plt.xlabel(r'$\\hat s$'); \n",
    "# plt.plot(dft['al'],dft['res'],'ko'); plt.semilogy(); plt.grid(); plt.box(False); plt.xlabel('allele age'); plt.ylabel(r'$\\hat s$')\n",
    "# plt.plot(dft['sXl']*0.2,dft['res'],'ko'); plt.semilogy(); plt.grid(); plt.box(False); plt.xlabel('sample freq.'); plt.ylabel(r'$\\hat s$')\n",
    "# plt.plot(dft['sXl']/dft['al'],dft['res'],'ko'); plt.semilogy(); plt.grid(); plt.box(False); plt.ylabel(r'$\\hat s$'); plt.axhline(0.025,color='red'); plt.xlabel(r'$i/a$')\n",
    "# plt.boxplot(dft['res'].loc[((dft['res']>2e-6) & (dft['res']<0.8e-1))]); plt.axhline(0.025, color='red'); plt.xlabel(r'$\\hat s$'); plt.semilogy(); plt.ylim((1e-3,1e-1))\n",
    "# plt.scatter(dft['al'].loc[((dft['res']>2e-6) & (dft['res']<0.8e-1))],dft['sXl'].loc[((dft['res']>2e-6) & (dft['res']<0.8e-1))]*0.2); plt.xlabel('allele age'); plt.ylabel('sample freq.'); plt.grid()"
   ]
  },
  {
   "cell_type": "code",
   "execution_count": null,
   "metadata": {},
   "outputs": [],
   "source": [
    "# os.system(\"sed -n '/^{}/p' MiniTest/Traj-500.0.txt > MiniTest/TrajMini-500.0.txt\".format(dft['al'].iloc[i]))\n",
    "# np.where(((dft['sXl']>3) & (dft['sXl']<150)))[0]\n",
    "# i = 40\n",
    "# os.system(\"sed -n '/^{}/p' MiniTest/Traj-50.0.txt > MiniTest/TrajMini-50.0.txt\".format(dft['id'].iloc[i]))\n",
    "# os.system(\"perl TrajToMsselFormat.pl MiniTest/TrajMini-50.0 20000 msselfiles/trajfiles/TrajMsselLike-50.0.txt 1 0 1\")\n",
    "# os.system(\"cat msselfiles/trajfiles/TrajMsselLike-50.0.txt | ~/mssel/stepftn > msselfiles/trajfiles/CurrTraj-50.0.txt\")\n",
    "# os.system(\"~/mssel/mssel3 50 1 {} {} msselfiles/trajfiles/CurrTraj-50.0.txt 500 -r 0 1000 -t 20 -T > msselfiles/haps-50.0.ms\".format(int(np.floor((200-dft['sXl'].iloc[i]) * 0.25)),int(np.ceil(dft['sXl'].iloc[i] * 0.25))))\n",
    "# print(dft['sXl'].iloc[i], dft['al'].iloc[i])\n",
    "\n",
    "# res = [0.00016259837958348586]\n",
    "res25 = []\n",
    "\n",
    "for rep in range(1,26):\n",
    "    try:\n",
    "        haps = read_mssel('msselfiles/haps-25.0_{}.ms'.format(rep),40)\n",
    "        foo = lambda s: calc_genlik(s, 500, 10000, haps)\n",
    "        res25.append(10**sp.optimize.minimize_scalar(foo, method='bounded', bounds=(-5,-2), options={'xatol':1e-3}).x)\n",
    "        print(res25[rep-1])\n",
    "    except:\n",
    "        res25.append(np.nan)\n",
    "# plt.plot(haps[:,0],label='derived'); plt.plot(haps[:,1], label='total'); plt.ylabel('# of lineages'); plt.xlabel('gens'); plt.grid(); plt.box(False); plt.legend(); plt.title(r'$\\gamma=100$')"
   ]
  },
  {
   "cell_type": "code",
   "execution_count": null,
   "metadata": {},
   "outputs": [],
   "source": [
    "# int(np.floor((200-dft['sXl'].iloc[i]) * 0.5)),int(np.ceil(dft['sXl'].iloc[i] * 0.5))\n",
    "# plt.hist(res[1:])\n",
    "# plt.boxplot(np.array(res)[~np.isnan(res).astype(int)]); plt.axhline(0.01,color='red'); plt.ylim((0.0001,0.1)); plt.semilogy()"
   ]
  },
  {
   "cell_type": "code",
   "execution_count": null,
   "metadata": {},
   "outputs": [],
   "source": [
    "## bioinformatics to run mssel\n",
    "# for i in range(56,len(dft)):\n",
    "#     os.system(\"sed -n '/^{}/p' MiniTest/Traj-50.0.txt > MiniTest/TrajMini-50.0.txt\".format(dft['id'].iloc[i]))\n",
    "#     os.system(\"perl TrajToMsselFormat.pl MiniTest/TrajMini-50.0 20000 msselfiles/trajfiles/TrajMsselLike-50.0.txt 1 0 1\")\n",
    "#     os.system(\"cat msselfiles/trajfiles/TrajMsselLike-50.0.txt | ~/mssel/stepftn > msselfiles/trajfiles/CurrTraj-50.0.txt\")\n",
    "#     os.system(\"~/mssel/mssel3 40 1 {} {} msselfiles/trajfiles/CurrTraj-50.0.txt 500 -r 0 1000 -t 20 -T > msselfiles/haps-50.0.ms\".format(int(np.floor((200-dft['sXl'].iloc[i]) * 0.2)),int(np.ceil(dft['sXl'].iloc[i] * 0.2))))\n",
    "\n",
    "#     try: \n",
    "#         haps = read_mssel('msselfiles/haps-50.0.ms',40)\n",
    "#     except:\n",
    "#         dft['res'].iloc[i] = np.nan\n",
    "#         continue\n",
    "#     # plt.plot(haps[:,0],label='derived'); plt.plot(haps[:,1], label='total'); plt.ylabel('# of lineages'); plt.xlabel('gens'); plt.grid(); plt.box(False); plt.legend(); plt.title(r'$\\gamma=50$')\n",
    "\n",
    "#     foo = lambda s: calc_genlik(s, 500, 10000, haps)\n",
    "#     dft['res'].iloc[i] = 10**sp.optimize.minimize_scalar(foo, method='bounded', bounds=(-5,-2), options={'xatol':1e-3}).x\n",
    "#     print(i, dft['sXl'].iloc[i], dft['al'].iloc[i], dft['res'].iloc[i])\n",
    "#     # print(10**res.x)"
   ]
  },
  {
   "cell_type": "code",
   "execution_count": null,
   "metadata": {},
   "outputs": [],
   "source": [
    "res"
   ]
  }
 ],
 "metadata": {
  "kernelspec": {
   "display_name": "cvae",
   "language": "python",
   "name": "python3"
  },
  "language_info": {
   "codemirror_mode": {
    "name": "ipython",
    "version": 3
   },
   "file_extension": ".py",
   "mimetype": "text/x-python",
   "name": "python",
   "nbconvert_exporter": "python",
   "pygments_lexer": "ipython3",
   "version": "3.10.2"
  }
 },
 "nbformat": 4,
 "nbformat_minor": 2
}
