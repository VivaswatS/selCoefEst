{
  "nbformat": 4,
  "nbformat_minor": 0,
  "metadata": {
    "colab": {
      "name": "working_selCoefEst.ipynb",
      "provenance": [],
      "collapsed_sections": [],
      "toc_visible": true
    },
    "kernelspec": {
      "display_name": "Python 3",
      "language": "python",
      "name": "python3"
    },
    "language_info": {
      "codemirror_mode": {
        "name": "ipython",
        "version": 3
      },
      "file_extension": ".py",
      "mimetype": "text/x-python",
      "name": "python",
      "nbconvert_exporter": "python",
      "pygments_lexer": "ipython3",
      "version": "3.6.7"
    }
  },
  "cells": [
    {
      "cell_type": "code",
      "metadata": {
        "colab": {
          "base_uri": "https://localhost:8080/"
        },
        "id": "O4oIHoS6c6WJ",
        "outputId": "76abed6f-15c4-48a7-ff63-52f14722eb80"
      },
      "source": [
        "# TensorFlow and tf.keras\n",
        "import tensorflow as tf\n",
        "from tensorflow import keras\n",
        "from tensorflow.keras.layers import Conv2D, MaxPooling2D, Dropout, Flatten, Dense\n",
        "\n",
        "# Commonly used modules\n",
        "import numpy as np\n",
        "import os\n",
        "import sys\n",
        "\n",
        "# Images, plots, display, and visualization\n",
        "import matplotlib.pyplot as plt\n",
        "import pandas as pd\n",
        "import seaborn as sns\n",
        "import cv2\n",
        "import IPython\n",
        "from six.moves import urllib\n",
        "\n",
        "print(tf.__version__)"
      ],
      "execution_count": 2,
      "outputs": [
        {
          "output_type": "stream",
          "text": [
            "2.5.0\n"
          ],
          "name": "stdout"
        }
      ]
    },
    {
      "cell_type": "code",
      "metadata": {
        "id": "NuZIBu7hc6WK"
      },
      "source": [
        "df1 = pd.read_csv(\"https://raw.githubusercontent.com/VivaswatS/selCoefEst/main/traindata/trip-2021-07-28.csv\")\n",
        "\n",
        "\n",
        "# (train_features, train_labels), (test_features, test_labels) = keras.datasets.boston_housing.load_data()\n",
        "\n",
        "# # get per-feature statistics (mean, standard deviation) from the training set to normalize by\n",
        "# train_mean = np.mean(train_features, axis=0)\n",
        "# train_std = np.std(train_features, axis=0)\n",
        "# train_features = (train_features - train_mean) / train_std"
      ],
      "execution_count": 3,
      "outputs": []
    },
    {
      "cell_type": "code",
      "metadata": {
        "id": "ye7meBJKeQmq",
        "colab": {
          "base_uri": "https://localhost:8080/"
        },
        "outputId": "8bc486ff-9874-4bf2-eb22-dd7b8a59aa0f"
      },
      "source": [
        "test_labels.shape"
      ],
      "execution_count": null,
      "outputs": [
        {
          "output_type": "execute_result",
          "data": {
            "text/plain": [
              "(102,)"
            ]
          },
          "metadata": {
            "tags": []
          },
          "execution_count": 25
        }
      ]
    },
    {
      "cell_type": "code",
      "metadata": {
        "id": "MNheWxgNdgu-"
      },
      "source": [
        "dat = df1.to_numpy()\n",
        "gamma = np.unique(dat[:,1])\n",
        "idx = [np.where(dat[:,1] == gamma[i]) for i in np.arange(len(gamma))]"
      ],
      "execution_count": 4,
      "outputs": []
    },
    {
      "cell_type": "code",
      "metadata": {
        "id": "0jkDemD4d6Mg"
      },
      "source": [
        "from sklearn.model_selection import train_test_split\n",
        "# create an 80/20 split in each data set\n",
        "temp = [train_test_split(dat[idx[i][0],0], dat[idx[i][0],2], test_size=0.15, random_state=42) for i in np.arange(len(gamma))]\n",
        "\n",
        "# for each gamma value...\n",
        "Xltrain = []\n",
        "Xltest = []\n",
        "altrain = []\n",
        "altest = []\n",
        "for t in np.arange(len(temp)):\n",
        "    Xltrain.append(temp[t][0])\n",
        "    Xltest.append(temp[t][1])\n",
        "    altrain.append(temp[t][2])\n",
        "    altest.append(temp[t][3])"
      ],
      "execution_count": 45,
      "outputs": []
    },
    {
      "cell_type": "code",
      "metadata": {
        "id": "_vlToOWVeVkS"
      },
      "source": [
        "train_data = np.vstack((np.hstack(Xltrain[0:50]), np.repeat(gamma[0:50], len(Xltrain[0])))).T\n",
        "train_labs = np.hstack(altrain[0:50])"
      ],
      "execution_count": 46,
      "outputs": []
    },
    {
      "cell_type": "code",
      "metadata": {
        "id": "QEjjYEp5fkP1"
      },
      "source": [
        "test_data = np.vstack((np.hstack(Xltest[0:50]), np.repeat(gamma[0:50], len(Xltest[0])))).T\n",
        "test_labs = np.hstack(altest[0:50])"
      ],
      "execution_count": 47,
      "outputs": []
    },
    {
      "cell_type": "code",
      "metadata": {
        "id": "xzx3ldaveH7I",
        "colab": {
          "base_uri": "https://localhost:8080/"
        },
        "outputId": "11097256-1a6f-45a3-d9c4-03aa2cb6a06e"
      },
      "source": [
        "test_labs.shape"
      ],
      "execution_count": 49,
      "outputs": [
        {
          "output_type": "execute_result",
          "data": {
            "text/plain": [
              "(7500,)"
            ]
          },
          "metadata": {
            "tags": []
          },
          "execution_count": 49
        }
      ]
    },
    {
      "cell_type": "markdown",
      "metadata": {
        "id": "5C_VyH-ec6WL"
      },
      "source": [
        "### Build the model\n",
        "\n",
        "Building the neural network requires configuring the layers of the model, then compiling the model. First we stack a few layers together using `keras.Sequential`. Next we configure the loss function, optimizer, and metrics to monitor. These are added during the model's compile step:\n",
        "\n",
        "* *Loss function* - measures how accurate the model is during training, we want to minimize this with the optimizer.\n",
        "* *Optimizer* - how the model is updated based on the data it sees and its loss function.\n",
        "* *Metrics* - used to monitor the training and testing steps.\n",
        "\n",
        "Let's build a network with 1 hidden layer of 20 neurons, and use mean squared error (MSE) as the loss function (most common one for regression problems):"
      ]
    },
    {
      "cell_type": "code",
      "metadata": {
        "id": "0Oct-lDlc6WM"
      },
      "source": [
        "def build_model():\n",
        "    model = keras.Sequential([\n",
        "        Dense(50, activation=tf.nn.relu, input_shape=[len(train_data[0])]),\n",
        "        Dense(10, activation=tf.nn.relu, input_shape=[50]),\n",
        "        Dense(1)\n",
        "    ])\n",
        "\n",
        "    model.compile(optimizer=tf.optimizers.Adam(), \n",
        "                  loss='mse',\n",
        "                  metrics=['mae', 'mse'])\n",
        "    return model"
      ],
      "execution_count": 9,
      "outputs": []
    },
    {
      "cell_type": "markdown",
      "metadata": {
        "id": "EZKXd-x9c6WM"
      },
      "source": [
        "### Train the model\n",
        "\n",
        "Training the neural network model requires the following steps:\n",
        "\n",
        "1. Feed the training data to the model—in this example, the `train_features` and `train_labels` arrays.\n",
        "2. The model learns to associate features and labels.\n",
        "3. We ask the model to make predictions about a test set—in this example, the `test_features` array. We verify that the predictions match the labels from the `test_labels` array. \n",
        "\n",
        "To start training,  call the `model.fit` method—the model is \"fit\" to the training data:"
      ]
    },
    {
      "cell_type": "code",
      "metadata": {
        "colab": {
          "base_uri": "https://localhost:8080/"
        },
        "id": "2-FbQmrec6WN",
        "outputId": "aa7cc266-6ce0-44a8-9f0e-2272c0d3f10c"
      },
      "source": [
        "# this helps makes our output less verbose but still shows progress\n",
        "class PrintDot(keras.callbacks.Callback):\n",
        "    def on_epoch_end(self, epoch, logs):\n",
        "        if epoch % 100 == 0: print('')\n",
        "        print('.', end='')\n",
        "\n",
        "model = build_model()\n",
        "\n",
        "early_stop = keras.callbacks.EarlyStopping(monitor='val_loss', patience=50)\n",
        "history = model.fit(train_data, train_labs, epochs=5000, verbose=0, validation_split=0.1,\n",
        "                    callbacks=[early_stop, PrintDot()])\n",
        "\n",
        "hist = pd.DataFrame(history.history)\n",
        "hist['epoch'] = history.epoch"
      ],
      "execution_count": 50,
      "outputs": [
        {
          "output_type": "stream",
          "text": [
            "\n",
            "....................................................................................................\n",
            "....................................................................................................\n",
            ".........."
          ],
          "name": "stdout"
        }
      ]
    },
    {
      "cell_type": "code",
      "metadata": {
        "id": "F7OLuBWahIpq",
        "colab": {
          "base_uri": "https://localhost:8080/"
        },
        "outputId": "ab73cac9-b8c1-4ca0-9645-a7e0af3fc594"
      },
      "source": [
        "rmse_final = np.sqrt(float(hist['val_mse'].tail(1)))\n",
        "print()\n",
        "print('Final Root Mean Square Error on validation set: {}'.format(round(rmse_final, 3)))"
      ],
      "execution_count": 51,
      "outputs": [
        {
          "output_type": "stream",
          "text": [
            "\n",
            "Final Root Mean Square Error on validation set: 3529.089\n"
          ],
          "name": "stdout"
        }
      ]
    },
    {
      "cell_type": "markdown",
      "metadata": {
        "id": "hLCeSIuvc6WN"
      },
      "source": [
        "Now, let's plot the loss function measure on the training and validation sets. The validation set is used to prevent overfitting ([learn more about it here](https://www.tensorflow.org/tutorials/keras/overfit_and_underfit)). However, because our network is small, the training convergence without noticeably overfitting the data as the plot shows."
      ]
    },
    {
      "cell_type": "code",
      "metadata": {
        "scrolled": true,
        "id": "fYm1Z1Hbc6WO",
        "colab": {
          "base_uri": "https://localhost:8080/",
          "height": 290
        },
        "outputId": "24d121bd-d137-4307-cd6c-70f44ce12a4f"
      },
      "source": [
        "def plot_history():\n",
        "    plt.figure()\n",
        "    plt.xlabel('Epoch')\n",
        "    plt.ylabel('Mean Square Error')\n",
        "    plt.plot(hist['epoch'], hist['mse'], label='Train Error')\n",
        "    plt.plot(hist['epoch'], hist['val_mse'], label = 'Val Error')\n",
        "    plt.legend()\n",
        "\n",
        "plot_history()"
      ],
      "execution_count": 52,
      "outputs": [
        {
          "output_type": "display_data",
          "data": {
            "image/png": "[encoded data removed]",
            "text/plain": [
              "<Figure size 432x288 with 1 Axes>"
            ]
          },
          "metadata": {
            "tags": [],
            "needs_background": "light"
          }
        }
      ]
    },
    {
      "cell_type": "code",
      "metadata": {
        "id": "7Kp9ZXKehZfM",
        "colab": {
          "base_uri": "https://localhost:8080/",
          "height": 419
        },
        "outputId": "b5a52aa6-7776-4a8d-eb1b-58bd308878aa"
      },
      "source": [
        "hist"
      ],
      "execution_count": 53,
      "outputs": [
        {
          "output_type": "execute_result",
          "data": {
            "text/html": [
              "<div>\n",
              "<style scoped>\n",
              "    .dataframe tbody tr th:only-of-type {\n",
              "        vertical-align: middle;\n",
              "    }\n",
              "\n",
              "    .dataframe tbody tr th {\n",
              "        vertical-align: top;\n",
              "    }\n",
              "\n",
              "    .dataframe thead th {\n",
              "        text-align: right;\n",
              "    }\n",
              "</style>\n",
              "<table border=\"1\" class=\"dataframe\">\n",
              "  <thead>\n",
              "    <tr style=\"text-align: right;\">\n",
              "      <th></th>\n",
              "      <th>loss</th>\n",
              "      <th>mae</th>\n",
              "      <th>mse</th>\n",
              "      <th>val_loss</th>\n",
              "      <th>val_mae</th>\n",
              "      <th>val_mse</th>\n",
              "      <th>epoch</th>\n",
              "    </tr>\n",
              "  </thead>\n",
              "  <tbody>\n",
              "    <tr>\n",
              "      <th>0</th>\n",
              "      <td>370763616.0</td>\n",
              "      <td>14863.909180</td>\n",
              "      <td>370763616.0</td>\n",
              "      <td>1.075655e+09</td>\n",
              "      <td>28849.699219</td>\n",
              "      <td>1.075655e+09</td>\n",
              "      <td>0</td>\n",
              "    </tr>\n",
              "    <tr>\n",
              "      <th>1</th>\n",
              "      <td>251639632.0</td>\n",
              "      <td>11827.777344</td>\n",
              "      <td>251639632.0</td>\n",
              "      <td>5.997156e+08</td>\n",
              "      <td>22972.375000</td>\n",
              "      <td>5.997156e+08</td>\n",
              "      <td>1</td>\n",
              "    </tr>\n",
              "    <tr>\n",
              "      <th>2</th>\n",
              "      <td>114386136.0</td>\n",
              "      <td>8466.154297</td>\n",
              "      <td>114386136.0</td>\n",
              "      <td>1.190438e+09</td>\n",
              "      <td>32858.335938</td>\n",
              "      <td>1.190438e+09</td>\n",
              "      <td>2</td>\n",
              "    </tr>\n",
              "    <tr>\n",
              "      <th>3</th>\n",
              "      <td>89348368.0</td>\n",
              "      <td>7877.039062</td>\n",
              "      <td>89348368.0</td>\n",
              "      <td>1.171110e+09</td>\n",
              "      <td>32409.916016</td>\n",
              "      <td>1.171110e+09</td>\n",
              "      <td>3</td>\n",
              "    </tr>\n",
              "    <tr>\n",
              "      <th>4</th>\n",
              "      <td>76845456.0</td>\n",
              "      <td>7228.020508</td>\n",
              "      <td>76845456.0</td>\n",
              "      <td>1.374351e+09</td>\n",
              "      <td>34564.476562</td>\n",
              "      <td>1.374351e+09</td>\n",
              "      <td>4</td>\n",
              "    </tr>\n",
              "    <tr>\n",
              "      <th>...</th>\n",
              "      <td>...</td>\n",
              "      <td>...</td>\n",
              "      <td>...</td>\n",
              "      <td>...</td>\n",
              "      <td>...</td>\n",
              "      <td>...</td>\n",
              "      <td>...</td>\n",
              "    </tr>\n",
              "    <tr>\n",
              "      <th>205</th>\n",
              "      <td>37749324.0</td>\n",
              "      <td>4499.615234</td>\n",
              "      <td>37749324.0</td>\n",
              "      <td>8.981642e+06</td>\n",
              "      <td>2625.384033</td>\n",
              "      <td>8.981642e+06</td>\n",
              "      <td>205</td>\n",
              "    </tr>\n",
              "    <tr>\n",
              "      <th>206</th>\n",
              "      <td>37747700.0</td>\n",
              "      <td>4498.729492</td>\n",
              "      <td>37747700.0</td>\n",
              "      <td>1.076339e+07</td>\n",
              "      <td>2871.332764</td>\n",
              "      <td>1.076339e+07</td>\n",
              "      <td>206</td>\n",
              "    </tr>\n",
              "    <tr>\n",
              "      <th>207</th>\n",
              "      <td>37749668.0</td>\n",
              "      <td>4497.118652</td>\n",
              "      <td>37749668.0</td>\n",
              "      <td>1.148475e+07</td>\n",
              "      <td>2966.138916</td>\n",
              "      <td>1.148475e+07</td>\n",
              "      <td>207</td>\n",
              "    </tr>\n",
              "    <tr>\n",
              "      <th>208</th>\n",
              "      <td>37741776.0</td>\n",
              "      <td>4497.487305</td>\n",
              "      <td>37741776.0</td>\n",
              "      <td>1.057514e+07</td>\n",
              "      <td>2847.397949</td>\n",
              "      <td>1.057514e+07</td>\n",
              "      <td>208</td>\n",
              "    </tr>\n",
              "    <tr>\n",
              "      <th>209</th>\n",
              "      <td>37741296.0</td>\n",
              "      <td>4496.498047</td>\n",
              "      <td>37741296.0</td>\n",
              "      <td>1.245447e+07</td>\n",
              "      <td>3086.928955</td>\n",
              "      <td>1.245447e+07</td>\n",
              "      <td>209</td>\n",
              "    </tr>\n",
              "  </tbody>\n",
              "</table>\n",
              "<p>210 rows × 7 columns</p>\n",
              "</div>"
            ],
            "text/plain": [
              "            loss           mae          mse  ...       val_mae       val_mse  epoch\n",
              "0    370763616.0  14863.909180  370763616.0  ...  28849.699219  1.075655e+09      0\n",
              "1    251639632.0  11827.777344  251639632.0  ...  22972.375000  5.997156e+08      1\n",
              "2    114386136.0   8466.154297  114386136.0  ...  32858.335938  1.190438e+09      2\n",
              "3     89348368.0   7877.039062   89348368.0  ...  32409.916016  1.171110e+09      3\n",
              "4     76845456.0   7228.020508   76845456.0  ...  34564.476562  1.374351e+09      4\n",
              "..           ...           ...          ...  ...           ...           ...    ...\n",
              "205   37749324.0   4499.615234   37749324.0  ...   2625.384033  8.981642e+06    205\n",
              "206   37747700.0   4498.729492   37747700.0  ...   2871.332764  1.076339e+07    206\n",
              "207   37749668.0   4497.118652   37749668.0  ...   2966.138916  1.148475e+07    207\n",
              "208   37741776.0   4497.487305   37741776.0  ...   2847.397949  1.057514e+07    208\n",
              "209   37741296.0   4496.498047   37741296.0  ...   3086.928955  1.245447e+07    209\n",
              "\n",
              "[210 rows x 7 columns]"
            ]
          },
          "metadata": {
            "tags": []
          },
          "execution_count": 53
        }
      ]
    },
    {
      "cell_type": "markdown",
      "metadata": {
        "id": "JM1nqUnPc6WO"
      },
      "source": [
        "Next, compare how the model performs on the test dataset:"
      ]
    },
    {
      "cell_type": "code",
      "metadata": {
        "colab": {
          "base_uri": "https://localhost:8080/"
        },
        "id": "e122GTfjc6WO",
        "outputId": "7171d45e-51bf-401d-a8ab-aa3ea9605fe2"
      },
      "source": [
        "#test_features_norm = (test_data - train_mean) / train_std\n",
        "mse, _, _ = model.evaluate(test_data, test_labs)\n",
        "rmse = np.sqrt(mse)\n",
        "print('Root Mean Square Error on test set: {}'.format(round(rmse, 3)))"
      ],
      "execution_count": null,
      "outputs": [
        {
          "output_type": "stream",
          "text": [
            "7/7 [==============================] - 0s 2ms/step - loss: 19176.2168 - mae: 119.0167 - mse: 19176.2168\n",
            "Root Mean Square Error on test set: 138.478\n"
          ],
          "name": "stdout"
        }
      ]
    },
    {
      "cell_type": "code",
      "metadata": {
        "id": "eXxU5A0Qhppl"
      },
      "source": [
        "preds = model.predict(test_data)\n",
        "#test_data.shape"
      ],
      "execution_count": 54,
      "outputs": []
    },
    {
      "cell_type": "code",
      "metadata": {
        "id": "tE1NBB4eiHbR",
        "colab": {
          "base_uri": "https://localhost:8080/"
        },
        "outputId": "5f8e1339-3bb9-400f-a458-c3f4143db8ab"
      },
      "source": [
        "np.corrcoef(np.ravel(test_labs), np.ravel(preds))[0,1]"
      ],
      "execution_count": 55,
      "outputs": [
        {
          "output_type": "execute_result",
          "data": {
            "text/plain": [
              "0.8811527580956667"
            ]
          },
          "metadata": {
            "tags": []
          },
          "execution_count": 55
        }
      ]
    },
    {
      "cell_type": "code",
      "metadata": {
        "id": "xd5WrUNRiesv",
        "colab": {
          "base_uri": "https://localhost:8080/",
          "height": 399
        },
        "outputId": "690573f3-5760-4874-aa45-fd9cea564356"
      },
      "source": [
        "plt.figure(dpi=100)\n",
        "plt.xlabel('Predicted')\n",
        "plt.ylabel('True')\n",
        "plt.plot(np.ravel(preds), np.ravel(test_labs), 'o',  color=\"grey\", markersize=2)"
      ],
      "execution_count": 60,
      "outputs": [
        {
          "output_type": "execute_result",
          "data": {
            "text/plain": [
              "[<matplotlib.lines.Line2D at 0x7fcd6c28f090>]"
            ]
          },
          "metadata": {
            "tags": []
          },
          "execution_count": 60
        },
        {
          "output_type": "display_data",
          "data": {
            "image/png": "[encoded data removed]",
            "text/plain": [
              "<Figure size 600x400 with 1 Axes>"
            ]
          },
          "metadata": {
            "tags": [],
            "needs_background": "light"
          }
        }
      ]
    },
    {
      "cell_type": "markdown",
      "metadata": {
        "id": "U--lV7xjc6We"
      },
      "source": [
        "## Acknowledgements\n",
        "\n",
        "The contents of this tutorial is based on and inspired by the work of [TensorFlow team](https://www.tensorflow.org) (see their [Colab notebooks](https://www.tensorflow.org/tutorials/)), our [MIT Human-Centered AI team](https://hcai.mit.edu), and individual pieces referenced in the [MIT Deep Learning](https://deeplearning.mit.edu) course slides."
      ]
    }
  ]
}