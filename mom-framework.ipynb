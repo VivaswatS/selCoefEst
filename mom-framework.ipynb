{
 "cells": [
  {
   "cell_type": "markdown",
   "metadata": {},
   "source": [
    "## Notebook to code up method of moments framework \n",
    "\n",
    "Here, I will use the method of moments framework used to track the trajectory of the site frequency spectrum through time given drift and selection from [Jouganous et. al. 2017](https://www.genetics.org/content/206/3/1549). Mostly, I will just use equations to start from a certain generation $t$ back in time and then iterate until generation 0. Then I will store this SFS as a data entry for allele age $t$ and certain selection coefficient $s$. This process will be repeated for each value of $\\{1,\\ldots,t,\\ldots,12000\\}$ generations. \n",
    "\n",
    "These vectors need to be summed to marginalize over *all* generations $a$, to give $P(X, a | s)$.\n",
    "\n",
    "First, need to get a handle on what $\\Phi_n^k(i)$ really is - can just be represented as *np.array*\n",
    "\n",
    "$\\phi_n^k(i)$ is the expected number of sites where the alternate allele is observed exactly $i$ times in a sample of size $n$ at generation $k$. "
   ]
  },
  {
   "cell_type": "code",
   "execution_count": 236,
   "metadata": {},
   "outputs": [],
   "source": [
    "import numpy as np\n",
    "import scipy\n",
    "import matplotlib.pyplot as plt\n",
    "import numpy.ma as ma\n",
    "import itertools as it\n",
    "from copy import deepcopy\n",
    "\n",
    "# change matplotlib fonts\n",
    "plt.rcParams[\"font.family\"] = \"Arial\"\n",
    "plt.rcParams[\"font.sans-serif\"] = \"Arial\"\n",
    "plt.rcParams['figure.figsize'] = [5, 3.5]\n",
    "plt.rcParams['figure.dpi'] = 110\n",
    "plt.rcParams.update({'figure.facecolor':'white'})"
   ]
  },
  {
   "cell_type": "code",
   "execution_count": 246,
   "metadata": {},
   "outputs": [
    {
     "data": {
      "text/plain": [
       "8"
      ]
     },
     "execution_count": 246,
     "metadata": {},
     "output_type": "execute_result"
    }
   ],
   "source": [
    "xx = ma.masked_array(range(11),mask=[True] + [False]*9 + [True])\n"
   ]
  },
  {
   "cell_type": "code",
   "execution_count": 307,
   "metadata": {},
   "outputs": [],
   "source": [
    "N = 2500\n",
    "s = 50/N # gamma = 100 - strong selection\n",
    "mu = 1.25e-8 # human mutation rate\n",
    "n = 20\n",
    "\n",
    "mom = np.zeros(n+1)\n",
    "momnp1 = np.zeros(n+1)\n",
    "momkp1 = np.zeros(n+1)\n",
    "\n",
    "# double precaution - creating a mask\n",
    "mk = [False] + [True]*(n-1) + [False]\n",
    "\n",
    "iter = np.arange(1,n)\n",
    "iterm1p1 = np.arange(2,n-1)\n",
    "\n",
    "# maskm1 = np.full(len(mom), 1)\n",
    "# maskm1[n] = 0\n",
    "\n",
    "# maskp1 = np.full(len(mom), 1)\n",
    "# maskp1[0] = 0"
   ]
  },
  {
   "cell_type": "code",
   "execution_count": 16,
   "metadata": {},
   "outputs": [],
   "source": [
    "## borrowed directly from https://bitbucket.org/simongravel/moments/src/main/moments/Jackknife.pyx\n",
    "def python2round(f):\n",
    "    if round(f + 1) - round(f) != 1:\n",
    "        return f + abs(f) / f * 0.5\n",
    "    return round(f)\n",
    "\n",
    "# The choice i' in n samples that best approximates the frequency of i/(n + 1) is i*n / (n + 1)\n",
    "def index_bis(i, n):\n",
    "    return int(min(max(python2round(i * n / float(n+1)), 2), n-2))"
   ]
  },
  {
   "cell_type": "code",
   "execution_count": 18,
   "metadata": {},
   "outputs": [
    {
     "data": {
      "text/plain": [
       "[0, 1, 2, 3, 4, 5, 6, 7, 8, 9]"
      ]
     },
     "execution_count": 18,
     "metadata": {},
     "output_type": "execute_result"
    }
   ],
   "source": [
    "# start in generation 10 so generation 11 has all zeros (going back in time)\n",
    "t = 10\n",
    "mom[1] = n*mu # singleton input\n",
    "# going from generation 9 to 0\n",
    "for gen in np.arange(t)[::-1]:\n",
    "    drift1 = mom[iterm1] * iterm1 * (n - iterm1)/(n * (n - 1))\n",
    "    drift2 = mom[iterp1] * iterp1 * (n - iterp1)/(n * (n - 1))\n",
    "    drift3 = mom[iter] * 2 * iter * (n - iter)/(n * (n - 1))\n",
    "\n",
    "    for i in np.arange(n):\n",
    "        ibis = index_bis(i + 1, n) - 1\n",
    "        \n",
    "        alpha = 0.5 * (n+1) * (4 + i**2 * (6+5*n+n**2) - i * (14+9*n+n**2) - (n+4) * (2*i*(n+2)-n-5) * ibis + (n**2+7*n+12) * ibis**2) / (n+2) / (n+3) / (n+4)\n",
    "\n",
    "        beta = (n+1) * ((i+1) * (n+2) * (i*(n+3)-n-6) - 2 * (n+4) * (i*(n+2)-1) * ibis + (n**2+7*n+12) * ibis**2) / (n+2) / (n+3) / (n+4)\n",
    "\n",
    "        gamma = 0.5 * (n+1) * ((i+1) * (n+2) * (i*(n+3)-2) - (n+4) * (2*i*(n+2)+n+1) * ibis + (n**2+7*n+12) * ibis**2) / (n+2) / (n+3) / (n+4)\n",
    "\n",
    "        momnp1[i] = alpha * mom[ibis-1] + beta * mom[ibis] + gamma * mom[ibis+1]\n",
    "\n",
    "    selop = 0.5/(n + 1) * (iter * (n + 1 - iter) * momnp1[iter]) - (n - iter) * iterp1 * momnp1[iterp1]\n",
    "\n",
    "    mom = mom + 0.25/N * n * (n - 1) * (drift1 + drift2 - drift3) + s * selop"
   ]
  },
  {
   "cell_type": "code",
   "execution_count": 105,
   "metadata": {},
   "outputs": [],
   "source": [
    "## testbed for procudural code for drift operator - sequential\n",
    "mom[1] = n*mu # singleton input\n",
    "# mom = deepcopy(momkp1)\n",
    "for i in np.arange(n+1):\n",
    "    if i==0:\n",
    "        momkp1[i] = 0.25/N * (mom[i+1] * (i+1)*(n-i-1) - mom[i] * 2*i*(n-i))\n",
    "    elif i==n:\n",
    "        momkp1[i] = 0.25/N * (mom[i-1] * (i-1)*(n-i+1) - mom[i] * 2*i*(n-i))\n",
    "    else:\n",
    "        momkp1[i] = 0.25/N * (mom[i-1] * (i-1)*(n-i+1) + mom[i+1] * (i+1)*(n-i-1) - mom[i] * 2*i*(n-i))\n",
    "    \n",
    "    momkp1[i] += mom[i]"
   ]
  },
  {
   "cell_type": "code",
   "execution_count": 82,
   "metadata": {},
   "outputs": [
    {
     "name": "stdout",
     "output_type": "stream",
     "text": [
      "[3.75002089e-09 2.42546799e-07 3.65681504e-09 4.58933097e-11\n",
      " 4.68030856e-13 3.75640869e-15 2.26802417e-17 9.61092800e-20\n",
      " 2.52684930e-22 3.07184597e-25 0.00000000e+00 0.00000000e+00\n",
      " 0.00000000e+00 0.00000000e+00 0.00000000e+00 0.00000000e+00\n",
      " 0.00000000e+00 0.00000000e+00 0.00000000e+00 0.00000000e+00\n",
      " 0.00000000e+00]\n",
      "[4.21085981e-09 2.41638286e-07 4.09155895e-09 5.85927275e-11\n",
      " 6.96124114e-13 6.69565056e-15 5.04731535e-17 2.84876547e-19\n",
      " 1.12243087e-21 2.72687767e-24 3.04112751e-27 0.00000000e+00\n",
      " 0.00000000e+00 0.00000000e+00 0.00000000e+00 0.00000000e+00\n",
      " 0.00000000e+00 0.00000000e+00 0.00000000e+00 0.00000000e+00\n",
      " 0.00000000e+00]\n"
     ]
    }
   ],
   "source": [
    "print(mom)\n",
    "print(momkp1)"
   ]
  },
  {
   "cell_type": "code",
   "execution_count": 270,
   "metadata": {},
   "outputs": [
    {
     "data": {
      "text/plain": [
       "array([nan, nan, nan, nan, nan, nan, nan, nan, nan, nan])"
      ]
     },
     "execution_count": 270,
     "metadata": {},
     "output_type": "execute_result"
    }
   ],
   "source": []
  },
  {
   "cell_type": "code",
   "execution_count": 294,
   "metadata": {},
   "outputs": [],
   "source": [
    "## testbed for procedural code for drift operator - numpy broadcasting\n",
    "# mom[1] = n*mu # singleton input\n",
    "mom = deepcopy(momkp1)\n",
    "momkp1[iterm1p1] = mom[iterm1p1] + 0.25/N * (mom[iterm1p1-1] * (iterm1p1-1)*(n-iterm1p1+1) + mom[iterm1p1+1] * (iterm1p1+1)*(n-iterm1p1-1) - mom[iterm1p1] * 2*iterm1p1*(n-iterm1p1))\n",
    "\n",
    "momkp1[1] = mom[1] + 0.25/N * ((n-2) * 2 * mom[2] - 2 * (n-1) * mom[1])\n",
    "momkp1[n-1] = mom[n-1] + 0.25/N * ((n-2) * 2 * mom[n-2] - 2 * (n-1) * mom[n-1])"
   ]
  },
  {
   "cell_type": "code",
   "execution_count": 299,
   "metadata": {},
   "outputs": [
    {
     "name": "stdout",
     "output_type": "stream",
     "text": [
      "[           nan 2.43435375e-07 1.84765081e-09 1.00007404e-11\n",
      " 3.41946851e-14 5.51805307e-17 0.00000000e+00 0.00000000e+00\n",
      " 0.00000000e+00 0.00000000e+00 0.00000000e+00 0.00000000e+00\n",
      " 0.00000000e+00 0.00000000e+00 0.00000000e+00 0.00000000e+00\n",
      " 0.00000000e+00 0.00000000e+00 0.00000000e+00 0.00000000e+00\n",
      "            nan]\n",
      "[           nan 2.42516973e-07 2.29692594e-09 1.65504946e-11\n",
      " 8.47611829e-14 2.73198807e-16 4.13853980e-19 0.00000000e+00\n",
      " 0.00000000e+00 0.00000000e+00 0.00000000e+00 0.00000000e+00\n",
      " 0.00000000e+00 0.00000000e+00 0.00000000e+00 0.00000000e+00\n",
      " 0.00000000e+00 0.00000000e+00 0.00000000e+00 0.00000000e+00\n",
      "            nan]\n"
     ]
    },
    {
     "data": {
      "text/plain": [
       "2.4529306118530093e-07"
      ]
     },
     "execution_count": 299,
     "metadata": {},
     "output_type": "execute_result"
    }
   ],
   "source": [
    "print(mom)\n",
    "print(momkp1)\n",
    "np.sum(mom[[False] + [True]*(n-1) + [False]])"
   ]
  },
  {
   "cell_type": "code",
   "execution_count": 208,
   "metadata": {},
   "outputs": [
    {
     "ename": "IndexError",
     "evalue": "index 21 is out of bounds for axis 0 with size 21",
     "output_type": "error",
     "traceback": [
      "\u001b[0;31m---------------------------------------------------------------------------\u001b[0m",
      "\u001b[0;31mIndexError\u001b[0m                                Traceback (most recent call last)",
      "\u001b[0;32m/var/folders/vc/r8504j4j0ds4cvn52fqczvzh0000gr/T/ipykernel_21010/2033833412.py\u001b[0m in \u001b[0;36m<module>\u001b[0;34m\u001b[0m\n\u001b[1;32m     13\u001b[0m     \u001b[0mmomnp1\u001b[0m\u001b[0;34m[\u001b[0m\u001b[0mi\u001b[0m\u001b[0;34m]\u001b[0m \u001b[0;34m=\u001b[0m \u001b[0malpha\u001b[0m \u001b[0;34m*\u001b[0m \u001b[0mmom\u001b[0m\u001b[0;34m[\u001b[0m\u001b[0mibis\u001b[0m\u001b[0;34m-\u001b[0m\u001b[0;36m1\u001b[0m\u001b[0;34m]\u001b[0m \u001b[0;34m+\u001b[0m \u001b[0mbeta\u001b[0m \u001b[0;34m*\u001b[0m \u001b[0mmom\u001b[0m\u001b[0;34m[\u001b[0m\u001b[0mibis\u001b[0m\u001b[0;34m]\u001b[0m \u001b[0;34m+\u001b[0m \u001b[0mgamma\u001b[0m \u001b[0;34m*\u001b[0m \u001b[0mmom\u001b[0m\u001b[0;34m[\u001b[0m\u001b[0mibis\u001b[0m\u001b[0;34m+\u001b[0m\u001b[0;36m1\u001b[0m\u001b[0;34m]\u001b[0m\u001b[0;34m\u001b[0m\u001b[0;34m\u001b[0m\u001b[0m\n\u001b[1;32m     14\u001b[0m \u001b[0;34m\u001b[0m\u001b[0m\n\u001b[0;32m---> 15\u001b[0;31m     \u001b[0mmomkp1\u001b[0m\u001b[0;34m[\u001b[0m\u001b[0mi\u001b[0m\u001b[0;34m]\u001b[0m \u001b[0;34m=\u001b[0m \u001b[0ms\u001b[0m \u001b[0;34m*\u001b[0m \u001b[0;34m(\u001b[0m\u001b[0;36m0.5\u001b[0m\u001b[0;34m/\u001b[0m\u001b[0;34m(\u001b[0m\u001b[0mn\u001b[0m \u001b[0;34m+\u001b[0m \u001b[0;36m1\u001b[0m\u001b[0;34m)\u001b[0m \u001b[0;34m*\u001b[0m \u001b[0;34m(\u001b[0m\u001b[0mi\u001b[0m \u001b[0;34m*\u001b[0m \u001b[0;34m(\u001b[0m\u001b[0mn\u001b[0m \u001b[0;34m+\u001b[0m \u001b[0;36m1\u001b[0m \u001b[0;34m-\u001b[0m \u001b[0mi\u001b[0m\u001b[0;34m)\u001b[0m \u001b[0;34m*\u001b[0m \u001b[0mmomnp1\u001b[0m\u001b[0;34m[\u001b[0m\u001b[0mi\u001b[0m\u001b[0;34m]\u001b[0m\u001b[0;34m)\u001b[0m \u001b[0;34m-\u001b[0m \u001b[0;34m(\u001b[0m\u001b[0mn\u001b[0m \u001b[0;34m-\u001b[0m \u001b[0mi\u001b[0m\u001b[0;34m)\u001b[0m \u001b[0;34m*\u001b[0m \u001b[0;34m(\u001b[0m\u001b[0mi\u001b[0m \u001b[0;34m+\u001b[0m \u001b[0;36m1\u001b[0m\u001b[0;34m)\u001b[0m \u001b[0;34m*\u001b[0m \u001b[0mmomnp1\u001b[0m\u001b[0;34m[\u001b[0m\u001b[0mi\u001b[0m\u001b[0;34m+\u001b[0m\u001b[0;36m1\u001b[0m\u001b[0;34m]\u001b[0m\u001b[0;34m)\u001b[0m\u001b[0;34m\u001b[0m\u001b[0;34m\u001b[0m\u001b[0m\n\u001b[0m",
      "\u001b[0;31mIndexError\u001b[0m: index 21 is out of bounds for axis 0 with size 21"
     ]
    }
   ],
   "source": [
    "## coding up the selection operator - for each i (only need to compute once)\n",
    "# mom[1] = n*mu\n",
    "mom = deepcopy(momkp1)\n",
    "for i in np.arange(n+1):\n",
    "    ibis = index_bis(i + 1, n) - 1\n",
    "    \n",
    "    alpha = 0.5 * (n+1) * (4 + i**2 * (6+5*n+n**2) - i * (14+9*n+n**2) - (n+4) * (2*i*(n+2)-n-5) * ibis + (n**2+7*n+12) * ibis**2) / (n+2) / (n+3) / (n+4)\n",
    "\n",
    "    beta = (n+1) * ((i+1) * (n+2) * (i*(n+3)-n-6) - 2 * (n+4) * (i*(n+2)-1) * ibis + (n**2+7*n+12) * ibis**2) / (n+2) / (n+3) / (n+4)\n",
    "\n",
    "    gamma = 0.5 * (n+1) * ((i+1) * (n+2) * (i*(n+3)-2) - (n+4) * (2*i*(n+2)+n+1) * ibis + (n**2+7*n+12) * ibis**2) / (n+2) / (n+3) / (n+4)\n",
    "\n",
    "    momnp1[i] = alpha * mom[ibis-1] + beta * mom[ibis] + gamma * mom[ibis+1]\n",
    "\n",
    "    momkp1[i] = s * (0.5/(n + 1) * (i * (n + 1 - i) * momnp1[i]) - (n - i) * (i + 1) * momnp1[i+1])"
   ]
  },
  {
   "cell_type": "code",
   "execution_count": 182,
   "metadata": {},
   "outputs": [
    {
     "name": "stdout",
     "output_type": "stream",
     "text": [
      "[ 7.46916507e-07  2.02811110e-07  6.38490378e-10  2.16182284e-12\n",
      "  8.30774214e-15  3.50306322e-17  1.53134874e-19  6.42411718e-22\n",
      "  2.32102370e-24  4.23448669e-26 -7.57003369e-27  3.46776336e-29\n",
      "  9.96875462e-30  0.00000000e+00  0.00000000e+00  0.00000000e+00\n",
      "  0.00000000e+00  0.00000000e+00  0.00000000e+00  0.00000000e+00\n",
      "  0.00000000e+00]\n",
      "[ 8.28654218e-07  1.98110487e-07  6.82635193e-10  2.55426014e-12\n",
      "  1.09967011e-14  5.30264760e-17  2.73702526e-19  1.42571413e-21\n",
      "  6.92724763e-24  3.44710707e-25 -3.89100218e-26 -5.11391074e-28\n",
      "  9.58214031e-29 -8.76173414e-31 -9.65353709e-32  0.00000000e+00\n",
      "  0.00000000e+00  0.00000000e+00  0.00000000e+00  0.00000000e+00\n",
      "  0.00000000e+00]\n"
     ]
    }
   ],
   "source": [
    "print(mom)\n",
    "print(momkp1)"
   ]
  },
  {
   "cell_type": "code",
   "execution_count": 213,
   "metadata": {},
   "outputs": [
    {
     "ename": "IndexError",
     "evalue": "index 21 is out of bounds for axis 0 with size 21",
     "output_type": "error",
     "traceback": [
      "\u001b[0;31m---------------------------------------------------------------------------\u001b[0m",
      "\u001b[0;31mIndexError\u001b[0m                                Traceback (most recent call last)",
      "\u001b[0;32m/var/folders/vc/r8504j4j0ds4cvn52fqczvzh0000gr/T/ipykernel_21010/1613497153.py\u001b[0m in \u001b[0;36m<module>\u001b[0;34m\u001b[0m\n\u001b[1;32m     14\u001b[0m     \u001b[0mmomnp1\u001b[0m\u001b[0;34m[\u001b[0m\u001b[0mi\u001b[0m\u001b[0;34m]\u001b[0m \u001b[0;34m=\u001b[0m \u001b[0malpha\u001b[0m\u001b[0;34m[\u001b[0m\u001b[0mi\u001b[0m\u001b[0;34m]\u001b[0m \u001b[0;34m*\u001b[0m \u001b[0mmom\u001b[0m\u001b[0;34m[\u001b[0m\u001b[0mibis\u001b[0m\u001b[0;34m-\u001b[0m\u001b[0;36m1\u001b[0m\u001b[0;34m]\u001b[0m \u001b[0;34m+\u001b[0m \u001b[0mbeta\u001b[0m\u001b[0;34m[\u001b[0m\u001b[0mi\u001b[0m\u001b[0;34m]\u001b[0m \u001b[0;34m*\u001b[0m \u001b[0mmom\u001b[0m\u001b[0;34m[\u001b[0m\u001b[0mibis\u001b[0m\u001b[0;34m]\u001b[0m \u001b[0;34m+\u001b[0m \u001b[0mgamma\u001b[0m\u001b[0;34m[\u001b[0m\u001b[0mi\u001b[0m\u001b[0;34m]\u001b[0m \u001b[0;34m*\u001b[0m \u001b[0mmom\u001b[0m\u001b[0;34m[\u001b[0m\u001b[0mibis\u001b[0m\u001b[0;34m+\u001b[0m\u001b[0;36m1\u001b[0m\u001b[0;34m]\u001b[0m\u001b[0;34m\u001b[0m\u001b[0;34m\u001b[0m\u001b[0m\n\u001b[1;32m     15\u001b[0m \u001b[0;34m\u001b[0m\u001b[0m\n\u001b[0;32m---> 16\u001b[0;31m     \u001b[0mmomkp1\u001b[0m\u001b[0;34m[\u001b[0m\u001b[0mi\u001b[0m\u001b[0;34m]\u001b[0m \u001b[0;34m=\u001b[0m \u001b[0ms\u001b[0m \u001b[0;34m*\u001b[0m \u001b[0;34m(\u001b[0m\u001b[0;36m0.5\u001b[0m\u001b[0;34m/\u001b[0m\u001b[0;34m(\u001b[0m\u001b[0mn\u001b[0m \u001b[0;34m+\u001b[0m \u001b[0;36m1\u001b[0m\u001b[0;34m)\u001b[0m \u001b[0;34m*\u001b[0m \u001b[0;34m(\u001b[0m\u001b[0mi\u001b[0m \u001b[0;34m*\u001b[0m \u001b[0;34m(\u001b[0m\u001b[0mn\u001b[0m \u001b[0;34m+\u001b[0m \u001b[0;36m1\u001b[0m \u001b[0;34m-\u001b[0m \u001b[0mi\u001b[0m\u001b[0;34m)\u001b[0m \u001b[0;34m*\u001b[0m \u001b[0mmomnp1\u001b[0m\u001b[0;34m[\u001b[0m\u001b[0mi\u001b[0m\u001b[0;34m]\u001b[0m\u001b[0;34m)\u001b[0m \u001b[0;34m-\u001b[0m \u001b[0;34m(\u001b[0m\u001b[0mn\u001b[0m \u001b[0;34m-\u001b[0m \u001b[0mi\u001b[0m\u001b[0;34m)\u001b[0m \u001b[0;34m*\u001b[0m \u001b[0;34m(\u001b[0m\u001b[0mi\u001b[0m \u001b[0;34m+\u001b[0m \u001b[0;36m1\u001b[0m\u001b[0;34m)\u001b[0m \u001b[0;34m*\u001b[0m \u001b[0mmomnp1\u001b[0m\u001b[0;34m[\u001b[0m\u001b[0mi\u001b[0m\u001b[0;34m+\u001b[0m\u001b[0;36m1\u001b[0m\u001b[0;34m]\u001b[0m\u001b[0;34m)\u001b[0m\u001b[0;34m\u001b[0m\u001b[0;34m\u001b[0m\u001b[0m\n\u001b[0m",
      "\u001b[0;31mIndexError\u001b[0m: index 21 is out of bounds for axis 0 with size 21"
     ]
    }
   ],
   "source": [
    "## coding up the selection operator through broadcast\n",
    "# compute alpha, beta, gamma once\n",
    "alpha = beta = gamma = np.zeros(n+1)\n",
    "# mom = deepcopy(momkp1)\n",
    "for i in np.arange(n+1):\n",
    "    ibis = index_bis(i + 1, n) \n",
    "    \n",
    "    alpha[i] = 0.5 * (n+1) * (4 + i**2 * (6+5*n+n**2) - i * (14+9*n+n**2) - (n+4) * (2*i*(n+2)-n-5) * ibis + (n**2+7*n+12) * ibis**2) / (n+2) / (n+3) / (n+4)\n",
    "\n",
    "    beta[i] = (n+1) * ((i+1) * (n+2) * (i*(n+3)-n-6) - 2 * (n+4) * (i*(n+2)-1) * ibis + (n**2+7*n+12) * ibis**2) / (n+2) / (n+3) / (n+4)\n",
    "\n",
    "    gamma[i] = 0.5 * (n+1) * ((i+1) * (n+2) * (i*(n+3)-2) - (n+4) * (2*i*(n+2)+n+1) * ibis + (n**2+7*n+12) * ibis**2) / (n+2) / (n+3) / (n+4)\n",
    "\n",
    "    momnp1[i] = alpha[i] * mom[ibis-1] + beta[i] * mom[ibis] + gamma[i] * mom[ibis+1]\n",
    "\n",
    "    momkp1[i] = s * (0.5/(n + 1) * (i * (n + 1 - i) * momnp1[i]) - (n - i) * (i + 1) * momnp1[i+1])"
   ]
  },
  {
   "cell_type": "code",
   "execution_count": 212,
   "metadata": {},
   "outputs": [
    {
     "name": "stdout",
     "output_type": "stream",
     "text": [
      "1.0479249011857708 3.133399209486166 3.0400197628458496\n"
     ]
    }
   ],
   "source": [
    "print(alpha, beta, gamma)"
   ]
  },
  {
   "cell_type": "code",
   "execution_count": 226,
   "metadata": {},
   "outputs": [],
   "source": [
    "## borrowed directly from https://bitbucket.org/simongravel/moments/src/main/moments/Jackknife.pyx\n",
    "def calcJK13(n):\n",
    "    J = np.zeros((n-1, 3))\n",
    "    for i in np.arange(n):\n",
    "        ibis = index_bis(i + 1, n) - 1\n",
    "        J[i, 1] = -(1.+n) * ((2.+i)*(2.+n)*(-6.-n+(i+1.)*(3.+n))-2.*(4.+n)*(-1.+(i+1.)*(2.+n))*(ibis+1.)+(12.+7.*n+n**2)*(ibis+1.)**2) / (2.+n) / (3.+n) / (4.+n)\n",
    "        J[i, 0] = (1.+n) * (4.+(1.+i)**2*(6.+5.*n+n**2)-(i+1.)*(14.+9.*n+n**2)-(4.+n)*(-5.-n+2.*(i+1.)*(2.+n))*(ibis+1.)+(12.+7.*n+n**2)*(ibis+1.)**2) / (2.+n) / (3.+n) / (4.+n) / 2.\n",
    "        J[i, 2] = (1.+n) * ((2.+i)*(2.+n)*(-2.+(i+1.)*(3.+n))-(4.+n)*(1.+n+2.*(i+1.)*(2.+n))*(ibis+1.)+(12.+7.*n+n**2)*(ibis+1.)**2) / (2.+n) / (3.+n) / (4.+n) / 2.\n",
    "    return ([index_bis(i + 1, n) for i in np.arange(n)], J)"
   ]
  },
  {
   "cell_type": "code",
   "execution_count": 233,
   "metadata": {},
   "outputs": [
    {
     "data": {
      "text/plain": [
       "<matplotlib.lines._AxLine at 0x122dcb6d0>"
      ]
     },
     "execution_count": 233,
     "metadata": {},
     "output_type": "execute_result"
    },
    {
     "data": {
      "image/png": "[encoded data removed]",
      "text/plain": [
       "<Figure size 550x385 with 1 Axes>"
      ]
     },
     "metadata": {},
     "output_type": "display_data"
    }
   ],
   "source": [
    "plt.scatter(alpha[iterp1],jk13[:,0],alpha=0.6)\n",
    "plt.scatter(beta[iterp1],jk13[:,1],alpha=0.6,color='k')\n",
    "plt.scatter(gamma[iterp1],jk13[:,2],alpha=0.6,color='g')\n",
    "plt.axline((0,0),(1,1),color='red',ls='--')"
   ]
  },
  {
   "cell_type": "code",
   "execution_count": 320,
   "metadata": {},
   "outputs": [],
   "source": [
    "# mom[1] = n*mu\n",
    "mom = deepcopy(momkp1)\n",
    "\n",
    "# notice the difference in indexing for LHS\n",
    "momnp1[np.arange(1,n+1)] = jk13[:,0] * mom[np.array(ibis)-1] + jk13[:,1] * mom[np.array(ibis)] + jk13[:,2] * mom[np.array(ibis)+1]\n",
    "\n",
    "momkp1[iter] = s * (iter * (n+1-iter) * momnp1[iter] - (n-iter) * (iter+1) * momnp1[iter+1])"
   ]
  },
  {
   "cell_type": "code",
   "execution_count": 322,
   "metadata": {},
   "outputs": [
    {
     "name": "stdout",
     "output_type": "stream",
     "text": [
      "[ 0.00000000e+00  3.47393282e-07 -2.74700456e-06  9.13676456e-06\n",
      " -1.42137300e-05  9.56752223e-06 -8.71191881e-07 -1.33307747e-06\n",
      " -6.56337308e-08  1.34241108e-07  6.70000175e-08 -3.22001121e-09\n",
      "  1.48352614e-09 -3.46108917e-09  2.65250369e-10  1.84175088e-11\n",
      "  0.00000000e+00  0.00000000e+00  0.00000000e+00  0.00000000e+00\n",
      "  0.00000000e+00]\n",
      "[ 0.00000000e+00 -1.68969109e-07  2.14661410e-06 -1.12314191e-05\n",
      "  2.74575538e-05 -3.20712343e-05  1.39560769e-05  2.84388861e-06\n",
      " -2.38415376e-06 -8.34192739e-07 -6.62103993e-08  2.68651407e-07\n",
      "  1.14818048e-07 -4.36374154e-08  1.07681937e-08 -8.43065545e-09\n",
      "  1.45768421e-09 -2.70206834e-11 -2.61412150e-12  0.00000000e+00\n",
      "  0.00000000e+00]\n"
     ]
    }
   ],
   "source": [
    "print(mom)\n",
    "print(momkp1)"
   ]
  },
  {
   "cell_type": "code",
   "execution_count": 306,
   "metadata": {},
   "outputs": [
    {
     "data": {
      "text/plain": [
       "array([[ 1.0479249 , -0.10375494,  0.01037549],\n",
       "       [ 0.02075099,  1.03754941, -0.10375494],\n",
       "       [ 0.03458498,  1.0513834 , -0.13142292],\n",
       "       [ 0.05187747,  1.0583004 , -0.15563241],\n",
       "       [ 0.07262846,  1.0583004 , -0.1763834 ],\n",
       "       [ 0.09683794,  1.0513834 , -0.19367589],\n",
       "       [ 0.12450593,  1.03754941, -0.20750988],\n",
       "       [ 0.15563241,  1.01679842, -0.21788538],\n",
       "       [ 0.19021739,  0.98913043, -0.22480237],\n",
       "       [ 0.22826087,  0.95454545, -0.22826087],\n",
       "       [-0.22826087,  0.95454545,  0.22826087],\n",
       "       [-0.22480237,  0.98913043,  0.19021739],\n",
       "       [-0.21788538,  1.01679842,  0.15563241],\n",
       "       [-0.20750988,  1.03754941,  0.12450593],\n",
       "       [-0.19367589,  1.0513834 ,  0.09683794],\n",
       "       [-0.1763834 ,  1.0583004 ,  0.07262846],\n",
       "       [-0.15563241,  1.0583004 ,  0.05187747],\n",
       "       [-0.13142292,  1.0513834 ,  0.03458498],\n",
       "       [-0.10375494,  1.03754941,  0.02075099],\n",
       "       [ 0.01037549, -0.10375494,  1.0479249 ]])"
      ]
     },
     "execution_count": 306,
     "metadata": {},
     "output_type": "execute_result"
    },
    {
     "data": {
      "image/png": "[encoded data removed]",
      "text/plain": [
       "<Figure size 550x385 with 1 Axes>"
      ]
     },
     "metadata": {},
     "output_type": "display_data"
    }
   ],
   "source": [
    "ibis, jk13 = calcJK13(20)\n",
    "plt.imshow(jk13)\n",
    "jk13"
   ]
  }
 ],
 "metadata": {
  "interpreter": {
   "hash": "37dbdfb015eb2911072604397bc3ab5127f1ef4d866242904832becb363c8f9b"
  },
  "kernelspec": {
   "display_name": "Python 3.9.7 64-bit ('cvae': conda)",
   "language": "python",
   "name": "python3"
  },
  "language_info": {
   "codemirror_mode": {
    "name": "ipython",
    "version": 3
   },
   "file_extension": ".py",
   "mimetype": "text/x-python",
   "name": "python",
   "nbconvert_exporter": "python",
   "pygments_lexer": "ipython3",
   "version": "3.9.7"
  },
  "orig_nbformat": 4
 },
 "nbformat": 4,
 "nbformat_minor": 2
}
