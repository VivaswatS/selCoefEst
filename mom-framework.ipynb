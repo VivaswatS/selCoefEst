{
 "cells": [
  {
   "cell_type": "markdown",
   "metadata": {},
   "source": [
    "## Notebook to code up method of moments framework \n",
    "\n",
    "Here, I will use the method of moments framework used to track the trajectory of the site frequency spectrum through time given drift and selection from [Jouganous et. al. 2017](https://www.genetics.org/content/206/3/1549). Mostly, I will just use equations to start from a certain generation $t$ back in time and then iterate until generation 0. Then I will store this SFS as a data entry for allele age $t$ and certain selection coefficient $s$. This process will be repeated for each value of $\\{1,\\ldots,gen,\\ldots,12000\\}$ generations. \n",
    "\n",
    "These vectors need to be summed to marginalize over *all* generations $a$, to give $P(X, a | s)$.\n",
    "\n",
    "First, need to get a handle on what $\\Phi_n^k(i)$ really is - can just be represented as *np.array*\n",
    "\n",
    "$\\phi_n^k(i)$ is the expected number of sites where the alternate allele is observed exactly $i$ times in a sample of size $n$ at generation $k$. "
   ]
  },
  {
   "cell_type": "code",
   "execution_count": 1,
   "metadata": {},
   "outputs": [],
   "source": [
    "# numerics + rv stuff\n",
    "import numpy as np\n",
    "import scipy as sp\n",
    "from scipy.stats.distributions import chi2\n",
    "from scipy.sparse import coo_matrix\n",
    "from scipy.sparse import linalg\n",
    "from numpy.random import default_rng\n",
    "import moments\n",
    "import dadi \n",
    "import Selection\n",
    "# plotting + misc tools\n",
    "import pandas as pd\n",
    "import matplotlib.pyplot as plt\n",
    "import matplotlib.patches as mpatches\n",
    "import itertools as it\n",
    "from copy import deepcopy\n",
    "import matplotlib.colors as colors\n",
    "import seaborn\n",
    "from matplotlib import cm \n",
    "\n",
    "# rng setup\n",
    "rng = default_rng(100496)\n",
    "\n",
    "# change matplotlib fonts\n",
    "plt.rcParams[\"font.family\"] = \"Arial\"\n",
    "plt.rcParams[\"font.sans-serif\"] = \"Arial\"\n",
    "plt.rcParams[\"figure.figsize\"] = [5, 3.5]\n",
    "plt.rcParams[\"figure.dpi\"] = 110\n",
    "plt.rcParams.update({\"figure.facecolor\": \"white\"})\n",
    "\n",
    "# set numpy print option to a more readable format for floats\n",
    "np.set_printoptions(formatter={'float': lambda x: \"{0:0.3f}\".format(x)})"
   ]
  },
  {
   "cell_type": "code",
   "execution_count": 2,
   "metadata": {},
   "outputs": [],
   "source": [
    "N = 10000\n",
    "s = -10/N # 25/N -> gamma2 = 50 - strong selection\n",
    "mu = 1.25e-8 # human mutation rate\n",
    "n = 2000 # 2 * # of inds sampled, diploid\n",
    "\n",
    "# start in generation 10 so generation 11 has all zeros (going back in time)\n",
    "tot_gen = 10000\n",
    "time_steps = np.linspace(0, tot_gen-1, 100, dtype=int)\n",
    "\n",
    "mom = np.zeros((tot_gen+1,n+1))\n",
    "momnp1 = np.zeros(n+1)\n",
    "momkp1 = np.zeros((tot_gen+1,n+1))\n",
    "\n",
    "# double precaution - creating a mask\n",
    "mk = [False] + [True]*(n-1) + [False]\n",
    "\n",
    "iter = np.arange(1,n)\n",
    "iterm1p1 = np.arange(2,n-1)"
   ]
  },
  {
   "cell_type": "code",
   "execution_count": 3,
   "metadata": {},
   "outputs": [],
   "source": [
    "## borrowed directly from https://bitbucket.org/simongravel/moments/src/main/moments/Jackknife.pyx\n",
    "def python2round(f):\n",
    "    if round(f + 1) - round(f) != 1:\n",
    "        return f + abs(f) / f * 0.5\n",
    "    return round(f)\n",
    "\n",
    "# The choice i' in n samples that best approximates the frequency of i/(n + 1) is i*n / (n + 1)\n",
    "def index_bis(i, n):\n",
    "    return int(min(max(python2round(i * n / float(n+1)), 2), n-2))"
   ]
  },
  {
   "cell_type": "code",
   "execution_count": 4,
   "metadata": {},
   "outputs": [],
   "source": [
    "# code borrowed from https://bitbucket.org/simongravel/moments/src/main/moments/Jackknife.pyx  \n",
    "def calcJK13(n):\n",
    "    J = np.zeros((n,n-1))\n",
    "    for i in range(n):\n",
    "        ibis = index_bis(i + 1, n) - 1\n",
    "        J[i, ibis] = -(1.+n) * ((2.+i)*(2.+n)*(-6.-n+(i+1.)*(3.+n))-2.*(4.+n)*(-1.+(i+1.)*(2.+n))*(ibis+1.)+(12.+7.*n+n**2)*(ibis+1.)**2) / (2.+n) / (3.+n) / (4.+n)\n",
    "        J[i, ibis - 1] = (1.+n) * (4.+(1.+i)**2*(6.+5.*n+n**2)-(i+1.)*(14.+9.*n+n**2)-(4.+n)*(-5.-n+2.*(i+1.)*(2.+n))*(ibis+1.)+(12.+7.*n+n**2)*(ibis+1.)**2) / (2.+n) / (3.+n) / (4.+n) / 2.\n",
    "        J[i, ibis + 1] = (1.+n) * ((2.+i)*(2.+n)*(-2.+(i+1.)*(3.+n))-(4.+n)*(1.+n+2.*(i+1.)*(2.+n))*(ibis+1.)+(12.+7.*n+n**2)*(ibis+1.)**2) / (2.+n) / (3.+n) / (4.+n) / 2.\n",
    "    return J"
   ]
  },
  {
   "cell_type": "code",
   "execution_count": null,
   "metadata": {},
   "outputs": [],
   "source": [
    "## testbed for a single realization of gen = t\n",
    "mom[tot_gen,1] = n*mu # singleton input\n",
    "\n",
    "J = calcJK13(n)\n",
    "\n",
    "# going from generation 9 to 0\n",
    "for gen in np.arange(tot_gen)[::-1]:\n",
    "    momkp1[gen,iterm1p1] = 0.25/N * (mom[gen+1,iterm1p1-1] * (iterm1p1-1)*(n-iterm1p1+1) + mom[gen+1,iterm1p1+1] * (iterm1p1+1)*(n-iterm1p1-1) - mom[gen+1,iterm1p1] * 2*iterm1p1*(n-iterm1p1))\n",
    "\n",
    "    momkp1[gen,1] = 0.25/N * ((n-2) * 2 * mom[gen+1,2] - 2 * (n-1) * mom[gen+1,1])\n",
    "    momkp1[gen,n-1] = 0.25/N * ((n-2) * 2 * mom[gen+1,n-2] - 2 * (n-1) * mom[gen+1,n-1])\n",
    "\n",
    "    # notice the difference in indexing for LHS\n",
    "    # momnp1[np.arange(1,n+1)] = (jk13[:,0] * mom[gen+1,np.array(ibis)-1] - jk13[:,1] * mom[gen+1,np.array(ibis)] + jk13[:,2] * mom[gen+1,np.array(ibis)+1])\n",
    "    momnp1[np.arange(1,n+1)] = (J @ mom[gen+1,iter])\n",
    "\n",
    "    momkp1[gen,iter] += mom[gen+1,iter] + 0.5 * s/(n+1) * (iter * (n+1-iter) * momnp1[iter] - (n-iter) * (iter+1) * momnp1[iter+1])\n",
    "\n",
    "    mom[gen,] = deepcopy(momkp1[gen,])\n",
    "\n",
    "mom2 = deepcopy(mom)"
   ]
  },
  {
   "cell_type": "code",
   "execution_count": null,
   "metadata": {},
   "outputs": [],
   "source": [
    "## code to run APR's moments and compare with output from above\n",
    "# initialize the spectrum, with 1 in singleton bin\n",
    "fs = moments.Spectrum(np.zeros(2*n + 1))\n",
    "fs[1] = n*1\n",
    "# simulate a generations\n",
    "T = tot_gen / 2 / N\n",
    "# set relative size to 1, theta to 0 to forbid new mutations\n",
    "fs.integrate([1], T, gamma=s*2*N, h=0.5, theta=0, adapt_dt=True, dt_fac=0.005)"
   ]
  },
  {
   "cell_type": "code",
   "execution_count": 5,
   "metadata": {},
   "outputs": [
    {
     "ename": "NameError",
     "evalue": "name 'calcD' is not defined",
     "output_type": "error",
     "traceback": [
      "\u001b[0;31m---------------------------------------------------------------------------\u001b[0m",
      "\u001b[0;31mNameError\u001b[0m                                 Traceback (most recent call last)",
      "Input \u001b[0;32mIn [5]\u001b[0m, in \u001b[0;36m<module>\u001b[0;34m\u001b[0m\n\u001b[1;32m      2\u001b[0m mom[\u001b[38;5;241m100\u001b[39m,\u001b[38;5;241m1\u001b[39m] \u001b[38;5;241m=\u001b[39m n\u001b[38;5;241m*\u001b[39m\u001b[38;5;241m1\u001b[39m \u001b[38;5;66;03m# singleton input\u001b[39;00m\n\u001b[1;32m      4\u001b[0m dt \u001b[38;5;241m=\u001b[39m \u001b[38;5;241m1\u001b[39m\n\u001b[0;32m----> 6\u001b[0m D \u001b[38;5;241m=\u001b[39m \u001b[38;5;241m0.25\u001b[39m\u001b[38;5;241m/\u001b[39mN \u001b[38;5;241m*\u001b[39m \u001b[43mcalcD\u001b[49m(n\u001b[38;5;241m+\u001b[39m\u001b[38;5;241m1\u001b[39m)\n\u001b[1;32m      7\u001b[0m J \u001b[38;5;241m=\u001b[39m calcJK13(n\u001b[38;5;241m+\u001b[39m\u001b[38;5;241m1\u001b[39m)\n\u001b[1;32m      8\u001b[0m S \u001b[38;5;241m=\u001b[39m \u001b[38;5;241m0.5\u001b[39m \u001b[38;5;241m*\u001b[39m s \u001b[38;5;241m*\u001b[39m calcS(n\u001b[38;5;241m+\u001b[39m\u001b[38;5;241m1\u001b[39m, J)\n",
      "\u001b[0;31mNameError\u001b[0m: name 'calcD' is not defined"
     ]
    }
   ],
   "source": [
    "## testbed for a single realization of gen = t & the Crank-Nicolson method\n",
    "mom[100,1] = n*1 # singleton input\n",
    "\n",
    "dt = 1\n",
    "\n",
    "D = 0.25/N * calcD(n+1)\n",
    "J = calcJK13(n+1)\n",
    "S = 0.5 * s * calcS(n+1, J)\n",
    "\n",
    "# if N is same across all gens then only have to do this once\n",
    "slv = linalg.factorized(sp.sparse.identity(S.shape[0], dtype=\"float\", format=\"csc\") - dt / 2.0 * (D + S))\n",
    "Q = sp.sparse.identity(S.shape[0], dtype=\"float\", format=\"csc\") + dt / 2.0 * (D + S)\n",
    "\n",
    "# going from generation 9 to 0\n",
    "for gen in np.arange(100)[::-1]:\n",
    "\n",
    "    # momkp1[gen,iter] = mom[gen+1,iter] + ((D[iter,] + S[iter,]) @ mom[gen+1,])\n",
    "    momkp1[gen,iter] = mom[gen+1,iter] + slv(Q.dot(mom[gen+1,iter]))\n",
    "    momkp1[gen,0] = momkp1[gen,n] = 0.0\n",
    "\n",
    "    mom[gen,] = deepcopy(momkp1[gen,])"
   ]
  },
  {
   "cell_type": "code",
   "execution_count": 6,
   "metadata": {},
   "outputs": [],
   "source": [
    "def calcD(d):\n",
    "    data = []\n",
    "    row = []\n",
    "    col = []\n",
    "    # loop over the fs elements:\n",
    "    for i in range(d):\n",
    "        if i > 1:\n",
    "            data.append((i-1) * (d-i))\n",
    "            row.append(i)\n",
    "            col.append(i - 1)\n",
    "        if i < d - 2:\n",
    "            data.append((i+1) * (d-i-2))\n",
    "            col.append(i + 1)\n",
    "            row.append(i)\n",
    "        if i > 0 and i < d - 1:\n",
    "            data.append(-2 * i * (d-i-1))\n",
    "            row.append(i)\n",
    "            col.append(i)\n",
    "\n",
    "    return coo_matrix((data, (row, col)), shape=(d, d), dtype='float').tocsc()"
   ]
  },
  {
   "cell_type": "code",
   "execution_count": 7,
   "metadata": {},
   "outputs": [],
   "source": [
    "def calcS(d, ljk):\n",
    "    # Computes the jackknife-transformed selection matrix 1\n",
    "    # for the addition of a single sample\n",
    "    # arrays for the creation of the sparse (coo) matrix\n",
    "    # data will have matrix entry, row + column have coordinates\n",
    "    data = []\n",
    "    row = []\n",
    "    col = []\n",
    "    # loop over the fs elements:\n",
    "    for i in range(d):\n",
    "        i_bis = index_bis(i, d - 1) # This picks the second jackknife index \n",
    "        i_ter = index_bis(i + 1, d - 1) # This picks the third jackknife index\n",
    "        # coefficients of the selection matrix\n",
    "        g1 = i * (d-i) / np.float64(d)\n",
    "        g2 = -(i+1) * (d-1-i) / np.float64(d)\n",
    "\n",
    "        if i < d - 1 and i > 0: # First deal with non-fixed variants\n",
    "            data += [g1 * ljk[i - 1, i_bis - 1], g1 * ljk[i - 1, i_bis - 2],\n",
    "                    g1 * ljk[i - 1, i_bis], g2 * ljk[i, i_ter - 1],\n",
    "                    g2 * ljk[i, i_ter - 2], g2 * ljk[i, i_ter]]\n",
    "            row += 6 * [i]\n",
    "            col += [i_bis, i_bis - 1, i_bis + 1,\n",
    "                    i_ter, i_ter - 1, i_ter + 1]\n",
    "        \n",
    "        elif i == 0: # g1=0\n",
    "            data += [g2 * ljk[i, i_ter - 1],\n",
    "                     g2 * ljk[i, i_ter - 2], g2 * ljk[i, i_ter]]\n",
    "            row += 3 * [i]\n",
    "            col += [i_ter, i_ter - 1, i_ter + 1]\n",
    "        \n",
    "        elif i == d - 1: # g2=0\n",
    "            data += [g1 * ljk[i - 1, i_bis - 1], g1 * ljk[i - 1, i_bis - 2],\n",
    "                     g1 * ljk[i - 1, i_bis]]\n",
    "            row += 3 * [i]\n",
    "            col += [i_bis, i_bis - 1, i_bis + 1]\n",
    "\n",
    "    return coo_matrix((data, (row, col)), shape=(d, d), dtype='float').tocsc()"
   ]
  },
  {
   "cell_type": "code",
   "execution_count": 8,
   "metadata": {},
   "outputs": [],
   "source": [
    "## packaging into a function for easy manipulation - iteration implementation \n",
    "# input: a (number of gens), n (number of samples), s, N (pop size)\n",
    "# output: mom (number of sites)\n",
    "def run_mom_iterate(a, n, s, N, mu, misc):\n",
    "    mom = np.zeros((a+1,n+1))\n",
    "    # momnp1 = np.zeros(n+1)\n",
    "    momkp1 = np.zeros(n+1)\n",
    "\n",
    "    D = 0.25/N * calcD(n+1)\n",
    "    J = calcJK13(n)\n",
    "    S = 0.5 * s * calcS(n+1, J)\n",
    "\n",
    "    # if N is same across all gens then only have to do this once\n",
    "    slv = linalg.factorized(sp.sparse.identity(S.shape[0], dtype=\"float\", format=\"csc\") - 0.5 * (D + S))\n",
    "    Q = sp.sparse.identity(S.shape[0], dtype=\"float\", format=\"csc\") + 0.5 * (D + S)\n",
    "\n",
    "    mom[a,1] = 1 # singleton input\n",
    "\n",
    "    # going from generation 9 to 0\n",
    "    for gen in np.arange(a)[::-1]:\n",
    "        # momkp1[iterm1p1] = 0.25/N * (mom[gen+1,iterm1p1-1] * (iterm1p1-1)*(n-iterm1p1+1) + mom[gen+1,iterm1p1+1] * (iterm1p1+1)*(n-iterm1p1-1) - mom[gen+1,iterm1p1] * 2*iterm1p1*(n-iterm1p1))\n",
    "\n",
    "        # momkp1[1] = 0.25/N * ((n-2) * 2 * mom[gen+1,2] - 2 * (n-1) * mom[gen+1,1])\n",
    "        # momkp1[n-1] = 0.25/N * ((n-2) * 2 * mom[gen+1,n-2] - 2 * (n-1) * mom[gen+1,n-1])\n",
    "\n",
    "        # # notice the difference in indexing for LHS\n",
    "        # momnp1[np.arange(1,n+1)] = (J @ mom[gen+1,iter])\n",
    "\n",
    "        # momkp1[iter] += 0.5 * s/(n+1) * (iter * (n+1-iter) * momnp1[iter] - (n-iter) * (iter+1) * momnp1[iter+1])\n",
    "        \n",
    "        # momkp1[1:n] = mom[gen+1,1:n] + ((D[1:n,1:n] + S[1:n,1:n]) @ mom[gen+1,1:n])\n",
    "\n",
    "        momkp1 = slv(Q.dot(mom[gen+1,]))\n",
    "        momkp1[0] = momkp1[n] = 0.0\n",
    "\n",
    "        mom[gen,] = deepcopy(momkp1)\n",
    "\n",
    "    return n*mu*mom[:-1,:]           "
   ]
  },
  {
   "cell_type": "code",
   "execution_count": 9,
   "metadata": {},
   "outputs": [],
   "source": [
    "def run_mom_iterate_changing(n, s, Nc, mu, misc):\n",
    "    mom = np.zeros((len(Nc)+1,n+1))\n",
    "    # momnp1 = np.zeros(n+1)\n",
    "    momkp1 = np.zeros(n+1)\n",
    "\n",
    "    changepoints = len(Nc) - np.concatenate((np.array([0]),np.where(Nc[:-1] != Nc[1:])[0]+1),axis=0)\n",
    "    changepoints = np.append(changepoints, 0)\n",
    "\n",
    "    mom[len(Nc),1] = 1 # singleton input\n",
    "    \n",
    "    # only need to do this once - no dependence on N\n",
    "    J = calcJK13(n)\n",
    "    S = 0.5 * s * calcS(n+1, J)\n",
    "\n",
    "    for i in range(len(changepoints)-1):\n",
    "        D = 0.25/Nc[len(Nc)-changepoints[i]] * calcD(n+1)\n",
    "\n",
    "        slv = linalg.factorized(sp.sparse.identity(S.shape[0], dtype=\"float\", format=\"csc\") - 0.5 * (D + S))\n",
    "        Q = sp.sparse.identity(S.shape[0], dtype=\"float\", format=\"csc\") + 0.5 * (D + S)\n",
    "\n",
    "        for gen in np.arange(changepoints[i+1],changepoints[i])[::-1]:\n",
    "            momkp1 = slv(Q.dot(mom[gen+1,]))\n",
    "            momkp1[0] = momkp1[n] = 0.0\n",
    "\n",
    "            mom[gen,] = deepcopy(momkp1)\n",
    "\n",
    "    return n*mu*mom[:-1,:]           "
   ]
  },
  {
   "cell_type": "code",
   "execution_count": null,
   "metadata": {},
   "outputs": [],
   "source": [
    "## starting from the past to the present (Nc[-1] is current generation)\n",
    "# Nc = np.concatenate((np.repeat(20000,10000),np.repeat(2000,2000)))\n",
    "# changepoints = len(Nc) - np.concatenate((np.array([0]),np.where(Nc[:-1] != Nc[1:])[0]+1),axis=0)\n",
    "# mom_outc = run_mom_iterate_changing(1000, -0.000125, Nc, mu, None)\n",
    "# plt.imshow(mom_outc[10000:12000,:],aspect='auto',norm=colors.LogNorm(vmax=1e-4,vmin=1e-7)); plt.colorbar(); plt.show()\n",
    "# plt.imshow(mom_outc/np.sum(mom_outc),aspect='auto',norm=colors.LogNorm(vmin=1e-10)); plt.colorbar(); plt.show()"
   ]
  },
  {
   "cell_type": "code",
   "execution_count": null,
   "metadata": {},
   "outputs": [],
   "source": [
    "# fs = run_mom_integrate(4000, 1000, 0.5*gamma[0]/N, N, mu, misc = {'dt_fac':0.02, 'adapt_dt':False})\n",
    "# plt.imshow(fs[:,:],aspect='auto',norm=colors.LogNorm(vmax=10e-7,vmin=10e-30)); plt.colorbar(); plt.show()\n",
    "# fs2 = run_mom_integrate2(4000, 200, 0.5*gamma[0]/N, N, mu, misc = {'dt_fac':0.02, 'adapt_dt':False})\n",
    "# plt.imshow(fs2[:,:],aspect='auto',norm=colors.LogNorm(vmax=10e-7,vmin=10e-30)); plt.colorbar(); plt.show()\n",
    "mom = run_mom_iterate(8000, 2000, 0.5*gamma[10]/N, N, mu, np.nan)\n",
    "plt.imshow(mom[:,:],aspect='auto',norm=colors.LogNorm(vmax=10e-7,vmin=10e-30)); plt.colorbar(); plt.show()\n",
    "# fs.shape, mom.shape\n",
    "# plt.scatter(np.ravel(mom[:,1:-1]), np.ravel(fs[:,1:-1]), color='grey', alpha=0.75, s=5); plt.loglog()\n",
    "# plt.axline((0,0),(1,1),color='red',ls='--', linewidth=0.6); plt.xlabel('iterative framework'); plt.ylabel('integrative framework'); plt.title('γ = {}'.format(-100.))"
   ]
  },
  {
   "cell_type": "code",
   "execution_count": 61,
   "metadata": {},
   "outputs": [],
   "source": [
    "## function where each generation was integrated to separately\n",
    "def run_mom_integrate(a, n, s, N, mu, misc):\n",
    "    fsmat = np.zeros((a,n+1))\n",
    "    for idt, dt in enumerate(np.linspace(0.5/N,0.5*a/N,a)[::-1]):\n",
    "        fs = moments.Spectrum(np.zeros(n + 1))\n",
    "        fs[1] = 1\n",
    "        fs.integrate([1], dt, gamma=2*s*N, h=0.5, theta=0, dt_fac=misc['dt_fac'], adapt_dt=misc['adapt_dt'])\n",
    "        fsmat[idt,:] = n*mu*fs\n",
    "    return fsmat\n",
    "\n",
    "## function where each generation is only integrated from previous generation\n",
    "def run_mom_integrate2(a, n, s, N, mu, misc):\n",
    "    fsmat = np.zeros((a,n+1))\n",
    "    dt = 0.5/N\n",
    "    fs = moments.Spectrum(fsmat[-1,:])\n",
    "    fs[1] = 1\n",
    "    fs.integrate([1], dt, gamma=2*s*N, h=0.5, theta=0)\n",
    "    fsmat[-1,:] = fs\n",
    "    for idt in np.arange(0,a-1)[::-1]:\n",
    "        # fs = moments.Spectrum(fsmat[idt+1,:])\n",
    "        fs.integrate([1], dt, gamma=2*s*N, h=0.5, theta=0, dt_fac=misc['dt_fac'], adapt_dt=misc['adapt_dt'])\n",
    "        fsmat[idt,:] = fs\n",
    "    return n*mu*fsmat"
   ]
  },
  {
   "cell_type": "code",
   "execution_count": 12,
   "metadata": {},
   "outputs": [],
   "source": [
    "## creating a database of P(X, a | s) with dicts for different s values\n",
    "# import io\n",
    "# up_xa_s = h5py.File(io.BytesIO(), 'w')\n",
    "gamma2 = -np.logspace(-0.5,2.5,30)\n",
    "up_xa_s = dict.fromkeys(gamma2)\n",
    "## use different lengths of time for each gamma (high gamma - small limits)\n",
    "## go up to 5 orders of magnitude below start (i.e., E[# seg sites] < 1e-11)\n",
    "# limal = np.concatenate((np.linspace(7500,85000,20,dtype=int),np.repeat(85000,30)))\n",
    "# limal = np.linspace(80000,5000,20,dtype=int)\n",
    "for ig, g in enumerate(gamma2):\n",
    "    # unscaled probability - almost likelihood\n",
    "    up_xa_s[g] = run_mom_iterate(80000, 2000, 0.5*g/N, N, mu, misc = {'dt_fac':0.02, 'adapt_dt':True})\n",
    "    # can project down to any sample size using moments.Spectrum(p_xa_s[g][-1,:]).project([20])*120/20"
   ]
  },
  {
   "cell_type": "code",
   "execution_count": 64,
   "metadata": {},
   "outputs": [],
   "source": [
    "testup_xa_s = {}\n",
    "testup_xa_s[gamma[6]] = run_mom_integrate(80000, 2000, 0.5*g/N, N, mu, misc = {'dt_fac':0.02, 'adapt_dt':True})"
   ]
  },
  {
   "cell_type": "code",
   "execution_count": 154,
   "metadata": {},
   "outputs": [
    {
     "data": {
      "text/plain": [
       "[]"
      ]
     },
     "execution_count": 154,
     "metadata": {},
     "output_type": "execute_result"
    },
    {
     "data": {
      "image/png": "[encoded data removed]",
      "text/plain": [
       "<Figure size 550x385 with 1 Axes>"
      ]
     },
     "metadata": {},
     "output_type": "display_data"
    }
   ],
   "source": [
    "# testup_xa_s[gamma[6]][:,np.arange(cutoff,n-cutoff+1)] = testup_xa_s[gamma[6]][:,np.arange(cutoff,n-cutoff+1)]/np.sum(testup_xa_s[gamma[6]][:,np.arange(cutoff,n-cutoff+1)])\n",
    "fs = moments.Spectrum(np.zeros(2000 + 1))\n",
    "fs[1] = 1\n",
    "fs.integrate([1], 120000/2/N, gamma=gamma[-1], theta=0, adapt_dt=True, dt_fac=0.0001)\n",
    "testp_xa_s = fs\n",
    "testp_xa_s[cutoff:(2000-cutoff+1)] = fs[cutoff:(2000-cutoff+1)]/np.sum(fs[cutoff:(2000-cutoff+1)])\n",
    "plt.plot(np.arange(2,1001),testp_xa_s[2:1001],marker='o'); plt.loglog()\n",
    "# testp_xa_s = np.sum(testup_xa_s[gamma[6]], axis=0)"
   ]
  },
  {
   "cell_type": "code",
   "execution_count": 146,
   "metadata": {},
   "outputs": [
    {
     "data": {
      "text/plain": [
       "Spectrum([-- 5.531784385398576e-38 5.411052503651587e-38 ... 3.7141418900092836e-53\n",
       " 3.709722075003993e-53 --], folded=False, pop_ids=None)"
      ]
     },
     "execution_count": 146,
     "metadata": {},
     "output_type": "execute_result"
    }
   ],
   "source": []
  },
  {
   "cell_type": "code",
   "execution_count": null,
   "metadata": {},
   "outputs": [],
   "source": [
    "# import io\n",
    "# up_xa_s = h5py.File(io.BytesIO(), 'w')\n",
    "# up_xa_s.create_dataset(\"-1.\",data=run_mom_iterate(limal[-1], 2000, -0.5/N, N, mu, misc = {'dt_fac':0.02, 'adapt_dt':True}))\n",
    "# up_xa_s.create_dataset(\"-100.\",data=run_mom_iterate(limal[0], 2000, -500./N, N, mu, misc = {'dt_fac':0.02, 'adapt_dt':True}))"
   ]
  },
  {
   "cell_type": "code",
   "execution_count": null,
   "metadata": {},
   "outputs": [],
   "source": [
    "## took 19 hours for first 13 gamma values - estimate: approx 3 days for all gamma values (since smaller ones take longer)\n",
    "## using fs.integrate...\n",
    "## iterate only takes 2 mins\n",
    "# with open('testdata/fsintegrate.pkl', 'wb') as f:\n",
    "#     pkl.dump(up_xa_s, f)"
   ]
  },
  {
   "cell_type": "code",
   "execution_count": null,
   "metadata": {},
   "outputs": [],
   "source": [
    "## loading it back\n",
    "# import pickle as pkl\n",
    "# with open('testdata/fsintegrate.pkl', 'rb') as f:\n",
    "#     up_xa_s = pkl.load(f)"
   ]
  },
  {
   "cell_type": "code",
   "execution_count": null,
   "metadata": {},
   "outputs": [],
   "source": [
    "# import sys\n",
    "# check size of different data objects\n",
    "# up_xa_s = {}\n",
    "# for ig, g in enumerate(gamma):\n",
    "#     up_xa_s[g] = np.random.randn(n*limal[ig]).reshape((n,limal[ig]))\n",
    "# sys.getsizeof(up_xa_s)"
   ]
  },
  {
   "cell_type": "code",
   "execution_count": null,
   "metadata": {},
   "outputs": [],
   "source": [
    "# use these plots to figure out when to stop (for gamma<1, ok could stop at 10k for high gamma)\n",
    "plt.scatter(np.arange(100000)[::-1],(np.sum(up_xa_s[-1.],axis=1)),alpha=0.7,color='k')\n",
    "plt.scatter(np.arange(100000)[::-1],(np.sum(up_xa_s[-.1],axis=1)),alpha=0.7,color='grey')\n",
    "plt.loglog(); plt.xlabel('gens'); plt.ylabel('exp # of seg sites')"
   ]
  },
  {
   "cell_type": "code",
   "execution_count": 13,
   "metadata": {},
   "outputs": [],
   "source": [
    "## scaling the matrix from above to get pdf (all rows sum to 1)\n",
    "cutoff = 2 # 2 x # of inds\n",
    "for g in gamma2:\n",
    "    # normalizing by rows (summing across gens)\n",
    "    # p_xa_s[g] = up_xa_s[g]/up_xa_s[g].sum(axis=0,keepdims=1)\n",
    "    # normalizing by rows and cols (summing across gens and # of derived alleles)\n",
    "    # p_xa_s[g] = up_xa_s[g]/np.sum(up_xa_s[g])\n",
    "    # normalizing by rows and cols and number of derived alleles (based on if detectable in sample or not)\n",
    "    up_xa_s[g][:,np.arange(cutoff,n-cutoff+1)] = up_xa_s[g][:,np.arange(cutoff,n-cutoff+1)]/np.sum(up_xa_s[g][:,np.arange(cutoff,n-cutoff+1)])\n",
    "    # normalizing by rows (summing across allele freqs)\n",
    "    # up_xa_s[g][:,np.arange(cutoff,n-cutoff+1)] = up_xa_s[g][:,np.arange(cutoff,n-cutoff+1)]/up_xa_s[g][:,np.arange(cutoff,n-cutoff+1)].sum(axis=1,keepdims=True)\n",
    "\n",
    "# import pickle as pkl\n",
    "# with open('testdata/fsintegrate.pkl', 'wb') as f:\n",
    "#     pkl.dump(up_xa_s, f)"
   ]
  },
  {
   "cell_type": "code",
   "execution_count": 14,
   "metadata": {},
   "outputs": [],
   "source": [
    "## summing across rows and then normalizing to get P(X|\\gamma) \n",
    "# already been normalized above so just need to sum across rows/gens\n",
    "p_xa_s = {}\n",
    "for g in gamma2:\n",
    "    p_xa_s[g] = np.sum(up_xa_s[g], axis=0)"
   ]
  },
  {
   "cell_type": "code",
   "execution_count": null,
   "metadata": {},
   "outputs": [],
   "source": [
    "## projecting the moments to a smaller sample size & then scaling (optional)\n",
    "# ss = 20 # small sample\n",
    "# pp_xa_s = {}\n",
    "# for g in gamma:\n",
    "#     pp_xa_s[g] = np.zeros((up_xa_s[g].shape[0],ss))\n",
    "#     for i in range(up_xa_s[g].shape[0]):\n",
    "#         pp_xa_s[g][i,:] = moments.Spectrum(up_xa_s[g][i,:]).project([ss]) * 150/ss\n",
    "#     pp_xa_s[g] = pp_xa_s[g]/pp_xa_s[g].sum(axis=0,keepdims=1)"
   ]
  },
  {
   "cell_type": "code",
   "execution_count": null,
   "metadata": {},
   "outputs": [],
   "source": [
    "plt.imshow(up_xa_s[gamma[15]],aspect='auto',norm=colors.LogNorm(vmax=1e-7,vmin=1e-20)); plt.colorbar()\n",
    "# np.min(p_xa_s[gamma[4]][10,:])"
   ]
  },
  {
   "cell_type": "markdown",
   "metadata": {},
   "source": [
    "### Reading in simulation data for comparison"
   ]
  },
  {
   "cell_type": "code",
   "execution_count": 14,
   "metadata": {},
   "outputs": [],
   "source": [
    "df2 = pd.read_csv(\"../traindata/trip-2022-03-29.csv\")\n",
    "df2['gamma'] = df2['gamma'].round(decimals=2)\n",
    "df2['empty'] = ''\n",
    "df2['empty2'] = ''\n",
    "df2['sXl'] = rng.binomial(n=n, p=df2['Xl'])\n",
    "gamma = np.unique(df2['gamma'])"
   ]
  },
  {
   "cell_type": "code",
   "execution_count": 15,
   "metadata": {},
   "outputs": [
    {
     "data": {
      "text/html": [
       "<div>\n",
       "<style scoped>\n",
       "    .dataframe tbody tr th:only-of-type {\n",
       "        vertical-align: middle;\n",
       "    }\n",
       "\n",
       "    .dataframe tbody tr th {\n",
       "        vertical-align: top;\n",
       "    }\n",
       "\n",
       "    .dataframe thead th {\n",
       "        text-align: right;\n",
       "    }\n",
       "</style>\n",
       "<table border=\"1\" class=\"dataframe\">\n",
       "  <thead>\n",
       "    <tr style=\"text-align: right;\">\n",
       "      <th></th>\n",
       "      <th>Xl</th>\n",
       "      <th>gamma</th>\n",
       "      <th>al</th>\n",
       "      <th>empty</th>\n",
       "      <th>empty2</th>\n",
       "      <th>sXl</th>\n",
       "    </tr>\n",
       "  </thead>\n",
       "  <tbody>\n",
       "    <tr>\n",
       "      <th>4741</th>\n",
       "      <td>0.002050</td>\n",
       "      <td>-100.0</td>\n",
       "      <td>1311.0</td>\n",
       "      <td></td>\n",
       "      <td></td>\n",
       "      <td>7</td>\n",
       "    </tr>\n",
       "    <tr>\n",
       "      <th>2469</th>\n",
       "      <td>0.004550</td>\n",
       "      <td>-100.0</td>\n",
       "      <td>134.0</td>\n",
       "      <td></td>\n",
       "      <td></td>\n",
       "      <td>12</td>\n",
       "    </tr>\n",
       "    <tr>\n",
       "      <th>718</th>\n",
       "      <td>0.004250</td>\n",
       "      <td>-100.0</td>\n",
       "      <td>42.0</td>\n",
       "      <td></td>\n",
       "      <td></td>\n",
       "      <td>3</td>\n",
       "    </tr>\n",
       "    <tr>\n",
       "      <th>1684</th>\n",
       "      <td>0.003500</td>\n",
       "      <td>-100.0</td>\n",
       "      <td>327.0</td>\n",
       "      <td></td>\n",
       "      <td></td>\n",
       "      <td>7</td>\n",
       "    </tr>\n",
       "    <tr>\n",
       "      <th>1441</th>\n",
       "      <td>0.001550</td>\n",
       "      <td>-100.0</td>\n",
       "      <td>40.0</td>\n",
       "      <td></td>\n",
       "      <td></td>\n",
       "      <td>2</td>\n",
       "    </tr>\n",
       "    <tr>\n",
       "      <th>...</th>\n",
       "      <td>...</td>\n",
       "      <td>...</td>\n",
       "      <td>...</td>\n",
       "      <td>...</td>\n",
       "      <td>...</td>\n",
       "      <td>...</td>\n",
       "    </tr>\n",
       "    <tr>\n",
       "      <th>99056</th>\n",
       "      <td>0.019750</td>\n",
       "      <td>-1.0</td>\n",
       "      <td>1764.0</td>\n",
       "      <td></td>\n",
       "      <td></td>\n",
       "      <td>40</td>\n",
       "    </tr>\n",
       "    <tr>\n",
       "      <th>97494</th>\n",
       "      <td>0.056100</td>\n",
       "      <td>-1.0</td>\n",
       "      <td>6145.0</td>\n",
       "      <td></td>\n",
       "      <td></td>\n",
       "      <td>104</td>\n",
       "    </tr>\n",
       "    <tr>\n",
       "      <th>99727</th>\n",
       "      <td>0.401025</td>\n",
       "      <td>-1.0</td>\n",
       "      <td>48293.0</td>\n",
       "      <td></td>\n",
       "      <td></td>\n",
       "      <td>798</td>\n",
       "    </tr>\n",
       "    <tr>\n",
       "      <th>98331</th>\n",
       "      <td>0.044675</td>\n",
       "      <td>-1.0</td>\n",
       "      <td>4486.0</td>\n",
       "      <td></td>\n",
       "      <td></td>\n",
       "      <td>85</td>\n",
       "    </tr>\n",
       "    <tr>\n",
       "      <th>96410</th>\n",
       "      <td>0.052900</td>\n",
       "      <td>-1.0</td>\n",
       "      <td>1680.0</td>\n",
       "      <td></td>\n",
       "      <td></td>\n",
       "      <td>104</td>\n",
       "    </tr>\n",
       "  </tbody>\n",
       "</table>\n",
       "<p>20000 rows × 6 columns</p>\n",
       "</div>"
      ],
      "text/plain": [
       "             Xl  gamma       al empty empty2  sXl\n",
       "4741   0.002050 -100.0   1311.0                 7\n",
       "2469   0.004550 -100.0    134.0                12\n",
       "718    0.004250 -100.0     42.0                 3\n",
       "1684   0.003500 -100.0    327.0                 7\n",
       "1441   0.001550 -100.0     40.0                 2\n",
       "...         ...    ...      ...   ...    ...  ...\n",
       "99056  0.019750   -1.0   1764.0                40\n",
       "97494  0.056100   -1.0   6145.0               104\n",
       "99727  0.401025   -1.0  48293.0               798\n",
       "98331  0.044675   -1.0   4486.0                85\n",
       "96410  0.052900   -1.0   1680.0               104\n",
       "\n",
       "[20000 rows x 6 columns]"
      ]
     },
     "execution_count": 15,
     "metadata": {},
     "output_type": "execute_result"
    }
   ],
   "source": [
    "# df1['sXl'] = np.around(df1['Xl']*n).astype(int)\n",
    "nsites = 1000\n",
    "idx2keep = np.empty(len(gamma)*nsites,dtype='int')\n",
    "for ig, _ in enumerate(gamma):\n",
    "    idx2keep[(ig*nsites):(ig+1)*nsites] = rng.choice(np.where(df2['sXl'][(ig*5000):(ig+1)*5000]>1)[0], nsites, False) + ig*5000\n",
    "df2 = df2.iloc[idx2keep,:]\n",
    "dat2 = df2.to_numpy()\n",
    "df2"
   ]
  },
  {
   "cell_type": "code",
   "execution_count": 66,
   "metadata": {},
   "outputs": [
    {
     "data": {
      "text/html": [
       "<div>\n",
       "<style scoped>\n",
       "    .dataframe tbody tr th:only-of-type {\n",
       "        vertical-align: middle;\n",
       "    }\n",
       "\n",
       "    .dataframe tbody tr th {\n",
       "        vertical-align: top;\n",
       "    }\n",
       "\n",
       "    .dataframe thead th {\n",
       "        text-align: right;\n",
       "    }\n",
       "</style>\n",
       "<table border=\"1\" class=\"dataframe\">\n",
       "  <thead>\n",
       "    <tr style=\"text-align: right;\">\n",
       "      <th></th>\n",
       "      <th>Xl</th>\n",
       "      <th>s</th>\n",
       "      <th>al</th>\n",
       "      <th>id</th>\n",
       "      <th>empty</th>\n",
       "      <th>sXl</th>\n",
       "    </tr>\n",
       "  </thead>\n",
       "  <tbody>\n",
       "    <tr>\n",
       "      <th>0</th>\n",
       "      <td>0.0005</td>\n",
       "      <td>-1.0</td>\n",
       "      <td>1</td>\n",
       "      <td>50003174.0</td>\n",
       "      <td></td>\n",
       "      <td>1</td>\n",
       "    </tr>\n",
       "    <tr>\n",
       "      <th>1</th>\n",
       "      <td>0.0055</td>\n",
       "      <td>-1.0</td>\n",
       "      <td>564</td>\n",
       "      <td>49721655.0</td>\n",
       "      <td></td>\n",
       "      <td>11</td>\n",
       "    </tr>\n",
       "    <tr>\n",
       "      <th>2</th>\n",
       "      <td>0.0015</td>\n",
       "      <td>-1.0</td>\n",
       "      <td>17</td>\n",
       "      <td>49995042.0</td>\n",
       "      <td></td>\n",
       "      <td>3</td>\n",
       "    </tr>\n",
       "    <tr>\n",
       "      <th>3</th>\n",
       "      <td>0.005</td>\n",
       "      <td>-1.0</td>\n",
       "      <td>63</td>\n",
       "      <td>49972181.0</td>\n",
       "      <td></td>\n",
       "      <td>10</td>\n",
       "    </tr>\n",
       "    <tr>\n",
       "      <th>4</th>\n",
       "      <td>0.003</td>\n",
       "      <td>-1.0</td>\n",
       "      <td>146</td>\n",
       "      <td>49930441.0</td>\n",
       "      <td></td>\n",
       "      <td>6</td>\n",
       "    </tr>\n",
       "    <tr>\n",
       "      <th>...</th>\n",
       "      <td>...</td>\n",
       "      <td>...</td>\n",
       "      <td>...</td>\n",
       "      <td>...</td>\n",
       "      <td>...</td>\n",
       "      <td>...</td>\n",
       "    </tr>\n",
       "    <tr>\n",
       "      <th>19995</th>\n",
       "      <td>0.001</td>\n",
       "      <td>-100.0</td>\n",
       "      <td>64</td>\n",
       "      <td>49962764.0</td>\n",
       "      <td></td>\n",
       "      <td>2</td>\n",
       "    </tr>\n",
       "    <tr>\n",
       "      <th>19996</th>\n",
       "      <td>0.0015</td>\n",
       "      <td>-100.0</td>\n",
       "      <td>488</td>\n",
       "      <td>49750645.0</td>\n",
       "      <td></td>\n",
       "      <td>3</td>\n",
       "    </tr>\n",
       "    <tr>\n",
       "      <th>19997</th>\n",
       "      <td>0.0005</td>\n",
       "      <td>-100.0</td>\n",
       "      <td>213</td>\n",
       "      <td>49888502.0</td>\n",
       "      <td></td>\n",
       "      <td>1</td>\n",
       "    </tr>\n",
       "    <tr>\n",
       "      <th>19998</th>\n",
       "      <td>0.001</td>\n",
       "      <td>-100.0</td>\n",
       "      <td>84</td>\n",
       "      <td>49952830.0</td>\n",
       "      <td></td>\n",
       "      <td>2</td>\n",
       "    </tr>\n",
       "    <tr>\n",
       "      <th>19999</th>\n",
       "      <td>0.0025</td>\n",
       "      <td>-100.0</td>\n",
       "      <td>23</td>\n",
       "      <td>49983212.0</td>\n",
       "      <td></td>\n",
       "      <td>5</td>\n",
       "    </tr>\n",
       "  </tbody>\n",
       "</table>\n",
       "<p>20000 rows × 6 columns</p>\n",
       "</div>"
      ],
      "text/plain": [
       "           Xl      s   al          id empty  sXl\n",
       "0      0.0005   -1.0    1  50003174.0          1\n",
       "1      0.0055   -1.0  564  49721655.0         11\n",
       "2      0.0015   -1.0   17  49995042.0          3\n",
       "3       0.005   -1.0   63  49972181.0         10\n",
       "4       0.003   -1.0  146  49930441.0          6\n",
       "...       ...    ...  ...         ...   ...  ...\n",
       "19995   0.001 -100.0   64  49962764.0          2\n",
       "19996  0.0015 -100.0  488  49750645.0          3\n",
       "19997  0.0005 -100.0  213  49888502.0          1\n",
       "19998   0.001 -100.0   84  49952830.0          2\n",
       "19999  0.0025 -100.0   23  49983212.0          5\n",
       "\n",
       "[20000 rows x 6 columns]"
      ]
     },
     "execution_count": 66,
     "metadata": {},
     "output_type": "execute_result"
    }
   ],
   "source": [
    "df1"
   ]
  },
  {
   "cell_type": "code",
   "execution_count": 236,
   "metadata": {},
   "outputs": [
    {
     "data": {
      "image/png": "[encoded data removed]",
      "text/plain": [
       "<Figure size 550x385 with 1 Axes>"
      ]
     },
     "metadata": {},
     "output_type": "display_data"
    }
   ],
   "source": [
    "from statsmodels.distributions.empirical_distribution import ECDF\n",
    "## PReFerSim selection coefficient is HALF of backward WF sims (need to test this further—simple to rerun cell, but long runtime)\n",
    "def plot_ecdf_al_sxl(idx):\n",
    "    indices = np.arange((19*1000),(19+1)*1000)\n",
    "    indices2 = np.arange((16*1000),(16+1)*1000)\n",
    "    age1_ecdf = ECDF(df1['al'][::-1].iloc[indices])\n",
    "    age2_ecdf = ECDF(df2['al'].iloc[indices2])\n",
    "    x = np.linspace(1,np.max(df2['al'].iloc[indices]))\n",
    "    y1 = age1_ecdf(x)\n",
    "    y2 = age2_ecdf(x)\n",
    "    plt.plot(x, y1, color='green', alpha=0.7, label='PReFerSim vals'); plt.xlabel('age (gens)'); plt.semilogx()\n",
    "    plt.plot(x, y2, color='purple', alpha=0.7, label='backward approx WF vals'); plt.title('γ={}'.format(gamma[0])); plt.legend()\n",
    "\n",
    "plot_ecdf_al_sxl(0)"
   ]
  },
  {
   "cell_type": "code",
   "execution_count": 235,
   "metadata": {},
   "outputs": [
    {
     "data": {
      "text/plain": [
       "(81875   -2.07\n",
       " 80960   -2.07\n",
       " 82026   -2.07\n",
       " 81889   -2.07\n",
       " 81110   -2.07\n",
       "          ... \n",
       " 82143   -2.07\n",
       " 81991   -2.07\n",
       " 80214   -2.07\n",
       " 81968   -2.07\n",
       " 82274   -2.07\n",
       " Name: gamma, Length: 1000, dtype: float64,\n",
       " 999   -1.0\n",
       " 998   -1.0\n",
       " 997   -1.0\n",
       " 996   -1.0\n",
       " 995   -1.0\n",
       "       ... \n",
       " 4     -1.0\n",
       " 3     -1.0\n",
       " 2     -1.0\n",
       " 1     -1.0\n",
       " 0     -1.0\n",
       " Name: s, Length: 1000, dtype: object)"
      ]
     },
     "execution_count": 235,
     "metadata": {},
     "output_type": "execute_result"
    }
   ],
   "source": [
    "df2['gamma'].iloc[np.arange((16*1000),(16+1)*1000)], df1['s'][::-1].iloc[np.arange((19*1000),(19+1)*1000)]"
   ]
  },
  {
   "cell_type": "code",
   "execution_count": null,
   "metadata": {},
   "outputs": [],
   "source": [
    "# interpolate gamma (in other words, I need a denser grid of gamma values around the MLE for better quadratic estimation)\n",
    "interp_gamma = np.zeros((len(gamma),5))\n",
    "interp_gamma[0,] = -np.exp(np.linspace(np.log(-gamma[1]),np.log(125),5))\n",
    "for ig, g in enumerate(gamma[1:-1]):\n",
    "    interp_gamma[ig+1,] = -np.exp(np.linspace(np.log(-gamma[ig+2]),np.log(-gamma[ig]),5))\n",
    "interp_gamma[-1,] = -np.exp(np.linspace(np.log(0.7),np.log(-gamma[-2]),5))"
   ]
  },
  {
   "cell_type": "code",
   "execution_count": null,
   "metadata": {},
   "outputs": [],
   "source": [
    "## going through and deleting entries that are very close to each other (tol=1)\n",
    "interp_gamma = interp_gamma.round(2)\n",
    "print(interp_gamma)\n",
    "it_gamma = np.unique(np.hstack((gamma,np.ravel(interp_gamma))))\n",
    "it_gamma"
   ]
  },
  {
   "cell_type": "code",
   "execution_count": 16,
   "metadata": {},
   "outputs": [],
   "source": [
    "## function to obtain the log P(X,|gamma)\n",
    "def get_lp_xl(g, sXlred, n=2000, cutoff=20):\n",
    "    \"\"\"function to compute L(gamma|Xl), where gamma is a range of values and Xl is a given set of freqs\"\"\"\n",
    "    res = np.empty(np.sum((sXlred>cutoff) & (sXlred<n-cutoff+1))) #np.empty(len(Xlred))\n",
    "\n",
    "    # just performing a search in a look-up table\n",
    "    for idx, i in enumerate(np.where((sXlred>cutoff) & (sXlred<n-cutoff+1))[0]):\n",
    "        res[idx] = p_xa_s[g][sXlred[i]]\n",
    "    \n",
    "    return np.log(res)\n",
    "\n",
    "def get_lp_xl2(g, sXlred, n=2000, cutoff=20):\n",
    "    \"\"\"function to compute L(gamma|Xl), where gamma is a range of values and Xl is a given set of freqs\"\"\"\n",
    "    res = np.empty(np.sum((sXlred>cutoff) & (sXlred<n-cutoff+1))) #np.empty(len(Xlred))\n",
    "\n",
    "    # ub = np.exp(2.*g)*scipy.special.expi(-2.*g*0.25/N) - scipy.special.expi(2.*g*(1-0.25/N)) - np.exp(2.*g)*(np.log(0.25/N) - np.log(1-0.25/N))\n",
    "    # lb = np.exp(2.*g)*scipy.special.expi(2.*g*(0.25/N-1)) - scipy.special.expi(2.*g*0.25/N) - np.exp(2.*g)*(np.log(1-0.25/N) - np.log(0.25/N))\n",
    "    ub = np.exp(2.*g)*sp.special.expi(-2.*g*0.5*cutoff/n) - sp.special.expi(2.*g*(1-0.5*cutoff/n)) - np.exp(2.*g)*(np.log(0.5*cutoff/n) - np.log(1-0.5*cutoff/n))\n",
    "    lb = np.exp(2.*g)*sp.special.expi(2.*g*(0.5*cutoff/n-1)) - sp.special.expi(2.*g*0.5*cutoff/n) - np.exp(2.*g)*(np.log(1-0.25/n) - np.log(0.5*cutoff/n))\n",
    "    scalfact = (ub - lb)/np.expm1(2.*g)\n",
    "\n",
    "    # return a vector...\n",
    "    for isx, sx in enumerate(np.where((sXlred>cutoff) & (sXlred<n-cutoff+1))[0]):\n",
    "        res[isx] = (1-np.exp(-2*g*(1-sXlred[sx]/n)))/(sXlred[sx]/n*(1-sXlred[sx]/n)*(1-np.exp(-2*g)))\n",
    "\n",
    "    return np.log(res/scalfact)"
   ]
  },
  {
   "cell_type": "code",
   "execution_count": 19,
   "metadata": {},
   "outputs": [
    {
     "data": {
      "image/png": "[encoded data removed]",
      "text/plain": [
       "<Figure size 550x385 with 1 Axes>"
      ]
     },
     "metadata": {},
     "output_type": "display_data"
    }
   ],
   "source": [
    "## don't need a function since the dict already exists\n",
    "Xsamp = np.arange(1,n+1)/n\n",
    "plt.hist([np.argmin(np.abs(dat[i,0]-Xsamp))+1 for i in range(len(dat))],bins=200);"
   ]
  },
  {
   "cell_type": "code",
   "execution_count": 1,
   "metadata": {},
   "outputs": [
    {
     "ename": "NameError",
     "evalue": "name 'np' is not defined",
     "output_type": "error",
     "traceback": [
      "\u001b[0;31m---------------------------------------------------------------------------\u001b[0m",
      "\u001b[0;31mNameError\u001b[0m                                 Traceback (most recent call last)",
      "Input \u001b[0;32mIn [1]\u001b[0m, in \u001b[0;36m<module>\u001b[0;34m\u001b[0m\n\u001b[1;32m      1\u001b[0m \u001b[38;5;66;03m# plt.hist(newdat[:,2],bins=100)\u001b[39;00m\n\u001b[1;32m      2\u001b[0m \u001b[38;5;66;03m# plt.hist2d(np.log(newdat[:,0]),newdat[:,2][::-1],(25,25)); plt.colorbar()\u001b[39;00m\n\u001b[1;32m      3\u001b[0m \u001b[38;5;66;03m# print(newdat[-5:,])\u001b[39;00m\n\u001b[0;32m----> 4\u001b[0m \u001b[43mnp\u001b[49m\u001b[38;5;241m.\u001b[39mwhere(np\u001b[38;5;241m.\u001b[39misinf(get_lp_alxl(gamma[\u001b[38;5;241m-\u001b[39m\u001b[38;5;241m2\u001b[39m], newdat[:,\u001b[38;5;241m0\u001b[39m], newdat[:,\u001b[38;5;241m2\u001b[39m], \u001b[38;5;241m100\u001b[39m)))\n",
      "\u001b[0;31mNameError\u001b[0m: name 'np' is not defined"
     ]
    }
   ],
   "source": [
    "# plt.hist(newdat[:,2],bins=100)\n",
    "# plt.hist2d(np.log(newdat[:,0]),newdat[:,2][::-1],(25,25)); plt.colorbar()\n",
    "# print(newdat[-5:,])\n",
    "np.where(np.isinf(get_lp_alxl(gamma[-2], newdat[:,0], newdat[:,2], 100)))\n",
    "# print(newdat[429,])\n",
    "# get_lp_alxl(gamma[-2], newdat[:,0], newdat[:,2], 100)\n",
    "# sXlred = np.around(newdat[:,0]*100).astype(int)\n",
    "# np.sum((sXlred>0) & (sXlred<100))"
   ]
  },
  {
   "cell_type": "code",
   "execution_count": 15,
   "metadata": {},
   "outputs": [],
   "source": [
    "import warnings\n",
    "warnings.filterwarnings('error')\n",
    "## just doing a lookup of sorts for the right probability\n",
    "def get_lp_alxl(g, sXlred, alred, n=2000, cutoff=2):\n",
    "    # Xsamp = np.arange(1,n)/n\n",
    "    # sXlred = np.around(Xlred*n).astype(int) # rng.binomial(n, Xlred, len(Xlred))\n",
    "    res = np.empty(np.sum((sXlred>cutoff) & (sXlred<n-cutoff+1)))\n",
    "    for idx, i in enumerate(np.where((sXlred>cutoff) & (sXlred<n-cutoff+1))[0]):\n",
    "        # if too many gens, then pass in a very low number (like -400.)\n",
    "        # res[i] = np.log(p_xa_s[g][-int(alred[i]),np.argmin(np.abs(Xlred[i]-Xsamp))+1]) if (int(alred[i]<p_xa_s[g].shape[0])) else -400. \n",
    "        try:\n",
    "            res[idx] = np.log(up_xa_s[g][-int(alred[i]),sXlred[i]]) if (int(alred[i])<up_xa_s[g].shape[0]) else np.median(np.log(up_xa_s[g][0,cutoff:(n-cutoff+1)]))\n",
    "        except RuntimeWarning:\n",
    "            print(g, sXlred[i], alred[i])\n",
    "        # if np.isinf(res[idx]):\n",
    "        #     print(i, Xlred[i], alred[i])\n",
    "\n",
    "    return res"
   ]
  },
  {
   "cell_type": "code",
   "execution_count": null,
   "metadata": {},
   "outputs": [],
   "source": [
    "## finding how many alleles have ages beyond computed values in the lookup matrix/table (like 4)\n",
    "for ig, g in enumerate(gamma):\n",
    "    alred = df1['al'].iloc[ig*1000:(ig+1)*1000]\n",
    "    print(g, np.sum(alred>up_xa_s[g].shape[0]))"
   ]
  },
  {
   "cell_type": "code",
   "execution_count": 76,
   "metadata": {},
   "outputs": [],
   "source": [
    "# trueg1 = -0.01\n",
    "trueg2 = s[5]\n",
    "# 2000 x 3 (first 1000 is g1, second 1000 is g2)\n",
    "# newdf1 = df1.iloc[np.ravel(np.where(dat[:,1]==trueg1)),0:3].append(df1.iloc[np.ravel(np.where(dat[:,1]==trueg2)),0:3])\n",
    "newdf1 = df1.iloc[np.ravel(np.where(dat[:,1]==trueg2)),:]\n",
    "# newdf1 = newdf1.sample(frac=1)\n",
    "\n",
    "newdat = newdf1.to_numpy()"
   ]
  },
  {
   "cell_type": "code",
   "execution_count": null,
   "metadata": {},
   "outputs": [],
   "source": [
    "plt.scatter(get_lp_xl(g, newdat[:,5], cutoff=10), get_lp_xl2(g, newdat[:,5], cutoff=10), alpha=0.7, color='k', s=2.5); \n",
    "plt.axline((-5.75,1.75),slope=1.,color='grey',ls='--',linewidth=0.5);\n",
    "plt.xlabel('p(X|γ) using moments framework'); plt.ylabel('using PRF approx')"
   ]
  },
  {
   "cell_type": "code",
   "execution_count": 77,
   "metadata": {},
   "outputs": [],
   "source": [
    "# sin_onlyfreq = np.empty(len(gamma))\n",
    "# sin_onlyage = np.empty(len(gamma))\n",
    "num_sims = 16\n",
    "num_samps = [1, 5, 10, 50, 100, 500]\n",
    "info_onlyfreq, info_onlyage = np.zeros((len(num_samps),num_sims)), np.zeros((len(num_samps),num_sims))\n",
    "# nboot = 10\n",
    "# for i in range(nboot):\n",
    "#     newdat = newdat[np.random.choice(len(newdat),1000,replace=True)]\n",
    "    # for ig, g in enumerate(gamma):\n",
    "        # sum log prob for each locus\n",
    "        # sin_onlyfreq[ig] = np.sum(get_lp_xl(g, newdat[:,5], cutoff=2))\n",
    "        # sin_onlyage[ig] = np.sum(get_lp_alxl(g, newdat[:,5], newdat[:,2], cutoff=2))\n",
    "        # mle = get_boot_ci(newdat,nboot=2)\n",
    "    # print(gamma[np.argmax(sin_onlyfreq)], gamma[np.argmax(sin_onlyage)])\n",
    "\n",
    "# for ig, g in enumerate(gamma):\n",
    "#     sin_onlyfreq[ig] = np.sum(get_lp_xl(g, newdat[:,5], cutoff=2))\n",
    "#     sin_onlyage[ig] = np.sum(get_lp_alxl(g, newdat[:,5], newdat[:,2], cutoff=2))\n",
    "\n",
    "# mle = get_boot_ci(newdat,nboot=20)\n",
    "# mle.mean(axis=0), mle.std(axis=0)\n",
    "\n",
    "for ins, ns in enumerate(num_samps):\n",
    "    info_onlyfreq[ins,:], info_onlyage[ins,:] = get_info_content(newdat, num_samps=ns, num_sims=num_sims, cutoff=2)"
   ]
  },
  {
   "cell_type": "code",
   "execution_count": 19,
   "metadata": {},
   "outputs": [],
   "source": [
    "def get_boot_ci(newdat, nsamps=1000, nboot=20, cutoff=2):\n",
    "    mle = np.zeros((nboot,2))\n",
    "    sin_onlyfreq, sin_onlyage = np.empty(len(gamma2)), np.empty(len(gamma2))\n",
    "    for i in range(nboot):\n",
    "        newnewdat = newdat[np.random.choice(len(newdat),nsamps,replace=True)]\n",
    "        for ig, g in enumerate(gamma2):\n",
    "            sin_onlyfreq[ig] = np.sum(get_lp_xl(g, newnewdat[:,5], cutoff=cutoff))\n",
    "            sin_onlyage[ig] = np.sum(get_lp_alxl(g, newnewdat[:,5], newnewdat[:,2], cutoff=cutoff))\n",
    "        \n",
    "        mle[i,0] = gamma2[np.argmax(sin_onlyfreq)]\n",
    "        mle[i,1] = gamma2[np.argmax(sin_onlyage)]\n",
    "\n",
    "    return mle            "
   ]
  },
  {
   "cell_type": "code",
   "execution_count": 78,
   "metadata": {},
   "outputs": [
    {
     "data": {
      "text/plain": [
       "<matplotlib.legend.Legend at 0x154bc8070>"
      ]
     },
     "execution_count": 78,
     "metadata": {},
     "output_type": "execute_result"
    },
    {
     "data": {
      "image/png": "[encoded data removed]",
      "text/plain": [
       "<Figure size 550x385 with 1 Axes>"
      ]
     },
     "metadata": {},
     "output_type": "display_data"
    }
   ],
   "source": [
    "seaborn.stripplot(data=pd.DataFrame(info_onlyfreq.T,columns=num_samps), color='deepskyblue', alpha=0.7, label='only freq')\n",
    "seaborn.stripplot(data=pd.DataFrame(info_onlyage.T,columns=num_samps), color='coral', alpha=0.7, label='freq & age')\n",
    "# plt.semilogy(); \n",
    "plt.xlabel('# of sites'); plt.ylabel('information measure'); plt.grid(); plt.title('γ = {:.1f}'.format(trueg2))\n",
    "plt.legend(handles=[mpatches.Patch(color='deepskyblue', label='only freq, total info: {:.2f}'.format(np.sum(info_onlyfreq))), mpatches.Patch(color='coral', label='freq & age, total info: {:.2f}'.format(np.sum(info_onlyage)))])"
   ]
  },
  {
   "cell_type": "code",
   "execution_count": 52,
   "metadata": {},
   "outputs": [],
   "source": [
    "def get_info_content(newdat, num_samps=800, num_sims=16, cutoff=10):\n",
    "    ci_freq, ci_age = np.zeros(num_sims), np.zeros(num_sims)\n",
    "    for n in range(num_sims):\n",
    "        newnewdat = newdat[rng.choice(newdat.shape[0], num_samps, replace=False),:]\n",
    "        sin_onlyfreq = [np.sum(get_lp_xl(g1, newnewdat[:,5], cutoff=cutoff)) for g1 in gamma2]\n",
    "        sin_onlyage = [np.sum(get_lp_alxl(g1, newnewdat[:,5], newnewdat[:,2], cutoff=cutoff)) for g1 in gamma2]\n",
    "\n",
    "        ci_freq[n] = np.abs(get_bfq(sin_onlyfreq-np.max(sin_onlyfreq), gamma2)[0])\n",
    "        ci_age[n] = np.abs(get_bfq(sin_onlyage-np.max(sin_onlyage), gamma2)[0])\n",
    "\n",
    "    return [ci_freq, ci_age]"
   ]
  },
  {
   "cell_type": "code",
   "execution_count": null,
   "metadata": {},
   "outputs": [],
   "source": [
    "def get_conf_int(loglik, thresh=2):\n",
    "    mle = gamma[np.argmax(loglik)]\n",
    "\n",
    "    if mle==np.min(gamma):\n",
    "        lower_thresh = gamma[1]  \n",
    "        return [(np.max(loglik)-thresh-loglik[np.argmax(loglik)+1])/(np.max(loglik) - loglik[np.argmax(loglik)+1])/(mle - lower_thresh)+lower_thresh, mle]\n",
    "    elif mle==np.max(gamma):\n",
    "        upper_thresh = gamma[-2] \n",
    "        return [mle, -thresh/(loglik[np.argmax(loglik)-1] - np.max(loglik))/(upper_thresh - mle)+mle]\n",
    "    else:\n",
    "        lower_thresh = gamma[np.argmax(loglik)+1] \n",
    "        upper_thresh = gamma[np.argmax(loglik)-1] \n",
    "        return [(np.max(loglik)-thresh-loglik[np.argmax(loglik)+1])*(mle - lower_thresh)/(np.max(loglik) - loglik[np.argmax(loglik)+1])+lower_thresh, -thresh*(upper_thresh - mle)/(loglik[np.argmax(loglik)-1] - np.max(loglik))+mle,]\n",
    "        # return [(np.max(loglik)-thresh-loglik[np.argmax(loglik)+1])/(np.max(loglik) - loglik[np.argmax(loglik)+1])/(mle - lower_thresh)+lower_thresh, -thresh/(loglik[np.argmax(loglik)-1] - np.max(loglik))/(upper_thresh - mle)+mle]"
   ]
  },
  {
   "cell_type": "code",
   "execution_count": null,
   "metadata": {},
   "outputs": [],
   "source": [
    "## run the same search on a denser grid\n",
    "win_sin_onlyfreq = np.empty(interp_gamma.shape[1])\n",
    "for ig, g in enumerate(interp_gamma[np.argmax(sin_onlyfreq),]):\n",
    "    win_sin_onlyfreq[ig] = np.sum(get_lp_xl(g, newdat[:,5], cutoff=10))\n",
    "\n",
    "win_sin_onlyage = np.empty(interp_gamma.shape[1])\n",
    "for ig, g in enumerate(interp_gamma[np.argmax(sin_onlyage),]):\n",
    "    win_sin_onlyage[ig] = np.sum(get_lp_alxl(g, newdat[:,5], newdat[:,2], cutoff=10))"
   ]
  },
  {
   "cell_type": "code",
   "execution_count": null,
   "metadata": {},
   "outputs": [],
   "source": [
    "densegrid = -np.logspace(0,2,base=10,num=100)\n",
    "lxlbfq = get_bfq(sin_onlyfreq-np.max(sin_onlyfreq), gamma) @ np.vstack((densegrid**2, densegrid,np.repeat(1.0,100)))\n",
    "# lxlbfq = get_bfq_win(sin_onlyfreq-np.max(sin_onlyfreq), gamma) @ np.vstack((np.repeat(1.0,len(gamma)), gamma, gamma**2,))\n",
    "# lxlalbfq = np.polynomial.polynomial.Polynomial.fit(gamma[7:10],(sin_onlyage-np.max(sin_onlyage))[7:10],deg=2).coef @ np.vstack((np.repeat(1.0,4), gamma[(np.argmax(sin_onlyage)-1):(np.argmax(sin_onlyage)+3)], gamma[(np.argmax(sin_onlyage)-1):(np.argmax(sin_onlyage)+3)]**2,))\n",
    "lxlalbfq = get_bfq(sin_onlyage-np.max(sin_onlyage), gamma) @ np.vstack((densegrid**2, densegrid,np.repeat(1.0,100)))\n",
    "# lxlalbfq = get_bfq_win(sin_onlyage-np.max(sin_onlyage), gamma) @ np.vstack((np.repeat(1.0,len(gamma)), gamma, gamma**2,))"
   ]
  },
  {
   "cell_type": "code",
   "execution_count": null,
   "metadata": {},
   "outputs": [],
   "source": [
    "plt.plot(-gamma, sin_onlyfreq-np.max(sin_onlyfreq),'grey', label='freq'); plt.ylim((-10,1)); plt.xlabel('est gamma')\n",
    "plt.axvline(-gamma[np.argmax(sin_onlyfreq)], color='grey', linestyle='--'); plt.semilogx(); \n",
    "# plt.plot(-densegrid, lxlbfq-np.max(lxlbfq), color='deepskyblue', alpha=0.6,label='best-fit quadratic Xl');#interp_gamma\n",
    "plt.axvline(-trueg2, color='red', ls='--')\n",
    "print(gamma[np.argmax(sin_onlyfreq)])\n",
    "plt.plot(-gamma, sin_onlyage-np.max(sin_onlyage),'k', label='freq & age'); plt.ylim((-10,1)); plt.semilogx()\n",
    "# plt.plot(-densegrid, lxlalbfq-np.max(lxlalbfq), color='coral', alpha=0.6,label='best-fit quadratic Xl, al');#interp_gamma[np.argmax(sin_onlyage)]\n",
    "plt.axvline(-gamma[np.argmax(sin_onlyage)], color='k', linestyle='--'); plt.ylabel('log-lik units'); plt.legend(); plt.grid()\n",
    "print(gamma[np.argmax(sin_onlyage)])\n",
    "plt.axhline(-2.,color='red',alpha=0.5)"
   ]
  },
  {
   "cell_type": "code",
   "execution_count": 54,
   "metadata": {},
   "outputs": [],
   "source": [
    "def get_bfq(loglik, gamma):\n",
    "    ## does not work for some reason—wasted multiple hours on it...\n",
    "    # return np.polynomial.polynomial.Polynomial.fit(-gamma[(ig-3):(ig+3)], loglik[(ig-3):(ig+3)], deg=2)\n",
    "    igamma = gamma[(np.argmax(loglik)-1):(np.argmax(loglik)+2)] if np.argmax(loglik)>0 else gamma[0:3]\n",
    "    loglik = loglik[(np.argmax(loglik)-1):(np.argmax(loglik)+2)] if np.argmax(loglik)>0 else loglik[0:3]\n",
    "\n",
    "    rhs = np.array([np.dot(igamma**2,loglik), np.dot(igamma,loglik), np.sum(loglik)])\n",
    "    lhs = np.array([[np.sum(igamma**4), np.sum(igamma**3), np.sum(igamma**2)],\n",
    "    [np.sum(igamma**3), np.sum(igamma**2), np.sum(igamma)],\n",
    "    [np.sum(igamma**2), np.sum(igamma), len(igamma)]])\n",
    "\n",
    "    return np.linalg.solve(lhs, rhs) "
   ]
  },
  {
   "cell_type": "code",
   "execution_count": 58,
   "metadata": {},
   "outputs": [],
   "source": [
    "preds_sin_onlyfreq = np.zeros(len(s))\n",
    "ci_sin_onlyfreq = np.zeros((len(s),2))\n",
    "\n",
    "for ig, g in enumerate(s):\n",
    "    newdf1 = df1.iloc[np.ravel(np.where(dat[:,1]==g)),:]\n",
    "    newdat = newdf1.to_numpy()\n",
    "    # sin_onlyfreq = [np.sum(get_lp_xl(g1, newdat[:,5], cutoff=5)) for g1 in gamma]\n",
    "    # preds_sin_onlyfreq[ig] = gamma[np.argmax(sin_onlyfreq)]\n",
    "    # ci_sin_onlyfreq[ig] = 1/np.abs(get_bfq(sin_onlyfreq - np.argmax(sin_onlyfreq), gamma)[0]) # get_conf_int(sin_onlyfreq)\n",
    "    info_onlyfreq[ig,:], info_onlyage[ig,:] = get_info_content(newdat, num_samps=1000, num_sims=16)"
   ]
  },
  {
   "cell_type": "code",
   "execution_count": null,
   "metadata": {},
   "outputs": [],
   "source": [
    "# preds_sin_agefreq = np.zeros(len(gamma))\n",
    "# for ig, g in enumerate(gamma):\n",
    "#     newdf1 = df1.iloc[np.ravel(np.where(dat[:,1]==g)),:]\n",
    "#     newdat = newdf1.to_numpy()\n",
    "#     sin_agefreq = [np.sum(get_lp_alxl(g1, newdat[:,5], newdat[:,2]) + get_lp_xl(g1, newdat[:,5])) for g1 in gamma]\n",
    "#     # sin_agefreq = [np.sum(get_lp_alxl(g1, newdat[:,0], newdat[:,2], n=100)) for g1 in gamma]\n",
    "#     preds_sin_agefreq[ig] = gamma[np.nanargmax(sin_agefreq)]"
   ]
  },
  {
   "cell_type": "code",
   "execution_count": null,
   "metadata": {},
   "outputs": [],
   "source": [
    "preds_sin_onlyage = np.zeros(len(gamma))\n",
    "ci_sin_onlyage = np.zeros((len(gamma),2))\n",
    "for ig, g in enumerate(gamma):\n",
    "    newdf1 = df1.iloc[np.ravel(np.where(dat[:,1]==g)),:]\n",
    "    newdat = newdf1.to_numpy()\n",
    "    # newdat = newdf1.loc[np.logical_and(newdf1['al']>1, newdf1['al']<60),:].to_numpy()\n",
    "    sin_onlyage = [np.sum(get_lp_alxl(g1, newdat[:,5], newdat[:,2], cutoff=5)) for g1 in gamma]\n",
    "    preds_sin_onlyage[ig] = gamma[np.argmax(sin_onlyage)]\n",
    "    ci_sin_onlyage[ig] = 1/np.abs(get_bfq(sin_onlyage-np.argmax(sin_onlyage), gamma)[0]) # get_conf_int(sin_onlyage)"
   ]
  },
  {
   "cell_type": "code",
   "execution_count": 33,
   "metadata": {},
   "outputs": [],
   "source": [
    "## get bootstrap std estimates but mle only calculated once\n",
    "preds_sin_onlyfreq, preds_sin_onlyage = np.zeros(len(gamma)), np.zeros(len(gamma))\n",
    "ci_sin_onlyfreq, ci_sin_onlyage = np.zeros((len(gamma),)), np.zeros((len(gamma),))\n",
    "\n",
    "for ig, g in enumerate(gamma):\n",
    "    newdf1 = df1.iloc[np.ravel(np.where(dat[:,1]==g)),:]\n",
    "    newdat = newdf1.to_numpy()\n",
    "    sin_onlyfreq = [np.sum(get_lp_xl(g1, newdat[:,5], cutoff=2)) for g1 in gamma2]\n",
    "    sin_onlyage = [np.sum(get_lp_alxl(g1, newdat[:,5], newdat[:,2], cutoff=2)) for g1 in gamma2]\n",
    "    preds_sin_onlyfreq[ig] = gamma2[np.argmax(sin_onlyfreq)]\n",
    "    preds_sin_onlyage[ig] = gamma2[np.argmax(sin_onlyage)]\n",
    "    mle = get_boot_ci(newdat, nsamps=len(newdat), nboot=50)\n",
    "    ci_sin_onlyfreq[ig,], ci_sin_onlyage[ig,] = mle.std(axis=0) #np.percentile(mle[:,0],[97.5,2.5]), np.percentile(mle[:,1],[97.5,2.5]) "
   ]
  },
  {
   "cell_type": "code",
   "execution_count": 42,
   "metadata": {},
   "outputs": [
    {
     "data": {
      "text/plain": [
       "array([-0.316, -0.401, -0.509, -0.646, -0.820, -1.040, -1.320, -1.675,\n",
       "       -2.126, -2.698, -3.424, -4.344, -5.513, -6.996, -8.877, -11.265,\n",
       "       -14.295, -18.139, -23.018, -29.209, -37.065, -47.034, -59.685,\n",
       "       -75.737, -96.108, -121.957, -154.759, -196.383, -249.202, -316.228,\n",
       "       -400.000, -500.000])"
      ]
     },
     "execution_count": 42,
     "metadata": {},
     "output_type": "execute_result"
    }
   ],
   "source": [
    "\n"
   ]
  },
  {
   "cell_type": "code",
   "execution_count": 46,
   "metadata": {},
   "outputs": [],
   "source": [
    "## get bootstrap std estimates but mle only calculated once\n",
    "preds_sin_onlyfreq, preds_sin_onlyage = np.zeros(len(s)), np.zeros(len(s))\n",
    "ci_sin_onlyfreq, ci_sin_onlyage = np.zeros((len(s),)), np.zeros((len(s),))\n",
    "\n",
    "for ig, g in enumerate(s):\n",
    "    newdf1 = df1.iloc[np.ravel(np.where(dat[:,1]==g)),:]\n",
    "    newdat = newdf1.to_numpy()\n",
    "    sin_onlyfreq = [np.sum(get_lp_xl(g1, newdat[:,5], cutoff=2)) for g1 in gamma2]\n",
    "    sin_onlyage = [np.sum(get_lp_alxl(g1, newdat[:,5], newdat[:,2], cutoff=2)) for g1 in gamma2]\n",
    "    preds_sin_onlyfreq[ig] = gamma2[np.argmax(sin_onlyfreq)]\n",
    "    preds_sin_onlyage[ig] = gamma2[np.argmax(sin_onlyage)]\n",
    "    mle = get_boot_ci(newdat, nsamps=len(newdat), nboot=50)\n",
    "    ci_sin_onlyfreq[ig,], ci_sin_onlyage[ig,] = mle.std(axis=0) #np.percentile(mle[:,0],[97.5,2.5]), np.percentile(mle[:,1],[97.5,2.5]) "
   ]
  },
  {
   "cell_type": "code",
   "execution_count": 456,
   "metadata": {},
   "outputs": [
    {
     "data": {
      "text/plain": [
       "array([[-96.108, -96.108],\n",
       "       [-75.737, -96.108],\n",
       "       [-96.108, -96.108],\n",
       "       [-75.737, -96.108],\n",
       "       [-96.108, -96.108],\n",
       "       [-96.108, -96.108],\n",
       "       [-75.737, -96.108],\n",
       "       [-75.737, -96.108],\n",
       "       [-96.108, -96.108],\n",
       "       [-75.737, -75.737],\n",
       "       [-75.737, -96.108],\n",
       "       [-75.737, -96.108],\n",
       "       [-96.108, -96.108],\n",
       "       [-75.737, -96.108],\n",
       "       [-96.108, -96.108],\n",
       "       [-75.737, -96.108],\n",
       "       [-75.737, -96.108],\n",
       "       [-75.737, -96.108],\n",
       "       [-75.737, -96.108],\n",
       "       [-75.737, -96.108],\n",
       "       [-96.108, -96.108],\n",
       "       [-96.108, -96.108],\n",
       "       [-96.108, -96.108],\n",
       "       [-75.737, -96.108],\n",
       "       [-75.737, -75.737],\n",
       "       [-75.737, -96.108],\n",
       "       [-75.737, -75.737],\n",
       "       [-75.737, -96.108],\n",
       "       [-75.737, -96.108],\n",
       "       [-96.108, -96.108],\n",
       "       [-96.108, -96.108],\n",
       "       [-75.737, -96.108],\n",
       "       [-96.108, -96.108],\n",
       "       [-75.737, -96.108],\n",
       "       [-96.108, -96.108],\n",
       "       [-75.737, -96.108],\n",
       "       [-75.737, -96.108],\n",
       "       [-75.737, -96.108],\n",
       "       [-75.737, -96.108],\n",
       "       [-96.108, -96.108],\n",
       "       [-96.108, -121.957],\n",
       "       [-75.737, -96.108],\n",
       "       [-96.108, -96.108],\n",
       "       [-75.737, -96.108],\n",
       "       [-75.737, -96.108],\n",
       "       [-75.737, -96.108],\n",
       "       [-75.737, -96.108],\n",
       "       [-75.737, -96.108],\n",
       "       [-75.737, -96.108],\n",
       "       [-96.108, -96.108]])"
      ]
     },
     "execution_count": 456,
     "metadata": {},
     "output_type": "execute_result"
    }
   ],
   "source": [
    "# newdf1 = df1.iloc[np.ravel(np.where(dat[:,1]==s[4])),:]\n",
    "# newdat = newdf1.to_numpy()\n",
    "# sin_onlyfreq = [np.sum(get_lp_xl(g1, newdat[:,5], cutoff=2)) for g1 in gamma2]\n",
    "# sin_onlyage = [np.sum(get_lp_alxl(g1, newdat[:,5], newdat[:,2], cutoff=2)) for g1 in gamma2]\n",
    "# gamma2[np.argmax(sin_onlyfreq)], gamma2[np.argmax(sin_onlyage)]\n",
    "# get_boot_ci(newdat, nsamps=len(newdat), nboot=50)"
   ]
  },
  {
   "cell_type": "code",
   "execution_count": 303,
   "metadata": {},
   "outputs": [
    {
     "data": {
      "text/plain": [
       "array([0.000, 0.000, 3.251, 4.315, 0.000, 38.109])"
      ]
     },
     "execution_count": 303,
     "metadata": {},
     "output_type": "execute_result"
    }
   ],
   "source": [
    "## basically, do fitdadi inference for each selection coefficient\n",
    "## cannot do point selection coefficient inference\n",
    "import dadi\n",
    "df = pd.read_csv(\"PReFerSims/outfiles/ConstantSize2.0.1.full_out.txt\", sep=\"\\t\", header=None).sample(n=1000)\n",
    "fs = dadi.Spectrum(np.histogram(fdf.iloc[:, 1] * 2000, bins=2001)[0])\n",
    "def one_epoch_sel(params, ns, pts):\n",
    "    nu, T, gamma = params\n",
    "    xx = dadi.Numerics.default_grid(pts)\n",
    "    phi = dadi.PhiManip.phi_1D(xx, gamma=gamma)\n",
    "    phi = dadi.Integration.one_pop(phi, xx, T, nu, gamma=gamma)\n",
    "    fs = dadi.Spectrum.from_phi(phi, ns, (xx,))\n",
    "    return fs\n",
    "pts_l = [600, 800, 1000]\n",
    "spectra = Selection.spectra(\n",
    "    [1, 2],\n",
    "    np.array([2000]),\n",
    "    one_epoch_sel,\n",
    "    pts_l=pts_l,\n",
    "    int_bounds=[0.1, 100],\n",
    "    Npts=20,\n",
    "    echo=True,\n",
    ")\n",
    "sel_params = [0.1, 200.0]\n",
    "lower_bound = [1e-3, 1e-2]\n",
    "upper_bound = [1, 100.0]\n",
    "p0 = dadi.Misc.perturb_params(sel_params, lower_bound=lower_bound, upper_bound=upper_bound)\n",
    "popt = Selection.optimize_log(\n",
    "    p0,\n",
    "    fs,\n",
    "    spectra.integrate,\n",
    "    Selection.normal_dist,\n",
    "    300,\n",
    "    lower_bound=lower_bound,\n",
    "    upper_bound=upper_bound,\n",
    "    verbose=len(sel_params),\n",
    "    maxiter=30,\n",
    ")\n",
    "spectra.Integrate(popt[1], Selection.normal_dist, 300)\n",
    "spectra.integrate([1.,4.], Selection.normal_dist, 300)"
   ]
  },
  {
   "cell_type": "code",
   "execution_count": 47,
   "metadata": {},
   "outputs": [
    {
     "data": {
      "image/png": "[encoded data removed]",
      "text/plain": [
       "<Figure size 550x385 with 1 Axes>"
      ]
     },
     "metadata": {},
     "output_type": "display_data"
    }
   ],
   "source": [
    "plt.scatter(-s, -preds_sin_onlyfreq, color='deepskyblue', alpha=0.5, label='only freq, rel. error: {:.1f}'.format(np.sum(np.abs(s-preds_sin_onlyfreq)*100/-s)),)#s=truenumloci*50/1000)\n",
    "plt.errorbar(-s, -preds_sin_onlyfreq, yerr=1.96*ci_sin_onlyfreq[:], color='deepskyblue', alpha=0.5, ls='none')\n",
    "plt.scatter(-s, -preds_sin_onlyage, color='coral', alpha=0.5, label='freq & age, rel. error: {:.1f}'.format(np.sum(np.abs(s-preds_sin_onlyage)*100/-s)),)#s=truenumloci*50/1000)\n",
    "plt.errorbar(-s, -preds_sin_onlyage, yerr=1.96*ci_sin_onlyage[:], color='coral', alpha=0.5, ls='none')\n",
    "plt.xlabel('true -γ value'); plt.ylabel('MLE -γ value'); plt.legend(); plt.loglog()\n",
    "plt.axline((1,1),(100,100),color='grey',ls='--', linewidth=1.); plt.ylim((0.1,1000)); plt.grid()"
   ]
  },
  {
   "cell_type": "code",
   "execution_count": 34,
   "metadata": {},
   "outputs": [
    {
     "data": {
      "image/png": "[encoded data removed]",
      "text/plain": [
       "<Figure size 550x385 with 1 Axes>"
      ]
     },
     "metadata": {},
     "output_type": "display_data"
    }
   ],
   "source": [
    "plt.scatter(-gamma, -preds_sin_onlyfreq, color='deepskyblue', alpha=0.5, label='only freq, abs. error: {:.1f}'.format(np.sum(np.abs(gamma-preds_sin_onlyfreq))),)#s=truenumloci*50/1000)\n",
    "# plt.vlines(-gamma, -ci_sin_onlyfreq[:,0], -ci_sin_onlyfreq[:,1], color='deepskyblue', alpha=0.5)\n",
    "plt.errorbar(-gamma, -preds_sin_onlyfreq, yerr=1.96*ci_sin_onlyfreq[:], color='deepskyblue', alpha=0.5, ls='none')\n",
    "# plt.errorbar(-gamma, -preds_sin_onlyfreq, yerr=-ci_sin_onlyfreq.T, color='deepskyblue', alpha=0.5, ls='none')\n",
    "plt.scatter(-gamma, -preds_sin_onlyage, color='coral', alpha=0.5, label='freq & age, abs. error: {:.1f}'.format(np.sum(np.abs(gamma-preds_sin_onlyage))),)#s=truenumloci*50/1000)\n",
    "# plt.vlines(-gamma, -ci_sin_onlyage[:,0], -ci_sin_onlyage[:,1], color='coral', alpha=0.5)\n",
    "plt.errorbar(-gamma, -preds_sin_onlyage, yerr=1.96*ci_sin_onlyage[:]+1, color='coral', alpha=0.5, ls='none')\n",
    "# plt.errorbar(-gamma, -preds_sin_onlyage, yerr=-ci_sin_onlyage.T, color='coral', alpha=0.5, ls='none'); plt.yscale('log')\n",
    "# plt.scatter(-gamma, -preds_sin_agefreq, color='darkgreen', alpha=0.5, label='age & freq, abs. error: {:.1f}'.format(np.sum(np.abs(gamma-preds_sin_agefreq))))\n",
    "plt.xlabel('true -γ value'); plt.ylabel('MLE -γ value'); plt.legend(); plt.loglog()\n",
    "plt.axline((1,1),(100,100),color='grey',ls='--', linewidth=1.); plt.ylim((0.1,250)); plt.grid()"
   ]
  },
  {
   "cell_type": "code",
   "execution_count": 170,
   "metadata": {},
   "outputs": [
    {
     "data": {
      "image/png": "[encoded data removed]",
      "text/plain": [
       "<Figure size 550x385 with 1 Axes>"
      ]
     },
     "metadata": {},
     "output_type": "display_data"
    }
   ],
   "source": [
    "plt.scatter(-gamma, -preds_sin_onlyfreq, color='deepskyblue', alpha=0.5, label='only freq, abs. error: {:.1f}'.format(np.sum(np.abs(2.*gamma-preds_sin_onlyfreq))),)#s=truenumloci*50/1000)\n",
    "# plt.vlines(-gamma, -ci_sin_onlyfreq[:,0], -ci_sin_onlyfreq[:,1], color='deepskyblue', alpha=0.5)\n",
    "plt.errorbar(-gamma, -preds_sin_onlyfreq, yerr=1.96*ci_sin_onlyfreq[:], color='deepskyblue', alpha=0.5, ls='none')\n",
    "# plt.errorbar(-gamma, -preds_sin_onlyfreq, yerr=-ci_sin_onlyfreq.T, color='deepskyblue', alpha=0.5, ls='none')\n",
    "plt.scatter(-gamma, -preds_sin_onlyage, color='coral', alpha=0.5, label='freq & age, abs. error: {:.1f}'.format(np.sum(np.abs(2.*gamma-preds_sin_onlyage))),)#s=truenumloci*50/1000)\n",
    "# plt.vlines(-gamma, -ci_sin_onlyage[:,0], -ci_sin_onlyage[:,1], color='coral', alpha=0.5)\n",
    "plt.errorbar(-gamma, -preds_sin_onlyage, yerr=1.96*ci_sin_onlyage[:]+1, color='coral', alpha=0.5, ls='none')\n",
    "# plt.errorbar(-gamma, -preds_sin_onlyage, yerr=-ci_sin_onlyage.T, color='coral', alpha=0.5, ls='none'); plt.yscale('log')\n",
    "# plt.scatter(-gamma, -preds_sin_agefreq, color='darkgreen', alpha=0.5, label='age & freq, abs. error: {:.1f}'.format(np.sum(np.abs(gamma-preds_sin_agefreq))))\n",
    "plt.xlabel('true -γ value'); plt.ylabel('MLE -γ value'); plt.legend(); plt.loglog()\n",
    "plt.axline((1,2),(100,200),color='grey',ls='--', linewidth=1.); plt.ylim((0.5,150)); plt.grid()"
   ]
  },
  {
   "cell_type": "code",
   "execution_count": 20,
   "metadata": {},
   "outputs": [
    {
     "data": {
      "text/html": [
       "<div>\n",
       "<style scoped>\n",
       "    .dataframe tbody tr th:only-of-type {\n",
       "        vertical-align: middle;\n",
       "    }\n",
       "\n",
       "    .dataframe tbody tr th {\n",
       "        vertical-align: top;\n",
       "    }\n",
       "\n",
       "    .dataframe thead th {\n",
       "        text-align: right;\n",
       "    }\n",
       "</style>\n",
       "<table border=\"1\" class=\"dataframe\">\n",
       "  <thead>\n",
       "    <tr style=\"text-align: right;\">\n",
       "      <th></th>\n",
       "      <th>Xl</th>\n",
       "      <th>s</th>\n",
       "      <th>al</th>\n",
       "      <th>id</th>\n",
       "      <th>empty</th>\n",
       "      <th>sXl</th>\n",
       "    </tr>\n",
       "  </thead>\n",
       "  <tbody>\n",
       "    <tr>\n",
       "      <th>0</th>\n",
       "      <td>0.0005</td>\n",
       "      <td>-1.0</td>\n",
       "      <td>329</td>\n",
       "      <td>14953567.0</td>\n",
       "      <td></td>\n",
       "      <td>1</td>\n",
       "    </tr>\n",
       "    <tr>\n",
       "      <th>1</th>\n",
       "      <td>0.049</td>\n",
       "      <td>-1.0</td>\n",
       "      <td>1047</td>\n",
       "      <td>14846160.0</td>\n",
       "      <td></td>\n",
       "      <td>98</td>\n",
       "    </tr>\n",
       "    <tr>\n",
       "      <th>2</th>\n",
       "      <td>0.022</td>\n",
       "      <td>-1.0</td>\n",
       "      <td>2069</td>\n",
       "      <td>14693514.0</td>\n",
       "      <td></td>\n",
       "      <td>44</td>\n",
       "    </tr>\n",
       "    <tr>\n",
       "      <th>3</th>\n",
       "      <td>0.0095</td>\n",
       "      <td>-1.0</td>\n",
       "      <td>729</td>\n",
       "      <td>14893581.0</td>\n",
       "      <td></td>\n",
       "      <td>19</td>\n",
       "    </tr>\n",
       "    <tr>\n",
       "      <th>4</th>\n",
       "      <td>0.0005</td>\n",
       "      <td>-1.0</td>\n",
       "      <td>101</td>\n",
       "      <td>14988331.0</td>\n",
       "      <td></td>\n",
       "      <td>1</td>\n",
       "    </tr>\n",
       "    <tr>\n",
       "      <th>...</th>\n",
       "      <td>...</td>\n",
       "      <td>...</td>\n",
       "      <td>...</td>\n",
       "      <td>...</td>\n",
       "      <td>...</td>\n",
       "      <td>...</td>\n",
       "    </tr>\n",
       "    <tr>\n",
       "      <th>8995</th>\n",
       "      <td>0.0005</td>\n",
       "      <td>-500.0</td>\n",
       "      <td>1</td>\n",
       "      <td>74986788.0</td>\n",
       "      <td></td>\n",
       "      <td>1</td>\n",
       "    </tr>\n",
       "    <tr>\n",
       "      <th>8996</th>\n",
       "      <td>0.0005</td>\n",
       "      <td>-500.0</td>\n",
       "      <td>19</td>\n",
       "      <td>74973020.0</td>\n",
       "      <td></td>\n",
       "      <td>1</td>\n",
       "    </tr>\n",
       "    <tr>\n",
       "      <th>8997</th>\n",
       "      <td>0.003</td>\n",
       "      <td>-500.0</td>\n",
       "      <td>117</td>\n",
       "      <td>74899350.0</td>\n",
       "      <td></td>\n",
       "      <td>6</td>\n",
       "    </tr>\n",
       "    <tr>\n",
       "      <th>8998</th>\n",
       "      <td>0.0005</td>\n",
       "      <td>-500.0</td>\n",
       "      <td>21</td>\n",
       "      <td>74971365.0</td>\n",
       "      <td></td>\n",
       "      <td>1</td>\n",
       "    </tr>\n",
       "    <tr>\n",
       "      <th>8999</th>\n",
       "      <td>0.001</td>\n",
       "      <td>-500.0</td>\n",
       "      <td>20</td>\n",
       "      <td>74971852.0</td>\n",
       "      <td></td>\n",
       "      <td>2</td>\n",
       "    </tr>\n",
       "  </tbody>\n",
       "</table>\n",
       "<p>9000 rows × 6 columns</p>\n",
       "</div>"
      ],
      "text/plain": [
       "          Xl      s    al          id empty  sXl\n",
       "0     0.0005   -1.0   329  14953567.0          1\n",
       "1      0.049   -1.0  1047  14846160.0         98\n",
       "2      0.022   -1.0  2069  14693514.0         44\n",
       "3     0.0095   -1.0   729  14893581.0         19\n",
       "4     0.0005   -1.0   101  14988331.0          1\n",
       "...      ...    ...   ...         ...   ...  ...\n",
       "8995  0.0005 -500.0     1  74986788.0          1\n",
       "8996  0.0005 -500.0    19  74973020.0          1\n",
       "8997   0.003 -500.0   117  74899350.0          6\n",
       "8998  0.0005 -500.0    21  74971365.0          1\n",
       "8999   0.001 -500.0    20  74971852.0          2\n",
       "\n",
       "[9000 rows x 6 columns]"
      ]
     },
     "execution_count": 20,
     "metadata": {},
     "output_type": "execute_result"
    }
   ],
   "source": [
    "# dft = pd.read_csv(\"../traindata/trip-2022-04-05.csv\")\n",
    "# dft['gamma'] = dft['gamma'].round(decimals=2)\n",
    "# gamma"
   ]
  },
  {
   "cell_type": "code",
   "execution_count": 55,
   "metadata": {},
   "outputs": [
    {
     "data": {
      "image/png": "[encoded data removed]",
      "text/plain": [
       "<Figure size 550x385 with 1 Axes>"
      ]
     },
     "metadata": {},
     "output_type": "display_data"
    }
   ],
   "source": [
    "## comparing empirical distribution from data of frequency values with likelihood from moments framework\n",
    "# basically take samples from binomial for each rep and then store the values in a vector that keeps getting updated...\n",
    "ir = np.empty((100,1500),dtype=int)\n",
    "for n in range(100): #nreps\n",
    "    ir[n,:] = rng.binomial(n=2000, p=df1[df1['s']==-10.]['Xl'])\n",
    "counts, bins, _ = plt.hist(np.ravel(ir),bins=2000,range=(0,2000),density=True); plt.semilogx(); plt.xlabel('# of allele copies')\n",
    "counts[cutoff:(2000-cutoff+1)] = counts[cutoff:(2000-cutoff+1)]/np.sum(counts[cutoff:(2000-cutoff+1)])\n",
    "counts[0:cutoff] = counts[-cutoff:] = np.repeat(0,cutoff)"
   ]
  },
  {
   "cell_type": "code",
   "execution_count": 53,
   "metadata": {},
   "outputs": [],
   "source": [
    "## numerical integration of likelihood to get analytical expression (from eq 2 in Bustamante et al 2001)\n",
    "def Fanal(gg, i, n):\n",
    "    with np.errstate(divide='ignore'):\n",
    "        return [(1-np.exp(-2*gg*(1-x)))*2/((1-np.exp(-2*gg))*x*(1-x)) * sp.stats.binom.pmf(i,n,x) for x in np.logspace(-8,-0.01,99)]\n",
    "\n",
    "analexp = [sp.integrate.trapezoid(Fanal(-11.625/2,i,2000),np.logspace(-8,-0.01,99)) for i in range(2000)]\n",
    "analexp[cutoff:(2000-cutoff+1)] = analexp[cutoff:(2000-cutoff+1)]/np.sum(analexp[cutoff:(2000-cutoff+1)])\n",
    "analexp[0:cutoff] = analexp[-cutoff:] = np.repeat(0,cutoff)"
   ]
  },
  {
   "cell_type": "code",
   "execution_count": 737,
   "metadata": {},
   "outputs": [],
   "source": [
    "# np.corrcoef([sp.integrate.trapezoid(Fanal(gamma[19],i,2000),np.linspace(1e-6,1-1e-6,200)) for i in range(20)], [sp.integrate.trapezoid(Fanal(gamma[0],i,2000),np.linspace(1e-6,1-1e-6,200)) for i in range(20)])\n",
    "# Fanal(gamma[19],10,2000), Fanal(gamma[0],10,2000) \n",
    "# np.linspace(1e-6,1-1e-6,20)"
   ]
  },
  {
   "cell_type": "code",
   "execution_count": 23,
   "metadata": {},
   "outputs": [
    {
     "data": {
      "text/plain": [
       "array([-0.316, -0.401, -0.509, -0.646, -0.820, -1.040, -1.320, -1.675,\n",
       "       -2.126, -2.698, -3.424, -4.344, -5.513, -6.996, -8.877, -11.265,\n",
       "       -14.295, -18.139, -23.018, -29.209, -37.065, -47.034, -59.685,\n",
       "       -75.737, -96.108, -121.957, -154.759, -196.383, -249.202, -316.228])"
      ]
     },
     "execution_count": 23,
     "metadata": {},
     "output_type": "execute_result"
    }
   ],
   "source": [
    "# plt.scatter(p_xa_s[gamma[15]],p_xa_s[gamma[17]]); plt.loglog(); plt.axline((0.1,0.1),(0,0))\n",
    "# np.allclose(p_xa_s[gamma[19]],p_xa_s[gamma[16]])\n",
    "gamma2"
   ]
  },
  {
   "cell_type": "code",
   "execution_count": 56,
   "metadata": {},
   "outputs": [
    {
     "data": {
      "text/plain": [
       "Text(0.5, 0, '# of allele copies')"
      ]
     },
     "execution_count": 56,
     "metadata": {},
     "output_type": "execute_result"
    },
    {
     "data": {
      "image/png": "[encoded data removed]",
      "text/plain": [
       "<Figure size 550x385 with 1 Axes>"
      ]
     },
     "metadata": {},
     "output_type": "display_data"
    }
   ],
   "source": [
    "plt.scatter(np.arange(2,100+1),p_xa_s[gamma2[15]][2:101],color='purple',label='moments, error={:.2f}'.format(np.sum(np.abs(p_xa_s[gamma2[15]][2:101]-analexp[2:101]))),alpha=0.5);\n",
    "# plt.scatter(np.arange(2,100+1),testp_xa_s[2:101],color='grey',label='moments2, error={:.2f}'.format(np.sum(np.abs(testp_xa_s[2:101]-analexp[2:101]))),alpha=0.5);\n",
    "plt.scatter(np.arange(2,100+1),counts[2:101],color='green',label='PReFerSims, error={:.2f}'.format(np.sum(np.abs(counts[2:101]-analexp[2:101]))),alpha=0.5); \n",
    "plt.scatter(np.arange(2,100+1),analexp[2:101],color='lightpink',marker='+',label='analytical expression');  plt.grid(); plt.loglog()\n",
    "plt.ylabel('probability'); plt.title('γ = {}'.format(-10.)); plt.legend(); plt.xlabel('# of allele copies')"
   ]
  },
  {
   "cell_type": "code",
   "execution_count": 29,
   "metadata": {},
   "outputs": [
    {
     "data": {
      "image/png": "[encoded data removed]",
      "text/plain": [
       "<Figure size 550x385 with 1 Axes>"
      ]
     },
     "metadata": {},
     "output_type": "display_data"
    }
   ],
   "source": [
    "## plotting different SFS from moments on the same plot\n",
    "plt.scatter(np.arange(2,100+1),p_xa_s[gamma[0]][2:101],color=cm.get_cmap('Purples',6)(5),alpha=0.6,label='γ={}'.format(gamma[0])); \n",
    "plt.scatter(np.arange(2,100+1),p_xa_s[gamma[10]][2:101],color=cm.get_cmap('Purples',6)(3),label='γ={}'.format(gamma[10])); \n",
    "plt.scatter(np.arange(2,100+1),p_xa_s[gamma[-1]][2:101],color=cm.get_cmap('Purples',6)(1),label='γ={}'.format(gamma[-1])); \n",
    "plt.xlabel('# of allele copies'); plt.ylabel('moments likelihood'); plt.legend(); plt.loglog(); plt.grid()\n"
   ]
  },
  {
   "cell_type": "code",
   "execution_count": 734,
   "metadata": {},
   "outputs": [
    {
     "data": {
      "text/plain": [
       "(array([-100.000, -100.000, -78.480, -78.480, -61.580, -48.330, -37.930,\n",
       "        -29.760, -23.360, -18.330, -14.380, -14.380, -8.860, -8.860,\n",
       "        -6.950, -4.280, -3.360, -2.640, -2.640, -1.270]),\n",
       " array([0.000, 0.000, 10.760, 3.312, 5.949, 3.813, 2.426, 2.216, 2.607,\n",
       "        2.464, 0.774, 0.729, 1.215, 0.598, 0.636, 0.467, 0.325, 0.387,\n",
       "        0.305, 0.247]),\n",
       " array([-100.000, -100.000, -78.480, -61.580, -48.330, -37.930, -29.760,\n",
       "        -23.360, -18.330, -18.330, -11.290, -11.290, -6.950, -6.950,\n",
       "        -5.460, -4.280, -3.360, -2.640, -2.070, -1.270]),\n",
       " array([0.000, 0.000, 4.217, 4.312, 4.572, 2.474, 3.779, 3.197, 2.282,\n",
       "        1.587, 1.161, 0.657, 0.927, 0.848, 0.404, 0.398, 0.303, 0.369,\n",
       "        0.287, 0.190]))"
      ]
     },
     "execution_count": 734,
     "metadata": {},
     "output_type": "execute_result"
    }
   ],
   "source": [
    "preds_sin_onlyfreq, ci_sin_onlyfreq, preds_sin_onlyage, ci_sin_onlyage"
   ]
  },
  {
   "cell_type": "code",
   "execution_count": 736,
   "metadata": {},
   "outputs": [
    {
     "ename": "NameError",
     "evalue": "name 'info_onlyfreq' is not defined",
     "output_type": "error",
     "traceback": [
      "\u001b[0;31m---------------------------------------------------------------------------\u001b[0m",
      "\u001b[0;31mNameError\u001b[0m                                 Traceback (most recent call last)",
      "Input \u001b[0;32mIn [736]\u001b[0m, in \u001b[0;36m<module>\u001b[0;34m\u001b[0m\n\u001b[1;32m      1\u001b[0m \u001b[38;5;66;03m# plt.figure(dpi=150)\u001b[39;00m\n\u001b[1;32m      2\u001b[0m \u001b[38;5;28;01mimport\u001b[39;00m \u001b[38;5;21;01mmatplotlib\u001b[39;00m\u001b[38;5;21;01m.\u001b[39;00m\u001b[38;5;21;01mpatches\u001b[39;00m \u001b[38;5;28;01mas\u001b[39;00m \u001b[38;5;21;01mmpatches\u001b[39;00m\n\u001b[0;32m----> 3\u001b[0m seaborn\u001b[38;5;241m.\u001b[39mstripplot(data\u001b[38;5;241m=\u001b[39mpd\u001b[38;5;241m.\u001b[39mDataFrame(\u001b[43minfo_onlyfreq\u001b[49m\u001b[38;5;241m.\u001b[39mT,columns\u001b[38;5;241m=\u001b[39m\u001b[38;5;241m-\u001b[39mgamma[::\u001b[38;5;241m-\u001b[39m\u001b[38;5;241m1\u001b[39m]), color\u001b[38;5;241m=\u001b[39m\u001b[38;5;124m'\u001b[39m\u001b[38;5;124mdeepskyblue\u001b[39m\u001b[38;5;124m'\u001b[39m, alpha\u001b[38;5;241m=\u001b[39m\u001b[38;5;241m0.7\u001b[39m, label\u001b[38;5;241m=\u001b[39m\u001b[38;5;124m'\u001b[39m\u001b[38;5;124monly freq\u001b[39m\u001b[38;5;124m'\u001b[39m,s\u001b[38;5;241m=\u001b[39m\u001b[38;5;241m4\u001b[39m)\n\u001b[1;32m      4\u001b[0m seaborn\u001b[38;5;241m.\u001b[39mstripplot(data\u001b[38;5;241m=\u001b[39mpd\u001b[38;5;241m.\u001b[39mDataFrame(info_onlyage\u001b[38;5;241m.\u001b[39mT,columns\u001b[38;5;241m=\u001b[39m\u001b[38;5;241m-\u001b[39mgamma[::\u001b[38;5;241m-\u001b[39m\u001b[38;5;241m1\u001b[39m]), color\u001b[38;5;241m=\u001b[39m\u001b[38;5;124m'\u001b[39m\u001b[38;5;124mcoral\u001b[39m\u001b[38;5;124m'\u001b[39m, alpha\u001b[38;5;241m=\u001b[39m\u001b[38;5;241m0.7\u001b[39m, label\u001b[38;5;241m=\u001b[39m\u001b[38;5;124m'\u001b[39m\u001b[38;5;124mfreq & age\u001b[39m\u001b[38;5;124m'\u001b[39m,s\u001b[38;5;241m=\u001b[39m\u001b[38;5;241m4\u001b[39m)\n\u001b[1;32m      5\u001b[0m plt\u001b[38;5;241m.\u001b[39msemilogy(); plt\u001b[38;5;241m.\u001b[39mxlabel(\u001b[38;5;124m'\u001b[39m\u001b[38;5;124mgamma\u001b[39m\u001b[38;5;124m'\u001b[39m); plt\u001b[38;5;241m.\u001b[39mylabel(\u001b[38;5;124m'\u001b[39m\u001b[38;5;124minformation measure\u001b[39m\u001b[38;5;124m'\u001b[39m); plt\u001b[38;5;241m.\u001b[39mgrid(); \n",
      "\u001b[0;31mNameError\u001b[0m: name 'info_onlyfreq' is not defined"
     ]
    }
   ],
   "source": [
    "# plt.figure(dpi=150)\n",
    "import matplotlib.patches as mpatches\n",
    "seaborn.stripplot(data=pd.DataFrame(info_onlyfreq.T,columns=-gamma[::-1]), color='deepskyblue', alpha=0.7, label='only freq',s=4)\n",
    "seaborn.stripplot(data=pd.DataFrame(info_onlyage.T,columns=-gamma[::-1]), color='coral', alpha=0.7, label='freq & age',s=4)\n",
    "plt.semilogy(); plt.xlabel('gamma'); plt.ylabel('information measure'); plt.grid(); \n",
    "plt.legend(handles=[mpatches.Patch(color='deepskyblue', label='only freq, total info: {:.2f}'.format(np.sum(info_onlyfreq))), mpatches.Patch(color='coral', label='freq & age, total info: {:.2f}'.format(np.sum(info_onlyage)))])"
   ]
  },
  {
   "cell_type": "code",
   "execution_count": null,
   "metadata": {},
   "outputs": [],
   "source": [
    "## plotting error rates across selection coefficients\n",
    "plt.plot(-gamma, np.abs(gamma-preds_sin_onlyfreq), color='deepskyblue', alpha=0.8, label='only freq'.format(np.sum(np.abs(gamma-preds_sin_onlyfreq))), ls='--')\n",
    "plt.plot(-gamma, np.abs(gamma-preds_sin_onlyage), color='coral', label='freq & age', alpha=0.8, ls='--')\n",
    "plt.legend(); plt.semilogx(); plt.xlabel('-γ'); plt.ylabel('absolute error'); plt.show()\n",
    "\n",
    "plt.plot(-gamma, -np.abs(gamma-preds_sin_onlyfreq)*100/gamma, color='deepskyblue', alpha=0.8, label='only freq, total: {:.2f}'.format(np.sum(-np.abs(gamma-preds_sin_onlyfreq)*100/gamma)), ls='--')\n",
    "plt.plot(-gamma, -np.abs(gamma-preds_sin_onlyage)*100/gamma, color='coral', label='freq & age, total: {:.2f}'.format(np.sum(-np.abs(gamma-preds_sin_onlyage)*100/gamma)), alpha=0.8, ls='--')\n",
    "plt.legend(); plt.semilogx(); plt.xlabel('-γ'); plt.ylabel('relative error'); plt.show()"
   ]
  },
  {
   "cell_type": "code",
   "execution_count": 111,
   "metadata": {},
   "outputs": [],
   "source": [
    "## picking a choice of g1 and g2 & creating a new data frame\n",
    "trueg1 = s[4]\n",
    "trueg2 = s[5]\n",
    "# 2000 x 3 (first 1000 is g1, second 1000 is g2)\n",
    "newdf1 = df1.iloc[np.ravel(np.where(dat[:,1]==trueg1)),:].append(df1.iloc[np.ravel(np.where(dat[:,1]==trueg2)),:])\n",
    "# newdf1 = newdf1.sample(frac=1)\n",
    "\n",
    "# only keeping alleles with ages > 1 (cos NN & PRF approx finds really high prob for these alleles to have small gamma...)\n",
    "newdat = newdf1.to_numpy()"
   ]
  },
  {
   "cell_type": "code",
   "execution_count": 113,
   "metadata": {},
   "outputs": [],
   "source": [
    "## assuming two selection coefficients and only freq info (split 50/50)\n",
    "dub_onlyfreq = np.zeros((len(gamma2),len(gamma2))) # need a 2d search\n",
    "for ig1, g1 in enumerate(gamma2):\n",
    "    for ig2, g2 in enumerate(gamma2[0:(ig1+1)]):\n",
    "        dub_onlyfreq[ig1, ig2] = np.sum(np.log(0.5*np.exp(get_lp_xl(g1, newdat[:,5])) + 0.5*np.exp(get_lp_xl(g2, newdat[:,5]))))\n",
    "\n",
    "mask = np.full(dub_onlyfreq.shape,False)\n",
    "mask[np.triu_indices_from(dub_onlyfreq,k=1)] = True"
   ]
  },
  {
   "cell_type": "code",
   "execution_count": 121,
   "metadata": {},
   "outputs": [
    {
     "data": {
      "text/plain": [
       "array([-48.330, -48.330])"
      ]
     },
     "execution_count": 121,
     "metadata": {},
     "output_type": "execute_result"
    },
    {
     "data": {
      "image/png": "[encoded data removed]",
      "text/plain": [
       "<Figure size 550x385 with 2 Axes>"
      ]
     },
     "metadata": {},
     "output_type": "display_data"
    }
   ],
   "source": [
    "seaborn.heatmap(dub_onlyfreq,alpha=0.95,cmap='viridis_r',mask=mask,vmax=np.max(dub_onlyfreq[~mask])-5,vmin=np.max(dub_onlyfreq[~mask]))\n",
    "plt.xticks(np.linspace(0,24,6,dtype='int'),gamma2[np.linspace(0,24,6,dtype='int')].round(2))\n",
    "plt.yticks(np.linspace(0,24,6,dtype='int'),gamma2[np.linspace(0,24,6,dtype='int')].round(2))\n",
    "np.take(gamma, np.unravel_index(np.nanargmax(np.ma.masked_array(dub_onlyfreq, mask)),dub_onlyfreq.shape))"
   ]
  },
  {
   "cell_type": "code",
   "execution_count": 116,
   "metadata": {},
   "outputs": [],
   "source": [
    "## assuming two selection coefficients and only age info (split 50/50)\n",
    "dub_onlyage = np.zeros((len(gamma2),len(gamma2))) # need a 2d search\n",
    "for ig1, g1 in enumerate(gamma2):\n",
    "    for ig2, g2 in enumerate(gamma2[0:(ig1+1)]):\n",
    "        dub_onlyage[ig1, ig2] = np.sum(np.log(0.5*np.exp(get_lp_alxl(g1, newdat[:,5], newdat[:,2])) + \n",
    "        0.5*np.exp(get_lp_alxl(g2, newdat[:,5], newdat[:,2]))))"
   ]
  },
  {
   "cell_type": "code",
   "execution_count": 118,
   "metadata": {},
   "outputs": [
    {
     "ename": "IndexError",
     "evalue": "index 25 is out of bounds for axis 0 with size 20",
     "output_type": "error",
     "traceback": [
      "\u001b[0;31m---------------------------------------------------------------------------\u001b[0m",
      "\u001b[0;31mIndexError\u001b[0m                                Traceback (most recent call last)",
      "Input \u001b[0;32mIn [118]\u001b[0m, in \u001b[0;36m<module>\u001b[0;34m\u001b[0m\n\u001b[1;32m      2\u001b[0m plt\u001b[38;5;241m.\u001b[39mxticks(np\u001b[38;5;241m.\u001b[39mlinspace(\u001b[38;5;241m0\u001b[39m,\u001b[38;5;241m24\u001b[39m,\u001b[38;5;241m6\u001b[39m,dtype\u001b[38;5;241m=\u001b[39m\u001b[38;5;124m'\u001b[39m\u001b[38;5;124mint\u001b[39m\u001b[38;5;124m'\u001b[39m),gamma2[np\u001b[38;5;241m.\u001b[39mlinspace(\u001b[38;5;241m0\u001b[39m,\u001b[38;5;241m24\u001b[39m,\u001b[38;5;241m6\u001b[39m,dtype\u001b[38;5;241m=\u001b[39m\u001b[38;5;124m'\u001b[39m\u001b[38;5;124mint\u001b[39m\u001b[38;5;124m'\u001b[39m)]\u001b[38;5;241m.\u001b[39mround(\u001b[38;5;241m2\u001b[39m))\n\u001b[1;32m      3\u001b[0m plt\u001b[38;5;241m.\u001b[39myticks(np\u001b[38;5;241m.\u001b[39mlinspace(\u001b[38;5;241m0\u001b[39m,\u001b[38;5;241m24\u001b[39m,\u001b[38;5;241m6\u001b[39m,dtype\u001b[38;5;241m=\u001b[39m\u001b[38;5;124m'\u001b[39m\u001b[38;5;124mint\u001b[39m\u001b[38;5;124m'\u001b[39m),gamma2[np\u001b[38;5;241m.\u001b[39mlinspace(\u001b[38;5;241m0\u001b[39m,\u001b[38;5;241m24\u001b[39m,\u001b[38;5;241m6\u001b[39m,dtype\u001b[38;5;241m=\u001b[39m\u001b[38;5;124m'\u001b[39m\u001b[38;5;124mint\u001b[39m\u001b[38;5;124m'\u001b[39m)]\u001b[38;5;241m.\u001b[39mround(\u001b[38;5;241m2\u001b[39m))\n\u001b[0;32m----> 4\u001b[0m \u001b[43mnp\u001b[49m\u001b[38;5;241;43m.\u001b[39;49m\u001b[43mtake\u001b[49m\u001b[43m(\u001b[49m\u001b[43mgamma\u001b[49m\u001b[43m,\u001b[49m\u001b[43m \u001b[49m\u001b[43mnp\u001b[49m\u001b[38;5;241;43m.\u001b[39;49m\u001b[43munravel_index\u001b[49m\u001b[43m(\u001b[49m\u001b[43mnp\u001b[49m\u001b[38;5;241;43m.\u001b[39;49m\u001b[43margmax\u001b[49m\u001b[43m(\u001b[49m\u001b[43mnp\u001b[49m\u001b[38;5;241;43m.\u001b[39;49m\u001b[43mma\u001b[49m\u001b[38;5;241;43m.\u001b[39;49m\u001b[43mmasked_array\u001b[49m\u001b[43m(\u001b[49m\u001b[43mdub_onlyage\u001b[49m\u001b[43m,\u001b[49m\u001b[43m \u001b[49m\u001b[43mmask\u001b[49m\u001b[43m)\u001b[49m\u001b[43m)\u001b[49m\u001b[43m,\u001b[49m\u001b[43mdub_onlyfreq\u001b[49m\u001b[38;5;241;43m.\u001b[39;49m\u001b[43mshape\u001b[49m\u001b[43m)\u001b[49m\u001b[43m)\u001b[49m\n",
      "File \u001b[0;32m<__array_function__ internals>:180\u001b[0m, in \u001b[0;36mtake\u001b[0;34m(*args, **kwargs)\u001b[0m\n",
      "File \u001b[0;32m~/mambaforge/envs/cvae/lib/python3.10/site-packages/numpy/core/fromnumeric.py:190\u001b[0m, in \u001b[0;36mtake\u001b[0;34m(a, indices, axis, out, mode)\u001b[0m\n\u001b[1;32m     93\u001b[0m \u001b[38;5;129m@array_function_dispatch\u001b[39m(_take_dispatcher)\n\u001b[1;32m     94\u001b[0m \u001b[38;5;28;01mdef\u001b[39;00m \u001b[38;5;21mtake\u001b[39m(a, indices, axis\u001b[38;5;241m=\u001b[39m\u001b[38;5;28;01mNone\u001b[39;00m, out\u001b[38;5;241m=\u001b[39m\u001b[38;5;28;01mNone\u001b[39;00m, mode\u001b[38;5;241m=\u001b[39m\u001b[38;5;124m'\u001b[39m\u001b[38;5;124mraise\u001b[39m\u001b[38;5;124m'\u001b[39m):\n\u001b[1;32m     95\u001b[0m     \u001b[38;5;124;03m\"\"\"\u001b[39;00m\n\u001b[1;32m     96\u001b[0m \u001b[38;5;124;03m    Take elements from an array along an axis.\u001b[39;00m\n\u001b[1;32m     97\u001b[0m \n\u001b[0;32m   (...)\u001b[0m\n\u001b[1;32m    188\u001b[0m \u001b[38;5;124;03m           [5, 7]])\u001b[39;00m\n\u001b[1;32m    189\u001b[0m \u001b[38;5;124;03m    \"\"\"\u001b[39;00m\n\u001b[0;32m--> 190\u001b[0m     \u001b[38;5;28;01mreturn\u001b[39;00m \u001b[43m_wrapfunc\u001b[49m\u001b[43m(\u001b[49m\u001b[43ma\u001b[49m\u001b[43m,\u001b[49m\u001b[43m \u001b[49m\u001b[38;5;124;43m'\u001b[39;49m\u001b[38;5;124;43mtake\u001b[39;49m\u001b[38;5;124;43m'\u001b[39;49m\u001b[43m,\u001b[49m\u001b[43m \u001b[49m\u001b[43mindices\u001b[49m\u001b[43m,\u001b[49m\u001b[43m \u001b[49m\u001b[43maxis\u001b[49m\u001b[38;5;241;43m=\u001b[39;49m\u001b[43maxis\u001b[49m\u001b[43m,\u001b[49m\u001b[43m \u001b[49m\u001b[43mout\u001b[49m\u001b[38;5;241;43m=\u001b[39;49m\u001b[43mout\u001b[49m\u001b[43m,\u001b[49m\u001b[43m \u001b[49m\u001b[43mmode\u001b[49m\u001b[38;5;241;43m=\u001b[39;49m\u001b[43mmode\u001b[49m\u001b[43m)\u001b[49m\n",
      "File \u001b[0;32m~/mambaforge/envs/cvae/lib/python3.10/site-packages/numpy/core/fromnumeric.py:57\u001b[0m, in \u001b[0;36m_wrapfunc\u001b[0;34m(obj, method, *args, **kwds)\u001b[0m\n\u001b[1;32m     54\u001b[0m     \u001b[38;5;28;01mreturn\u001b[39;00m _wrapit(obj, method, \u001b[38;5;241m*\u001b[39margs, \u001b[38;5;241m*\u001b[39m\u001b[38;5;241m*\u001b[39mkwds)\n\u001b[1;32m     56\u001b[0m \u001b[38;5;28;01mtry\u001b[39;00m:\n\u001b[0;32m---> 57\u001b[0m     \u001b[38;5;28;01mreturn\u001b[39;00m \u001b[43mbound\u001b[49m\u001b[43m(\u001b[49m\u001b[38;5;241;43m*\u001b[39;49m\u001b[43margs\u001b[49m\u001b[43m,\u001b[49m\u001b[43m \u001b[49m\u001b[38;5;241;43m*\u001b[39;49m\u001b[38;5;241;43m*\u001b[39;49m\u001b[43mkwds\u001b[49m\u001b[43m)\u001b[49m\n\u001b[1;32m     58\u001b[0m \u001b[38;5;28;01mexcept\u001b[39;00m \u001b[38;5;167;01mTypeError\u001b[39;00m:\n\u001b[1;32m     59\u001b[0m     \u001b[38;5;66;03m# A TypeError occurs if the object does have such a method in its\u001b[39;00m\n\u001b[1;32m     60\u001b[0m     \u001b[38;5;66;03m# class, but its signature is not identical to that of NumPy's. This\u001b[39;00m\n\u001b[0;32m   (...)\u001b[0m\n\u001b[1;32m     64\u001b[0m     \u001b[38;5;66;03m# Call _wrapit from within the except clause to ensure a potential\u001b[39;00m\n\u001b[1;32m     65\u001b[0m     \u001b[38;5;66;03m# exception has a traceback chain.\u001b[39;00m\n\u001b[1;32m     66\u001b[0m     \u001b[38;5;28;01mreturn\u001b[39;00m _wrapit(obj, method, \u001b[38;5;241m*\u001b[39margs, \u001b[38;5;241m*\u001b[39m\u001b[38;5;241m*\u001b[39mkwds)\n",
      "\u001b[0;31mIndexError\u001b[0m: index 25 is out of bounds for axis 0 with size 20"
     ]
    },
    {
     "data": {
      "image/png": "[encoded data removed]",
      "text/plain": [
       "<Figure size 550x385 with 2 Axes>"
      ]
     },
     "metadata": {},
     "output_type": "display_data"
    }
   ],
   "source": [
    "seaborn.heatmap(dub_onlyage,alpha=0.75,xticklabels=gamma,yticklabels=gamma,cmap='Blues',mask=mask,vmin=np.max(dub_onlyage[~mask])-10,vmax=np.max(dub_onlyage[~mask]))\n",
    "plt.xticks(np.linspace(0,24,6,dtype='int'),gamma2[np.linspace(0,24,6,dtype='int')].round(2))\n",
    "plt.yticks(np.linspace(0,24,6,dtype='int'),gamma2[np.linspace(0,24,6,dtype='int')].round(2))\n",
    "np.take(gamma, np.unravel_index(np.argmax(np.ma.masked_array(dub_onlyage, mask)),dub_onlyfreq.shape))"
   ]
  },
  {
   "cell_type": "code",
   "execution_count": 119,
   "metadata": {},
   "outputs": [
    {
     "data": {
      "text/plain": [
       "(16, 16)"
      ]
     },
     "execution_count": 119,
     "metadata": {},
     "output_type": "execute_result"
    }
   ],
   "source": [
    "np.unravel_index(np.argmax(np.ma.masked_array(dub_onlyage, mask)),dub_onlyage.shape)\n",
    "np.unravel_index(np.nanargmax(np.ma.masked_array(dub_onlyfreq, mask)),dub_onlyfreq.shape)\n",
    "# print(np.max(dub_onlyfreq[~mask]))\n",
    "# print(np.max(dub_onlyage[~mask]))\n",
    "# dub_onlyfreq[24,]\n",
    "# dub_onlyage[21,]"
   ]
  },
  {
   "cell_type": "markdown",
   "metadata": {},
   "source": [
    "### What if there was only one $\\gamma$ in the data? "
   ]
  },
  {
   "cell_type": "code",
   "execution_count": null,
   "metadata": {},
   "outputs": [],
   "source": [
    "samepredsonlyfreq = np.zeros((len(gamma),4))\n",
    "samepredsagefreq = np.zeros((len(gamma),4))\n",
    "for itg, trueg in enumerate(gamma):\n",
    "    newdf1 = df1.iloc[np.ravel(np.where(dat[:,1]==trueg)),:]\n",
    "\n",
    "    newdat = newdf1.to_numpy()\n",
    "    \n",
    "    sin_onlyfreq = np.zeros(len(gamma))\n",
    "    sin_agefreq = np.zeros(len(gamma))\n",
    "    \n",
    "    dub_onlyfreq = np.zeros((len(gamma),len(gamma))) # need a 2d search\n",
    "    dub_agefreq = np.zeros((len(gamma),len(gamma))) # need a 2d search\n",
    "\n",
    "    for ig1, g1 in enumerate(gamma):\n",
    "        sin_onlyfreq[ig1] = np.sum(get_lp_xl(g1, newdat[:,5]))\n",
    "        # sin_agefreq[ig1] = np.sum(get_lp_alxl(g1, newdat[:,0], newdat[:,2], n=100) + get_lp_xl(g1, newdat[:,0]))\n",
    "        sin_agefreq[ig1] = np.sum(get_lp_alxl(g1, newdat[:,5], newdat[:,2]))\n",
    "\n",
    "        for ig2, g2 in enumerate(gamma[0:(ig1+1)]):        \n",
    "            dub_onlyfreq[ig1, ig2] = np.sum(np.log(0.5*np.exp(get_lp_xl(g1, newdat[:,5])) + 0.5*np.exp(get_lp_xl(g2, newdat[:,5]))))\n",
    "    \n",
    "            # dub_agefreq[ig1, ig2] = np.sum(np.log(0.5*np.exp(get_lp_alxl(g1, newdat[:,0], newdat[:,2], n=100) + get_lp_xl(g1, newdat[:,0])) + 0.5*np.exp(get_lp_alxl(g2, newdat[:,0], newdat[:,2], n=100) + get_lp_xl(g2, newdat[:,0]))))\n",
    "            \n",
    "            dub_agefreq[ig1, ig2] = np.sum(np.log(0.5*np.exp(get_lp_alxl(g1, newdat[:,5], newdat[:,2])) + 0.5*np.exp(get_lp_alxl(g2, newdat[:,5], newdat[:,2]))))\n",
    "\n",
    "    estgonlyfreq = gamma[np.argmax(sin_onlyfreq)]\n",
    "\n",
    "    estg1onlyfreq = gamma[np.unravel_index(dub_onlyfreq.argmax(), dub_onlyfreq.shape)[0]]\n",
    "    estg2onlyfreq = gamma[np.unravel_index(dub_onlyfreq.argmax(), dub_onlyfreq.shape)[1]]\n",
    "\n",
    "    lambfreq = 2.*(np.max(dub_onlyfreq[~mask]) - np.max(sin_onlyfreq))\n",
    "\n",
    "    samepredsonlyfreq[itg,2] = estgonlyfreq\n",
    "\n",
    "    samepredsonlyfreq[itg,:2] = np.take(gamma, np.unravel_index(np.nanargmax(np.ma.masked_array(dub_onlyfreq, mask)),dub_onlyfreq.shape))\n",
    "\n",
    "    if(chi2.sf(lambfreq, 1)<0.05):\n",
    "        samepredsonlyfreq[itg,3] = True\n",
    "    else:\n",
    "        samepredsonlyfreq[itg,3] = False\n",
    "\n",
    "    estgagefreq = gamma[np.nanargmax(sin_agefreq)]        \n",
    "\n",
    "    estg1agefreq = np.take(gamma, np.unravel_index(np.nanargmax(np.ma.masked_array(dub_agefreq, mask)),dub_agefreq.shape))[0]\n",
    "    estg2agefreq = np.take(gamma, np.unravel_index(np.nanargmax(np.ma.masked_array(dub_agefreq, mask)),dub_agefreq.shape))[1]\n",
    "\n",
    "    lambagefreq = 2.*(np.nanmax(dub_agefreq[~mask]) - np.nanmax(sin_agefreq))\n",
    "\n",
    "    samepredsagefreq[itg,2] = estgagefreq\n",
    "\n",
    "    samepredsagefreq[itg,:2] = np.take(gamma, np.unravel_index(np.nanargmax(np.ma.masked_array(dub_agefreq, mask)),dub_agefreq.shape))\n",
    "\n",
    "    if(chi2.sf(lambagefreq, 1)<0.05):\n",
    "        samepredsagefreq[itg,3] = True\n",
    "    else:\n",
    "        samepredsagefreq[itg,3] = False"
   ]
  },
  {
   "cell_type": "code",
   "execution_count": null,
   "metadata": {},
   "outputs": [],
   "source": [
    "# np.max(dub_onlyfreq) - np.max(sin_onlyfreq)\n",
    "samepredsagefreq"
   ]
  },
  {
   "cell_type": "code",
   "execution_count": null,
   "metadata": {},
   "outputs": [],
   "source": [
    "## plotting the above results\n",
    "plt.scatter(-gamma, -samepredsonlyfreq[:,0], color='deepskyblue', marker='+', alpha=0.5)\n",
    "plt.scatter(-gamma, -samepredsonlyfreq[:,1], color='deepskyblue', marker='+', label='estimates using only freq', alpha=0.5)\n",
    "plt.scatter(-gamma, -samepredsagefreq[:,0], color='coral', marker='*', label='estimates using freq & age', alpha=0.5)\n",
    "plt.scatter(-gamma, -samepredsagefreq[:,1], color='coral', marker='*', alpha=0.5)\n",
    "plt.xlabel('true -γ value'); plt.ylabel('predicted -γ value(s)'); plt.loglog()\n",
    "plt.axline((0.01,0.01),(100,100),color='grey',ls='--'); plt.legend()"
   ]
  },
  {
   "cell_type": "markdown",
   "metadata": {},
   "source": [
    "### Template code to compute difference in $\\gamma$ given set of data\n",
    "\n",
    "Here, I will run the mechanism to compute the probability of a significant difference in selection coefficients is detected given a set of large data i.e., 2000 data points and I will resample 25 times to obtain smaller datasets of 500. "
   ]
  },
  {
   "cell_type": "code",
   "execution_count": 106,
   "metadata": {},
   "outputs": [],
   "source": [
    "# num_sims is number of reps to run to calculate prob\n",
    "# num_samps is number of rows to resample the big data from\n",
    "# gamma is np.array of values to calculate over\n",
    "# thresh is threshold to assign significance\n",
    "def resample_calculateprob_freq(newdat, gamma, num_sims=16, num_samps=500, thresh=0.05, cutoff=cutoff):\n",
    "    prob = 0.\n",
    "    sin_onlyfreq = np.empty(len(gamma))\n",
    "    dub_onlyfreq = np.zeros((len(gamma),len(gamma)))\n",
    "    for n in np.arange(num_sims):\n",
    "        newnewdat = newdat[np.random.choice(newdat.shape[0], num_samps, replace=False),:]\n",
    "        for ig, g in enumerate(gamma):\n",
    "            # sum log prob for each locus\n",
    "            sin_onlyfreq[ig] = np.sum(get_lp_xl(g, newnewdat[:,5], cutoff=cutoff))\n",
    "            for ig2, g2 in enumerate(gamma[0:(ig+1)]):\n",
    "                dub_onlyfreq[ig, ig2] = np.sum(np.log(0.5*np.exp(get_lp_xl(g, newnewdat[:,5], cutoff=cutoff)) + 0.5*np.exp(get_lp_xl(g2, newnewdat[:,5], cutoff=cutoff))))\n",
    "\n",
    "\n",
    "        estgonlyfreq = gamma[np.argmax(sin_onlyfreq)]\n",
    "\n",
    "        # estg1onlyfreq = gamma[np.unravel_index(dub_onlyfreq.argmax(), dub_onlyfreq.shape)[0]]\n",
    "        # estg2onlyfreq = gamma[np.unravel_index(dub_onlyfreq.argmax(), dub_onlyfreq.shape)[1]]\n",
    "        estg1onlyfreq, estg2onlyfreq = np.take(gamma, np.unravel_index(np.argmax(np.ma.masked_array(dub_onlyfreq, mask)),dub_onlyfreq.shape))\n",
    "\n",
    "        lambfreq = 2.*(dub_onlyfreq[gamma==estg1onlyfreq,gamma==estg2onlyfreq] - sin_onlyfreq[gamma==estgonlyfreq])\n",
    "\n",
    "        if(chi2.sf(lambfreq, 1)<thresh):\n",
    "            prob += 1.\n",
    "\n",
    "    return [prob/num_sims, estgonlyfreq, np.array([estg1onlyfreq, estg2onlyfreq])]"
   ]
  },
  {
   "cell_type": "code",
   "execution_count": null,
   "metadata": {},
   "outputs": [],
   "source": [
    "# num_samps is number of rows to resample the big data from\n",
    "# gamma is np.array of values to calculate over\n",
    "# thresh is threshold to assign significance\n",
    "def resample_calculateprob_agefreq(newdat, gamma, num_sims=16, num_samps=500, thresh=0.05):\n",
    "    prob = 0.\n",
    "\n",
    "    sin_agefreq = np.empty(len(gamma))\n",
    "    \n",
    "    dub_agefreq = np.zeros((len(gamma),len(gamma)))\n",
    "    for n in np.arange(num_sims):\n",
    "        newnewdat = newdat[np.random.choice(newdat.shape[0], num_samps, replace=False),:]\n",
    "        for ig, g in enumerate(gamma):\n",
    "            # sum log prob for each locus\n",
    "            sin_agefreq[ig] = np.sum(get_lp_alxl(g, newnewdat[:,0], newnewdat[:,2], n=100) + get_lp_xl(g, newnewdat[:,0]))\n",
    "            for ig2, g2 in enumerate(gamma[0:(ig+1)]):\n",
    "                dub_agefreq[ig, ig2] = np.sum(np.log(0.5*np.exp(get_lp_alxl(g, newnewdat[:,5], newnewdat[:,2]) + get_lp_xl(g, newnewdat[:,5])) + 0.5*np.exp(get_lp_alxl(g2, newnewdat[:,5], newnewdat[:,2]) + get_lp_xl(g2, newnewdat[:,5]))))\n",
    "\n",
    "        estgagefreq = gamma[np.nanargmax(sin_agefreq)]        \n",
    "\n",
    "        estg1agefreq = gamma[np.unravel_index(np.nanargmax(dub_agefreq[~mask]), dub_agefreq.shape)[0]]\n",
    "        estg2agefreq = gamma[np.unravel_index(np.nanargmax(dub_agefreq[~mask]), dub_agefreq.shape)[1]]\n",
    "\n",
    "        lambagefreq = 2.*(dub_agefreq[gamma==estg1agefreq,gamma==estg2agefreq] - sin_agefreq[gamma==estgagefreq])\n",
    "\n",
    "        if(chi2.sf(lambagefreq, 1)<thresh):\n",
    "            prob += 1.\n",
    "\n",
    "    return prob/num_sims"
   ]
  },
  {
   "cell_type": "code",
   "execution_count": 24,
   "metadata": {},
   "outputs": [],
   "source": [
    "# num_samps is number of rows to resample the big data from\n",
    "# gamma is np.array of values to calculate over\n",
    "# thresh is threshold to assign significance\n",
    "def resample_calculateprob_age(newdat, gamma, num_sims=16, num_samps=500, thresh=0.05, cutoff=cutoff):\n",
    "    prob = 0.\n",
    "\n",
    "    sin_onlyage = np.empty(len(gamma))\n",
    "    \n",
    "    dub_onlyage = np.zeros((len(gamma),len(gamma)))\n",
    "    for n in np.arange(num_sims):\n",
    "        newnewdat = newdat[np.random.choice(newdat.shape[0], num_samps, replace=False),:]\n",
    "        for ig, g in enumerate(gamma):\n",
    "            # sum log prob for each locus\n",
    "            sin_onlyage[ig] = np.sum(get_lp_alxl(g, newnewdat[:,5], newnewdat[:,2], cutoff=cutoff))\n",
    "            for ig2, g2 in enumerate(gamma[0:(ig+1)]):\n",
    "                dub_onlyage[ig, ig2] = np.sum(np.log(0.5*np.exp(get_lp_alxl(g, newnewdat[:,5], newnewdat[:,2], cutoff=cutoff)) + 0.5*np.exp(get_lp_alxl(g2, newnewdat[:,5], newnewdat[:,2], cutoff=cutoff))))\n",
    "\n",
    "        estgonlyage = gamma[np.argmax(sin_onlyage)]        \n",
    "\n",
    "        # estg1onlyage = gamma[np.unravel_index(dub_onlyage.argmax(), dub_onlyage.shape)[0]]\n",
    "        # estg2onlyage = gamma[np.unravel_index(dub_onlyage.argmax(), dub_onlyage.shape)[1]]\n",
    "        estg1onlyage, estg2onlyage = np.take(gamma, np.unravel_index(np.argmax(np.ma.masked_array(dub_onlyage, mask)),dub_onlyage.shape))\n",
    "\n",
    "        lambonlyage = 2.*(dub_onlyage[gamma==estg1onlyage,gamma==estg2onlyage] - sin_onlyage[gamma==estgonlyage])\n",
    "\n",
    "        if(chi2.sf(lambonlyage, 1)<thresh):\n",
    "            prob += 1.\n",
    "\n",
    "    return [prob/num_sims, estgonlyage, np.array([estg1onlyage, estg2onlyage])]"
   ]
  },
  {
   "cell_type": "code",
   "execution_count": 25,
   "metadata": {},
   "outputs": [],
   "source": [
    "diffgamma = np.reshape(list(it.combinations(gamma[0::2], 2)), (-1,2)) # np.reshape([(-1., x) for x in gamma[:-1][::2]], (-1,2)) #\n",
    "diffprobs = np.zeros((len(diffgamma),2))\n",
    "sinpreds = np.zeros((len(diffgamma),2))\n",
    "dubpreds = np.zeros((len(diffgamma),4))\n",
    "for ig, g in enumerate(diffgamma):\n",
    "    newdf1 = df1.iloc[np.ravel(np.where(dat[:,1]==g[0])),:].append(df1.iloc[np.ravel(np.where(dat[:,1]==g[1])),:])\n",
    "    # newdf1 = newdf1.sample(frac=1)\n",
    "    newdat = newdf1.to_numpy()\n",
    "    diffprobs[ig,0], sinpreds[ig,0], dubpreds[ig,:2] = resample_calculateprob_freq(newdat, gamma2, num_sims=20, num_samps=1500, cutoff=2)\n",
    "    diffprobs[ig,1], sinpreds[ig,1], dubpreds[ig,-2:] = resample_calculateprob_age(newdat, gamma2, num_sims=20, num_samps=1500, cutoff=2)"
   ]
  },
  {
   "cell_type": "code",
   "execution_count": 130,
   "metadata": {},
   "outputs": [
    {
     "ename": "KeyError",
     "evalue": "-100.0",
     "output_type": "error",
     "traceback": [
      "\u001b[0;31m---------------------------------------------------------------------------\u001b[0m",
      "\u001b[0;31mKeyError\u001b[0m                                  Traceback (most recent call last)",
      "Input \u001b[0;32mIn [130]\u001b[0m, in \u001b[0;36m<module>\u001b[0;34m\u001b[0m\n\u001b[1;32m      1\u001b[0m \u001b[38;5;66;03m# plt.hist(newdf1['al'].iloc[:1500],np.logspace(0,3)); plt.hist(newdf1['al'].iloc[1500:],np.logspace(0,3),alpha=0.5)\u001b[39;00m\n\u001b[0;32m----> 2\u001b[0m \u001b[43mup_xa_s\u001b[49m\u001b[43m[\u001b[49m\u001b[43ms\u001b[49m\u001b[43m[\u001b[49m\u001b[38;5;241;43m4\u001b[39;49m\u001b[43m]\u001b[49m\u001b[43m]\u001b[49m\n",
      "\u001b[0;31mKeyError\u001b[0m: -100.0"
     ]
    }
   ],
   "source": [
    "# plt.hist(newdf1['al'].iloc[:1500],np.logspace(0,3)); plt.hist(newdf1['al'].iloc[1500:],np.logspace(0,3),alpha=0.5)\n"
   ]
  },
  {
   "cell_type": "code",
   "execution_count": 110,
   "metadata": {},
   "outputs": [
    {
     "ename": "NameError",
     "evalue": "name 'dub_onlyage' is not defined",
     "output_type": "error",
     "traceback": [
      "\u001b[0;31m---------------------------------------------------------------------------\u001b[0m",
      "\u001b[0;31mNameError\u001b[0m                                 Traceback (most recent call last)",
      "Input \u001b[0;32mIn [110]\u001b[0m, in \u001b[0;36m<module>\u001b[0;34m\u001b[0m\n\u001b[1;32m      8\u001b[0m     sin_onlyage[ig] \u001b[38;5;241m=\u001b[39m np\u001b[38;5;241m.\u001b[39msum(get_lp_alxl(g, newnewdat[:,\u001b[38;5;241m5\u001b[39m], newnewdat[:,\u001b[38;5;241m2\u001b[39m], cutoff\u001b[38;5;241m=\u001b[39mcutoff))\n\u001b[1;32m      9\u001b[0m     \u001b[38;5;28;01mfor\u001b[39;00m ig2, g2 \u001b[38;5;129;01min\u001b[39;00m \u001b[38;5;28menumerate\u001b[39m(gamma2[\u001b[38;5;241m0\u001b[39m:(ig\u001b[38;5;241m+\u001b[39m\u001b[38;5;241m1\u001b[39m)]):\n\u001b[0;32m---> 10\u001b[0m         \u001b[43mdub_onlyage\u001b[49m[ig, ig2] \u001b[38;5;241m=\u001b[39m np\u001b[38;5;241m.\u001b[39msum(np\u001b[38;5;241m.\u001b[39mlog(\u001b[38;5;241m0.5\u001b[39m\u001b[38;5;241m*\u001b[39mnp\u001b[38;5;241m.\u001b[39mexp(get_lp_alxl(g, newnewdat[:,\u001b[38;5;241m5\u001b[39m], newnewdat[:,\u001b[38;5;241m2\u001b[39m], cutoff\u001b[38;5;241m=\u001b[39mcutoff)) \u001b[38;5;241m+\u001b[39m \u001b[38;5;241m0.5\u001b[39m\u001b[38;5;241m*\u001b[39mnp\u001b[38;5;241m.\u001b[39mexp(get_lp_alxl(g2, newnewdat[:,\u001b[38;5;241m5\u001b[39m], newnewdat[:,\u001b[38;5;241m2\u001b[39m], cutoff\u001b[38;5;241m=\u001b[39mcutoff))))\n\u001b[1;32m     12\u001b[0m \u001b[38;5;28mprint\u001b[39m(gamma[np\u001b[38;5;241m.\u001b[39margmax(sin_onlyage)])\n\u001b[1;32m     13\u001b[0m \u001b[38;5;28mprint\u001b[39m(np\u001b[38;5;241m.\u001b[39mtake(gamma, np\u001b[38;5;241m.\u001b[39munravel_index(np\u001b[38;5;241m.\u001b[39margmax(np\u001b[38;5;241m.\u001b[39mma\u001b[38;5;241m.\u001b[39mmasked_array(dub_onlyage, mask)),dub_onlyage\u001b[38;5;241m.\u001b[39mshape)))\n",
      "\u001b[0;31mNameError\u001b[0m: name 'dub_onlyage' is not defined"
     ]
    }
   ],
   "source": [
    "# newdf1 = df1.iloc[np.ravel(np.where(dat[:,1]==s[5])),:].append(df1.iloc[np.ravel(np.where(dat[:,1]==s[4])),:])\n",
    "# newdat = newdf1.to_numpy()\n",
    "# print(resample_calculateprob_freq(newdat, gamma2, num_sims=16, num_samps=1200, cutoff=2))\n",
    "# print(resample_calculateprob_age(newdat, gamma2, num_sims=16, num_samps=1200, cutoff=2))\n",
    "newnewdat = newdat[np.random.choice(newdat.shape[0], 1200, replace=False),:]\n",
    "for ig, g in enumerate(gamma2):\n",
    "    # sum log prob for each locus\n",
    "    sin_onlyage[ig] = np.sum(get_lp_alxl(g, newnewdat[:,5], newnewdat[:,2], cutoff=cutoff))\n",
    "    for ig2, g2 in enumerate(gamma2[0:(ig+1)]):\n",
    "        dub_onlyage[ig, ig2] = np.sum(np.log(0.5*np.exp(get_lp_alxl(g, newnewdat[:,5], newnewdat[:,2], cutoff=cutoff)) + 0.5*np.exp(get_lp_alxl(g2, newnewdat[:,5], newnewdat[:,2], cutoff=cutoff))))\n",
    "\n",
    "print(gamma[np.argmax(sin_onlyage)])\n",
    "print(np.take(gamma, np.unravel_index(np.argmax(np.ma.masked_array(dub_onlyage, mask)),dub_onlyage.shape)))"
   ]
  },
  {
   "cell_type": "code",
   "execution_count": 459,
   "metadata": {},
   "outputs": [],
   "source": [
    "diffgamma = np.reshape(list(it.combinations(s, 2)), (-1,2)) # np.reshape([(-1., x) for x in gamma[:-1][::2]], (-1,2)) #\n",
    "diffprobs = np.zeros((len(diffgamma),2))\n",
    "sinpreds = np.zeros((len(diffgamma),2))\n",
    "dubpreds = np.zeros((len(diffgamma),4))\n",
    "for ig, g in enumerate(diffgamma):\n",
    "    newdf1 = df1.iloc[np.ravel(np.where(dat[:,1]==g[0])),:].append(df1.iloc[np.ravel(np.where(dat[:,1]==g[1])),:])\n",
    "    # newdf1 = newdf1.sample(frac=1)\n",
    "    newdat = newdf1.to_numpy()\n",
    "    diffprobs[ig,0], sinpreds[ig,0], dubpreds[ig,:2] = resample_calculateprob_freq(newdat, gamma2, num_sims=20, num_samps=1500, cutoff=2)\n",
    "    diffprobs[ig,1], sinpreds[ig,1], dubpreds[ig,-2:] = resample_calculateprob_age(newdat, gamma2, num_sims=20, num_samps=1500, cutoff=2)"
   ]
  },
  {
   "cell_type": "code",
   "execution_count": 26,
   "metadata": {},
   "outputs": [],
   "source": [
    "## alternative plotting mechanism to highlight the power in discriminating between gamma values\n",
    "powermat_freq = np.empty((len(np.unique(diffgamma)),len(np.unique(diffgamma))))\n",
    "powermat_age = np.empty((len(np.unique(diffgamma)),len(np.unique(diffgamma))))\n",
    "\n",
    "mask_pow = np.full(powermat_freq.shape,False)\n",
    "mask_pow[np.tril_indices_from(powermat_freq,k=-1)] = True\n",
    "\n",
    "for ig, g in enumerate(diffgamma[:,]):\n",
    "    powermat_freq[np.argmax(g[0]==np.unique(diffgamma)), np.argmax(g[1]==np.unique(diffgamma))] = diffprobs[ig, 0]\n",
    "    powermat_age[np.argmax(g[0]==np.unique(diffgamma)), np.argmax(g[1]==np.unique(diffgamma))] = diffprobs[ig, 1]"
   ]
  },
  {
   "cell_type": "code",
   "execution_count": 27,
   "metadata": {},
   "outputs": [],
   "source": [
    "for ig, g in enumerate(np.unique(diffgamma)):\n",
    "    newdf1 = df1.iloc[np.ravel(np.where(dat[:,1]==g)),:]\n",
    "    # newdf1 = newdf1.sample(frac=1)\n",
    "    newdat = newdf1.to_numpy()\n",
    "    powermat_freq[ig,ig], _, _ = resample_calculateprob_freq(newdat, gamma2, num_sims=16, num_samps=1500, cutoff=2)\n",
    "    powermat_age[ig,ig], _, _ = resample_calculateprob_age(newdat, gamma2, num_sims=16, num_samps=1500, cutoff=2)"
   ]
  },
  {
   "cell_type": "code",
   "execution_count": null,
   "metadata": {},
   "outputs": [],
   "source": [
    "newdf1 = df1.iloc[np.ravel(np.where(dat[:,1]==np.unique(diffgamma)[2])),:]\n",
    "newdat = newdf1.to_numpy()\n",
    "print(resample_calculateprob_age(newdat, gamma, num_samps=800, cutoff=10))\n",
    "resample_calculateprob_freq(newdat, gamma, num_samps=800, cutoff=10)"
   ]
  },
  {
   "cell_type": "code",
   "execution_count": null,
   "metadata": {},
   "outputs": [],
   "source": [
    "# newdf1 = df1.iloc[np.ravel(np.where(dat[:,1]==gamma[6])),:].append(df1.iloc[np.ravel(np.where(dat[:,1]==gamma[-1])),:])\n",
    "# newdat = newdf1.to_numpy()\n",
    "# print(resample_calculateprob_freq(newdat, gamma, num_sims=10, num_samps=1000, cutoff=50))\n",
    "# print(resample_calculateprob_age(newdat, gamma, num_sims=10, num_samps=1000))"
   ]
  },
  {
   "cell_type": "code",
   "execution_count": null,
   "metadata": {},
   "outputs": [],
   "source": [
    "plt.scatter([-np.mean(g) for g in diffgamma], -sinpreds[:,0], color='deepskyblue', marker='+', label='only freq')\n",
    "plt.scatter([-np.mean(g) for g in diffgamma], -sinpreds[:,1], color='coral', marker='*', label='freq & age',)\n",
    "plt.xlabel('mean of true γ'); plt.ylabel('predicted γ'); plt.loglog(); plt.legend() \n",
    "plt.axline((1,1),(100,100),color='grey',ls='--')"
   ]
  },
  {
   "cell_type": "code",
   "execution_count": null,
   "metadata": {},
   "outputs": [],
   "source": [
    "plt.scatter([np.abs(g[1]-g[0]) for g in diffgamma], diffprobs[:,0], color='deepskyblue', alpha=0.7, label='only freq') #s=truenumlocifreq[:-1]/(truenumlocifreq[:-1]+truenumlocifreq[-1])*70.)\n",
    "plt.scatter([np.abs(g[1]-g[0]) for g in diffgamma], diffprobs[:,1], color='coral', alpha=0.7, label='freq & age')\n",
    "ginterp = np.logspace(0,4.5,base=np.exp(1),num=25)\n",
    "fit = sp.interpolate.interp1d([np.abs(g[1]-g[0]) for g in diffgamma], diffprobs[:,0], kind='linear')\n",
    "plt.plot(ginterp, fit(ginterp), '--', color='deepskyblue', alpha=0.7)\n",
    "fit = sp.interpolate.interp1d([np.abs(g[1]-g[0]) for g in diffgamma], diffprobs[:,1], kind='linear')\n",
    "plt.plot(ginterp, fit(ginterp), '--', color='coral', alpha=0.7)\n",
    "plt.ylim((-0.1,1.1)); plt.xscale('log'); plt.xlabel('log(|γ1-γ2|)'); plt.ylabel('prob of choosing complex model'); plt.legend()"
   ]
  },
  {
   "cell_type": "code",
   "execution_count": 437,
   "metadata": {},
   "outputs": [
    {
     "data": {
      "text/plain": [
       "array([[0.000, 0.000, 0.000, 0.000, 0.000, 0.000, 0.000, 0.000, 0.000,\n",
       "        0.000],\n",
       "       [0.000, 0.000, 0.000, 0.000, 0.000, 0.000, 0.000, 0.000, 0.000,\n",
       "        0.000],\n",
       "       [0.000, 0.000, 0.000, 0.000, 0.000, 0.000, 0.000, 0.000, 0.000,\n",
       "        0.000],\n",
       "       [0.100, 0.000, 0.000, 0.000, 0.000, 0.000, 0.000, 0.000, 0.000,\n",
       "        0.000],\n",
       "       [0.000, 0.000, 0.000, 0.000, 0.000, 0.000, 0.000, 0.000, 0.000,\n",
       "        0.000],\n",
       "       [0.400, 0.600, 0.050, 0.000, 0.000, 0.000, 0.000, 0.000, 0.000,\n",
       "        0.000],\n",
       "       [0.900, 0.950, 0.600, 0.050, 0.000, 0.000, 0.000, 0.000, 0.000,\n",
       "        0.000],\n",
       "       [1.000, 0.900, 0.900, 0.400, 0.250, 0.000, 0.000, 0.000, 0.000,\n",
       "        0.000],\n",
       "       [0.950, 0.950, 1.000, 0.750, 0.750, 0.150, 0.000, 0.000, 0.000,\n",
       "        0.000],\n",
       "       [1.000, 1.000, 0.950, 0.800, 0.900, 0.300, 0.100, 0.000, 0.000,\n",
       "        0.000]])"
      ]
     },
     "execution_count": 437,
     "metadata": {},
     "output_type": "execute_result"
    }
   ],
   "source": [
    "powermat_freq"
   ]
  },
  {
   "cell_type": "code",
   "execution_count": 28,
   "metadata": {},
   "outputs": [
    {
     "data": {
      "text/plain": [
       "<AxesSubplot:title={'center':'freq & age'}>"
      ]
     },
     "execution_count": 28,
     "metadata": {},
     "output_type": "execute_result"
    },
    {
     "data": {
      "text/plain": [
       "<Figure size 1000x700 with 0 Axes>"
      ]
     },
     "metadata": {},
     "output_type": "display_data"
    },
    {
     "data": {
      "image/png": "[encoded data removed]",
      "text/plain": [
       "<Figure size 550x385 with 2 Axes>"
      ]
     },
     "metadata": {},
     "output_type": "display_data"
    }
   ],
   "source": [
    "# np.hstack((diffgamma, dubpreds))\n",
    "# np.argmax(diffgamma[0][1]==np.unique(diffgamma))\n",
    "plt.figure(dpi=200)\n",
    "fig, (ax1, ax2) = plt.subplots(1,2)\n",
    "seaborn.heatmap(powermat_freq.T, mask=mask_pow, xticklabels=np.unique(diffgamma), yticklabels=np.unique(diffgamma), cmap='GnBu', ax=ax1, cbar=False, linewidths=0.05, square=True,alpha=0.8,vmin=-0.1);\n",
    "ax1.set_title('freq only'); ax2.set_title('freq & age'); \n",
    "seaborn.heatmap(powermat_age.T, mask=mask_pow, xticklabels=np.unique(diffgamma), yticklabels=[], cmap='GnBu', square=True, ax=ax2, linewidths=0.05, vmin=-0.1, cbar=False, cbar_kws={'label': 'prob of choosing complex model'},alpha=0.8)"
   ]
  },
  {
   "cell_type": "code",
   "execution_count": null,
   "metadata": {},
   "outputs": [],
   "source": [
    "truenumloci = np.zeros(len(gamma))\n",
    "for ig, g in enumerate(gamma):\n",
    "    newdf1 = df1.iloc[np.ravel(np.where(dat[:,1]==g)),:]\n",
    "    sXlred = newdf1['sXl']\n",
    "    truenumloci[ig] = np.sum((sXlred>10) & (sXlred<n-10+1))\n",
    "\n",
    "truenumlocifreq = np.zeros(len(gamma))\n",
    "for ig, g in enumerate(gamma):\n",
    "    newdf1 = df1.iloc[np.ravel(np.where(dat[:,1]==g)),0:3]\n",
    "    truenumlocifreq[ig] = newdf1.to_numpy().shape[0]\n",
    "\n",
    "truenumloci"
   ]
  },
  {
   "cell_type": "markdown",
   "metadata": {},
   "source": [
    "### Automating workflow for simulating point DFE from PReFerSim (instead of using the R approach from before)\n",
    "\n",
    "Here, I will write a python function to run the program with appropriate parameters and read the input into a dataframe after."
   ]
  },
  {
   "cell_type": "code",
   "execution_count": 17,
   "metadata": {},
   "outputs": [],
   "source": [
    "os.chdir(\"/Users/vivaswatshastry/selCoefEst/PReFerSims\")\n",
    "## creating a small set of gamma for simulating data (testing framework) \n",
    "## gamma = 4Ns potentially (yes, if it has to coincide with the moments framework)\n",
    "# gamma = -np.round(np.logspace(0,2,20),2) \n",
    "s = -np.array([1.,5.,10.,50.,100.,500.])\n",
    "# for ig, g in enumerate(s):\n",
    "#     with open('simfiles/ParameterFilesConstant.txt',\"r\") as file:\n",
    "#         data = file.readlines()\n",
    "\n",
    "#     data[2] = 'DFEPointSelectionCoefficient: {:f}\\n'.format(-0.25*g/10000)\n",
    "#     data[7] = 'FilePrefix: outfiles/ConstantSize{}\\n'.format(-g)\n",
    "\n",
    "#     with open('simfiles/ParameterFilesConstant.txt', 'w') as file:\n",
    "#         file.writelines(data)\n",
    "        \n",
    "#     os.system(\"GSL_RNG_SEED=1004 GSL_RNG_TYPE=mrg ../../PReFerSim/PReFerSim simfiles/ParameterFilesConstant.txt 1\")"
   ]
  },
  {
   "cell_type": "code",
   "execution_count": 18,
   "metadata": {},
   "outputs": [],
   "source": [
    "## reading in the data and storing in a data frame\n",
    "nsites = 1500\n",
    "df1 = pd.DataFrame(index=range(nsites*len(s)),columns=['','Xl','s','al','id'])\n",
    "for ig, g in enumerate(s):\n",
    "    # if(g==-100.):\n",
    "    #     df1.iloc[(ig*nsites):(ig+1)*nsites] = pd.read_csv('outfiles/ConstantSize50.0.1.full_out.txt'.format(-g),sep='\\t',header=None).sample(n=nsites)\n",
    "    # elif(g==-1.):\n",
    "    #     df1.iloc[(ig*nsites):(ig+1)*nsites] = pd.read_csv('outfiles/ConstantSize2.0.1.full_out.txt'.format(-g),sep='\\t',header=None).sample(n=nsites)\n",
    "    # else:\n",
    "    df1.iloc[(ig*nsites):(ig+1)*nsites] = pd.read_csv('outfiles/ConstantSize{}.1.full_out.txt'.format(-g),sep='\\t',header=None).sample(n=nsites)\n",
    "    df1['s'].iloc[(ig*nsites):(ig+1)*nsites] = np.repeat(g,nsites)\n",
    "df1['empty'] = ''\n",
    "df1['sXl'] = (df1['Xl']*2000).astype('int')\n",
    "df1['al'] = 100000+1 - df1['al']\n",
    "df1['al'] = df1['al'].astype('int')\n",
    "df1 = df1.iloc[:,1:]\n",
    "dat = df1.to_numpy()"
   ]
  },
  {
   "cell_type": "code",
   "execution_count": 45,
   "metadata": {},
   "outputs": [
    {
     "data": {
      "text/html": [
       "<div>\n",
       "<style scoped>\n",
       "    .dataframe tbody tr th:only-of-type {\n",
       "        vertical-align: middle;\n",
       "    }\n",
       "\n",
       "    .dataframe tbody tr th {\n",
       "        vertical-align: top;\n",
       "    }\n",
       "\n",
       "    .dataframe thead th {\n",
       "        text-align: right;\n",
       "    }\n",
       "</style>\n",
       "<table border=\"1\" class=\"dataframe\">\n",
       "  <thead>\n",
       "    <tr style=\"text-align: right;\">\n",
       "      <th></th>\n",
       "      <th>Xl</th>\n",
       "      <th>s</th>\n",
       "      <th>al</th>\n",
       "      <th>id</th>\n",
       "      <th>empty</th>\n",
       "      <th>sXl</th>\n",
       "    </tr>\n",
       "  </thead>\n",
       "  <tbody>\n",
       "    <tr>\n",
       "      <th>0</th>\n",
       "      <td>0.4335</td>\n",
       "      <td>-1.0</td>\n",
       "      <td>10364</td>\n",
       "      <td>13448605.0</td>\n",
       "      <td></td>\n",
       "      <td>867</td>\n",
       "    </tr>\n",
       "    <tr>\n",
       "      <th>1</th>\n",
       "      <td>0.0015</td>\n",
       "      <td>-1.0</td>\n",
       "      <td>142</td>\n",
       "      <td>14982061.0</td>\n",
       "      <td></td>\n",
       "      <td>3</td>\n",
       "    </tr>\n",
       "    <tr>\n",
       "      <th>2</th>\n",
       "      <td>0.003</td>\n",
       "      <td>-1.0</td>\n",
       "      <td>854</td>\n",
       "      <td>14874889.0</td>\n",
       "      <td></td>\n",
       "      <td>6</td>\n",
       "    </tr>\n",
       "    <tr>\n",
       "      <th>3</th>\n",
       "      <td>0.0135</td>\n",
       "      <td>-1.0</td>\n",
       "      <td>1761</td>\n",
       "      <td>14739324.0</td>\n",
       "      <td></td>\n",
       "      <td>27</td>\n",
       "    </tr>\n",
       "    <tr>\n",
       "      <th>4</th>\n",
       "      <td>0.236</td>\n",
       "      <td>-1.0</td>\n",
       "      <td>6772</td>\n",
       "      <td>13987510.0</td>\n",
       "      <td></td>\n",
       "      <td>472</td>\n",
       "    </tr>\n",
       "    <tr>\n",
       "      <th>...</th>\n",
       "      <td>...</td>\n",
       "      <td>...</td>\n",
       "      <td>...</td>\n",
       "      <td>...</td>\n",
       "      <td>...</td>\n",
       "      <td>...</td>\n",
       "    </tr>\n",
       "    <tr>\n",
       "      <th>8995</th>\n",
       "      <td>0.003</td>\n",
       "      <td>-500.0</td>\n",
       "      <td>546</td>\n",
       "      <td>74577182.0</td>\n",
       "      <td></td>\n",
       "      <td>6</td>\n",
       "    </tr>\n",
       "    <tr>\n",
       "      <th>8996</th>\n",
       "      <td>0.001</td>\n",
       "      <td>-500.0</td>\n",
       "      <td>104</td>\n",
       "      <td>74908565.0</td>\n",
       "      <td></td>\n",
       "      <td>2</td>\n",
       "    </tr>\n",
       "    <tr>\n",
       "      <th>8997</th>\n",
       "      <td>0.0055</td>\n",
       "      <td>-500.0</td>\n",
       "      <td>146</td>\n",
       "      <td>74877147.0</td>\n",
       "      <td></td>\n",
       "      <td>11</td>\n",
       "    </tr>\n",
       "    <tr>\n",
       "      <th>8998</th>\n",
       "      <td>0.001</td>\n",
       "      <td>-500.0</td>\n",
       "      <td>11</td>\n",
       "      <td>74978941.0</td>\n",
       "      <td></td>\n",
       "      <td>2</td>\n",
       "    </tr>\n",
       "    <tr>\n",
       "      <th>8999</th>\n",
       "      <td>0.0005</td>\n",
       "      <td>-500.0</td>\n",
       "      <td>5</td>\n",
       "      <td>74983529.0</td>\n",
       "      <td></td>\n",
       "      <td>1</td>\n",
       "    </tr>\n",
       "  </tbody>\n",
       "</table>\n",
       "<p>9000 rows × 6 columns</p>\n",
       "</div>"
      ],
      "text/plain": [
       "          Xl      s     al          id empty  sXl\n",
       "0     0.4335   -1.0  10364  13448605.0        867\n",
       "1     0.0015   -1.0    142  14982061.0          3\n",
       "2      0.003   -1.0    854  14874889.0          6\n",
       "3     0.0135   -1.0   1761  14739324.0         27\n",
       "4      0.236   -1.0   6772  13987510.0        472\n",
       "...      ...    ...    ...         ...   ...  ...\n",
       "8995   0.003 -500.0    546  74577182.0          6\n",
       "8996   0.001 -500.0    104  74908565.0          2\n",
       "8997  0.0055 -500.0    146  74877147.0         11\n",
       "8998   0.001 -500.0     11  74978941.0          2\n",
       "8999  0.0005 -500.0      5  74983529.0          1\n",
       "\n",
       "[9000 rows x 6 columns]"
      ]
     },
     "execution_count": 45,
     "metadata": {},
     "output_type": "execute_result"
    }
   ],
   "source": [
    "# [0.5,1,2,5,10,20,50,100,200,500]\n",
    "# np.concatenate((-np.arange(1,5),-np.round(np.logspace(-1,10,25,base=2,),1)))\n",
    "# gamma = -np.logspace(-0.2,3,25,base=10)\n",
    "df1"
   ]
  },
  {
   "cell_type": "code",
   "execution_count": null,
   "metadata": {},
   "outputs": [],
   "source": [
    "# MutationRate: 1000\n",
    "# DFEType: point\n",
    "# DFEPointSelectionCoefficient: 0.005\n",
    "# DemographicHistory: simfiles/ConstantSize.txt \n",
    "# n: 2000\n",
    "# PrintSegSiteInfo: 1\n",
    "# LastGenerationAFSamplingValue: 1\n",
    "# FilePrefix: outfiles/ConstantSize"
   ]
  }
 ],
 "metadata": {
  "interpreter": {
   "hash": "37dbdfb015eb2911072604397bc3ab5127f1ef4d866242904832becb363c8f9b"
  },
  "kernelspec": {
   "display_name": "Python 3.9.7 64-bit ('cvae': conda)",
   "language": "python",
   "name": "python3"
  },
  "language_info": {
   "codemirror_mode": {
    "name": "ipython",
    "version": 3
   },
   "file_extension": ".py",
   "mimetype": "text/x-python",
   "name": "python",
   "nbconvert_exporter": "python",
   "pygments_lexer": "ipython3",
   "version": "3.10.2"
  },
  "orig_nbformat": 4
 },
 "nbformat": 4,
 "nbformat_minor": 2
}
