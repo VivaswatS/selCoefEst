{
 "cells": [
  {
   "cell_type": "markdown",
   "metadata": {},
   "source": [
    "## Notebook to implement importance sampling procedure for ages estimated under neutrality\n",
    "##### Feb, 2023"
   ]
  },
  {
   "cell_type": "code",
   "execution_count": 5,
   "metadata": {},
   "outputs": [],
   "source": [
    "%load_ext autoreload\n",
    "%autoreload 2\n",
    "\n",
    "# numerics + rv stuff\n",
    "import numpy as np\n",
    "import scipy as sp\n",
    "from numpy.random import default_rng\n",
    "import moments\n",
    "from joblib import Parallel, delayed\n",
    "\n",
    "# plotting + misc tools\n",
    "import matplotlib.pyplot as plt\n",
    "# import matplotlib.patches as mpatches\n",
    "import itertools as it\n",
    "import matplotlib.colors as colors\n",
    "# import matplotlib.cm as cm\n",
    "import pandas as pd\n",
    "# method of moments framework + helper functions\n",
    "from mom_functions import *\n",
    "\n",
    "# rng setup\n",
    "rng = default_rng(100496)\n",
    "\n",
    "# change matplotlib fonts\n",
    "plt.rcParams[\"font.family\"] = \"Arial\"\n",
    "plt.rcParams[\"font.sans-serif\"] = \"Arial\"\n",
    "plt.rcParams[\"figure.figsize\"] = [5, 3.5]\n",
    "plt.rcParams[\"figure.dpi\"] = 110\n",
    "plt.rcParams[\"axes.axisbelow\"] = True\n",
    "plt.rcParams.update({\"figure.facecolor\": \"white\"})\n",
    "\n",
    "# set numpy print option to a more readable format for floats\n",
    "np.set_printoptions(formatter={'float': lambda x: \"{0:0.3f}\".format(x)})"
   ]
  },
  {
   "cell_type": "code",
   "execution_count": 102,
   "metadata": {},
   "outputs": [
    {
     "data": {
      "text/plain": [
       "     fun: 688.5787\n",
       " message: '\\nOptimization terminated successfully;\\nThe returned value satisfies the termination criteria\\n(using xtol = 1.48e-08 )'\n",
       "    nfev: 39\n",
       "     nit: 27\n",
       " success: True\n",
       "       x: -100.61962979696008"
      ]
     },
     "execution_count": 102,
     "metadata": {},
     "output_type": "execute_result"
    }
   ],
   "source": [
    "# os.chdir('/Users/vivaswatshastry/selCoefEst/PReFerSims/')\n",
    "dft = pd.read_csv('outfiles/ConstantSize100.0.1.full_out.txt',sep='\\t',header=None,names=['','Xl','s','al','id'])\n",
    "dft['empty'] = ''\n",
    "dft['sXl'] = (dft['Xl']*200).astype('int')\n",
    "dft['al'] = 80000+1 - dft['al']\n",
    "dft['al'] = dft['al'].astype('int')\n",
    "dft = dft.iloc[:,1:]\n",
    "datt = dft.to_numpy()\n",
    "\n",
    "SMS = np.zeros((80000,200+1),dtype='int16')\n",
    "mask = np.zeros_like(SMS); mask[0,:] = 1; mask[:,0] = 1; mask[:,-1] = 1;\n",
    "for i in range(len(datt)):\n",
    "    SMS[datt[i,2],datt[i,5]] += 1\n",
    "SMSmask = np.ma.array(SMS,mask=mask)\n",
    "\n",
    "# plt.spy(SMSmask,aspect='auto',color='salmon',marker='+',markersize=2,alpha=0.8); plt.xlabel('# of alleles (i)'); plt.ylabel('allele age (a)'); plt.ylim((0,12000))\n",
    "\n",
    "sp.optimize.minimize_scalar(get_ll_freqageconstant_notfm,args=({'sms':SMSmask,'theta':400,'N':10000,'p_misid':0,'gens':80000},200))"
   ]
  },
  {
   "cell_type": "code",
   "execution_count": 127,
   "metadata": {},
   "outputs": [],
   "source": [
    "## inferring selection coefficients using estimated ages from Relate\n",
    "## (can also build in an inference framework in which we randomly sample from a dist of posterior)\n",
    "# relest = np.zeros((datt.shape[0],2))\n",
    "# for ial, al in enumerate(datt[:,3]):\n",
    "#     relout = pd.read_csv(\"msselfiles/relfiles/outfiles/out100.0_{}.mut\".format(int(al)),delimiter=';')\n",
    "#     relest[ial,0] = 1 if (relout['age_begin'][relout['pos_of_snp']==500000]==0).bool() else relout['age_begin'][relout['pos_of_snp']==500000]\n",
    "#    relest[ial,1] = relout['age_end'][relout['pos_of_snp']==500000]\n",
    "\n",
    "gevest = np.zeros((datt.shape[0],1))\n",
    "for ial, al in enumerate(datt[:,3]):\n",
    "    try:\n",
    "        gevout = pd.read_csv('msselfiles/gevafiles/outfiles/out100.0_{}.sites2.txt'.format(int(al)),delimiter=' ')\n",
    "    except:\n",
    "        gevout = pd.DataFrame(np.full((1,5),np.nan))\n",
    "    gevest[ial,0] = gevout.iloc[0,4]\n"
   ]
  },
  {
   "cell_type": "code",
   "execution_count": 129,
   "metadata": {},
   "outputs": [
    {
     "data": {
      "text/plain": [
       "(array([18.000, 22.000, 11.000, 6.000, 3.000, 0.000, 0.000, 0.000, 0.000,\n",
       "        1.000]),\n",
       " array([40.194, 139.686, 239.178, 338.670, 438.163, 537.655, 637.147,\n",
       "        736.639, 836.131, 935.623, 1035.115]),\n",
       " <BarContainer object of 10 artists>)"
      ]
     },
     "execution_count": 129,
     "metadata": {},
     "output_type": "execute_result"
    },
    {
     "data": {
      "image/png": "[encoded data removed]",
      "text/plain": [
       "<Figure size 550x385 with 1 Axes>"
      ]
     },
     "metadata": {},
     "output_type": "display_data"
    }
   ],
   "source": [
    "# np.int_(rng.uniform(relest[-2:,0],relest[-2:,1]))\n",
    "# pd.read_csv('msselfiles/gevafiles/outfiles/out100.0_{}.sites2.txt'.format(16004057),delimiter=' ')"
   ]
  },
  {
   "cell_type": "code",
   "execution_count": 105,
   "metadata": {},
   "outputs": [],
   "source": [
    "## running it on the midpoint\n",
    "# datt = np.append(datt, np.int_(relest.mean(axis=1)).reshape(-1,1), 1)\n",
    "# SMS = np.zeros((80000,200+1),dtype='int16')\n",
    "# mask = np.zeros_like(SMS); mask[0,:] = 1; mask[:,0] = 1; mask[:,-1] = 1;\n",
    "# for i in range(len(datt)):\n",
    "#     SMS[datt[i,6],datt[i,5]] += 1\n",
    "# SMSmask = np.ma.array(SMS,mask=mask)\n",
    "# gamest = [sp.optimize.minimize_scalar(get_ll_freqageconstant_notfm,args=({'sms':SMSmask,'theta':400,'N':10000,'p_misid':0,'gens':80000},200)).x]\n",
    "\n",
    "# running it on a uniform draw from the distribution\n",
    "# for reps in range(20):\n",
    "#     datt[:,6] = np.int_(rng.uniform(relest[:,0]+1,relest[:,1]))\n",
    "#     SMS = np.zeros((80000,200+1),dtype='int16')\n",
    "#     mask = np.zeros_like(SMS); mask[0,:] = 1; mask[:,0] = 1; mask[:,-1] = 1;\n",
    "#     for i in range(len(datt)):\n",
    "#         SMS[datt[i,6],datt[i,5]] += 1\n",
    "#     SMSmask = np.ma.array(SMS,mask=mask)\n",
    "\n",
    "#     gamest.append(sp.optimize.minimize_scalar(get_ll_freqageconstant_notfm,args=({'sms':SMSmask,'theta':400,'N':10000,'p_misid':0,'gens':80000},200)).x)"
   ]
  },
  {
   "cell_type": "code",
   "execution_count": 136,
   "metadata": {},
   "outputs": [
    {
     "data": {
      "text/plain": [
       "[-180.2139653744981]"
      ]
     },
     "execution_count": 136,
     "metadata": {},
     "output_type": "execute_result"
    }
   ],
   "source": [
    "# plt.boxplot([g for g in gamest]); plt.axhline(-100,color='red',ls='-',label='true'); plt.axhline(gamest[0],color='grey',ls='-.',label='est. using midpoint'); plt.axhline(-100.62,color='b',ls='--',label='est. using sim.'); plt.legend()\n",
    "# SMS = np.zeros((80000,200+1),dtype='int16')\n",
    "# mask = np.zeros_like(SMS); mask[0,:] = 1; mask[:,0] = 1; mask[:,-1] = 1;\n",
    "# for i in range(len(datt)):\n",
    "#     if datt[i,7]==0:\n",
    "#         continue\n",
    "#     SMS[datt[i,7],datt[i,5]] += 1\n",
    "# SMSmask = np.ma.array(SMS,mask=mask)"
   ]
  },
  {
   "cell_type": "markdown",
   "metadata": {},
   "source": [
    "### Importance sampling scheme method\n",
    "\n",
    "Below is code to deal with the underestimation of $\\gamma$ for higher values, as ages are estimated under the neutral prior. "
   ]
  }
 ],
 "metadata": {
  "interpreter": {
   "hash": "37dbdfb015eb2911072604397bc3ab5127f1ef4d866242904832becb363c8f9b"
  },
  "kernelspec": {
   "display_name": "Python 3.10.2 ('cvae')",
   "language": "python",
   "name": "python3"
  },
  "language_info": {
   "codemirror_mode": {
    "name": "ipython",
    "version": 3
   },
   "file_extension": ".py",
   "mimetype": "text/x-python",
   "name": "python",
   "nbconvert_exporter": "python",
   "pygments_lexer": "ipython3",
   "version": "3.10.2"
  },
  "orig_nbformat": 4
 },
 "nbformat": 4,
 "nbformat_minor": 2
}
