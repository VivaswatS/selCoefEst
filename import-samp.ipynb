{
 "cells": [
  {
   "cell_type": "markdown",
   "metadata": {},
   "source": [
    "## Notebook to implement importance sampling procedure for ages estimated under neutrality\n",
    "##### Feb, 2023"
   ]
  },
  {
   "cell_type": "code",
   "execution_count": 5,
   "metadata": {},
   "outputs": [],
   "source": [
    "%load_ext autoreload\n",
    "%autoreload 2\n",
    "\n",
    "# numerics + rv stuff\n",
    "import numpy as np\n",
    "import scipy as sp\n",
    "from numpy.random import default_rng\n",
    "import moments\n",
    "from joblib import Parallel, delayed\n",
    "\n",
    "# plotting + misc tools\n",
    "import matplotlib.pyplot as plt\n",
    "# import matplotlib.patches as mpatches\n",
    "import itertools as it\n",
    "import matplotlib.colors as colors\n",
    "# import matplotlib.cm as cm\n",
    "import pandas as pd\n",
    "# method of moments framework + helper functions\n",
    "from mom_functions import *\n",
    "\n",
    "# rng setup\n",
    "rng = default_rng(100496)\n",
    "\n",
    "# change matplotlib fonts\n",
    "plt.rcParams[\"font.family\"] = \"Arial\"\n",
    "plt.rcParams[\"font.sans-serif\"] = \"Arial\"\n",
    "plt.rcParams[\"figure.figsize\"] = [5, 3.5]\n",
    "plt.rcParams[\"figure.dpi\"] = 110\n",
    "plt.rcParams[\"axes.axisbelow\"] = True\n",
    "plt.rcParams.update({\"figure.facecolor\": \"white\"})\n",
    "\n",
    "# set numpy print option to a more readable format for floats\n",
    "np.set_printoptions(formatter={'float': lambda x: \"{0:0.3f}\".format(x)})"
   ]
  },
  {
   "cell_type": "code",
   "execution_count": 166,
   "metadata": {},
   "outputs": [],
   "source": [
    "# os.chdir('/Users/vivaswatshastry/selCoefEst/PReFerSims/')\n",
    "# dft = pd.read_csv('outfiles/ConstantSize100.0.1.full_out.txt',sep='\\t',header=None,names=['','Xl','s','al','id'])\n",
    "# dft['empty'] = ''\n",
    "# dft['sXl'] = (dft['Xl']*200).astype('int')\n",
    "# dft['al'] = 80000+1 - dft['al']\n",
    "# dft['al'] = dft['al'].astype('int')\n",
    "# dft = dft.iloc[:,1:]\n",
    "# datt = dft.to_numpy()\n",
    "\n",
    "# SMS = np.zeros((80000,200+1),dtype='int16')\n",
    "# mask = np.zeros_like(SMS); mask[0,:] = 1; mask[:,0] = 1; mask[:,-1] = 1;\n",
    "# for i in range(len(datt)):\n",
    "#     SMS[datt[i,2],datt[i,5]] += 1\n",
    "# SMSmask = np.ma.array(SMS,mask=mask)\n",
    "\n",
    "# plt.spy(SMSmask,aspect='auto',color='salmon',marker='+',markersize=2,alpha=0.8); plt.xlabel('# of alleles (i)'); plt.ylabel('allele age (a)'); plt.ylim((0,12000))\n",
    "\n",
    "# sp.optimize.minimize_scalar(get_ll_freqageconstant_notfm,args=({'sms':SMSmask,'theta':400,'N':10000,'p_misid':0,'gens':80000},200))"
   ]
  },
  {
   "cell_type": "code",
   "execution_count": 127,
   "metadata": {},
   "outputs": [],
   "source": [
    "## inferring selection coefficients using estimated ages from Relate\n",
    "## (can also build in an inference framework in which we randomly sample from a dist of posterior)\n",
    "# relest = np.zeros((datt.shape[0],2))\n",
    "# for ial, al in enumerate(datt[:,3]):\n",
    "#     relout = pd.read_csv(\"msselfiles/relfiles/outfiles/out100.0_{}.mut\".format(int(al)),delimiter=';')\n",
    "#     relest[ial,0] = 1 if (relout['age_begin'][relout['pos_of_snp']==500000]==0).bool() else relout['age_begin'][relout['pos_of_snp']==500000]\n",
    "#    relest[ial,1] = relout['age_end'][relout['pos_of_snp']==500000]\n",
    "\n",
    "# gevest = np.zeros((datt.shape[0],1))\n",
    "# for ial, al in enumerate(datt[:,3]):\n",
    "#     try:\n",
    "#         gevout = pd.read_csv('msselfiles/gevafiles/outfiles/out100.0_{}.sites2.txt'.format(int(al)),delimiter=' ')\n",
    "#     except:\n",
    "#         gevout = pd.DataFrame(np.full((1,5),np.nan))\n",
    "#     gevest[ial,0] = gevout.iloc[0,4]"
   ]
  },
  {
   "cell_type": "code",
   "execution_count": 129,
   "metadata": {},
   "outputs": [
    {
     "data": {
      "text/plain": [
       "(array([18.000, 22.000, 11.000, 6.000, 3.000, 0.000, 0.000, 0.000, 0.000,\n",
       "        1.000]),\n",
       " array([40.194, 139.686, 239.178, 338.670, 438.163, 537.655, 637.147,\n",
       "        736.639, 836.131, 935.623, 1035.115]),\n",
       " <BarContainer object of 10 artists>)"
      ]
     },
     "execution_count": 129,
     "metadata": {},
     "output_type": "execute_result"
    },
    {
     "data": {
      "image/png": "[encoded data removed]",
      "text/plain": [
       "<Figure size 550x385 with 1 Axes>"
      ]
     },
     "metadata": {},
     "output_type": "display_data"
    }
   ],
   "source": [
    "# np.int_(rng.uniform(relest[-2:,0],relest[-2:,1]))\n",
    "# pd.read_csv('msselfiles/gevafiles/outfiles/out100.0_{}.sites2.txt'.format(16004057),delimiter=' ')"
   ]
  },
  {
   "cell_type": "code",
   "execution_count": 167,
   "metadata": {},
   "outputs": [],
   "source": [
    "## running it on the midpoint\n",
    "# datt = np.append(datt, np.int_(relest.mean(axis=1)).reshape(-1,1), 1)\n",
    "# SMS = np.zeros((80000,200+1),dtype='int16')\n",
    "# mask = np.zeros_like(SMS); mask[0,:] = 1; mask[:,0] = 1; mask[:,-1] = 1;\n",
    "# for i in range(len(datt)):\n",
    "#     SMS[datt[i,6],datt[i,5]] += 1\n",
    "# SMSmask = np.ma.array(SMS,mask=mask)\n",
    "# gamest = [sp.optimize.minimize_scalar(get_ll_freqageconstant_notfm,args=({'sms':SMSmask,'theta':400,'N':10000,'p_misid':0,'gens':80000},200)).x]\n",
    "\n",
    "# running it on a uniform draw from the distribution\n",
    "# for reps in range(20):\n",
    "#     datt[:,6] = np.int_(rng.uniform(relest[:,0]+1,relest[:,1]))\n",
    "#     SMS = np.zeros((80000,200+1),dtype='int16')\n",
    "#     mask = np.zeros_like(SMS); mask[0,:] = 1; mask[:,0] = 1; mask[:,-1] = 1;\n",
    "#     for i in range(len(datt)):\n",
    "#         SMS[datt[i,6],datt[i,5]] += 1\n",
    "#     SMSmask = np.ma.array(SMS,mask=mask)\n",
    "\n",
    "#     gamest.append(sp.optimize.minimize_scalar(get_ll_freqageconstant_notfm,args=({'sms':SMSmask,'theta':400,'N':10000,'p_misid':0,'gens':80000},200)).x)"
   ]
  },
  {
   "cell_type": "code",
   "execution_count": 234,
   "metadata": {},
   "outputs": [
    {
     "data": {
      "text/plain": [
       "<matplotlib.legend.Legend at 0x15bf953f0>"
      ]
     },
     "execution_count": 234,
     "metadata": {},
     "output_type": "execute_result"
    },
    {
     "data": {
      "image/png": "[encoded data removed]",
      "text/plain": [
       "<Figure size 550x385 with 1 Axes>"
      ]
     },
     "metadata": {},
     "output_type": "display_data"
    }
   ],
   "source": [
    "# plt.boxplot(np.random.normal(-61,5,size=20)); plt.axhline(-62,color='grey',ls='-.',label='est. using midpoint'); plt.axhline(-100.62,color='b',ls='--',label='est. using sim.'); plt.axhline(-131,color='grey',label='est. using imp. samp.'); plt.legend()\n",
    "# np.random.normal(-62,8,size=20)\n",
    "# SMS = np.zeros((80000,200+1),dtype='int16')\n",
    "# mask = np.zeros_like(SMS); mask[0,:] = 1; mask[:,0] = 1; mask[:,-1] = 1;\n",
    "# for i in range(len(datt)):\n",
    "#     if datt[i,7]==0:\n",
    "#         continue\n",
    "#     SMS[datt[i,7],datt[i,5]] += 1\n",
    "# SMSmask = np.ma.array(SMS,mask=mask)"
   ]
  },
  {
   "cell_type": "markdown",
   "metadata": {},
   "source": [
    "### Importance sampling scheme method\n",
    "\n",
    "Below is code to deal with the underestimation of $\\gamma$ for higher values, as ages are estimated under the neutral prior. "
   ]
  },
  {
   "cell_type": "code",
   "execution_count": 258,
   "metadata": {},
   "outputs": [],
   "source": [
    "def get_ll_import_samp(g, opts, n=200):\n",
    "    # adat is a matrix S x #, where S is total seg sites & # is resampled ages\n",
    "    # fdat is a vector S\n",
    "    fsa = run_mom_iterate_constant(opts['gens'], n, g/opts['N'], opts['N'], opts['theta'], {})[::-1]\n",
    "    fsa[fsa<0] = -fsa[fsa<0]  \n",
    "    S = opts['adat'].shape[0]\n",
    "\n",
    "    fsa0 = run_mom_iterate_constant(opts['gens'], n, 0.0, opts['N'], opts['theta'], {})[::-1]\n",
    "\n",
    "    res = sp.stats.poisson.logpmf(S,fsa.sum())\n",
    "    fsasum = np.sum(fsa)\n",
    "    fsasum0 = np.sum(fsa0)\n",
    "\n",
    "    res1 = 0\n",
    "    temp = np.zeros(opts['adat'].shape[1])\n",
    "    for l in range(S):\n",
    "        for i in range(len(temp)):\n",
    "            temp[i] = np.log(fsa[opts['adat'][l,i],opts['fdat'][l]]/np.sum(fsa[opts['adat'][l,i],:])) + np.log(np.sum(fsa[opts['adat'][l,i],:])/fsasum) - np.log(np.sum(fsa0[opts['adat'][l,i],:])/fsasum0)\n",
    "        res1 += sp.special.logsumexp(temp,b=1/len(temp))\n",
    "\n",
    "    return -(res+res1)"
   ]
  },
  {
   "cell_type": "code",
   "execution_count": 280,
   "metadata": {},
   "outputs": [
    {
     "name": "stdout",
     "output_type": "stream",
     "text": [
      "-106.46879490781772, -106.63533318585628, -106.59984482503617, -105.71164004240123, -106.60735265236947, -105.96117457813611, -105.4330728291148, -106.35381183019143, -105.9841342938603, -106.17026426936992, -105.6041233148638, -105.94080087277358, "
     ]
    }
   ],
   "source": [
    "# gamest = np.zeros((3,12))\n",
    "for id, numdraws in enumerate([200]):\n",
    "    for n in range(12):\n",
    "        adat = np.zeros((len(datt),numdraws),dtype='int') # 20 draws from the uniform dist\n",
    "        for i in range(len(adat)):\n",
    "            adat[i,:] = rng.integers(relest[i,0]+1,relest[i,1]+1,size=numdraws)\n",
    "        print(sp.optimize.minimize_scalar(get_ll_import_samp,args=({'fdat':datt[:,5],'adat':adat,'gens':80000,'N':10000,'theta':400})).x, end=', ')\n",
    "# fsa = run_mom_iterate_constant(8000, 200, -100/10000, 10000, 400, {})[::-1]\n",
    "# fsa0 = run_mom_iterate_constant(8000, 200, 0, 10000, 400, {})[::-1]\n",
    "# for i in range(15):\n",
    "#     temp[i] = np.log(fsa[adat[l,i],datt[l,5]]/np.sum(fsa[:,datt[l,5]])) + np.log(np.sum(fsa[adat[l,i],:])/np.sum(fsa)) - np.log(np.sum(fsa0[adat[l,i],:])/np.sum(fsa0))\n",
    "# sp.special.logsumexp(temp,b=1/15)"
   ]
  },
  {
   "cell_type": "code",
   "execution_count": 284,
   "metadata": {},
   "outputs": [
    {
     "data": {
      "text/plain": [
       "<matplotlib.legend.Legend at 0x15b50d0c0>"
      ]
     },
     "execution_count": 284,
     "metadata": {},
     "output_type": "execute_result"
    },
    {
     "data": {
      "image/png": "[encoded data removed]",
      "text/plain": [
       "<Figure size 550x385 with 1 Axes>"
      ]
     },
     "metadata": {},
     "output_type": "display_data"
    }
   ],
   "source": [
    "# plt.plot([1,5,10,20,50,200],[-62,-90,-92,-98,-105,-105.5],'k-o'); plt.grid(); plt.xlabel('# of random draws'); plt.ylabel(r'$\\hat \\gamma$'); plt.axhline(-100,color='red',ls='--')\n",
    "plt.boxplot(np.vstack((gamest,[-106.46879490781772, -106.63533318585628, -106.59984482503617, -105.71164004240123, -106.60735265236947, -105.96117457813611, -105.4330728291148, -106.35381183019143, -105.9841342938603, -106.17026426936992, -105.6041233148638, -105.94080087277358])).T); plt.xticks(ticks=range(1,5),labels=[2,10,50,200]); plt.xlabel('# of random draws'); plt.ylabel(r'$\\hat \\gamma$'); plt.axhline(-100,color='red',ls='--',label='simulated truth'); plt.grid(); plt.axhline(-62,color='b',label='est. from Relate midpoint'); plt.legend(loc='center right')"
   ]
  }
 ],
 "metadata": {
  "interpreter": {
   "hash": "37dbdfb015eb2911072604397bc3ab5127f1ef4d866242904832becb363c8f9b"
  },
  "kernelspec": {
   "display_name": "Python 3.10.2 ('cvae')",
   "language": "python",
   "name": "python3"
  },
  "language_info": {
   "codemirror_mode": {
    "name": "ipython",
    "version": 3
   },
   "file_extension": ".py",
   "mimetype": "text/x-python",
   "name": "python",
   "nbconvert_exporter": "python",
   "pygments_lexer": "ipython3",
   "version": "3.10.2"
  },
  "orig_nbformat": 4
 },
 "nbformat": 4,
 "nbformat_minor": 2
}
